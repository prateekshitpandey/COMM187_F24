{
 "cells": [
  {
   "cell_type": "code",
   "execution_count": null,
   "metadata": {
    "deletable": false,
    "editable": false
   },
   "outputs": [],
   "source": [
    "# Initialize Otter\n",
    "import otter\n",
    "grader = otter.Notebook(\"Assignment8_COMM187Spring2024.ipynb\")"
   ]
  },
  {
   "cell_type": "markdown",
   "metadata": {},
   "source": [
    "# Coding Assignment #8\n",
    "## COMM187: Data Science in Communication Research, Spring 2024"
   ]
  },
  {
   "cell_type": "markdown",
   "metadata": {},
   "source": [
    "**!!! Please make sure to run the first cell !!!**\n",
    "\n",
    "**THIS ASSIGNMENT WILL BE MANUALLY GRADED**\n"
   ]
  },
  {
   "cell_type": "markdown",
   "metadata": {},
   "source": [
    "<h3><span style=\"color:green\"> Finish assignment on DataCamp </span> </h3>\n",
    "\n",
    "This week, you have been assigned the following chapter on DataCamp: \n",
    " - **Introduction to Data Visualization with Matplotlib: Introduction to Matplotlib**\n",
    "\n",
    "Finish these assigned chapters before proceeding with this assignment. You will need the skills taught in that chapter to solve this week's coding assignment.\n",
    "\n",
    "---"
   ]
  },
  {
   "attachments": {},
   "cell_type": "markdown",
   "metadata": {},
   "source": [
    "## <center>VISUALIZING THE LEGACY OF <span style=\"color:red\"> REDLINING</span> IN THE US</center>\n",
    "\n",
    "This week we are using the redling data again. The dataset is stored as a csv file in the sub-folder \"data\" by the name \"metro-grades.csv\". You can read more about the dataset on its [github repository page](https://github.com/fivethirtyeight/data/tree/master/redlining). I have copied relevant information about the dataset below:\n",
    "\n",
    "Header | Definition\n",
    "--- | ---\n",
    "`metro_area` | Official U.S. Census name of micro- or metropolitan area — defined as [\"Core-Based Statistical Areas\"](https://www.census.gov/topics/housing/housing-patterns/about/core-based-statistical-areas.html). The first city and state listed are used as the display name for each micro/metropolitan area in the story (for example, \"Chicago-Naperville-Elgin, IL-IN-WI\" is referred to as \"Chicago, IL\").\n",
    "`holc_grade` | Grade assigned by the Home Owners' Loan Corporation (HOLC). `A`: \"best\" (green). `B`: \"Still Desirable\" (blue). `C`: \"Definitely Declining\" (yellow). `D`: \"Hazardous\" (red).\n",
    "`pct_white` | Estimate of the percentage of total population within HOLC zones with a given `holc_grade` in a given `metro_area` that are non-Hispanic white. Represented between 0-100. Rounded to the nearest two decimal places.\n",
    "`pct_black` | Estimate of the percentage of total population within HOLC zones with a given `holc_grade` in a given `metro_area` that are non-Hispanic Black. Represented between 0-100. Rounded to the nearest two decimal places.\n",
    "`pct_hisp` | Estimate of the percentage of total population within HOLC zones with a given `holc_grade` in a given `metro_area` that are Hispanic/Latino. Represented between 0-100. Rounded to the nearest two decimal places.\n",
    "`pct_asian` | Estimate of the percentage of total population within HOLC zones with a given `holc_grade` in a given `metro_area` that are non-Hispanic Asian. Represented between 0-100. Rounded to the nearest two decimal places.\n",
    "`pct_other` | Estimate of the percentage of total population within HOLC zones with a given `holc_grade` in a given `metro_area` in any other racial/ethnic group. Represented between 0-100. Rounded to the nearest two decimal places.\n",
    "`surr_area_pct_white` | Estimate of the percentage of total population within surrounding area of a given `metro_area`'s HOLC zones that are non-Hispanic white. Represented between 0-100. Rounded to the nearest two decimal places. Repeated for each `holc_grade` for a given `metro_area`.\n",
    "`surr_area_pct_black` | Estimate of the percentage of total population within surrounding area of a given `metro_area`'s HOLC zones that are non-Hispanic Black. Represented between 0-100. Rounded to the nearest two decimal places. Repeated for each `holc_grade` for a given `metro_area`.\n",
    "`surr_area_pct_hisp` | Estimate of the percentage of total population within surrounding area of a given `metro_area`'s HOLC zones that are Hispanic/Latino. Represented between 0-100. Rounded to the nearest two decimal places. Repeated for each `holc_grade` for a given `metro_area`.\n",
    "`surr_area_pct_asian` | Estimate of the percentage of total population within surrounding area of a given `metro_area`'s HOLC zones that are non-Hispanic Asian. Represented between 0-100. Rounded to the nearest two decimal places. Repeated for each `holc_grade` for a given `metro_area`.\n",
    "`surr_area_pct_other` | Estimate of the percentage of total population within surrounding area of a given `metro_area`'s HOLC zones in any other racial/ethnic group. Represented between 0-100. Rounded to the nearest two decimal places. Repeated for each `holc_grade` for a given `metro_area`.\n",
    "\n",
    "---"
   ]
  },
  {
   "cell_type": "code",
   "execution_count": null,
   "metadata": {},
   "outputs": [],
   "source": [
    "# RUN THIS CELL BEFORE ATTEMPTING THE ASSIGNMENT QUESTIONS\n",
    "import numpy as np\n",
    "import pandas as pd\n",
    "from scipy import stats\n",
    "import matplotlib.pyplot as plt\n",
    "\n",
    "df = pd.read_csv(\"./data/metro-grades.csv\")"
   ]
  },
  {
   "cell_type": "markdown",
   "metadata": {},
   "source": [
    "---"
   ]
  },
  {
   "cell_type": "markdown",
   "metadata": {
    "deletable": false,
    "editable": false
   },
   "source": [
    "<!-- BEGIN QUESTION -->\n",
    "\n",
    "**Question 1: Histogram of Percentage of Black Population in Grade A and D regions**\n",
    "\n",
    "Plot the historgrams of percentage of Black population in Grade A and Grade D regions. The output should look like this, where green means Grade A, and red means Grade D:\n",
    "\n",
    "![](./imgs/a08_q1_fig.png)\n",
    "\n",
    "Tips:\n",
    " - Subset the dataframe to include data only from Grade A and Grade D regions.\n",
    " - Use the `plt.hist()` function to plot the histogram for percentage of Black population in Grade A regions, then Grade D regions. \\\n",
    "   Read about the different parameters [here](https://matplotlib.org/stable/api/_as_gen/matplotlib.pyplot.hist.html).\n",
    " - Set the `bins` parameter to 20.\n",
    " - Figure out what the most appropriate `histtype` would be to match the plot shown above.\n",
    " - Add title, x label, and y label.\n",
    " - Add a legend using the following line of code: `plt.legend(['Grade A', 'Grade B'])`."
   ]
  },
  {
   "cell_type": "code",
   "execution_count": null,
   "metadata": {
    "tags": []
   },
   "outputs": [],
   "source": [
    "### Write your code below (in place of ...)\n",
    "..."
   ]
  },
  {
   "cell_type": "markdown",
   "metadata": {
    "deletable": false,
    "editable": false
   },
   "source": [
    "<!-- END QUESTION -->\n",
    "\n",
    "---"
   ]
  },
  {
   "cell_type": "markdown",
   "metadata": {
    "deletable": false,
    "editable": false
   },
   "source": [
    "<!-- BEGIN QUESTION -->\n",
    "\n",
    "**Question 2: Distribution of Population by Racial/Ethnic Groups in Grade D regions**\n",
    "\n",
    "Plot the historgram of percentage of White, Black, Hispanic, and Asian population in Grade D regions. The output should look like this:\n",
    "\n",
    "![](./imgs/a08_q2_fig.png)\n",
    "\n",
    "Tips:\n",
    " - Do the assigned Datacamp chapter. Apply the skills taught in that chapter by using `plt.subplots()`.\n",
    " - For each subplot, plot a histogram of the assigned racial/ethic group, with `bins = 20`.\n",
    " - For each subplot, assign a legend with the text as shown in the figure above. For instance, for the top left subplot, use the following line of code: `ax[0,0].legend(['White population'])`.\\\n",
    "   Similarly, assign legends to all other subplots.\n",
    " - Use function `plt.setp()` to set the y limits of all subplots to (0,60). Read documentation [here](https://matplotlib.org/stable/api/_as_gen/matplotlib.pyplot.setp.html).\n"
   ]
  },
  {
   "cell_type": "code",
   "execution_count": null,
   "metadata": {
    "tags": []
   },
   "outputs": [],
   "source": [
    "### Write your code below (in place of ...)\n",
    "..."
   ]
  },
  {
   "cell_type": "markdown",
   "metadata": {
    "deletable": false,
    "editable": false
   },
   "source": [
    "<!-- END QUESTION -->\n",
    "\n",
    "---"
   ]
  },
  {
   "cell_type": "markdown",
   "metadata": {
    "deletable": false,
    "editable": false
   },
   "source": [
    "<!-- BEGIN QUESTION -->\n",
    "\n",
    "**Question 3: Visualizing the relationship between Asian population within region and the surrounding regions**\n",
    "\n",
    "Plot the scatter plot between of percentage of Asian population within regions and the percentage of Asian population in the surrounding regions. The scatter plot should colored according to the HOLC grades -- <span style=\"color:green\">green</span> for Grade A, <span style=\"color:yellow\">yellow</span> for Grade B, <span style=\"color:orange\">orange</span> for Grade C, and <span style=\"color:red\">red</span> for Grade D. The output should look like this:\n",
    "\n",
    "![](./imgs/a08_q3_fig.png)\n",
    "\n",
    "Tips:\n",
    " - Use plt.scatter() to plot the scatter plot.\n",
    " - Use the `holc_grade_colors` list-type variable defined below to color the plot points. Notice how the values in this list are defined. For future use cases, use this as a template!\n",
    " - Use the `s` parameter in scatter plot to change the size of the scatter points to 8.\n",
    " - Add x and y labels.\n"
   ]
  },
  {
   "cell_type": "code",
   "execution_count": null,
   "metadata": {
    "tags": []
   },
   "outputs": [],
   "source": [
    "### Write your code below (in place of ...)\n",
    "holc_grade_to_colors = {'A': 'green', 'B': 'yellow', 'C': 'orange', 'D': 'red'}\n",
    "holc_grade_colors = [holc_grade_to_colors[grade] for grade in df['holc_grade']]\n",
    "..."
   ]
  },
  {
   "cell_type": "markdown",
   "metadata": {
    "deletable": false,
    "editable": false
   },
   "source": [
    "<!-- END QUESTION -->\n",
    "\n",
    "---"
   ]
  },
  {
   "cell_type": "markdown",
   "metadata": {
    "deletable": false,
    "editable": false
   },
   "source": [
    "<!-- BEGIN QUESTION -->\n",
    "\n",
    "**Question 4: Visualizing the relationship between Hispanic population within region and the surrounding regions, only for Grades A and D**\n",
    "\n",
    "Plot the scatter plot between of percentage of Hispanic population within regions and the percentage of Hispanic population in the surrounding regions, only for the Grade A and Grade D regions.  between of percentage of Asian population within regions and the percentage of Asian population in the surrounding regions. Just like the last plot, the scatter plot should be colored according to the HOLC grades -- <span style=\"color:green\">green</span> for Grade A, and <span style=\"color:red\">red</span> for Grade D. The output should look like this:\n",
    "\n",
    "![](./imgs/a08_q4_fig.png)\n",
    "\n",
    "Use the code from Question 3 and modify it for this question! \n",
    "\n",
    "Tip: You will have to subset `df` such that it only has HOLC Grades A and D in it. Similarly, you will have to make a new version of `holc_grade_colors` which only has Grades A and D in it.\n"
   ]
  },
  {
   "cell_type": "code",
   "execution_count": null,
   "metadata": {
    "tags": []
   },
   "outputs": [],
   "source": [
    "### Write your code below (in place of ...)\n",
    "..."
   ]
  },
  {
   "cell_type": "markdown",
   "metadata": {
    "deletable": false,
    "editable": false
   },
   "source": [
    "<!-- END QUESTION -->\n",
    "\n",
    "---"
   ]
  },
  {
   "cell_type": "markdown",
   "metadata": {
    "deletable": false,
    "editable": false
   },
   "source": [
    "## Submission\n",
    "\n",
    "Make sure you have run all cells in your notebook in order before running the cell below, so that all images/graphs appear in the output. The cell below will generate a zip file for you to submit. **Please save before exporting!**\n",
    "\n",
    "Assignment #8 for COMM187: Data Science in Communication Research. Once finished answering questions, first **SAVE** then download this .ipynb file. Submit the file as instructed on Canvas and Gradescope. **ONLY** submit the .ipynb file, not the zip file."
   ]
  },
  {
   "cell_type": "code",
   "execution_count": null,
   "metadata": {
    "deletable": false,
    "editable": false
   },
   "outputs": [],
   "source": [
    "# Save your notebook first, then run this cell to export your submission.\n",
    "grader.export(pdf=False, run_tests=True)"
   ]
  },
  {
   "cell_type": "markdown",
   "metadata": {},
   "source": [
    " "
   ]
  }
 ],
 "metadata": {
  "kernelspec": {
   "display_name": "Python 3 (ipykernel)",
   "language": "python",
   "name": "python3"
  },
  "language_info": {
   "codemirror_mode": {
    "name": "ipython",
    "version": 3
   },
   "file_extension": ".py",
   "mimetype": "text/x-python",
   "name": "python",
   "nbconvert_exporter": "python",
   "pygments_lexer": "ipython3",
   "version": "3.11.5"
  },
  "otter": {
   "OK_FORMAT": true,
   "tests": {}
  },
  "varInspector": {
   "cols": {
    "lenName": 16,
    "lenType": 16,
    "lenVar": 40
   },
   "kernels_config": {
    "python": {
     "delete_cmd_postfix": "",
     "delete_cmd_prefix": "del ",
     "library": "var_list.py",
     "varRefreshCmd": "print(var_dic_list())"
    },
    "r": {
     "delete_cmd_postfix": ") ",
     "delete_cmd_prefix": "rm(",
     "library": "var_list.r",
     "varRefreshCmd": "cat(var_dic_list()) "
    }
   },
   "types_to_exclude": [
    "module",
    "function",
    "builtin_function_or_method",
    "instance",
    "_Feature"
   ],
   "window_display": false
  }
 },
 "nbformat": 4,
 "nbformat_minor": 4
}
