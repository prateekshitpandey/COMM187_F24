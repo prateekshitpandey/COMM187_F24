{
 "cells": [
  {
   "cell_type": "code",
   "execution_count": null,
   "metadata": {
    "deletable": false,
    "editable": false
   },
   "outputs": [],
   "source": [
    "# Initialize Otter\n",
    "import otter\n",
    "grader = otter.Notebook(\"Assignment4_COMM187Spring2024.ipynb\")"
   ]
  },
  {
   "cell_type": "markdown",
   "metadata": {},
   "source": [
    "# Coding Assignment #4\n",
    "## COMM187: Data Science in Communication Research, Spring 2024"
   ]
  },
  {
   "cell_type": "markdown",
   "metadata": {},
   "source": [
    "**!!! Please make sure to run the first cell before running auto-grader !!!**"
   ]
  },
  {
   "cell_type": "markdown",
   "metadata": {},
   "source": [
    "<h3><span style=\"color:green\">  Data Analysis of Emotional Tone in Text Messaging 💬 </span> </h3>\n",
    "\n",
    "You are a data scientist working on a study to understand how people's emotional expressions in text messages change throughout the day. \n",
    "\n",
    "Your team has collected data in the form of text messages sent over different times of the day. Each message has been pre-classified with one of three emotional tones: <span style=\"color:green\">\"positive\"</span>, <span style=\"color:blue\">\"neutral\"</span>, or <span style=\"color:red\">\"negative\"</span>.\n",
    "\n",
    "For example, in the following hypothetical text messages between friends named Franco and Jamie, some messages are <span style=\"color:green\">\"positive\"</span> in tone, some are <span style=\"color:blue\">\"neutral\"</span> in tone, and some are <span style=\"color:red\">\"negative\"</span>."
   ]
  },
  {
   "cell_type": "markdown",
   "metadata": {},
   "source": [
    "<img src=\"./imgs/textmessagesample.png\" alt=\"drawing\" width=\"500\"/>"
   ]
  },
  {
   "cell_type": "markdown",
   "metadata": {},
   "source": [
    "**Data:** For one pair of individuals in the study sample, the variables provided contain data about texts between these individuals that have been collected over a period of about three months. The data is stored in these variables in the order in which they were sent. We have data on the day of the month, name of the month, time of the day, time of day it was sent, and the associated emotional tone:\n",
    "\n",
    "`message_id` is a numpy array with unique identification id's of the text message. This helps anonymize the data and protect the privacy of the study participants. \\\n",
    "`day` is a numpy array with the day of the month. \\\n",
    "`month` is a numpy array with the name of the month. \\\n",
    "`time` is a numpy array with the time of the day. \\\n",
    "`tone` is a numpy array with the emotional tone of the texts. \n",
    "\n",
    "Each of these arrays has a special relationship called a **\"parallel structure.\"** This means that the data in each array at a particular index corresponds to the same single text message. For example, the first element in each array refers to the first message, the second element to the second message, and so on. This is important for analyzing the data accurately because it ensures you are looking at the right elements across different arrays that relate to the same text message.\n",
    "\n",
    "For instance:\\\n",
    "`message_id[0]` contains the unique ID for the first text message. \\\n",
    "Similarly, `day[0]`, `month[0]`, `time[0]`, and `tone[0]` provide the day of the month, the name of the month, the time of the day, and the emotional tone of that same first message.\n",
    "\n",
    "***How to use this structure in your analysis:***\n",
    " - By using the `message_id` as a reference, you can ensure that you are consistently analyzing data from the same message when comparing across the `day`, `month`, `time`, and `tone` arrays.\n",
    " - This structured approach allows you to effectively maintain data integrity and privacy while performing data analysis.\n",
    "\n",
    "Understanding this structure is crucial for performing correct analysis. As you work through the assignment, you will use indexing to navigate through these arrays. This will involve extracting and comparing data across `day`, `month`, `time`, and `tone` to analyze communication patterns and emotional tones based on the timing of the messages.\n",
    "\n",
    "Run the following cell before moving on to the assignment questions."
   ]
  },
  {
   "cell_type": "code",
   "execution_count": null,
   "metadata": {},
   "outputs": [],
   "source": [
    "import numpy\n",
    "message_id = numpy.loadtxt(\"./data/assign04/message_id.txt\", delimiter = \",\", dtype = str)\n",
    "day = numpy.loadtxt(\"./data/assign04/day.txt\", delimiter = \",\", dtype = int)\n",
    "month = numpy.loadtxt(\"./data/assign04/month.txt\", delimiter = \",\", dtype = str)\n",
    "time = numpy.loadtxt(\"./data/assign04/time.txt\", delimiter = \",\", dtype = str)\n",
    "tone = numpy.loadtxt(\"./data/assign04/tone.txt\", delimiter = \",\", dtype = str)"
   ]
  },
  {
   "cell_type": "markdown",
   "metadata": {
    "deletable": false,
    "editable": false
   },
   "source": [
    "**Question 1: Basic Description of Data**\n",
    "\n",
    "\n",
    "**a.** Because of the parallel structure of the data, the length of all the arrays mentioned above are the same.\n",
    "\n",
    "Store the length of any of the arrays provided in a new variable `data_length`."
   ]
  },
  {
   "cell_type": "code",
   "execution_count": null,
   "metadata": {
    "tags": []
   },
   "outputs": [],
   "source": [
    "### Write your code below (in place of ...)\n",
    "data_length = ..."
   ]
  },
  {
   "cell_type": "code",
   "execution_count": null,
   "metadata": {
    "deletable": false,
    "editable": false
   },
   "outputs": [],
   "source": [
    "grader.check(\"q1a\")"
   ]
  },
  {
   "cell_type": "markdown",
   "metadata": {
    "deletable": false,
    "editable": false
   },
   "source": [
    "**b.** These arrays contain data from three months. Name the three months.\n",
    "\n",
    "Store the name of the three months in a new `numpy` array called `unique_months`.\n",
    "\n",
    "**Tip:** Use the [`numpy.unique()`](https://numpy.org/doc/stable/reference/generated/numpy.unique.html) function."
   ]
  },
  {
   "cell_type": "code",
   "execution_count": null,
   "metadata": {
    "tags": []
   },
   "outputs": [],
   "source": [
    "### Write your code below (in place of ...)\n",
    "unique_months = ..."
   ]
  },
  {
   "cell_type": "markdown",
   "metadata": {
    "deletable": false,
    "editable": false
   },
   "source": [
    "**c.**  Similarly, calculate the unique values of times of the day in the array `time`.\n",
    "\n",
    "Store the unique values of time in a new variable `unique_times`."
   ]
  },
  {
   "cell_type": "code",
   "execution_count": null,
   "metadata": {
    "tags": []
   },
   "outputs": [],
   "source": [
    "### Write your code below (in place of ...)\n",
    "unique_times = ..."
   ]
  },
  {
   "cell_type": "code",
   "execution_count": null,
   "metadata": {},
   "outputs": [],
   "source": []
  },
  {
   "cell_type": "markdown",
   "metadata": {
    "deletable": false,
    "editable": false
   },
   "source": [
    "**Question 2: Exploring the data with `if` and `else` statements**\n",
    "\n",
    "Let us try out some data exploration using `if` and `else` statements.\n",
    "\n",
    "\n",
    "**NOTE:** Even if the autograder passes your code, if you have NOT used `if` and `else` statement for this questions, all points for this question will be deducted. \n",
    "\n",
    "**a.** For the text message at *index* 603, \n",
    "\n",
    " - if the tone of the text message is \"positive\", make a new variable called `message603` and assign it the string value \"It is positive!\"\n",
    " - if the tone of the text message is negative, assign `message603` the string value \"It is negative!\" "
   ]
  },
  {
   "cell_type": "code",
   "execution_count": null,
   "metadata": {
    "tags": []
   },
   "outputs": [],
   "source": [
    "### Write your code below (in place of ...)\n",
    "..."
   ]
  },
  {
   "cell_type": "code",
   "execution_count": null,
   "metadata": {
    "deletable": false,
    "editable": false
   },
   "outputs": [],
   "source": [
    "grader.check(\"q2a\")"
   ]
  },
  {
   "cell_type": "markdown",
   "metadata": {
    "deletable": false,
    "editable": false
   },
   "source": [
    "**b.** For the text message at *index* 1521:\n",
    "\n",
    " - if the time at which it is sent is \"evening\", and the month is \"august\", \\\n",
    "   make a new variable called `message1521` and assign it this string: `\"This right here is an evening in August.\"`\n",
    " - else, make a new variable called `message1521` and assign it this string: `\"Definitely not an evening in August.\"`"
   ]
  },
  {
   "cell_type": "code",
   "execution_count": null,
   "metadata": {
    "tags": []
   },
   "outputs": [],
   "source": [
    "### Write your code below (in place of ...)\n",
    "..."
   ]
  },
  {
   "cell_type": "code",
   "execution_count": null,
   "metadata": {
    "deletable": false,
    "editable": false
   },
   "outputs": [],
   "source": [
    "grader.check(\"q2b\")"
   ]
  },
  {
   "cell_type": "markdown",
   "metadata": {
    "deletable": false,
    "editable": false
   },
   "source": [
    "**c.** For the text message at *index* 1000:\n",
    "\n",
    " - if the month in which it sent is July, the tone of the message is \"positive\", and the time of the message is \"afternoon\", \\\n",
    "   make a new variable called `message1000` and assign it this string: `\"I got 999 messages but a sad one on a July afternoon ain't one.\"`\n",
    " - else, make a new variable called `message1000` and assign it this string: `\"I got 999 messages.\"`"
   ]
  },
  {
   "cell_type": "code",
   "execution_count": null,
   "metadata": {
    "tags": []
   },
   "outputs": [],
   "source": [
    "### Write your code below (in place of ...)\n",
    "..."
   ]
  },
  {
   "cell_type": "code",
   "execution_count": null,
   "metadata": {
    "deletable": false,
    "editable": false
   },
   "outputs": [],
   "source": [
    "grader.check(\"q2c\")"
   ]
  },
  {
   "cell_type": "markdown",
   "metadata": {
    "deletable": false,
    "editable": false
   },
   "source": [
    "**Question 3: Basic Data Segmentation** \n",
    "\n",
    "Someone in your data science team has informed you that certain dates within the dataset hold a special significance. Specifically, your team is interested in the dates starting from June 28 and ending on August 5.\n",
    "\n",
    "Your job is now to find this segment of data from the existing arrays."
   ]
  },
  {
   "cell_type": "markdown",
   "metadata": {
    "deletable": false,
    "editable": false
   },
   "source": [
    "![](./imgs/assign02_index_explanation.png)"
   ]
  },
  {
   "cell_type": "markdown",
   "metadata": {
    "deletable": false,
    "editable": false
   },
   "source": [
    "Let us break this down into multiple steps:\n",
    "\n",
    "**Step 1:** Since the data is stored in the provided arrays in the order in which they appear, we just need to know the index for the first time a text is sent on June 28 (`start_index`), and the last time a text is sent on August 5 (`stop_index`). Everything between `start_index` and `stop_index` will contain all the data we need.\n",
    "\n",
    "**a.** Find the starting index and store it in a new variable `start_index`.\n",
    "\n",
    "Here are the steps:\n",
    "\n",
    "1. For each index in the data in sequence, check if the value of day at the index is 28 and month at that index is \"june\"\n",
    "2. Use a `for` loop to go through each number in the array in sequence. Use a variable `i` to go through each index in range of all possible indices (which can be created by using `range(data_length)`.\n",
    "3. Within the `for` loop, use an `if` statement to check if the desired values of day and month are matching at the index `i`.\n",
    "4. The first time these values match, assign `start_index` the value of the variable that you are using for loop with, and then `break` out of the loop.\n",
    "\n",
    "The skeleton for this exercise is provided below. You just need to do fill in the value of `condition` and the value of `start_index`."
   ]
  },
  {
   "cell_type": "code",
   "execution_count": null,
   "metadata": {
    "tags": []
   },
   "outputs": [],
   "source": [
    "### Write your code below (in place of ...)\n",
    "start_index = 0\n",
    "for i in range(data_length):\n",
    "    condition = ...\n",
    "    if condition:\n",
    "        start_index = ...\n",
    "        break;"
   ]
  },
  {
   "cell_type": "code",
   "execution_count": null,
   "metadata": {
    "deletable": false,
    "editable": false
   },
   "outputs": [],
   "source": [
    "grader.check(\"q3a\")"
   ]
  },
  {
   "cell_type": "code",
   "execution_count": null,
   "metadata": {},
   "outputs": [],
   "source": []
  },
  {
   "cell_type": "markdown",
   "metadata": {
    "deletable": false,
    "editable": false
   },
   "source": [
    "**b.** Find the stopping index and store it in a new variable `stop_index`.\n",
    "\n",
    "Remember, we are trying to find the LAST index at which the value of `day` is 5 and `month` is \"august\". \\\n",
    "Thus, an easy way to find the `stop_index`, is the following *same steps* as that for `start_index`, but for August 6, not August 5.\\\n",
    "The first index for August 6 is right after the last index for August 5. \\\n",
    "Thus, one index BEFORE the first index for August 6 would be our desired `stop_index`.\n",
    "\n",
    "Use the code from Question 3a and find the value of `stop_index`. Copy the code from above and just replace values as needed for this question.\n",
    "\n",
    "**NOTE:** If a `for` loop with `if` statement is not used for the solution for this question, all points will be deducted."
   ]
  },
  {
   "cell_type": "code",
   "execution_count": null,
   "metadata": {
    "tags": []
   },
   "outputs": [],
   "source": [
    "### Write your code below (in place of ...)\n",
    "..."
   ]
  },
  {
   "cell_type": "code",
   "execution_count": null,
   "metadata": {
    "deletable": false,
    "editable": false
   },
   "outputs": [],
   "source": [
    "grader.check(\"q3b\")"
   ]
  },
  {
   "cell_type": "markdown",
   "metadata": {
    "deletable": false,
    "editable": false
   },
   "source": [
    "**STEP 2:** The final step! Now, you just need to segment the data and pick out the values that are within `start_index` and `stop_index`. \n",
    "\n",
    "REMEMBER! Value at `start_index` AND value at `stop_index` need to be included. Use indexing appropriately!\n",
    "\n",
    "**c.** For each `numpy` array provided, make new numpy array which only includes the segment of data from `start_index` to `stop_index`.\n",
    "\n",
    " - make a new variable `message_id_segmented` for the segmented data from `message_id`\n",
    " - make a new variable `day_segmented` for the segmented data from `day`\n",
    " - make a new variable `month_segmented` for the segmented data from `month`\n",
    " - make a new variable `time_segmented` for the segmented data from `time`\n",
    " - make a new variable `tone_segmented` for the segmented data from `tone`\n"
   ]
  },
  {
   "cell_type": "code",
   "execution_count": null,
   "metadata": {
    "tags": []
   },
   "outputs": [],
   "source": [
    "### Write your code below (in place of ...)\n",
    "message_id_segmented = ...\n",
    "day_segmented = ...\n",
    "month_segmented = ...\n",
    "time_segmented = ...\n",
    "tone_segmented = ..."
   ]
  },
  {
   "cell_type": "code",
   "execution_count": null,
   "metadata": {
    "deletable": false,
    "editable": false
   },
   "outputs": [],
   "source": [
    "grader.check(\"q3c\")"
   ]
  },
  {
   "cell_type": "markdown",
   "metadata": {
    "deletable": false,
    "editable": false
   },
   "source": [
    "**Question 4.** Alright! We now have the segmented data!\n",
    "\n",
    "What is the total number of times the texts have been positive in tone in the segmented data?\n",
    "\n",
    "Save this value in a new variable `positives_in_segmented`.\n",
    "\n",
    "**Hint:** We did a similar exercise for the previous assignment!"
   ]
  },
  {
   "cell_type": "code",
   "execution_count": null,
   "metadata": {
    "tags": []
   },
   "outputs": [],
   "source": [
    "### Write your code below (in place of ...)\n",
    "..."
   ]
  },
  {
   "cell_type": "markdown",
   "metadata": {
    "deletable": false,
    "editable": false
   },
   "source": [
    "## Submission\n",
    "\n",
    "Make sure you have run all cells in your notebook in order before running the cell below, so that all images/graphs appear in the output. The cell below will generate a zip file for you to submit. **Please save before exporting!**\n",
    "\n",
    "Assignment #4 for COMM187: Data Science in Communication Research. Once finished answering questions, first **SAVE** then download this .ipynb file. Submit the file as instructed on Canvas and Gradescope. **ONLY** submit the .ipynb file, not the zip file."
   ]
  },
  {
   "cell_type": "code",
   "execution_count": null,
   "metadata": {
    "deletable": false,
    "editable": false
   },
   "outputs": [],
   "source": [
    "# Save your notebook first, then run this cell to export your submission.\n",
    "grader.export(pdf=False, run_tests=True)"
   ]
  },
  {
   "cell_type": "markdown",
   "metadata": {},
   "source": [
    " "
   ]
  }
 ],
 "metadata": {
  "kernelspec": {
   "display_name": "Python 3 (ipykernel)",
   "language": "python",
   "name": "python3"
  },
  "language_info": {
   "codemirror_mode": {
    "name": "ipython",
    "version": 3
   },
   "file_extension": ".py",
   "mimetype": "text/x-python",
   "name": "python",
   "nbconvert_exporter": "python",
   "pygments_lexer": "ipython3",
   "version": "3.11.5"
  },
  "otter": {
   "OK_FORMAT": true,
   "tests": {
    "q1a": {
     "name": "q1a",
     "points": 1,
     "suites": [
      {
       "cases": [
        {
         "code": ">>> data_length == 1732\nTrue",
         "hidden": false,
         "locked": false
        }
       ],
       "scored": true,
       "setup": "",
       "teardown": "",
       "type": "doctest"
      }
     ]
    },
    "q1b": {
     "name": "q1b",
     "points": 3,
     "suites": [
      {
       "cases": [],
       "scored": true,
       "setup": "",
       "teardown": "",
       "type": "doctest"
      }
     ]
    },
    "q1c": {
     "name": "q1c",
     "points": 3,
     "suites": [
      {
       "cases": [],
       "scored": true,
       "setup": "",
       "teardown": "",
       "type": "doctest"
      }
     ]
    },
    "q2a": {
     "name": "q2a",
     "points": 2,
     "suites": [
      {
       "cases": [
        {
         "code": ">>> message603 == 'It is positive!'\nTrue",
         "hidden": false,
         "locked": false
        }
       ],
       "scored": true,
       "setup": "",
       "teardown": "",
       "type": "doctest"
      }
     ]
    },
    "q2b": {
     "name": "q2b",
     "points": 2,
     "suites": [
      {
       "cases": [
        {
         "code": ">>> message1521 == 'Definitely not an evening in August.'\nTrue",
         "hidden": false,
         "locked": false
        }
       ],
       "scored": true,
       "setup": "",
       "teardown": "",
       "type": "doctest"
      }
     ]
    },
    "q2c": {
     "name": "q2c",
     "points": 2,
     "suites": [
      {
       "cases": [
        {
         "code": ">>> message1000 == \"I got 999 messages but a sad one on a July afternoon ain't one.\"\nTrue",
         "hidden": false,
         "locked": false
        }
       ],
       "scored": true,
       "setup": "",
       "teardown": "",
       "type": "doctest"
      }
     ]
    },
    "q3a": {
     "name": "q3a",
     "points": 3,
     "suites": [
      {
       "cases": [
        {
         "code": ">>> month[start_index] == 'june'\nTrue",
         "hidden": false,
         "locked": false
        },
        {
         "code": ">>> day[start_index] == 28\nTrue",
         "hidden": false,
         "locked": false
        }
       ],
       "scored": true,
       "setup": "",
       "teardown": "",
       "type": "doctest"
      }
     ]
    },
    "q3b": {
     "name": "q3b",
     "points": 3,
     "suites": [
      {
       "cases": [
        {
         "code": ">>> month[stop_index] == 'august'\nTrue",
         "hidden": false,
         "locked": false
        },
        {
         "code": ">>> day[stop_index] == 5\nTrue",
         "hidden": false,
         "locked": false
        }
       ],
       "scored": true,
       "setup": "",
       "teardown": "",
       "type": "doctest"
      }
     ]
    },
    "q3c": {
     "name": "q3c",
     "points": 3,
     "suites": [
      {
       "cases": [
        {
         "code": ">>> all(day_segmented == day[start_index:stop_index + 1])\nTrue",
         "hidden": false,
         "locked": false
        },
        {
         "code": ">>> all(month_segmented == month[start_index:stop_index + 1])\nTrue",
         "hidden": false,
         "locked": false
        },
        {
         "code": ">>> all(time_segmented == time[start_index:stop_index + 1])\nTrue",
         "hidden": false,
         "locked": false
        }
       ],
       "scored": true,
       "setup": "",
       "teardown": "",
       "type": "doctest"
      }
     ]
    },
    "q4": {
     "name": "q4",
     "points": 2,
     "suites": [
      {
       "cases": [],
       "scored": true,
       "setup": "",
       "teardown": "",
       "type": "doctest"
      }
     ]
    }
   }
  },
  "varInspector": {
   "cols": {
    "lenName": 16,
    "lenType": 16,
    "lenVar": 40
   },
   "kernels_config": {
    "python": {
     "delete_cmd_postfix": "",
     "delete_cmd_prefix": "del ",
     "library": "var_list.py",
     "varRefreshCmd": "print(var_dic_list())"
    },
    "r": {
     "delete_cmd_postfix": ") ",
     "delete_cmd_prefix": "rm(",
     "library": "var_list.r",
     "varRefreshCmd": "cat(var_dic_list()) "
    }
   },
   "types_to_exclude": [
    "module",
    "function",
    "builtin_function_or_method",
    "instance",
    "_Feature"
   ],
   "window_display": false
  }
 },
 "nbformat": 4,
 "nbformat_minor": 4
}
