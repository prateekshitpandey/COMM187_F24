{
 "cells": [
  {
   "cell_type": "code",
   "execution_count": null,
   "metadata": {
    "deletable": false,
    "editable": false
   },
   "outputs": [],
   "source": [
    "# Initialize Otter\n",
    "import otter\n",
    "grader = otter.Notebook(\"Assignment02_COMM187Fall2024.ipynb\")"
   ]
  },
  {
   "cell_type": "markdown",
   "metadata": {},
   "source": [
    "# Coding Assignment #2\n",
    "## COMM187: Data Science in Communication Research, Spring 2024"
   ]
  },
  {
   "cell_type": "markdown",
   "metadata": {},
   "source": [
    "**!!! Please make sure to run the first cell before running auto-grader !!!**"
   ]
  },
  {
   "cell_type": "markdown",
   "metadata": {
    "deletable": false,
    "editable": false
   },
   "source": [
    "### Question 1\n",
    "\n",
    "**0.5 POINT**\n",
    "\n",
    "Let us practice some boolean operators. \n",
    "\n",
    "We have two boolean variables below, `bool_01` and `bool_02`. \n",
    "\n",
    "Perform the following operations and store the output in the new variables as instructed. Refer to this week's lab for help.\n",
    "\n",
    "| Variable Name | Operation |\n",
    "| :------------ | :-------- |\n",
    "| `bool_and`    | \"and\" operation |\n",
    "| `bool_or`    | \"or\" operation |\n",
    "| `bool_xor`    | \"exclusive or\" operation |"
   ]
  },
  {
   "cell_type": "code",
   "execution_count": null,
   "metadata": {
    "tags": []
   },
   "outputs": [],
   "source": [
    "### Write your code below (in place of ...)\n",
    "bool_01 = False\n",
    "bool_02 = True\n",
    "\n",
    "bool_and = ...\n",
    "bool_or = ...\n",
    "bool_xor = ..."
   ]
  },
  {
   "cell_type": "code",
   "execution_count": null,
   "metadata": {
    "deletable": false,
    "editable": false
   },
   "outputs": [],
   "source": [
    "grader.check(\"q1\")"
   ]
  },
  {
   "cell_type": "markdown",
   "metadata": {
    "deletable": false,
    "editable": false
   },
   "source": [
    "### Question 2: \n",
    "\n",
    "**1 POINT**\n",
    "\n",
    "You have just downloaded data from Reddit for four individuals: Ace, Buck, and Cliff, and Dime. \n",
    "\n",
    "For each of them, you have the number of reddit posts they have made since Jan 1, 2024. These are stored in the variables `posts_Ace` for Ace, `posts_Buck` for Buck, `posts_Cliff` for Cliff, and `posts_Dime` for Dime. \n",
    "\n",
    "Your task: test whether each of them made more than 1,000 posts. \n",
    "\n",
    "Make four new boolean variables, `ismorethan1000_Ace`  for Ace, `ismorethan1000_Buck` for Buck, `ismorethan1000_Cliff` for Cliff, and `ismorethan1000_Dime` for Dime. For each of these variables, their value should be `True` if the number of posts made by that individual is greater than 1,000. If not, their value should be `False`.\n",
    "\n",
    "***Tip***: Pay attention to the data type of `posts_Ace`, `posts_Buck`, `posts_Cliff`, and `posts_Dime`. Do they need to be typecast into another data type first?\n",
    "\n",
    "***Tip***: Make sure you are writing `1000` when you mean to say \"one thousand\"! If you write `1,000`, Python may think you are saying `1` and `000`, not one thousand. "
   ]
  },
  {
   "cell_type": "code",
   "execution_count": null,
   "metadata": {
    "tags": []
   },
   "outputs": [],
   "source": [
    "### Write your code below (in place of ...)\n",
    "posts_Ace = \"904\"\n",
    "posts_Buck = \"1010\"\n",
    "posts_Cliff = \"1000\"\n",
    "posts_Dime = \"870\"\n",
    "\n",
    "ismorethan1000_Ace = ...\n",
    "ismorethan1000_Buck = ...\n",
    "ismorethan1000_Cliff = ...\n",
    "ismorethan1000_Dime = ..."
   ]
  },
  {
   "cell_type": "code",
   "execution_count": null,
   "metadata": {
    "deletable": false,
    "editable": false
   },
   "outputs": [],
   "source": [
    "grader.check(\"q2\")"
   ]
  },
  {
   "cell_type": "markdown",
   "metadata": {
    "deletable": false,
    "editable": false
   },
   "source": [
    "### Question 3\n",
    "\n",
    "#### A.\n",
    "\n",
    "**1 POINT**\n",
    "\n",
    "A communication researcher is analyzing the time spent by one individual on *Instagram*. \\\n",
    "They collected data on the time spent (in minutes) on Instagram for 7 consecutive days. \\\n",
    "The times spent on each day platforms by this individual are stored in variables `ig_day_01`, `ig_day_02`, `ig_day_03`, `ig_day_04`, `ig_day_05`, `ig_day_06`, and `ig_day_07`, as shown below. \n",
    "\n",
    "Write a Python code that makes a **list** with the times spent on Instagram in sequence from day 1 to day 7. The list should be stored in a new variable `ig_list`."
   ]
  },
  {
   "cell_type": "code",
   "execution_count": null,
   "metadata": {
    "tags": []
   },
   "outputs": [],
   "source": [
    "### Write your code below (in place of ...)\n",
    "ig_day_01 = 100\n",
    "ig_day_02 = 120\n",
    "ig_day_03 = 25\n",
    "ig_day_04 = 105\n",
    "ig_day_05 = 165\n",
    "ig_day_06 = 110\n",
    "ig_day_07 = 115\n",
    "..."
   ]
  },
  {
   "cell_type": "code",
   "execution_count": null,
   "metadata": {
    "deletable": false,
    "editable": false
   },
   "outputs": [],
   "source": [
    "grader.check(\"q3a\")"
   ]
  },
  {
   "cell_type": "markdown",
   "metadata": {
    "deletable": false,
    "editable": false
   },
   "source": [
    "#### B.\n",
    "\n",
    "**0.5 POINT**\n",
    "\n",
    "Immediately following the 7 consecutive days, the communication researcher continues to observe the time spent by the same individual on Instagram for three more consecutive days.\n",
    "\n",
    "On day 8, this individual spends 80 minutes on Instagram. \\\n",
    "On day 9, they spend 190 minutes on Instagram. \\\n",
    "On day 10, they spend 140 minutes on Instagram.\n",
    "\n",
    "Make a new list which just has these three data points in sequence, i.e., time spent on day 8 comes first, then day 9, then day 10. \n",
    "\n",
    "Store your output in a new list called `ig_list_later`."
   ]
  },
  {
   "cell_type": "code",
   "execution_count": null,
   "metadata": {
    "tags": []
   },
   "outputs": [],
   "source": [
    "### Write your code below (in place of ...)\n",
    "ig_list_later = ..."
   ]
  },
  {
   "cell_type": "code",
   "execution_count": null,
   "metadata": {
    "deletable": false,
    "editable": false
   },
   "outputs": [],
   "source": [
    "grader.check(\"q3b\")"
   ]
  },
  {
   "cell_type": "markdown",
   "metadata": {
    "deletable": false,
    "editable": false
   },
   "source": [
    "#### C.\n",
    "\n",
    "**0.5 POINT**\n",
    "\n",
    "Make an updated list which combines the two lists you have just made, `ig_list` and `ig_list_later`, such that it contains the time spent by this individual on Instagram in sequence from day 1 to day 10.\n",
    "\n",
    "Store your output in a new list called `ig_list_updated`.\n",
    "\n",
    "**Tip:** You can add two lists to join them using the `+` operator!"
   ]
  },
  {
   "cell_type": "code",
   "execution_count": null,
   "metadata": {
    "tags": []
   },
   "outputs": [],
   "source": [
    "### Write your code below (in place of ...)\n",
    "ig_list_updated = ..."
   ]
  },
  {
   "cell_type": "code",
   "execution_count": null,
   "metadata": {
    "deletable": false,
    "editable": false
   },
   "outputs": [],
   "source": [
    "grader.check(\"q3c\")"
   ]
  },
  {
   "cell_type": "markdown",
   "metadata": {
    "deletable": false,
    "editable": false
   },
   "source": [
    "#### D.\n",
    "\n",
    "**0.5 POINT**\n",
    "\n",
    "Now, the communication researcher wants to calculate the minimum and the maximum daily time spent by this individual over 10 days.\n",
    "\n",
    "Store the minimum daily time in `min_ig` and maximum daily time in `max_ig`.\n",
    "\n",
    "**Tip:** Use the `min()` and `max()` functions from Coding Lab #1!"
   ]
  },
  {
   "cell_type": "code",
   "execution_count": null,
   "metadata": {
    "tags": []
   },
   "outputs": [],
   "source": [
    "### Write your code below (in place of ...)\n",
    "..."
   ]
  },
  {
   "cell_type": "code",
   "execution_count": null,
   "metadata": {
    "deletable": false,
    "editable": false
   },
   "outputs": [],
   "source": [
    "grader.check(\"q3d\")"
   ]
  },
  {
   "cell_type": "markdown",
   "metadata": {
    "deletable": false,
    "editable": false
   },
   "source": [
    "#### E\n",
    "\n",
    "**1 POINT**\n",
    "\n",
    "Finally, the communication researcher wants to make a guess about what this individual's daily activity might look like for the next 100 days. For that, the researcher creates a list of random integers with a minimum of `min_ig` and a maximum of `max_ig`.\n",
    "\n",
    "Make a new variable `ig_random_100` and store this new random list in this variable.\n",
    "\n",
    "**Tip:** Use the `random.sample()` function from Coding Lab #2! Think carefully about the different inputs to this function!"
   ]
  },
  {
   "cell_type": "code",
   "execution_count": null,
   "metadata": {
    "tags": []
   },
   "outputs": [],
   "source": [
    "### Write your code below (in place of ...)\n",
    "..."
   ]
  },
  {
   "cell_type": "code",
   "execution_count": null,
   "metadata": {
    "deletable": false,
    "editable": false
   },
   "outputs": [],
   "source": [
    "grader.check(\"q3e\")"
   ]
  },
  {
   "cell_type": "markdown",
   "metadata": {
    "deletable": false,
    "editable": false
   },
   "source": [
    "#### BONUS\n",
    "\n",
    "**0.5 POINT**\n",
    "\n",
    "As you may have noticed, in `ig_list_updated`, all values are divisible by 5. However, this might not be the case in `ig_random_100`.\n",
    "\n",
    "For a bonus 0.5 point, create a new list `ig_random_20_by5` with 20 random integers ranging from `min_ig` to `max_ig` which are divisible by 5.\n",
    "\n",
    "**Tip:** Think about the \"step\" value in the range function!"
   ]
  },
  {
   "cell_type": "code",
   "execution_count": null,
   "metadata": {
    "tags": []
   },
   "outputs": [],
   "source": [
    "### Write your code below (in place of ...)\n",
    "..."
   ]
  },
  {
   "cell_type": "code",
   "execution_count": null,
   "metadata": {
    "deletable": false,
    "editable": false
   },
   "outputs": [],
   "source": [
    "grader.check(\"bonus\")"
   ]
  },
  {
   "cell_type": "markdown",
   "metadata": {
    "deletable": false,
    "editable": false
   },
   "source": [
    "## Submission\n",
    "\n",
    "Make sure you have run all cells in your notebook in order before running the cell below, so that all images/graphs appear in the output. The cell below will generate a zip file for you to submit. **Please save before exporting!**\n",
    "\n",
    "Assignment #2 for COMM187: Data Science in Communication Research. Once finished answering questions, first **SAVE** then download this .ipynb file. Submit the file as instructed on Canvas and Gradescope. **ONLY** submit the .ipynb file, not the pdf."
   ]
  },
  {
   "cell_type": "code",
   "execution_count": null,
   "metadata": {
    "deletable": false,
    "editable": false
   },
   "outputs": [],
   "source": [
    "# Save your notebook first, then run this cell to export your submission.\n",
    "grader.export(pdf=False, run_tests=True)"
   ]
  },
  {
   "cell_type": "markdown",
   "metadata": {},
   "source": [
    " "
   ]
  }
 ],
 "metadata": {
  "kernelspec": {
   "display_name": "Python 3 (ipykernel)",
   "language": "python",
   "name": "python3"
  },
  "language_info": {
   "codemirror_mode": {
    "name": "ipython",
    "version": 3
   },
   "file_extension": ".py",
   "mimetype": "text/x-python",
   "name": "python",
   "nbconvert_exporter": "python",
   "pygments_lexer": "ipython3",
   "version": "3.11.10"
  },
  "otter": {
   "OK_FORMAT": true,
   "tests": {
    "bonus": {
     "name": "bonus",
     "points": 0.5,
     "suites": [
      {
       "cases": [
        {
         "code": ">>> max(ig_random_20_by5) <= 190\nTrue",
         "hidden": false,
         "locked": false
        },
        {
         "code": ">>> min(ig_random_20_by5) >= 25\nTrue",
         "hidden": false,
         "locked": false
        },
        {
         "code": ">>> len(ig_random_20_by5) == 20\nTrue",
         "hidden": false,
         "locked": false
        },
        {
         "code": ">>> all((i % 5 == 0 for i in ig_random_20_by5))\nTrue",
         "hidden": false,
         "locked": false
        }
       ],
       "scored": true,
       "setup": "",
       "teardown": "",
       "type": "doctest"
      }
     ]
    },
    "q1": {
     "name": "q1",
     "points": 0.5,
     "suites": [
      {
       "cases": [
        {
         "code": ">>> bool_and == False\nTrue",
         "hidden": false,
         "locked": false
        },
        {
         "code": ">>> bool_or == True\nTrue",
         "hidden": false,
         "locked": false
        },
        {
         "code": ">>> bool_xor == True\nTrue",
         "hidden": false,
         "locked": false
        }
       ],
       "scored": true,
       "setup": "",
       "teardown": "",
       "type": "doctest"
      }
     ]
    },
    "q2": {
     "name": "q2",
     "points": 1,
     "suites": [
      {
       "cases": [
        {
         "code": ">>> ismorethan1000_Ace == False\nTrue",
         "hidden": false,
         "locked": false
        },
        {
         "code": ">>> ismorethan1000_Buck == True\nTrue",
         "hidden": false,
         "locked": false
        },
        {
         "code": ">>> ismorethan1000_Cliff == False\nTrue",
         "hidden": false,
         "locked": false
        },
        {
         "code": ">>> ismorethan1000_Dime == False\nTrue",
         "hidden": false,
         "locked": false
        }
       ],
       "scored": true,
       "setup": "",
       "teardown": "",
       "type": "doctest"
      }
     ]
    },
    "q3a": {
     "name": "q3a",
     "points": 1,
     "suites": [
      {
       "cases": [
        {
         "code": ">>> len(ig_list) == 7\nTrue",
         "hidden": false,
         "locked": false
        },
        {
         "code": ">>> ig_list == [100, 120, 25, 105, 165, 110, 115]\nTrue",
         "hidden": false,
         "locked": false
        }
       ],
       "scored": true,
       "setup": "",
       "teardown": "",
       "type": "doctest"
      }
     ]
    },
    "q3b": {
     "name": "q3b",
     "points": 0.5,
     "suites": [
      {
       "cases": [
        {
         "code": ">>> len(ig_list_later) == 3\nTrue",
         "hidden": false,
         "locked": false
        },
        {
         "code": ">>> ig_list_later == [80, 190, 140]\nTrue",
         "hidden": false,
         "locked": false
        }
       ],
       "scored": true,
       "setup": "",
       "teardown": "",
       "type": "doctest"
      }
     ]
    },
    "q3c": {
     "name": "q3c",
     "points": 0.5,
     "suites": [
      {
       "cases": [
        {
         "code": ">>> len(ig_list_updated) == 10\nTrue",
         "hidden": false,
         "locked": false
        },
        {
         "code": ">>> ig_list_updated == [100, 120, 25, 105, 165, 110, 115, 80, 190, 140]\nTrue",
         "hidden": false,
         "locked": false
        }
       ],
       "scored": true,
       "setup": "",
       "teardown": "",
       "type": "doctest"
      }
     ]
    },
    "q3d": {
     "name": "q3d",
     "points": 0.5,
     "suites": [
      {
       "cases": [
        {
         "code": ">>> min_ig == 25\nTrue",
         "hidden": false,
         "locked": false
        },
        {
         "code": ">>> max_ig == 190\nTrue",
         "hidden": false,
         "locked": false
        }
       ],
       "scored": true,
       "setup": "",
       "teardown": "",
       "type": "doctest"
      }
     ]
    },
    "q3e": {
     "name": "q3e",
     "points": 1,
     "suites": [
      {
       "cases": [
        {
         "code": ">>> max(ig_random_100) <= 190\nTrue",
         "hidden": false,
         "locked": false
        },
        {
         "code": ">>> min(ig_random_100) >= 25\nTrue",
         "hidden": false,
         "locked": false
        },
        {
         "code": ">>> len(ig_random_100) == 100\nTrue",
         "hidden": false,
         "locked": false
        }
       ],
       "scored": true,
       "setup": "",
       "teardown": "",
       "type": "doctest"
      }
     ]
    }
   }
  },
  "varInspector": {
   "cols": {
    "lenName": 16,
    "lenType": 16,
    "lenVar": 40
   },
   "kernels_config": {
    "python": {
     "delete_cmd_postfix": "",
     "delete_cmd_prefix": "del ",
     "library": "var_list.py",
     "varRefreshCmd": "print(var_dic_list())"
    },
    "r": {
     "delete_cmd_postfix": ") ",
     "delete_cmd_prefix": "rm(",
     "library": "var_list.r",
     "varRefreshCmd": "cat(var_dic_list()) "
    }
   },
   "types_to_exclude": [
    "module",
    "function",
    "builtin_function_or_method",
    "instance",
    "_Feature"
   ],
   "window_display": false
  }
 },
 "nbformat": 4,
 "nbformat_minor": 4
}
