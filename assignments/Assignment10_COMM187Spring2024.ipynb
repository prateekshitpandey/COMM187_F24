{
 "cells": [
  {
   "cell_type": "code",
   "execution_count": null,
   "metadata": {
    "deletable": false,
    "editable": false
   },
   "outputs": [],
   "source": [
    "# Initialize Otter\n",
    "import otter\n",
    "grader = otter.Notebook(\"Assignment10_COMM187Spring2024.ipynb\")"
   ]
  },
  {
   "cell_type": "markdown",
   "metadata": {},
   "source": [
    "# Coding Assignment #10\n",
    "## COMM187: Data Science in Communication Research, Spring 2024"
   ]
  },
  {
   "cell_type": "markdown",
   "metadata": {},
   "source": [
    "**THIS ASSIGNMENT WILL BE MANUALLY GRADED**"
   ]
  },
  {
   "attachments": {},
   "cell_type": "markdown",
   "metadata": {},
   "source": [
    "## <center>VISUALIZING LOBBYIST CONTRIBUTION IN US GOVERNMENT</center>\n",
    "\n",
    "[Dataset Description](https://www.fec.gov/campaign-finance-data/lobbyist-bundled-contributions-file-description/)\n",
    "\n",
    "Information copied from the description:\n",
    "\n",
    "\n",
    "The Federal Election Campaign Act and Commission regulations require special reporting of certain contributions that are collected or “bundled” by:\n",
    " - Lobbyists/registrants\n",
    " - Political action committees (PACs) that are established or controlled by lobbyists/registrants, on behalf of authorized committees of federal candidates, political party committees, and leadership PACs\n",
    "\n",
    "Campaign committees, leadership PAC and political party committees must disclose information about these lobbyist/registrants and lobbyist/registrant PACs when they receive two or more bundled contributions that aggregate in excess of $18,200 (for 2018) during a particular covered period. The threshold amount is indexed annually and updated amounts are typically announced early in each calendar year.\n",
    "\n",
    "The file shows the total of contributions received during the quarter, month, or other time period specifically covered by this report. It shows the bundler’s name, address, aggregate amount of contributions bundled during the covered period, and refunds of bundled contributions for each lobbyist/registrant or lobbyist/registrant PAC that forwards, or is credited with raising more than $18,200 during the covered period.\n",
    "\n",
    "The column names are self explanatory:\n",
    "\n",
    "Column | Definition\n",
    "-------|-----------\n",
    "`Committee_Id` | Committee ID\n",
    "`Committee_Name` | Committee Name\n",
    "`Link_Image` | URL for a scanned image of the report of contributions bundled by lobbyists\n",
    "`Committee_Election_State` | State of the relevant election for the political action committee\n",
    "`Committee_Election_District` | District ID of the relevant election for the political action committee\n",
    "`Report_Type` | Type of report\n",
    "`Receipt_Date` | Receipt date\n",
    "`Coverage_Start_Date` | Coverage Start Date\n",
    "`Coverage_End_Date` | Coverage End Date\n",
    "`Quarterly_Contribution` | Quarterly contributions received by the committee\n",
    "`Semi_Annual_Contribution` | Semi-Annual contributions received by the committee\n",
    "\n",
    "---"
   ]
  },
  {
   "cell_type": "markdown",
   "metadata": {},
   "source": [
    "To make things simpler for this assignment, I have provided the following code to summarize the data. The following code calculates the sum of (semi-annual) contributions across all PACs for each month from 2009 to 2024, and removes the time points which correspond to $0 contributions."
   ]
  },
  {
   "cell_type": "code",
   "execution_count": null,
   "metadata": {},
   "outputs": [],
   "source": [
    "# RUN THIS CELL BEFORE ATTEMPTING THE ASSIGNMENT QUESTIONS\n",
    "import numpy as np\n",
    "import pandas as pd\n",
    "from scipy import stats\n",
    "import matplotlib.pyplot as plt\n",
    "\n",
    "df = pd.read_csv(\"./data/lobbyist_bundle.csv\")\n",
    "\n",
    "df['Receipt_Date'] = pd.to_datetime(df['Receipt_Date'], format='%d-%b-%y').dt.to_period('M')\n",
    "\n",
    "df_grouped = df.groupby('Receipt_Date')['Semi_Annual_Contribution'].sum().reset_index()\n",
    "df_grouped = df_grouped[df_grouped['Semi_Annual_Contribution'] != 0].sort_values(by = 'Receipt_Date')\n",
    "df_grouped['Receipt_Date'] = pd.to_datetime(df_grouped['Receipt_Date'].astype('str'))"
   ]
  },
  {
   "cell_type": "code",
   "execution_count": null,
   "metadata": {},
   "outputs": [],
   "source": [
    "df_grouped.head(10)"
   ]
  },
  {
   "cell_type": "markdown",
   "metadata": {},
   "source": [
    "---"
   ]
  },
  {
   "cell_type": "markdown",
   "metadata": {
    "deletable": false,
    "editable": false
   },
   "source": [
    "<!-- BEGIN QUESTION -->\n",
    "\n",
    "**Question: Lobbyist Contribution Over The Years**\n",
    "\n",
    "Plot a line plot of the overall contributions being made across all Political Action Committees across time, from 2009 to 2024. The output should look like this:\n",
    "\n",
    "![](./imgs/a10_q1_fig.png)\n",
    "\n",
    "Tip: Use `plt.plot` with x-axis as `df_grouped['Receipt_Date']` and y-axis as `df_groupeed['Semi_Annual_Contribution']`. Set the color to 'green' and rotate the x-ticks by 90 degrees."
   ]
  },
  {
   "cell_type": "code",
   "execution_count": null,
   "metadata": {
    "tags": []
   },
   "outputs": [],
   "source": [
    "### Write your code below (in place of ...)\n",
    "..."
   ]
  },
  {
   "cell_type": "markdown",
   "metadata": {
    "deletable": false,
    "editable": false
   },
   "source": [
    "<!-- END QUESTION -->\n",
    "\n",
    "---"
   ]
  },
  {
   "cell_type": "markdown",
   "metadata": {
    "deletable": false,
    "editable": false
   },
   "source": [
    "## Submission\n",
    "\n",
    "Make sure you have run all cells in your notebook in order before running the cell below, so that all images/graphs appear in the output. The cell below will generate a zip file for you to submit. **Please save before exporting!**\n",
    "\n",
    "Assignment #9 for COMM187: Data Science in Communication Research. Once finished answering questions, first **SAVE** then download this .ipynb file. Submit the file as instructed on Canvas and Gradescope. **ONLY** submit the .ipynb file, not the zip file."
   ]
  },
  {
   "cell_type": "code",
   "execution_count": null,
   "metadata": {
    "deletable": false,
    "editable": false
   },
   "outputs": [],
   "source": [
    "# Save your notebook first, then run this cell to export your submission.\n",
    "grader.export(pdf=False, run_tests=True)"
   ]
  },
  {
   "cell_type": "markdown",
   "metadata": {},
   "source": [
    " "
   ]
  }
 ],
 "metadata": {
  "kernelspec": {
   "display_name": "Python 3 (ipykernel)",
   "language": "python",
   "name": "python3"
  },
  "language_info": {
   "codemirror_mode": {
    "name": "ipython",
    "version": 3
   },
   "file_extension": ".py",
   "mimetype": "text/x-python",
   "name": "python",
   "nbconvert_exporter": "python",
   "pygments_lexer": "ipython3",
   "version": "3.11.5"
  },
  "otter": {
   "OK_FORMAT": true,
   "tests": {}
  },
  "varInspector": {
   "cols": {
    "lenName": 16,
    "lenType": 16,
    "lenVar": 40
   },
   "kernels_config": {
    "python": {
     "delete_cmd_postfix": "",
     "delete_cmd_prefix": "del ",
     "library": "var_list.py",
     "varRefreshCmd": "print(var_dic_list())"
    },
    "r": {
     "delete_cmd_postfix": ") ",
     "delete_cmd_prefix": "rm(",
     "library": "var_list.r",
     "varRefreshCmd": "cat(var_dic_list()) "
    }
   },
   "types_to_exclude": [
    "module",
    "function",
    "builtin_function_or_method",
    "instance",
    "_Feature"
   ],
   "window_display": false
  }
 },
 "nbformat": 4,
 "nbformat_minor": 4
}
