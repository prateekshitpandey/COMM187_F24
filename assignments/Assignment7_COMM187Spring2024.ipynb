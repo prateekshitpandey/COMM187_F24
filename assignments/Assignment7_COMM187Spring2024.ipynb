{
 "cells": [
  {
   "cell_type": "code",
   "execution_count": null,
   "metadata": {
    "deletable": false,
    "editable": false
   },
   "outputs": [],
   "source": [
    "# Initialize Otter\n",
    "import otter\n",
    "grader = otter.Notebook(\"Assignment7_COMM187Spring2024.ipynb\")"
   ]
  },
  {
   "cell_type": "markdown",
   "metadata": {},
   "source": [
    "# Coding Assignment #7\n",
    "## COMM187: Data Science in Communication Research, Spring 2024"
   ]
  },
  {
   "cell_type": "markdown",
   "metadata": {},
   "source": [
    "**!!! Please make sure to run the first cell before running auto-grader !!!**"
   ]
  },
  {
   "cell_type": "markdown",
   "metadata": {},
   "source": [
    "<h3><span style=\"color:green\"> Finish assignment on DataCamp </span> </h3>\n",
    "\n",
    "If you have not yet signed into this class's DataCamp group, please use this invite link and make an account using your UCSB email ID: https://www.datacamp.com/groups/shared_links/0d032623fe95677c03dd5d41331db87feeb0738725bb7ae390f6d9ee17f2bed8 \n",
    "\n",
    "This week, you have been assigned the following TWO chapters on DataCamp: \n",
    " - **Hypothesis Testing in Python: Two Sample and ANOVA Testing**\n",
    " - **Hypothesis Testing in Python: Proportion Tests**\n",
    "\n",
    "Finish these assigned chapters before proceeding with this assignment. You will need the skills taught in that chapter to solve this week's coding assignment.\n",
    "\n",
    "---"
   ]
  },
  {
   "attachments": {},
   "cell_type": "markdown",
   "metadata": {},
   "source": [
    "## <center>TWEETS BY US SENATORS (2008-17)</center>\n",
    "\n",
    "![](./imgs/assign_07_introimg.png)\n",
    "\n",
    "The dataset for this assignment is about the likes, replies, and retweets on tweets made by US Senators between 2008 and 2017, as recorded on Oct. 19 and 20, 2017. This dataset was collected and analyzed for the following [blog post by FiveThirtyEight](https://fivethirtyeight.com/features/the-worst-tweeter-in-politics-isnt-trump/), and you can read more information about dataset [here](https://github.com/fivethirtyeight/data/tree/master/twitter-ratio/).\n",
    "\n",
    "The dataset is stored in the data subfolder and is named `senators.csv`. It contains the following columns:\n",
    "\n",
    "\n",
    "Header | Definition\n",
    "--- | ---\n",
    "`created_at` | Date and time of the creation of the tweet in the format \"mm/dd/yy hh:mm\"\n",
    "`text` | The text content of the tweet\n",
    "`url` | URL of the tweet\n",
    "`replies` | Number of replies for the tweet when data was collected\n",
    "`retweets` | Number of retweets for the tweet when data was collected\n",
    "`favorites` | Number of favorites (or likes) for the tweet when data was collected\n",
    "`user` | Twitter username of the US Senator\n",
    "`bioguide_id` | Unique ID for each US Senator\n",
    "`party` | Party identification for each US Senator: 'D' for Democrat, 'R' for Republican, and 'I' for Independent\n",
    "`state` | The state being represented by the US Senator\n",
    "\n",
    "---"
   ]
  },
  {
   "cell_type": "code",
   "execution_count": null,
   "metadata": {},
   "outputs": [],
   "source": [
    "# RUN THIS CELL BEFORE ATTEMPTING THE ASSIGNMENT QUESTIONS\n",
    "import numpy as np\n",
    "import pandas as pd\n",
    "from scipy import stats"
   ]
  },
  {
   "cell_type": "markdown",
   "metadata": {},
   "source": [
    "---"
   ]
  },
  {
   "cell_type": "markdown",
   "metadata": {
    "deletable": false,
    "editable": false
   },
   "source": [
    "**Question 1: Loading Data**\n",
    "\n",
    "Use the pandas `read_csv` function to load the data `metro-grades.csv` file into a pandas DataFrame named `df`."
   ]
  },
  {
   "cell_type": "code",
   "execution_count": null,
   "metadata": {
    "tags": []
   },
   "outputs": [],
   "source": [
    "### Write your code below (in place of ...)\n",
    "df = ..."
   ]
  },
  {
   "cell_type": "code",
   "execution_count": null,
   "metadata": {
    "deletable": false,
    "editable": false
   },
   "outputs": [],
   "source": [
    "grader.check(\"q1\")"
   ]
  },
  {
   "cell_type": "markdown",
   "metadata": {},
   "source": [
    "---"
   ]
  },
  {
   "cell_type": "markdown",
   "metadata": {
    "deletable": false,
    "editable": false
   },
   "source": [
    "**Question 2: Oldest tweet in the dataset**\n",
    "\n",
    "Find out the oldest tweet in the dataset and save it in the variable `q2_result`.\n",
    "\n",
    "Follow these steps: \n",
    " - **Step 1:** Learn how to convert a string to a \"date and time\" type variable in pandas using the pd.to_datetime() function, as described in [this documentation](https://pandas.pydata.org/docs/reference/api/pandas.to_datetime.html).\n",
    " - **Step 2:** Convert the strings in the column `created_at` and store the output in a new column in `df` called `created_at_new`.\n",
    " - **Step 3:** Sort `df` in ascending order and extract the first row using the `head()` function.\n",
    " - **Step 4:** Extract the value of `text` column from this row and store it in a string variable `q2_result`.\n",
    "\n",
    "NOTE: If you simply copy the answer into a string variable without computing the result using the steps outlined above (or another set of equivalent steps), you will get a 0 for this question irrespective of the grade assigned on Gradescope. If you are finding anything challenging, reach out to your classmates on the Discussion Board or your instructors in their office hours :)"
   ]
  },
  {
   "cell_type": "code",
   "execution_count": null,
   "metadata": {
    "tags": []
   },
   "outputs": [],
   "source": [
    "### Write your code below (in place of ...)\n",
    "..."
   ]
  },
  {
   "cell_type": "code",
   "execution_count": null,
   "metadata": {
    "deletable": false,
    "editable": false
   },
   "outputs": [],
   "source": [
    "grader.check(\"q2\")"
   ]
  },
  {
   "cell_type": "markdown",
   "metadata": {},
   "source": [
    "---"
   ]
  },
  {
   "cell_type": "markdown",
   "metadata": {
    "deletable": false,
    "editable": false
   },
   "source": [
    "**Question 3: Comparing Favorites on Tweets Across Parties**\n",
    "\n",
    "**a.** Compare the mean favorites across the three parties (D, R, and I) using ANOVA. Store the F statistic in `q3a_f` and the p-value in `q3a_p`."
   ]
  },
  {
   "cell_type": "code",
   "execution_count": null,
   "metadata": {
    "tags": []
   },
   "outputs": [],
   "source": [
    "### Write your code below (in place of ...)\n",
    "..."
   ]
  },
  {
   "cell_type": "code",
   "execution_count": null,
   "metadata": {
    "deletable": false,
    "editable": false
   },
   "outputs": [],
   "source": [
    "grader.check(\"q3a\")"
   ]
  },
  {
   "cell_type": "markdown",
   "metadata": {
    "deletable": false,
    "editable": false
   },
   "source": [
    "**b.** Compare the mean favorites between the two major parties (D and R) using t-test. Store the t-statistic in `q3b_t` and the p-value in `q3b_p`."
   ]
  },
  {
   "cell_type": "code",
   "execution_count": null,
   "metadata": {
    "tags": []
   },
   "outputs": [],
   "source": [
    "### Write your code below (in place of ...)\n",
    "..."
   ]
  },
  {
   "cell_type": "code",
   "execution_count": null,
   "metadata": {
    "deletable": false,
    "editable": false
   },
   "outputs": [],
   "source": [
    "grader.check(\"q3b\")"
   ]
  },
  {
   "cell_type": "markdown",
   "metadata": {},
   "source": [
    "---"
   ]
  },
  {
   "cell_type": "markdown",
   "metadata": {
    "deletable": false,
    "editable": false
   },
   "source": [
    "**Question 4: Comparing the most ratioed Democrat and Republican Senator**\n",
    "\n",
    "As you might be aware, **\"ratio\"** on social media refers to the ratio of *replies or comments* to *likes* (as defined [here](https://www.howtogeek.com/721651/what-does-ratio-mean-on-social-media/)). On Twitter, a ratio could mean the ratio of replies to either favorites or retweets. For this question, we will define \"ratio\" as the ratio of favorites to replies.\n",
    "\n",
    "It has been observed that high ratio of replies to likes suggests that a post is unpopular or controversial. The reasoning seems to be that if more people are choosing to reply or comment instead of liking the post, they did so to express their disapproval.\n",
    "\n",
    "**a.** Make a new column in `df` called `ratio` which is calculated by dividing the value in `replies` by the value in `favorites` for each tweet. Wherever the value of `favorites` is 0, the value of ratio should be `NaN`.\n",
    "\n",
    "*Hint:* Use `np.nan` to create `NaN` value.\\\n",
    "*Hint:* Use the function `np.where` to filter through the data and assign `Nan` value when favorites is 0. Read documentation [here](https://numpy.org/doc/stable/reference/generated/numpy.where.html)."
   ]
  },
  {
   "cell_type": "code",
   "execution_count": null,
   "metadata": {
    "tags": []
   },
   "outputs": [],
   "source": [
    "### Write your code below (in place of ...)\n",
    "..."
   ]
  },
  {
   "cell_type": "code",
   "execution_count": null,
   "metadata": {
    "deletable": false,
    "editable": false
   },
   "outputs": [],
   "source": [
    "grader.check(\"q4a\")"
   ]
  },
  {
   "cell_type": "markdown",
   "metadata": {
    "deletable": false,
    "editable": false
   },
   "source": [
    "**b.** Find out the MOST ratio'ed tweet in this dataset and store the text of that tweet in a new variable `q4b_result`.\n",
    "\n",
    "Be sure to only search through rows for which the value of `ratio` is NOT NaN. Use `.notna()` function if needed, see documentation [here](https://pandas.pydata.org/pandas-docs/stable/reference/api/pandas.DataFrame.notna.html)."
   ]
  },
  {
   "cell_type": "code",
   "execution_count": null,
   "metadata": {
    "tags": []
   },
   "outputs": [],
   "source": [
    "### Write your code below (in place of ...)\n",
    "..."
   ]
  },
  {
   "cell_type": "code",
   "execution_count": null,
   "metadata": {
    "deletable": false,
    "editable": false
   },
   "outputs": [],
   "source": [
    "grader.check(\"q4b\")"
   ]
  },
  {
   "cell_type": "markdown",
   "metadata": {
    "deletable": false,
    "editable": false
   },
   "source": [
    "**c.** For the top 20,000 ratio'ed tweets, use Chi-Squared test to determine whether the values stored in `party` column occur with these frequencies:\n",
    "\n",
    " - D: 0.45\n",
    " - R: 0.45\n",
    " - I: 0.10 \n",
    "\n",
    "These values are stored in a dataframed called `hypothesized` as shown below.\n",
    "\n",
    "Follow these steps to solve this questions. ALL THESE STEPS ARE MANDATORY: \n",
    "\n",
    " - **Step 1:** Create a new dataframe `df_new` which only contains the top 20,000 tweets with the highest ratios.\n",
    " - **Step 2:** Create a new dataframe `observed` which stores the number of times 'D', 'R', and 'I' occur in `df_new`. Use `.value_counts()` and `.to_frame()` for this step.\n",
    " - **Step 3:** Create a new column in `observed` called `freq` which stores the *frequency* of 'D', 'R', and 'I' in `df_new`. Compute frequencies by diving number of occurences by 20,000.\n",
    " - **Step 4:** Perform Chi-Squared test between the observed and hypothesized frequencies using `scipy.stats.chisquare`\n",
    " - **Step 5:** Store Chi-squared statistic in a new variable `q4c_chi2` and the p-value in `q4c_pval`.\n",
    "\n",
    "NOTE: The *Chi-square goodness of fit* test compares proportions of each level of a categorical variable to hypothesized values. In order to successfully solve this question, please refer to solutions of this week's Coding Lab and please finish your assigned chapters on DataCamp!"
   ]
  },
  {
   "cell_type": "code",
   "execution_count": null,
   "metadata": {
    "tags": []
   },
   "outputs": [],
   "source": [
    "### Write your code below (in place of ...)\n",
    "hypothesized = pd.DataFrame({'party': ['R', 'D', 'I'], 'freq': [0.45, 0.45, 0.10]}).set_index('party')\n",
    "..."
   ]
  },
  {
   "cell_type": "code",
   "execution_count": null,
   "metadata": {
    "deletable": false,
    "editable": false
   },
   "outputs": [],
   "source": [
    "grader.check(\"q4c\")"
   ]
  },
  {
   "cell_type": "markdown",
   "metadata": {
    "deletable": false,
    "editable": false
   },
   "source": [
    "## Submission\n",
    "\n",
    "Make sure you have run all cells in your notebook in order before running the cell below, so that all images/graphs appear in the output. The cell below will generate a zip file for you to submit. **Please save before exporting!**\n",
    "\n",
    "Assignment #7 for COMM187: Data Science in Communication Research. Once finished answering questions, first **SAVE** then download this .ipynb file. Submit the file as instructed on Canvas and Gradescope. **ONLY** submit the .ipynb file, not the zip file."
   ]
  },
  {
   "cell_type": "code",
   "execution_count": null,
   "metadata": {
    "deletable": false,
    "editable": false
   },
   "outputs": [],
   "source": [
    "# Save your notebook first, then run this cell to export your submission.\n",
    "grader.export(pdf=False, run_tests=True)"
   ]
  },
  {
   "cell_type": "markdown",
   "metadata": {},
   "source": [
    " "
   ]
  }
 ],
 "metadata": {
  "kernelspec": {
   "display_name": "Python 3 (ipykernel)",
   "language": "python",
   "name": "python3"
  },
  "language_info": {
   "codemirror_mode": {
    "name": "ipython",
    "version": 3
   },
   "file_extension": ".py",
   "mimetype": "text/x-python",
   "name": "python",
   "nbconvert_exporter": "python",
   "pygments_lexer": "ipython3",
   "version": "3.11.5"
  },
  "otter": {
   "OK_FORMAT": true,
   "tests": {
    "q1": {
     "name": "q1",
     "points": 1,
     "suites": [
      {
       "cases": [
        {
         "code": ">>> df.equals(pd.read_csv('./data/senators.csv'))\nTrue",
         "hidden": false,
         "locked": false
        }
       ],
       "scored": true,
       "setup": "",
       "teardown": "",
       "type": "doctest"
      }
     ]
    },
    "q2": {
     "name": "q2",
     "points": 3,
     "suites": [
      {
       "cases": [
        {
         "code": ">>> ('Joining the Twitter conversation at #rnc08. Trying to link up the blackberry for tonight. Live from St. Paul.' in q2_result) == True\nTrue",
         "hidden": false,
         "locked": false
        }
       ],
       "scored": true,
       "setup": "",
       "teardown": "",
       "type": "doctest"
      }
     ]
    },
    "q3a": {
     "name": "q3a",
     "points": 2,
     "suites": [
      {
       "cases": [
        {
         "code": ">>> (abs(q3a_f - 957.000624227684) < 0.0001) == True\nTrue",
         "hidden": false,
         "locked": false
        },
        {
         "code": ">>> (abs(q3a_p - 0) < 0.0001) == True\nTrue",
         "hidden": false,
         "locked": false
        }
       ],
       "scored": true,
       "setup": "",
       "teardown": "",
       "type": "doctest"
      }
     ]
    },
    "q3b": {
     "name": "q3b",
     "points": 2,
     "suites": [
      {
       "cases": [
        {
         "code": ">>> (abs(q3b_t - 13.386791442299566) < 0.0001) == True\nTrue",
         "hidden": false,
         "locked": false
        },
        {
         "code": ">>> (abs(q3b_p - 7.434050739233581e-41) < 0.0001) == True\nTrue",
         "hidden": false,
         "locked": false
        }
       ],
       "scored": true,
       "setup": "",
       "teardown": "",
       "type": "doctest"
      }
     ]
    },
    "q4a": {
     "name": "q4a",
     "points": 3,
     "suites": [
      {
       "cases": [
        {
         "code": ">>> (abs(df['ratio'][0] - 0.039399624765478425) < 0.001) == True\nTrue",
         "hidden": false,
         "locked": false
        },
        {
         "code": ">>> (abs(df['ratio'][df['ratio'].size - 1] - 0.058823529411764705) < 0.001) == True\nTrue",
         "hidden": false,
         "locked": false
        },
        {
         "code": ">>> (abs(df['ratio'][234213] - 4.666666666666667) < 0.001) == True\nTrue",
         "hidden": false,
         "locked": false
        },
        {
         "code": ">>> (abs(df['ratio'][13] - 0.04577822990844354) < 0.001) == True\nTrue",
         "hidden": false,
         "locked": false
        },
        {
         "code": ">>> (abs(df['ratio'][213] - 0.06153846153846154) < 0.001) == True\nTrue",
         "hidden": false,
         "locked": false
        },
        {
         "code": ">>> (abs(df['ratio'][100000] - 0) < 0.001) == True\nTrue",
         "hidden": false,
         "locked": false
        }
       ],
       "scored": true,
       "setup": "",
       "teardown": "",
       "type": "doctest"
      }
     ]
    },
    "q4b": {
     "name": "q4b",
     "points": 3,
     "suites": [
      {
       "cases": [
        {
         "code": ">>> ('Wow, I just got called a \"sock puppet\"' in q4b_result) == True\nTrue",
         "hidden": false,
         "locked": false
        },
        {
         "code": ">>> ('and \"the new Dr. Evil\" at the same press conference. I can\\'t figure out which is worse...' in q4b_result) == True\nTrue",
         "hidden": false,
         "locked": false
        }
       ],
       "scored": true,
       "setup": "",
       "teardown": "",
       "type": "doctest"
      }
     ]
    },
    "q4c": {
     "name": "q4c",
     "points": 0,
     "suites": [
      {
       "cases": [
        {
         "code": ">>> (abs(q4c_chi2 - 0.7205108777777778) < 0.1) == True or (abs(q4c_chi2 - 0.7239504972222223) < 0.1) == True\nTrue",
         "hidden": false,
         "locked": false
        },
        {
         "code": ">>> (abs(q4c_pval - 0.6974981351649079) < 0.1) == True or (abs(q4c_pval - 0.6962996020107178) < 0.1) == True\nTrue",
         "hidden": false,
         "locked": false
        }
       ],
       "scored": true,
       "setup": "",
       "teardown": "",
       "type": "doctest"
      }
     ]
    }
   }
  },
  "varInspector": {
   "cols": {
    "lenName": 16,
    "lenType": 16,
    "lenVar": 40
   },
   "kernels_config": {
    "python": {
     "delete_cmd_postfix": "",
     "delete_cmd_prefix": "del ",
     "library": "var_list.py",
     "varRefreshCmd": "print(var_dic_list())"
    },
    "r": {
     "delete_cmd_postfix": ") ",
     "delete_cmd_prefix": "rm(",
     "library": "var_list.r",
     "varRefreshCmd": "cat(var_dic_list()) "
    }
   },
   "types_to_exclude": [
    "module",
    "function",
    "builtin_function_or_method",
    "instance",
    "_Feature"
   ],
   "window_display": false
  }
 },
 "nbformat": 4,
 "nbformat_minor": 4
}
