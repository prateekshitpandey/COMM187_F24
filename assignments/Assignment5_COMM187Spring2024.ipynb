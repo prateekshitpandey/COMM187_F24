{
 "cells": [
  {
   "cell_type": "code",
   "execution_count": null,
   "metadata": {
    "deletable": false,
    "editable": false
   },
   "outputs": [],
   "source": [
    "# Initialize Otter\n",
    "import otter\n",
    "grader = otter.Notebook(\"Assignment5_COMM187Spring2024.ipynb\")"
   ]
  },
  {
   "cell_type": "markdown",
   "metadata": {},
   "source": [
    "# Coding Assignment #5\n",
    "## COMM187: Data Science in Communication Research, Spring 2024"
   ]
  },
  {
   "cell_type": "markdown",
   "metadata": {},
   "source": [
    "**!!! Please make sure to run the first cell before running auto-grader !!!**"
   ]
  },
  {
   "cell_type": "markdown",
   "metadata": {},
   "source": [
    "<h3><span style=\"color:green\"> Finish assignment on DataCamp </span> </h3>\n",
    "\n",
    "This week's questions are based on the assigned chapter on DataCamp. If you have not yet signed into this class's DataCamp group, please use this invite link and make an account using your UCSB email ID: https://www.datacamp.com/groups/shared_links/0d032623fe95677c03dd5d41331db87feeb0738725bb7ae390f6d9ee17f2bed8 \n",
    "\n",
    "This week, you have been assigned the chapter **Intermediate Python: Dictionaries and Pandas** on DataCamp. \\\n",
    "Finish this assigned chapter before proceeding with this assignment. You will need the skills taught in that chapter to solve this week's coding assignment."
   ]
  },
  {
   "cell_type": "markdown",
   "metadata": {
    "deletable": false,
    "editable": false
   },
   "source": [
    "**Question 1: Creating Dictionary**\n",
    "\n",
    "In a study about the messaging strategy of an election campaign, the number of messages sent out before the election date were analyzed. \n",
    "\n",
    "Create a dictionary named `messages_dict` that contains the following key:value pairs, representing the number of messages delivered through different media:\n",
    "\n",
    " - \"Email: 120\n",
    " - \"SMS\": 340\n",
    " - \"Call\": 50\n",
    " - \"Instagram\": 35\n",
    " - \"Twitter\": 20"
   ]
  },
  {
   "cell_type": "code",
   "execution_count": null,
   "metadata": {
    "tags": []
   },
   "outputs": [],
   "source": [
    "import numpy as np\n",
    "import pandas as pd"
   ]
  },
  {
   "cell_type": "code",
   "execution_count": null,
   "metadata": {
    "tags": []
   },
   "outputs": [],
   "source": [
    "### Write your code below (in place of ...)\n",
    "messages_dict = ..."
   ]
  },
  {
   "cell_type": "code",
   "execution_count": null,
   "metadata": {
    "deletable": false,
    "editable": false
   },
   "outputs": [],
   "source": [
    "grader.check(\"q1\")"
   ]
  },
  {
   "cell_type": "markdown",
   "metadata": {
    "deletable": false,
    "editable": false
   },
   "source": [
    "**Question 2. Indexing and Filtering pandas DataFrames** \n",
    "\n",
    "In a study about effects of sharing posts on social media on mental health, you have the data for participants and their corresponding communication media usage in a pandas DataFrame named `socialmedia_df` with the following keys and values:\n",
    "\n",
    " - \"Participant\": a list of participant IDs\n",
    " - \"SharedPost\": a list of number of posts shared by each participant\n",
    " - \"SocialMedia\": a list of media used by each participant\n",
    "\n",
    "Run the following cell to load the data in to a DataFramed named `socialmedia_df` and to display it."
   ]
  },
  {
   "cell_type": "code",
   "execution_count": null,
   "metadata": {
    "deletable": false,
    "editable": false
   },
   "outputs": [],
   "source": [
    "socialmedia_df = pd.read_csv('./data/assign05.csv')\n",
    "display(socialmedia_df)"
   ]
  },
  {
   "cell_type": "markdown",
   "metadata": {
    "deletable": false,
    "editable": false
   },
   "source": [
    "Now, answer the following questions:\n",
    "\n",
    "**a.** From `socialmedia_df`, select the first 20 rows and store the resulting DataFrame in a variable named `df_filtered_iloc`.\n",
    "\n",
    "Hint: Use `.iloc[]`!"
   ]
  },
  {
   "cell_type": "code",
   "execution_count": null,
   "metadata": {
    "tags": []
   },
   "outputs": [],
   "source": [
    "### Write your code below (in place of ...)\n",
    "..."
   ]
  },
  {
   "cell_type": "code",
   "execution_count": null,
   "metadata": {
    "deletable": false,
    "editable": false
   },
   "outputs": [],
   "source": [
    "grader.check(\"q2a\")"
   ]
  },
  {
   "cell_type": "markdown",
   "metadata": {
    "deletable": false,
    "editable": false
   },
   "source": [
    "**b.** Set the row index of `socialmedia_df` to the column \"Participant\"\n",
    "\n",
    "Use the function `.set_index()` and take help from [this tutorial](https://www.geeksforgeeks.org/python-pandas-dataframe-set_index/)."
   ]
  },
  {
   "cell_type": "code",
   "execution_count": null,
   "metadata": {
    "tags": []
   },
   "outputs": [],
   "source": [
    "### Write your code below (in place of ...)\n",
    "..."
   ]
  },
  {
   "cell_type": "code",
   "execution_count": null,
   "metadata": {
    "deletable": false,
    "editable": false
   },
   "outputs": [],
   "source": [
    "grader.check(\"q2b\")"
   ]
  },
  {
   "cell_type": "markdown",
   "metadata": {
    "deletable": false,
    "editable": false
   },
   "source": [
    "**c.** Select the value at row index \"ppt_081\" and column \"SocialMedia\" from `socialmedia_df` and store it in a new variable `cell_value`.\n",
    "\n",
    "Hint: Use `.loc[]`\n",
    "\n",
    "The autograder for this question is hidden. It will directly be graded on Gradescope."
   ]
  },
  {
   "cell_type": "code",
   "execution_count": null,
   "metadata": {
    "tags": []
   },
   "outputs": [],
   "source": [
    "### Write your code below (in place of ...)\n",
    "..."
   ]
  },
  {
   "cell_type": "markdown",
   "metadata": {
    "deletable": false,
    "editable": false
   },
   "source": [
    "**d.** From `socialmedia_df`, select the subset of rows where \"SharedPosts\" value is greater than or equal to 50.\n",
    "\n",
    "Store the resulting DataFrame in a variable named `df_50plus`."
   ]
  },
  {
   "cell_type": "code",
   "execution_count": null,
   "metadata": {
    "tags": []
   },
   "outputs": [],
   "source": [
    "### Write your code below (in place of ...)\n",
    "..."
   ]
  },
  {
   "cell_type": "code",
   "execution_count": null,
   "metadata": {
    "deletable": false,
    "editable": false
   },
   "outputs": [],
   "source": [
    "grader.check(\"q2d\")"
   ]
  },
  {
   "cell_type": "markdown",
   "metadata": {
    "deletable": false,
    "editable": false
   },
   "source": [
    "## Submission\n",
    "\n",
    "Make sure you have run all cells in your notebook in order before running the cell below, so that all images/graphs appear in the output. The cell below will generate a zip file for you to submit. **Please save before exporting!**\n",
    "\n",
    "Assignment #5 for COMM187: Data Science in Communication Research. Once finished answering questions, first **SAVE** then download this .ipynb file. Submit the file as instructed on Canvas and Gradescope. **ONLY** submit the .ipynb file, not the zip file."
   ]
  },
  {
   "cell_type": "code",
   "execution_count": null,
   "metadata": {
    "deletable": false,
    "editable": false
   },
   "outputs": [],
   "source": [
    "# Save your notebook first, then run this cell to export your submission.\n",
    "grader.export(pdf=False, run_tests=True)"
   ]
  },
  {
   "cell_type": "markdown",
   "metadata": {},
   "source": [
    " "
   ]
  }
 ],
 "metadata": {
  "kernelspec": {
   "display_name": "Python 3 (ipykernel)",
   "language": "python",
   "name": "python3"
  },
  "language_info": {
   "codemirror_mode": {
    "name": "ipython",
    "version": 3
   },
   "file_extension": ".py",
   "mimetype": "text/x-python",
   "name": "python",
   "nbconvert_exporter": "python",
   "pygments_lexer": "ipython3",
   "version": "3.11.5"
  },
  "otter": {
   "OK_FORMAT": true,
   "tests": {
    "q1": {
     "name": "q1",
     "points": 2,
     "suites": [
      {
       "cases": [
        {
         "code": ">>> all([k in ['Email', 'SMS', 'Call', 'Instagram', 'Twitter'] for k in messages_dict.keys()])\nTrue",
         "hidden": false,
         "locked": false
        },
        {
         "code": ">>> messages_dict['Email'] == 120\nTrue",
         "hidden": false,
         "locked": false
        },
        {
         "code": ">>> messages_dict['SMS'] == 340\nTrue",
         "hidden": false,
         "locked": false
        },
        {
         "code": ">>> messages_dict['Call'] == 50\nTrue",
         "hidden": false,
         "locked": false
        },
        {
         "code": ">>> messages_dict['Instagram'] == 35\nTrue",
         "hidden": false,
         "locked": false
        },
        {
         "code": ">>> messages_dict['Twitter'] == 20\nTrue",
         "hidden": false,
         "locked": false
        }
       ],
       "scored": true,
       "setup": "",
       "teardown": "",
       "type": "doctest"
      }
     ]
    },
    "q2a": {
     "name": "q2a",
     "points": 3,
     "suites": [
      {
       "cases": [
        {
         "code": ">>> df_filtered_iloc.shape == (20, 3)\nTrue",
         "hidden": false,
         "locked": false
        },
        {
         "code": ">>> [df_filtered_iloc.SharedPosts.min(), df_filtered_iloc.SharedPosts.max()] == [1, 90]\nTrue",
         "hidden": false,
         "locked": false
        },
        {
         "code": ">>> all(df_filtered_iloc.SocialMedia.value_counts() == [7, 6, 5, 2])\nTrue",
         "hidden": false,
         "locked": false
        },
        {
         "code": ">>> df_filtered_iloc.iloc[-1, 0] == 'ppt_019'\nTrue",
         "hidden": false,
         "locked": false
        }
       ],
       "scored": true,
       "setup": "",
       "teardown": "",
       "type": "doctest"
      }
     ]
    },
    "q2b": {
     "name": "q2b",
     "points": 3,
     "suites": [
      {
       "cases": [
        {
         "code": ">>> all([p in socialmedia_df.index for p in ['ppt_000', 'ppt_050', 'ppt_120']])\nTrue",
         "hidden": false,
         "locked": false
        }
       ],
       "scored": true,
       "setup": "",
       "teardown": "",
       "type": "doctest"
      }
     ]
    },
    "q2c": {
     "name": "q2c",
     "points": 3,
     "suites": [
      {
       "cases": [],
       "scored": true,
       "setup": "",
       "teardown": "",
       "type": "doctest"
      }
     ]
    },
    "q2d": {
     "name": "q2d",
     "points": 5,
     "suites": [
      {
       "cases": [
        {
         "code": ">>> df_50plus.shape[0] == 68\nTrue",
         "hidden": false,
         "locked": false
        },
        {
         "code": ">>> df_50plus[df_50plus.SharedPosts < 50].shape[0] == 0\nTrue",
         "hidden": false,
         "locked": false
        },
        {
         "code": ">>> all(df_50plus.SocialMedia.value_counts() == [21, 18, 15, 14])\nTrue",
         "hidden": false,
         "locked": false
        }
       ],
       "scored": true,
       "setup": "",
       "teardown": "",
       "type": "doctest"
      }
     ]
    }
   }
  },
  "varInspector": {
   "cols": {
    "lenName": 16,
    "lenType": 16,
    "lenVar": 40
   },
   "kernels_config": {
    "python": {
     "delete_cmd_postfix": "",
     "delete_cmd_prefix": "del ",
     "library": "var_list.py",
     "varRefreshCmd": "print(var_dic_list())"
    },
    "r": {
     "delete_cmd_postfix": ") ",
     "delete_cmd_prefix": "rm(",
     "library": "var_list.r",
     "varRefreshCmd": "cat(var_dic_list()) "
    }
   },
   "types_to_exclude": [
    "module",
    "function",
    "builtin_function_or_method",
    "instance",
    "_Feature"
   ],
   "window_display": false
  }
 },
 "nbformat": 4,
 "nbformat_minor": 4
}
