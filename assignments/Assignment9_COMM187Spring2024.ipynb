{
 "cells": [
  {
   "cell_type": "code",
   "execution_count": null,
   "metadata": {
    "deletable": false,
    "editable": false
   },
   "outputs": [],
   "source": [
    "# Initialize Otter\n",
    "import otter\n",
    "grader = otter.Notebook(\"Assignment9_COMM187Spring2024.ipynb\")"
   ]
  },
  {
   "cell_type": "markdown",
   "metadata": {},
   "source": [
    "# Coding Assignment #9\n",
    "## COMM187: Data Science in Communication Research, Spring 2024"
   ]
  },
  {
   "cell_type": "markdown",
   "metadata": {},
   "source": [
    "**!!! Please make sure to run the first cell !!!**\n",
    "\n",
    "**THIS ASSIGNMENT WILL BE MANUALLY GRADED**\n"
   ]
  },
  {
   "cell_type": "markdown",
   "metadata": {},
   "source": [
    "<h3><span style=\"color:green\"> Finish assignment on DataCamp </span> </h3>\n",
    "\n",
    "This week, you have been assigned the following chapter on DataCamp: \n",
    " - **Introduction to Data Visualization with Matplotlib: Quantitative comparisons and statistical visualizations**\n",
    "\n",
    "Finish these assigned chapters before proceeding with this assignment. You will need the skills taught in that chapter to solve this week's coding assignment.\n",
    "\n",
    "---"
   ]
  },
  {
   "attachments": {},
   "cell_type": "markdown",
   "metadata": {},
   "source": [
    "## <center>VISUALIZING WHAT AMERICA'S GOVERNERS ARE TALKING ABOUT</center>\n",
    "\n",
    "This week we are using a new dataset about the \"state of the state\" speeches, or inaugural/budget address given by state Governors in the US. Analysis of this dataset has been presented in [this article](https://fivethirtyeight.com/features/what-americas-governors-are-talking-about/). The dataset is stored as a csv file in the sub-folder \"data\" by the name \"words.csv\". You can read more about the dataset on its [github repository page](https://github.com/fivethirtyeight/data/tree/master/state-of-the-state). I have copied relevant information about the dataset below:\n",
    "\n",
    "`words.csv` contains every one-word phrase that was mentioned in at least 10 speeches and every two- or three-word phrase that was mentioned in at least five speeches after a list of [stop-words](https://en.wikipedia.org/wiki/Stop_word) was removed and the word \"healthcare\" was replaced with \"health care\" so that they were not counted as distinct phrases. It also contains the results of a Chi-Squared test that shows the statistical significance of and associated p-value of phrases.\n",
    "\n",
    "Column | Definition\n",
    "-------|-----------\n",
    "`n-gram` | one-, two- or three-word phrase\n",
    "`category` | thematic categories for n-grams hand-coded by FiveThirtyEight staff: `economy/fiscal issues`, `education`, `health care`, `energy/environment`, `crime/justice`, `mental health/substance abuse`\n",
    "`d_speeches` | number of Democratic speeches containing the n-gram\n",
    "`r_speeches` | number of Republican speeches containing the n-gram\n",
    "`total` | total number of speeches containing the n-gram\n",
    "`percent_of_d_speeches` | percent of the 23 Democratic speeches containing the phrase\n",
    "`percent_of_r_speeches` | percent of the 27 Republican speeches containing the phrase\n",
    "`chi2` | [chi^2 statistic](https://scikit-learn.org/stable/modules/generated/sklearn.feature_selection.chi2.html#sklearn.feature_selection.chi2)\n",
    "`pval` | p-value for chi^2 test\n",
    "\n",
    "---"
   ]
  },
  {
   "cell_type": "code",
   "execution_count": null,
   "metadata": {},
   "outputs": [],
   "source": [
    "# RUN THIS CELL BEFORE ATTEMPTING THE ASSIGNMENT QUESTIONS\n",
    "import numpy as np\n",
    "import pandas as pd\n",
    "from scipy import stats\n",
    "import matplotlib.pyplot as plt\n",
    "\n",
    "df = pd.read_csv(\"./data/words.csv\")"
   ]
  },
  {
   "cell_type": "markdown",
   "metadata": {},
   "source": [
    "---"
   ]
  },
  {
   "cell_type": "markdown",
   "metadata": {
    "deletable": false,
    "editable": false
   },
   "source": [
    "<!-- BEGIN QUESTION -->\n",
    "\n",
    "**Question 1: Number of phrases per category**\n",
    "\n",
    "Plot a bar plot with the bars representing the number of phrases in this dataset for each category. The output should look like this:\n",
    "\n",
    "![](./imgs/a09_q1_fig.png)\n",
    "\n",
    "Tips:\n",
    " - Use `.groupby()` and `.count()` functions to calculate the number of phrases for each category\n",
    " - Remove the blank category\n",
    " - Plot the bar plot using `plt.bar`\n",
    " - Add title, x-label, and y-label\n",
    " - Use `plt.xticks()` to rotate the x-labels by 90 degrees"
   ]
  },
  {
   "cell_type": "code",
   "execution_count": null,
   "metadata": {
    "tags": []
   },
   "outputs": [],
   "source": [
    "### Write your code below (in place of ...)\n",
    "..."
   ]
  },
  {
   "cell_type": "markdown",
   "metadata": {
    "deletable": false,
    "editable": false
   },
   "source": [
    "<!-- END QUESTION -->\n",
    "\n",
    "---"
   ]
  },
  {
   "cell_type": "markdown",
   "metadata": {
    "deletable": false,
    "editable": false
   },
   "source": [
    "<!-- BEGIN QUESTION -->\n",
    "\n",
    "**Question 2: Top 7 Phrases in Economy/Fiscal Issues Category, Grouped by Party**\n",
    "\n",
    "According to the previous plot, the category of \"Economy/Fiscal Issues\" has the highest number of phrases in this dataset. In this category, for the top 7 phrases which occur in the most number of speeches, plot a stacked bar plot with the x-axis being the phrases, the y-axis being the number of speeches containing the phrase, and stacked by the political party (Republican/Democrat) identity of the governor who made the speech.\n",
    "\n",
    "The output should look like this:\n",
    "\n",
    "![](./imgs/a09_q2_fig.png)\n",
    "\n",
    "Tips:\n",
    " - Segment the data to only include the category 'economy/fiscal issues'\n",
    " - Sort the data in descending order based on the column 'total', and pick out the top 7 rows\n",
    " - Set the `figsize` of the matplotlib plot as `(8, 6)`\n",
    " - Plot a blue colored bar plot with x-axis being the column 'phrase' and the heights of the bar being the column `d_speeches`\n",
    " - Plot a red colored bar plot stacked on top of the previous plot, this time the heights of the bar being the column `r_speeches`"
   ]
  },
  {
   "cell_type": "code",
   "execution_count": null,
   "metadata": {
    "tags": []
   },
   "outputs": [],
   "source": [
    "### Write your code below (in place of ...)\n",
    "..."
   ]
  },
  {
   "cell_type": "markdown",
   "metadata": {
    "deletable": false,
    "editable": false
   },
   "source": [
    "<!-- END QUESTION -->\n",
    "\n",
    "---"
   ]
  },
  {
   "cell_type": "markdown",
   "metadata": {
    "deletable": false,
    "editable": false
   },
   "source": [
    "<!-- BEGIN QUESTION -->\n",
    "\n",
    "**Question 3: Top 7 Phrases in Mental Health/Substance Abuse Category, Grouped by Party**\n",
    "\n",
    "According to the previous plot, the category of \"Mental Health/Substance Abuse\" has the lowest number of phrases in this dataset. In this category, for the top 7 phrases which occur in the most number of speeches, plot a stacked bar plot with the x-axis being the phrases, the y-axis being the number of speeches containing the phrase, and stacked by the political party (Republican/Democrat) identity of the governor who made the speech.\n",
    "\n",
    "The output should look like this:\n",
    "\n",
    "![](./imgs/a09_q3_fig.png)\n",
    "\n",
    "Tip: Follow similar steps as Question 2! Make sure you to rotate the x-ticks to 22 degrees!"
   ]
  },
  {
   "cell_type": "code",
   "execution_count": null,
   "metadata": {
    "tags": []
   },
   "outputs": [],
   "source": [
    "### Write your code below (in place of ...)\n",
    "..."
   ]
  },
  {
   "cell_type": "markdown",
   "metadata": {
    "deletable": false,
    "editable": false
   },
   "source": [
    "<!-- END QUESTION -->\n",
    "\n",
    "---"
   ]
  },
  {
   "cell_type": "markdown",
   "metadata": {
    "deletable": false,
    "editable": false
   },
   "source": [
    "<!-- BEGIN QUESTION -->\n",
    "\n",
    "**Question 4: Compare Chi-Squared Values for the Categories**\n",
    "\n",
    "The Chi-squared values tell us how frequently the phrases occured in the speeches. Compare the Chi-Squared values for all the categories int the dataset. The output should look like this:\n",
    "\n",
    "![](./imgs/a09_q4_fig.png)\n",
    "\n",
    "Tip: \n",
    " - For each category, segment the column `chi2` for just that category, so that you have a column of Chi-Squared values for each category\n",
    " - Use the `boxplot` function to plot the box-and-whisker plots for each category\n",
    " - Add titles, x and y labels, and x-tick labels\n",
    " - Rotate x-ticks by 45 degrees"
   ]
  },
  {
   "cell_type": "code",
   "execution_count": null,
   "metadata": {
    "tags": []
   },
   "outputs": [],
   "source": [
    "### Write your code below (in place of ...)\n",
    "..."
   ]
  },
  {
   "cell_type": "markdown",
   "metadata": {
    "deletable": false,
    "editable": false
   },
   "source": [
    "<!-- END QUESTION -->\n",
    "\n",
    "---"
   ]
  },
  {
   "cell_type": "markdown",
   "metadata": {
    "deletable": false,
    "editable": false
   },
   "source": [
    "## Submission\n",
    "\n",
    "Make sure you have run all cells in your notebook in order before running the cell below, so that all images/graphs appear in the output. The cell below will generate a zip file for you to submit. **Please save before exporting!**\n",
    "\n",
    "Assignment #9 for COMM187: Data Science in Communication Research. Once finished answering questions, first **SAVE** then download this .ipynb file. Submit the file as instructed on Canvas and Gradescope. **ONLY** submit the .ipynb file, not the zip file."
   ]
  },
  {
   "cell_type": "code",
   "execution_count": null,
   "metadata": {
    "deletable": false,
    "editable": false
   },
   "outputs": [],
   "source": [
    "# Save your notebook first, then run this cell to export your submission.\n",
    "grader.export(pdf=False, run_tests=True)"
   ]
  },
  {
   "cell_type": "markdown",
   "metadata": {},
   "source": [
    " "
   ]
  }
 ],
 "metadata": {
  "kernelspec": {
   "display_name": "Python 3 (ipykernel)",
   "language": "python",
   "name": "python3"
  },
  "language_info": {
   "codemirror_mode": {
    "name": "ipython",
    "version": 3
   },
   "file_extension": ".py",
   "mimetype": "text/x-python",
   "name": "python",
   "nbconvert_exporter": "python",
   "pygments_lexer": "ipython3",
   "version": "3.11.5"
  },
  "otter": {
   "OK_FORMAT": true,
   "tests": {}
  },
  "varInspector": {
   "cols": {
    "lenName": 16,
    "lenType": 16,
    "lenVar": 40
   },
   "kernels_config": {
    "python": {
     "delete_cmd_postfix": "",
     "delete_cmd_prefix": "del ",
     "library": "var_list.py",
     "varRefreshCmd": "print(var_dic_list())"
    },
    "r": {
     "delete_cmd_postfix": ") ",
     "delete_cmd_prefix": "rm(",
     "library": "var_list.r",
     "varRefreshCmd": "cat(var_dic_list()) "
    }
   },
   "types_to_exclude": [
    "module",
    "function",
    "builtin_function_or_method",
    "instance",
    "_Feature"
   ],
   "window_display": false
  }
 },
 "nbformat": 4,
 "nbformat_minor": 4
}
