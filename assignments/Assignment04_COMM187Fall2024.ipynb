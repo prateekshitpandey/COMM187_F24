{
 "cells": [
  {
   "cell_type": "raw",
   "metadata": {},
   "source": [
    "# ASSIGNMENT CONFIG\n",
    "requirements: \n",
    "    - tqdm\n",
    "solutions_pdf: false\n",
    "export_cell:\n",
    "    pdf: false\n",
    "    instructions: \"Assignment #4 for COMM187: Data Science in Communication Research. Once finished answering questions, first **SAVE** then download this .ipynb file. Submit the file as instructed on Canvas and Gradescope. **ONLY** submit the .ipynb file, not the pdf or zip file.\"\n",
    "generate: \n",
    "    pdf: false\n",
    "    zips: false"
   ]
  },
  {
   "cell_type": "markdown",
   "metadata": {},
   "source": [
    "# Coding Assignment #4\n",
    "## COMM187: Data Science in Communication Research, Fall 2024"
   ]
  },
  {
   "cell_type": "markdown",
   "metadata": {},
   "source": [
    "**!!! Please make sure to run the first cell before running auto-grader !!!**"
   ]
  },
  {
   "cell_type": "raw",
   "metadata": {},
   "source": [
    "# BEGIN QUESTION\n",
    "name: q1\n",
    "points: 1"
   ]
  },
  {
   "cell_type": "markdown",
   "metadata": {},
   "source": [
    "### Question 1\n",
    "\n",
    "**1 POINT**\n",
    "\n",
    "Imagine you are conducting a research survey and you have a variable, `response_time`, that records the *number of seconds* it took each respondent to answer a question. Below, you are presented with the `response_time` for one particular respondent.\n",
    "\n",
    "Write a Python conditional statement (`if`, `else`, and `elif`) to categorize responses as \"Quick\", \"Average\", or \"Slow\" based on the following conditions:\n",
    "\n",
    " - **Quick** if the response time is less than 5 seconds.\n",
    " - **Average** if the response time is between 5 and 15 seconds (inclusive).\n",
    " - **Slow** if the response time is greater than 15 seconds.\n",
    "\n",
    "**Tip:** Use `if` followed by `elif` followed by `else` statements!"
   ]
  },
  {
   "cell_type": "raw",
   "metadata": {},
   "source": [
    "# BEGIN SOLUTION"
   ]
  },
  {
   "cell_type": "code",
   "execution_count": 9,
   "metadata": {},
   "outputs": [],
   "source": [
    "### Write your code below (in place of ...)\n",
    "\n",
    "response_time = 12\n",
    "\n",
    "# BEGIN SOLUTION\n",
    "if response_time < 5:\n",
    "    response_category = \"Quick\"\n",
    "elif response_time <= 15:\n",
    "    response_category = \"Average\"\n",
    "else:\n",
    "    response_category = \"Slow\"\n",
    "# END SOLUTION"
   ]
  },
  {
   "cell_type": "raw",
   "metadata": {},
   "source": [
    "# END SOLUTION"
   ]
  },
  {
   "cell_type": "raw",
   "metadata": {},
   "source": [
    "# BEGIN TESTS"
   ]
  },
  {
   "cell_type": "code",
   "execution_count": 8,
   "metadata": {},
   "outputs": [
    {
     "data": {
      "text/plain": [
       "True"
      ]
     },
     "execution_count": 8,
     "metadata": {},
     "output_type": "execute_result"
    }
   ],
   "source": [
    "response_category == \"Average\""
   ]
  },
  {
   "cell_type": "raw",
   "metadata": {},
   "source": [
    "# END TESTS"
   ]
  },
  {
   "cell_type": "raw",
   "metadata": {},
   "source": [
    "# END QUESTION"
   ]
  },
  {
   "cell_type": "raw",
   "metadata": {},
   "source": [
    "# BEGIN QUESTION\n",
    "name: q2\n",
    "points: 2"
   ]
  },
  {
   "cell_type": "markdown",
   "metadata": {},
   "source": [
    "### Question 2: \n",
    "\n",
    "**2 POINTS**\n",
    "\n",
    "In a research project, you might need to create a dataset representing different groups of survey respondents. \n",
    "\n",
    "Let's create an array to represent the participation status of 200 respondents in a survey. \\\n",
    "A value of **1** indicates **participation**, while **0** indicates **non-participation**.\n",
    "\n",
    "Use `numpy` to create:\n",
    " - An numpy array of size 200 where all values are 1 (indicating all participants took part in the survey) and store it in variable `participants`.\n",
    " - An numpy array of size 200 where all values are 0 (indicating none of the participants took part in the survey) and store it in variable `non_participants`.\n"
   ]
  },
  {
   "cell_type": "raw",
   "metadata": {},
   "source": [
    "# BEGIN SOLUTION"
   ]
  },
  {
   "cell_type": "code",
   "execution_count": 24,
   "metadata": {},
   "outputs": [],
   "source": [
    "### Write your code below (in place of ...)\n",
    "import numpy\n",
    "# BEGIN SOLUTION\n",
    "# Create the arrays using numpy\n",
    "participants = numpy.ones(200)\n",
    "non_participants = numpy.zeros(200)\n",
    "# END SOLUTION"
   ]
  },
  {
   "cell_type": "raw",
   "metadata": {},
   "source": [
    "# END SOLUTION"
   ]
  },
  {
   "cell_type": "raw",
   "metadata": {},
   "source": [
    "# BEGIN TESTS"
   ]
  },
  {
   "cell_type": "code",
   "execution_count": 20,
   "metadata": {},
   "outputs": [
    {
     "data": {
      "text/plain": [
       "True"
      ]
     },
     "execution_count": 20,
     "metadata": {},
     "output_type": "execute_result"
    }
   ],
   "source": [
    "participants.size == 200"
   ]
  },
  {
   "cell_type": "code",
   "execution_count": 21,
   "metadata": {},
   "outputs": [
    {
     "data": {
      "text/plain": [
       "True"
      ]
     },
     "execution_count": 21,
     "metadata": {},
     "output_type": "execute_result"
    }
   ],
   "source": [
    "non_participants.size == 200"
   ]
  },
  {
   "cell_type": "code",
   "execution_count": 22,
   "metadata": {},
   "outputs": [
    {
     "data": {
      "text/plain": [
       "True"
      ]
     },
     "execution_count": 22,
     "metadata": {},
     "output_type": "execute_result"
    }
   ],
   "source": [
    "all(participants == 1)"
   ]
  },
  {
   "cell_type": "code",
   "execution_count": 23,
   "metadata": {},
   "outputs": [
    {
     "data": {
      "text/plain": [
       "True"
      ]
     },
     "execution_count": 23,
     "metadata": {},
     "output_type": "execute_result"
    }
   ],
   "source": [
    "all(non_participants == 0)"
   ]
  },
  {
   "cell_type": "raw",
   "metadata": {},
   "source": [
    "# END TESTS"
   ]
  },
  {
   "cell_type": "raw",
   "metadata": {},
   "source": [
    "# END QUESTION"
   ]
  },
  {
   "cell_type": "raw",
   "metadata": {},
   "source": [
    "# BEGIN QUESTION\n",
    "name: q3\n",
    "points: 2"
   ]
  },
  {
   "cell_type": "markdown",
   "metadata": {},
   "source": [
    "### Question 3\n",
    "\n",
    "**2 POINTS**\n",
    "\n",
    "Suppose you are analyzing the number of *likes* and *shares* on the social media posts made by an individual, collected at different times throughout the day. The data for like are stored in the numpy array `likes` and the shares are stored in numpy array `shares`.\n",
    "\n",
    "As the data scientist for this project, you have deviced a new measure called \"total engagement\" which is the sum of likes and shares for a given social media post. \n",
    "\n",
    "For this individual, write the Python code which calculates the \"total engagement\", which is the sum of likes and shares, and store it in a new variable called `total_engagement`.\n",
    "\n",
    "**Tip:** To add two numpy arrays item by item, you can simply use the `+` operator. Refer to Coding Lab #4 for more help!"
   ]
  },
  {
   "cell_type": "raw",
   "metadata": {},
   "source": [
    "# BEGIN SOLUTION"
   ]
  },
  {
   "cell_type": "code",
   "execution_count": 31,
   "metadata": {},
   "outputs": [],
   "source": [
    "### Write your code below (in place of ...)\n",
    "post_likes = numpy.array([449, 471, 779, 626, 370, 254, 627, 298, 711, 315, 478, 565])\n",
    "post_shares = numpy.array([75, 26, 54, 36,  2, 45, 31,  1, 27, 71, 67, 32])\n",
    "# BEGIN SOLUTION\n",
    "total_engagement = post_likes + post_shares\n",
    "# END SOLUTION"
   ]
  },
  {
   "cell_type": "raw",
   "metadata": {},
   "source": [
    "# END SOLUTION"
   ]
  },
  {
   "cell_type": "raw",
   "metadata": {},
   "source": [
    "# BEGIN TESTS"
   ]
  },
  {
   "cell_type": "code",
   "execution_count": 33,
   "metadata": {},
   "outputs": [
    {
     "data": {
      "text/plain": [
       "True"
      ]
     },
     "execution_count": 33,
     "metadata": {},
     "output_type": "execute_result"
    }
   ],
   "source": [
    "numpy.array_equal(total_engagement, post_likes + post_shares)"
   ]
  },
  {
   "cell_type": "raw",
   "metadata": {},
   "source": [
    "# END TESTS"
   ]
  },
  {
   "cell_type": "raw",
   "metadata": {},
   "source": [
    "# END QUESTION"
   ]
  }
 ],
 "metadata": {
  "kernelspec": {
   "display_name": "Python 3 (ipykernel)",
   "language": "python",
   "name": "python3"
  },
  "language_info": {
   "codemirror_mode": {
    "name": "ipython",
    "version": 3
   },
   "file_extension": ".py",
   "mimetype": "text/x-python",
   "name": "python",
   "nbconvert_exporter": "python",
   "pygments_lexer": "ipython3",
   "version": "3.11.10"
  },
  "varInspector": {
   "cols": {
    "lenName": 16,
    "lenType": 16,
    "lenVar": 40
   },
   "kernels_config": {
    "python": {
     "delete_cmd_postfix": "",
     "delete_cmd_prefix": "del ",
     "library": "var_list.py",
     "varRefreshCmd": "print(var_dic_list())"
    },
    "r": {
     "delete_cmd_postfix": ") ",
     "delete_cmd_prefix": "rm(",
     "library": "var_list.r",
     "varRefreshCmd": "cat(var_dic_list()) "
    }
   },
   "types_to_exclude": [
    "module",
    "function",
    "builtin_function_or_method",
    "instance",
    "_Feature"
   ],
   "window_display": false
  }
 },
 "nbformat": 4,
 "nbformat_minor": 4
}
