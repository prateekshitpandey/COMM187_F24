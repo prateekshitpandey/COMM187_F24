{
 "cells": [
  {
   "cell_type": "code",
   "execution_count": null,
   "metadata": {
    "deletable": false,
    "editable": false
   },
   "outputs": [],
   "source": [
    "# Initialize Otter\n",
    "import otter\n",
    "grader = otter.Notebook(\"Assignment04_COMM187Fall2024.ipynb\")"
   ]
  },
  {
   "cell_type": "markdown",
   "metadata": {},
   "source": [
    "# Coding Assignment #4\n",
    "## COMM187: Data Science in Communication Research, Fall 2024"
   ]
  },
  {
   "cell_type": "markdown",
   "metadata": {},
   "source": [
    "**!!! Please make sure to run the first cell before running auto-grader !!!**"
   ]
  },
  {
   "cell_type": "markdown",
   "metadata": {
    "deletable": false,
    "editable": false
   },
   "source": [
    "### Question 1\n",
    "\n",
    "**1 POINT**\n",
    "\n",
    "Imagine you are conducting a research survey and you have a variable, `response_time`, that records the *number of seconds* it took each respondent to answer a question. Below, you are presented with the `response_time` for one particular respondent.\n",
    "\n",
    "Write a Python conditional statement (`if`, `else`, and `elif`) to categorize responses as \"Quick\", \"Average\", or \"Slow\" based on the following conditions:\n",
    "\n",
    " - **Quick** if the response time is less than 5 seconds.\n",
    " - **Average** if the response time is between 5 and 15 seconds (inclusive).\n",
    " - **Slow** if the response time is greater than 15 seconds.\n",
    "\n",
    "**Tip:** Use `if` followed by `elif` followed by `else` statements!"
   ]
  },
  {
   "cell_type": "code",
   "execution_count": null,
   "metadata": {
    "tags": []
   },
   "outputs": [],
   "source": [
    "### Write your code below (in place of ...)\n",
    "\n",
    "response_time = 12\n",
    "\n",
    "..."
   ]
  },
  {
   "cell_type": "code",
   "execution_count": null,
   "metadata": {
    "deletable": false,
    "editable": false
   },
   "outputs": [],
   "source": [
    "grader.check(\"q1\")"
   ]
  },
  {
   "cell_type": "markdown",
   "metadata": {
    "deletable": false,
    "editable": false
   },
   "source": [
    "### Question 2: \n",
    "\n",
    "**2 POINTS**\n",
    "\n",
    "In a research project, you might need to create a dataset representing different groups of survey respondents. \n",
    "\n",
    "Let's create an array to represent the participation status of 200 respondents in a survey. \\\n",
    "A value of **1** indicates **participation**, while **0** indicates **non-participation**.\n",
    "\n",
    "Use `numpy` to create:\n",
    " - An numpy array of size 200 where all values are 1 (indicating all participants took part in the survey) and store it in variable `participants`.\n",
    " - An numpy array of size 200 where all values are 0 (indicating none of the participants took part in the survey) and store it in variable `non_participants`.\n"
   ]
  },
  {
   "cell_type": "code",
   "execution_count": null,
   "metadata": {
    "tags": []
   },
   "outputs": [],
   "source": [
    "### Write your code below (in place of ...)\n",
    "import numpy\n",
    "..."
   ]
  },
  {
   "cell_type": "code",
   "execution_count": null,
   "metadata": {
    "deletable": false,
    "editable": false
   },
   "outputs": [],
   "source": [
    "grader.check(\"q2\")"
   ]
  },
  {
   "cell_type": "markdown",
   "metadata": {
    "deletable": false,
    "editable": false
   },
   "source": [
    "### Question 3\n",
    "\n",
    "**2 POINTS**\n",
    "\n",
    "Suppose you are analyzing the number of *likes* and *shares* on the social media posts made by an individual, collected at different times throughout the day. The data for like are stored in the numpy array `likes` and the shares are stored in numpy array `shares`.\n",
    "\n",
    "As the data scientist for this project, you have deviced a new measure called \"total engagement\" which is the sum of likes and shares for a given social media post. \n",
    "\n",
    "For this individual, write the Python code which calculates the \"total engagement\", which is the sum of likes and shares, and store it in a new variable called `total_engagement`.\n",
    "\n",
    "**Tip:** To add two numpy arrays item by item, you can simply use the `+` operator. Refer to Coding Lab #4 for more help!"
   ]
  },
  {
   "cell_type": "code",
   "execution_count": null,
   "metadata": {
    "tags": []
   },
   "outputs": [],
   "source": [
    "### Write your code below (in place of ...)\n",
    "post_likes = numpy.array([449, 471, 779, 626, 370, 254, 627, 298, 711, 315, 478, 565])\n",
    "post_shares = numpy.array([75, 26, 54, 36,  2, 45, 31,  1, 27, 71, 67, 32])\n",
    "..."
   ]
  },
  {
   "cell_type": "code",
   "execution_count": null,
   "metadata": {
    "deletable": false,
    "editable": false
   },
   "outputs": [],
   "source": [
    "grader.check(\"q3\")"
   ]
  },
  {
   "cell_type": "markdown",
   "metadata": {
    "deletable": false,
    "editable": false
   },
   "source": [
    "## Submission\n",
    "\n",
    "Make sure you have run all cells in your notebook in order before running the cell below, so that all images/graphs appear in the output. The cell below will generate a zip file for you to submit. **Please save before exporting!**\n",
    "\n",
    "Assignment #4 for COMM187: Data Science in Communication Research. Once finished answering questions, first **SAVE** then download this .ipynb file. Submit the file as instructed on Canvas and Gradescope. **ONLY** submit the .ipynb file, not the pdf or zip file."
   ]
  },
  {
   "cell_type": "code",
   "execution_count": null,
   "metadata": {
    "deletable": false,
    "editable": false
   },
   "outputs": [],
   "source": [
    "# Save your notebook first, then run this cell to export your submission.\n",
    "grader.export(pdf=False, run_tests=True)"
   ]
  },
  {
   "cell_type": "markdown",
   "metadata": {},
   "source": [
    " "
   ]
  }
 ],
 "metadata": {
  "kernelspec": {
   "display_name": "Python 3 (ipykernel)",
   "language": "python",
   "name": "python3"
  },
  "language_info": {
   "codemirror_mode": {
    "name": "ipython",
    "version": 3
   },
   "file_extension": ".py",
   "mimetype": "text/x-python",
   "name": "python",
   "nbconvert_exporter": "python",
   "pygments_lexer": "ipython3",
   "version": "3.11.10"
  },
  "otter": {
   "OK_FORMAT": true,
   "tests": {
    "q1": {
     "name": "q1",
     "points": 1,
     "suites": [
      {
       "cases": [
        {
         "code": ">>> response_category == 'Average'\nTrue",
         "hidden": false,
         "locked": false
        }
       ],
       "scored": true,
       "setup": "",
       "teardown": "",
       "type": "doctest"
      }
     ]
    },
    "q2": {
     "name": "q2",
     "points": 2,
     "suites": [
      {
       "cases": [
        {
         "code": ">>> participants.size == 200\nTrue",
         "hidden": false,
         "locked": false
        },
        {
         "code": ">>> non_participants.size == 200\nTrue",
         "hidden": false,
         "locked": false
        },
        {
         "code": ">>> all(participants == 1)\nTrue",
         "hidden": false,
         "locked": false
        },
        {
         "code": ">>> all(non_participants == 0)\nTrue",
         "hidden": false,
         "locked": false
        }
       ],
       "scored": true,
       "setup": "",
       "teardown": "",
       "type": "doctest"
      }
     ]
    },
    "q3": {
     "name": "q3",
     "points": 2,
     "suites": [
      {
       "cases": [
        {
         "code": ">>> numpy.array_equal(total_engagement, post_likes + post_shares)\nTrue",
         "hidden": false,
         "locked": false
        }
       ],
       "scored": true,
       "setup": "",
       "teardown": "",
       "type": "doctest"
      }
     ]
    }
   }
  },
  "varInspector": {
   "cols": {
    "lenName": 16,
    "lenType": 16,
    "lenVar": 40
   },
   "kernels_config": {
    "python": {
     "delete_cmd_postfix": "",
     "delete_cmd_prefix": "del ",
     "library": "var_list.py",
     "varRefreshCmd": "print(var_dic_list())"
    },
    "r": {
     "delete_cmd_postfix": ") ",
     "delete_cmd_prefix": "rm(",
     "library": "var_list.r",
     "varRefreshCmd": "cat(var_dic_list()) "
    }
   },
   "types_to_exclude": [
    "module",
    "function",
    "builtin_function_or_method",
    "instance",
    "_Feature"
   ],
   "window_display": false
  }
 },
 "nbformat": 4,
 "nbformat_minor": 4
}
