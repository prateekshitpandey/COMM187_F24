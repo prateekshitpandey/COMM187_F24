{
 "cells": [
  {
   "cell_type": "code",
   "execution_count": null,
   "metadata": {
    "deletable": false,
    "editable": false
   },
   "outputs": [],
   "source": [
    "# Initialize Otter\n",
    "import otter\n",
    "grader = otter.Notebook(\"Assignment6_COMM187Spring2024.ipynb\")"
   ]
  },
  {
   "cell_type": "markdown",
   "metadata": {},
   "source": [
    "# Coding Assignment #6\n",
    "## COMM187: Data Science in Communication Research, Spring 2024"
   ]
  },
  {
   "cell_type": "markdown",
   "metadata": {},
   "source": [
    "**!!! Please make sure to run the first cell before running auto-grader !!!**"
   ]
  },
  {
   "cell_type": "markdown",
   "metadata": {
    "jp-MarkdownHeadingCollapsed": true
   },
   "source": [
    "<h3><span style=\"color:green\"> Finish assignment on DataCamp </span> </h3>\n",
    "\n",
    "If you have not yet signed into this class's DataCamp group, please use this invite link and make an account using your UCSB email ID: https://www.datacamp.com/groups/shared_links/0d032623fe95677c03dd5d41331db87feeb0738725bb7ae390f6d9ee17f2bed8 \n",
    "\n",
    "This week, you have been assigned the following TWO chapters on DataCamp: \n",
    " - **Data Manipulation Python: Transforming DataFrames**\n",
    " - **Data Manipulation Python: Aggregating DataFrames**\n",
    "\n",
    "Finish these assigned chapters before proceeding with this assignment. You will need the skills taught in that chapter to solve this week's coding assignment.\n",
    "\n",
    "---"
   ]
  },
  {
   "attachments": {},
   "cell_type": "markdown",
   "metadata": {},
   "source": [
    "## <center>ANALYZING THE LEGACY OF <span style=\"color:red\"> REDLINING</span> IN THE US</center>\n",
    "\n",
    "![](./imgs/538RedLiningArticle.png)\n",
    "\n",
    "The dataset for this week's assignment is about the concept of redlining in the US. Redlining is the discriminatory practice of denying services (like mortgages) to residents of certain areas based on racial or ethnic composition, leading to economic and social disparities.\n",
    "\n",
    "The dataset is stored as a csv file in the sub-folder \"data\" by the name \"metro-grades.csv\". \\\n",
    "You can read more about the dataset on its [github repository page](https://github.com/fivethirtyeight/data/tree/master/redlining). I have copied relevant information about the dataset below:\n",
    "\n",
    "This csv file contains 2020 population total estimates by race/ethnicity for combined zones of each redlining grade (from Home Owners' Loan Corporation \\[HOLC\\] maps originally drawn in 1935-40, downloaded from the [Mapping Inequality project](https://dsl.richmond.edu/panorama/redlining/#loc=5/37.8/-97.9&maps=0)) within micro- and metropolitan areas. Also included are population estimates in the surrounding area of each metropolitan area's HOLC map (computed by adding a 10 percent buffer radius to the minimum bounding circle of all zones in that metro area) and [location quotients](https://belonging.berkeley.edu/technical-appendix#footnote34_cnxakh3) (LQs) for each racial/ethnic group and HOLC grade. LQs are small-area measures of segregation that specifically compare one racial/ethnic group’s proportion in a granular geography to their proportion in a larger surrounding geography. An LQ above 1 for a given racial group indicates overrepresentation in that HOLC zone relative to the broader surrounding area, and values below 1 indicate underrepresentation. Only micro- and metropolitan areas with both A- (“best”) and D-rated (“hazardous”) zones in their redlining map are included — 138 of a total 143 metropolitan areas in the data from Mapping Inequality.\n",
    "\n",
    "Header | Definition\n",
    "--- | ---\n",
    "`metro_area` | Official U.S. Census name of micro- or metropolitan area — defined as [\"Core-Based Statistical Areas\"](https://www.census.gov/topics/housing/housing-patterns/about/core-based-statistical-areas.html). The first city and state listed are used as the display name for each micro/metropolitan area in the story (for example, \"Chicago-Naperville-Elgin, IL-IN-WI\" is referred to as \"Chicago, IL\").\n",
    "`holc_grade` | Grade assigned by the Home Owners' Loan Corporation (HOLC). `A`: \"best\" (green). `B`: \"Still Desirable\" (blue). `C`: \"Definitely Declining\" (yellow). `D`: \"Hazardous\" (red).\n",
    "`white_pop` | Estimate of non-Hispanic white population within HOLC zones with a given `holc_grade` in a given `metro_area`. Rounded to the nearest integer.\n",
    "`black_pop` | Estimate of non-Hispanic Black population within HOLC zones with a given `holc_grade` in a given `metro_area`. Rounded to the nearest integer.\n",
    "`hisp_pop` | Estimate of Hispanic/Latino population within HOLC zones with a given `holc_grade` in a given `metro_area`. Rounded to the nearest integer.\n",
    "`asian_pop` | Estimate of non-Hispanic Asian population within HOLC zones with a given `holc_grade` in a given `metro_area`. Rounded to the nearest integer.\n",
    "`other_pop` | Estimate of population in any other racial/ethnic groups within HOLC zones with a given `holc_grade` in a given `metro_area`. Rounded to the nearest integer.\n",
    "`total_pop` | Estimate of total population (across all racial/ethnic groups) within HOLC zones with a given `holc_grade` in a given `metro_area`. Rounded to the nearest integer.\n",
    "`pct_white` | Estimate of the percentage of total population within HOLC zones with a given `holc_grade` in a given `metro_area` that are non-Hispanic white. Represented between 0-100. Rounded to the nearest two decimal places.\n",
    "`pct_black` | Estimate of the percentage of total population within HOLC zones with a given `holc_grade` in a given `metro_area` that are non-Hispanic Black. Represented between 0-100. Rounded to the nearest two decimal places.\n",
    "`pct_hisp` | Estimate of the percentage of total population within HOLC zones with a given `holc_grade` in a given `metro_area` that are Hispanic/Latino. Represented between 0-100. Rounded to the nearest two decimal places.\n",
    "`pct_asian` | Estimate of the percentage of total population within HOLC zones with a given `holc_grade` in a given `metro_area` that are non-Hispanic Asian. Represented between 0-100. Rounded to the nearest two decimal places.\n",
    "`pct_other` | Estimate of the percentage of total population within HOLC zones with a given `holc_grade` in a given `metro_area` in any other racial/ethnic group. Represented between 0-100. Rounded to the nearest two decimal places.\n",
    "`lq_white` | Non-Hispanic white location quotient for a given `holc_grade` and `metro_area`.\n",
    "`lq_black` | Non-Hispanic Black location quotient for a given `holc_grade` and `metro_area`.\n",
    "`lq_hisp` | Hispanic/Latino location quotient for a given `holc_grade` and `metro_area`.\n",
    "`lq_asian` | Non-Hispanic Asian location quotient for a given `holc_grade` and `metro_area`.\n",
    "`lq_other` | All other racial/ethnic groups' location quotient for a given `holc_grade` and `metro_area`.\n",
    "`surr_area_white_pop` | Estimate of non-Hispanic white population within surrounding area of a given `metro_area`'s HOLC zones. Rounded to nearest integer. Repeated for each `holc_grade` for a given `metro_area`.\n",
    "`surr_area_black_pop` | Estimate of non-Hispanic Black population within surrounding area of a given `metro_area`'s HOLC zones. Rounded to nearest integer. Repeated for each `holc_grade` for a given `metro_area`.\n",
    "`surr_area_hisp_pop` | Estimate of Hispanic/Latino population within surrounding area of a given `metro_area`'s HOLC zones. Rounded to nearest integer. Repeated for each `holc_grade` for a given `metro_area`.\n",
    "`surr_area_asian_pop` | Estimate of non-Hispanic Asian population within surrounding area of a given `metro_area`'s HOLC zones. Rounded to nearest integer. Repeated for each `holc_grade` for a given `metro_area`.\n",
    "`surr_area_other_pop` | Estimate of population in any other racial/ethnic groups within surrounding area of a given `metro_area`'s HOLC zones. Rounded to nearest integer. Repeated for each `holc_grade` for a given `metro_area`.\n",
    "`surr_area_total_pop` | Estimate of total population (across all racial/ethnic groups) within surrounding area of a given `metro_area`'s HOLC zones. Rounded to nearest integer. Repeated for each `holc_grade` for a given `metro_area`.\n",
    "`surr_area_pct_white` | Estimate of the percentage of total population within surrounding area of a given `metro_area`'s HOLC zones that are non-Hispanic white. Represented between 0-100. Rounded to the nearest two decimal places. Repeated for each `holc_grade` for a given `metro_area`.\n",
    "`surr_area_pct_black` | Estimate of the percentage of total population within surrounding area of a given `metro_area`'s HOLC zones that are non-Hispanic Black. Represented between 0-100. Rounded to the nearest two decimal places. Repeated for each `holc_grade` for a given `metro_area`.\n",
    "`surr_area_pct_hisp` | Estimate of the percentage of total population within surrounding area of a given `metro_area`'s HOLC zones that are Hispanic/Latino. Represented between 0-100. Rounded to the nearest two decimal places. Repeated for each `holc_grade` for a given `metro_area`.\n",
    "`surr_area_pct_asian` | Estimate of the percentage of total population within surrounding area of a given `metro_area`'s HOLC zones that are non-Hispanic Asian. Represented between 0-100. Rounded to the nearest two decimal places. Repeated for each `holc_grade` for a given `metro_area`.\n",
    "`surr_area_pct_other` | Estimate of the percentage of total population within surrounding area of a given `metro_area`'s HOLC zones in any other racial/ethnic group. Represented between 0-100. Rounded to the nearest two decimal places. Repeated for each `holc_grade` for a given `metro_area`.\n",
    "\n",
    "---"
   ]
  },
  {
   "cell_type": "markdown",
   "metadata": {
    "deletable": false,
    "editable": false
   },
   "source": [
    "**Question 1: Loading Data**\n",
    "\n",
    "Use the pandas `read_csv` function to load the data `metro-grades.csv` file into a pandas DataFrame named `df`."
   ]
  },
  {
   "cell_type": "code",
   "execution_count": null,
   "metadata": {
    "tags": []
   },
   "outputs": [],
   "source": [
    "import numpy as np\n",
    "import pandas as pd"
   ]
  },
  {
   "cell_type": "code",
   "execution_count": null,
   "metadata": {
    "tags": []
   },
   "outputs": [],
   "source": [
    "### Write your code below (in place of ...)\n",
    "df = ..."
   ]
  },
  {
   "cell_type": "code",
   "execution_count": null,
   "metadata": {
    "deletable": false,
    "editable": false
   },
   "outputs": [],
   "source": [
    "grader.check(\"q1\")"
   ]
  },
  {
   "cell_type": "markdown",
   "metadata": {
    "deletable": false,
    "editable": false
   },
   "source": [
    "**Question 2: Sorting Data**\n",
    "\n",
    "Sort the data in the descending alphabetical order of the values in the columns `metro_area` and `holc_grade` and save it in `sorted_df`.\n",
    "\n",
    "Note: you are sorting the data by the values in TWO columns, not just one!"
   ]
  },
  {
   "cell_type": "code",
   "execution_count": null,
   "metadata": {
    "tags": []
   },
   "outputs": [],
   "source": [
    "### Write your code below (in place of ...)\n",
    "sorted_df = ..."
   ]
  },
  {
   "cell_type": "code",
   "execution_count": null,
   "metadata": {
    "deletable": false,
    "editable": false
   },
   "outputs": [],
   "source": [
    "grader.check(\"q2\")"
   ]
  },
  {
   "cell_type": "markdown",
   "metadata": {
    "deletable": false,
    "editable": false
   },
   "source": [
    "**Question 3: Calculate Summary Statistics on Grouped Data**\n",
    "\n",
    "Calculate the mean of the following columns: `pct_white`, `pct_black`, `pct_hisp`, `pct_asian`, grouped by `holc_grade`, and save the output in a pandas DataFrame named `mean_pct_groupedby_holc`.\n",
    "\n",
    "The DataFrame `mean_pct_groupedby_holc` should look like this:\n",
    "\n",
    "<img src=\"./imgs/assing06_q3.png\" alt=\"drawing\" width=\"400\"/>"
   ]
  },
  {
   "cell_type": "code",
   "execution_count": null,
   "metadata": {
    "tags": []
   },
   "outputs": [],
   "source": [
    "### Write your code below (in place of ...)\n",
    "mean_pct_groupedby_holc = ..."
   ]
  },
  {
   "cell_type": "code",
   "execution_count": null,
   "metadata": {
    "deletable": false,
    "editable": false
   },
   "outputs": [],
   "source": [
    "grader.check(\"q3\")"
   ]
  },
  {
   "cell_type": "markdown",
   "metadata": {
    "deletable": false,
    "editable": false
   },
   "source": [
    "**Question 4: Identifying Metro Regions with Highest Median Black Population**\n",
    "\n",
    "Identify the top 3 metro areas with the highest median percentage of Black population.\n",
    "\n",
    "**Step 1:** Group by `metro_area` and calculate the median `pct_black`.\\\n",
    "**Step 2:** Sort the output of Step 1 in descending order.\\\n",
    "**Step 3:** Use the `.head()` to get the top rows. \\\n",
    "**Step 4:** Use the `.index` function to get the names of the rows, i.e., names of the metro areas. \\\n",
    "**Step 5:** Convert the output of Step 4 to a list using `.tolist()` function (read documentation [here](https://pandas.pydata.org/pandas-docs/version/1.5/reference/api/pandas.Series.tolist.html)).\n",
    "\n",
    "The final output for this question should be saved in a list named `top3_median_pct_black`.\n",
    "\n",
    "NOTE: The test for this question is hidden. This question will be graded directly on Gradescope."
   ]
  },
  {
   "cell_type": "code",
   "execution_count": null,
   "metadata": {
    "tags": []
   },
   "outputs": [],
   "source": [
    "### Write your code below (in place of ...)\n",
    "..."
   ]
  },
  {
   "cell_type": "markdown",
   "metadata": {
    "deletable": false,
    "editable": false
   },
   "source": [
    "## Submission\n",
    "\n",
    "Make sure you have run all cells in your notebook in order before running the cell below, so that all images/graphs appear in the output. The cell below will generate a zip file for you to submit. **Please save before exporting!**\n",
    "\n",
    "Assignment #6 for COMM187: Data Science in Communication Research. Once finished answering questions, first **SAVE** then download this .ipynb file. Submit the file as instructed on Canvas and Gradescope. **ONLY** submit the .ipynb file, not the zip file."
   ]
  },
  {
   "cell_type": "code",
   "execution_count": null,
   "metadata": {
    "deletable": false,
    "editable": false
   },
   "outputs": [],
   "source": [
    "# Save your notebook first, then run this cell to export your submission.\n",
    "grader.export(pdf=False, run_tests=True)"
   ]
  },
  {
   "cell_type": "markdown",
   "metadata": {},
   "source": [
    " "
   ]
  }
 ],
 "metadata": {
  "kernelspec": {
   "display_name": "Python 3 (ipykernel)",
   "language": "python",
   "name": "python3"
  },
  "language_info": {
   "codemirror_mode": {
    "name": "ipython",
    "version": 3
   },
   "file_extension": ".py",
   "mimetype": "text/x-python",
   "name": "python",
   "nbconvert_exporter": "python",
   "pygments_lexer": "ipython3",
   "version": "3.11.5"
  },
  "otter": {
   "OK_FORMAT": true,
   "tests": {
    "q1": {
     "name": "q1",
     "points": 1,
     "suites": [
      {
       "cases": [
        {
         "code": ">>> df.equals(pd.read_csv('./data/metro-grades.csv'))\nTrue",
         "hidden": false,
         "locked": false
        }
       ],
       "scored": true,
       "setup": "",
       "teardown": "",
       "type": "doctest"
      }
     ]
    },
    "q2": {
     "name": "q2",
     "points": 1,
     "suites": [
      {
       "cases": [
        {
         "code": ">>> sorted_df.head()['metro_area'].tolist()[0] == 'Youngstown-Warren-Boardman, OH-PA'\nTrue",
         "hidden": false,
         "locked": false
        },
        {
         "code": ">>> sorted_df.head()['holc_grade'].tolist()[0] == 'D'\nTrue",
         "hidden": false,
         "locked": false
        },
        {
         "code": ">>> sorted_df.tail()['metro_area'].tolist()[-1] == 'Akron, OH'\nTrue",
         "hidden": false,
         "locked": false
        },
        {
         "code": ">>> sorted_df.tail()['holc_grade'].tolist()[-1] == 'A'\nTrue",
         "hidden": false,
         "locked": false
        }
       ],
       "scored": true,
       "setup": "",
       "teardown": "",
       "type": "doctest"
      }
     ]
    },
    "q3": {
     "name": "q3",
     "points": 3,
     "suites": [
      {
       "cases": [
        {
         "code": ">>> mean_pct_groupedby_holc.equals(df.groupby('holc_grade')[['pct_white', 'pct_black', 'pct_hisp', 'pct_asian']].mean())\nTrue",
         "hidden": false,
         "locked": false
        }
       ],
       "scored": true,
       "setup": "",
       "teardown": "",
       "type": "doctest"
      }
     ]
    },
    "q4": {
     "name": "q4",
     "points": 5,
     "suites": [
      {
       "cases": [],
       "scored": true,
       "setup": "",
       "teardown": "",
       "type": "doctest"
      }
     ]
    }
   }
  },
  "varInspector": {
   "cols": {
    "lenName": 16,
    "lenType": 16,
    "lenVar": 40
   },
   "kernels_config": {
    "python": {
     "delete_cmd_postfix": "",
     "delete_cmd_prefix": "del ",
     "library": "var_list.py",
     "varRefreshCmd": "print(var_dic_list())"
    },
    "r": {
     "delete_cmd_postfix": ") ",
     "delete_cmd_prefix": "rm(",
     "library": "var_list.r",
     "varRefreshCmd": "cat(var_dic_list()) "
    }
   },
   "types_to_exclude": [
    "module",
    "function",
    "builtin_function_or_method",
    "instance",
    "_Feature"
   ],
   "window_display": false
  }
 },
 "nbformat": 4,
 "nbformat_minor": 4
}
