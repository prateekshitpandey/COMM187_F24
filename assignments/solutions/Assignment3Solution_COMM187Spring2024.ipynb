{
 "cells": [
  {
   "cell_type": "code",
   "execution_count": 1,
   "metadata": {
    "deletable": false,
    "editable": false
   },
   "outputs": [],
   "source": [
    "# Initialize Otter\n",
    "import otter\n",
    "grader = otter.Notebook(\"Assignment3_COMM187Spring2024.ipynb\")"
   ]
  },
  {
   "cell_type": "markdown",
   "metadata": {},
   "source": [
    "# Coding Assignment #3\n",
    "## COMM187: Data Science in Communication Research, Spring 2024"
   ]
  },
  {
   "cell_type": "markdown",
   "metadata": {},
   "source": [
    "**!!! Please make sure to run the first cell before running auto-grader !!!**"
   ]
  },
  {
   "cell_type": "markdown",
   "metadata": {},
   "source": [
    "<span style=\"color:red\">**BEFORE STARTING WITH THE ASSIGNMENT QUESTIONS, GO THROUGH THESE PRACTICE CODES AND NEW FUNCTIONS FIRST**</span>"
   ]
  },
  {
   "cell_type": "markdown",
   "metadata": {},
   "source": [
    "### PRACTICE: Functions in `numpy` to create arrays"
   ]
  },
  {
   "cell_type": "markdown",
   "metadata": {},
   "source": [
    "In Lab #2, go through the section on \"Functions in `numpy` to create arrays\" and practice the following functions in `numpy`:\n",
    "\n",
    "1. `numpy.ones(n)`: produces an array of length `n` of all `1`s.\n",
    "2. `numpy.zeros(n)`: produces an array of length `n` of all `0`s.\n",
    "\n",
    "Now, try out these functions, for `n = 10`. In other words, make a numpy array with 10 `1`'s, and a numpy array with `0 `0`'s. "
   ]
  },
  {
   "cell_type": "code",
   "execution_count": 2,
   "metadata": {},
   "outputs": [
    {
     "data": {
      "text/plain": [
       "array([1., 1., 1., 1., 1., 1., 1., 1., 1., 1.])"
      ]
     },
     "execution_count": 2,
     "metadata": {},
     "output_type": "execute_result"
    }
   ],
   "source": [
    "import numpy\n",
    "numpy.ones(10)"
   ]
  },
  {
   "cell_type": "code",
   "execution_count": 3,
   "metadata": {},
   "outputs": [
    {
     "data": {
      "text/plain": [
       "array([0., 0., 0., 0., 0., 0., 0., 0., 0., 0.])"
      ]
     },
     "execution_count": 3,
     "metadata": {},
     "output_type": "execute_result"
    }
   ],
   "source": [
    "numpy.zeros(10)"
   ]
  },
  {
   "cell_type": "markdown",
   "metadata": {},
   "source": [
    "### NEW FUNCTIONS: `size`, `min`, `max`, `sum`, and `mean`"
   ]
  },
  {
   "cell_type": "markdown",
   "metadata": {},
   "source": [
    "Familiarize yourself with the following functions which can be operated only on `numpy` arrays."
   ]
  },
  {
   "cell_type": "markdown",
   "metadata": {},
   "source": [
    "**1.** `numpy.ndarray.size`\n",
    "\n",
    "Just add `.size` at the end of any numpy array variable name, and this function will give you the number of values in that array.\n",
    "\n",
    "NOTE: There is no need for the typical `()` brackets in this function."
   ]
  },
  {
   "cell_type": "code",
   "execution_count": 4,
   "metadata": {},
   "outputs": [
    {
     "data": {
      "text/plain": [
       "100"
      ]
     },
     "execution_count": 4,
     "metadata": {},
     "output_type": "execute_result"
    }
   ],
   "source": [
    "numpy_array1 = numpy.ones(100)\n",
    "numpy_array1.size"
   ]
  },
  {
   "cell_type": "markdown",
   "metadata": {},
   "source": [
    "**2.** `numpy.ndarray.min()`\n",
    "\n",
    "Just add `.min()` at the end of any numpy array variable name, and this function will give you the minimum value in the numpy array."
   ]
  },
  {
   "cell_type": "code",
   "execution_count": 5,
   "metadata": {},
   "outputs": [
    {
     "data": {
      "text/plain": [
       "-10"
      ]
     },
     "execution_count": 5,
     "metadata": {},
     "output_type": "execute_result"
    }
   ],
   "source": [
    "numpy_array2 = numpy.array([-1, 5, -10])\n",
    "numpy_array2.min()"
   ]
  },
  {
   "cell_type": "markdown",
   "metadata": {},
   "source": [
    "**3.** `numpy.ndarray.max()`\n",
    "\n",
    "Just add `.max()` at the end of any numpy array variable name, and this function will give you the minimum value in the numpy array."
   ]
  },
  {
   "cell_type": "code",
   "execution_count": 6,
   "metadata": {},
   "outputs": [
    {
     "data": {
      "text/plain": [
       "5"
      ]
     },
     "execution_count": 6,
     "metadata": {},
     "output_type": "execute_result"
    }
   ],
   "source": [
    "numpy_array3 = numpy.array([-1, 5, -10])\n",
    "numpy_array3.max()"
   ]
  },
  {
   "cell_type": "markdown",
   "metadata": {},
   "source": [
    "**4.** `numpy.ndarray.sum()`\n",
    "\n",
    "Just add `.sum()` at the end of any numpy array variable name, and this function will calculate the total arithmetic sum of all the values in the numpy array. Basically, it will add up all the values."
   ]
  },
  {
   "cell_type": "code",
   "execution_count": 7,
   "metadata": {},
   "outputs": [
    {
     "data": {
      "text/plain": [
       "6"
      ]
     },
     "execution_count": 7,
     "metadata": {},
     "output_type": "execute_result"
    }
   ],
   "source": [
    "numpy_array4 = numpy.array([1,2,3])\n",
    "numpy_array4.sum()"
   ]
  },
  {
   "cell_type": "markdown",
   "metadata": {},
   "source": [
    "**5.** `numpy.ndarray.mean()`\n",
    "\n",
    "Just add `.mean()` at the end of your numpy array variable name, and this function will calculate the mean or average of the numpy array.  "
   ]
  },
  {
   "cell_type": "code",
   "execution_count": 8,
   "metadata": {},
   "outputs": [
    {
     "data": {
      "text/plain": [
       "3.0"
      ]
     },
     "execution_count": 8,
     "metadata": {},
     "output_type": "execute_result"
    }
   ],
   "source": [
    "numpy_array5 = numpy.array([1,2,3,4,5])\n",
    "numpy_array5.mean()"
   ]
  },
  {
   "cell_type": "markdown",
   "metadata": {},
   "source": [
    "After practicing these functions, solve the following questions."
   ]
  },
  {
   "cell_type": "markdown",
   "metadata": {},
   "source": [
    "---"
   ]
  },
  {
   "cell_type": "markdown",
   "metadata": {},
   "source": [
    "### Health Communication Data Analysis\n",
    "\n",
    "You are a data analyst working on a health communication research project about persuading people to be more physically active. \n",
    "\n",
    "Towards this, the project has collected daily number of minutes of light, moderate, and vigorous physical activity various individuals over a period of two years. Your task is to analyze this data using numpy arrays and perform several operations to gain insights into the data.\n",
    "\n",
    "**Data:** For a single individual in the study sample, the data for their daily number of minutes of light, moderate, and vigorous physical activity are stored in the following variables:\n",
    "\n",
    "`light` is a numpy array with the daily number of minutes spent doing light physical activity. \\\n",
    "`moderate` is a numpy array with the daily number of minutes spent doing moderate physical activity. \\\n",
    "`vigorous` is a numpy array with the daily number of minutes spent doing moderate physical activity. \\ \n",
    "\n",
    "In each array, the first position contains minutes of activity for the first day, second position contains minutes of activity for the second day, so on and so forth for consecutive days over the period of two years.\n",
    "\n",
    "Run the following cell before moving on the assignment questions."
   ]
  },
  {
   "cell_type": "code",
   "execution_count": 9,
   "metadata": {},
   "outputs": [],
   "source": [
    "import numpy\n",
    "light = numpy.loadtxt(\"./data/light.txt\", delimiter = \",\", dtype = int)\n",
    "moderate = numpy.loadtxt(\"./data/moderate.txt\", delimiter = \",\", dtype = int)\n",
    "vigorous = numpy.loadtxt(\"./data/vigorous.txt\", delimiter = \",\", dtype = int)"
   ]
  },
  {
   "cell_type": "markdown",
   "metadata": {
    "deletable": false,
    "editable": false
   },
   "source": [
    "**Question 1: Basic Description of Data**\n",
    "\n",
    "\n",
    "**a.** \n",
    "The data for this individual has been collected on a daily basis for two years, and stored in the numpy array variables mentioned above. What is the length of these numpy arrays?\n",
    "\n",
    "Store the length of `light` in a new variable `light_length`. \\\n",
    "Store the length of `moderate` in a new variable `moderate_length`. \\\n",
    "Store the length of `vigorous` in a new variable `vigorous_length`.\n",
    "\n",
    "*Note:* The data is collected every day for two consecutive years, assuming these are non-leap years."
   ]
  },
  {
   "cell_type": "code",
   "execution_count": 10,
   "metadata": {
    "tags": [
     "otter_assign_solution_cell"
    ]
   },
   "outputs": [],
   "source": [
    "### Write your code below (in place of ...)\n",
    "light_length = light.size # SOLUTION\n",
    "moderate_length = moderate.size # SOLUTION\n",
    "vigorous_length = vigorous.size # SOLUTION"
   ]
  },
  {
   "cell_type": "code",
   "execution_count": 11,
   "metadata": {
    "deletable": false,
    "editable": false
   },
   "outputs": [
    {
     "data": {
      "text/html": [
       "<p><strong><pre style='display: inline;'>q1a</pre></strong> passed! 🌟</p>"
      ],
      "text/plain": [
       "q1a results: All test cases passed!"
      ]
     },
     "execution_count": 11,
     "metadata": {},
     "output_type": "execute_result"
    }
   ],
   "source": [
    "grader.check(\"q1a\")"
   ]
  },
  {
   "cell_type": "markdown",
   "metadata": {
    "deletable": false,
    "editable": false
   },
   "source": [
    "**b.** For this individual, calculate the total number of minutes of physical activity of each type (light, moderate, and vigorous) in the last two years.\n",
    "\n",
    "Store the total minutes of activity for light activity in a new variable `light_total`. \\\n",
    "Store the total minutes of activity for moderate activity in a new variable `moderate_total`. \\\n",
    "Store the total minutes of activity for vigorous activity in a new variable `vigorous_total`."
   ]
  },
  {
   "cell_type": "code",
   "execution_count": 12,
   "metadata": {
    "tags": [
     "otter_assign_solution_cell"
    ]
   },
   "outputs": [],
   "source": [
    "### Write your code below (in place of ...)\n",
    "light_total = light.sum() # SOLUTION\n",
    "moderate_total = moderate.sum() # SOLUTION\n",
    "vigorous_total = vigorous.sum() # SOLUTION"
   ]
  },
  {
   "cell_type": "code",
   "execution_count": 13,
   "metadata": {
    "deletable": false,
    "editable": false
   },
   "outputs": [
    {
     "data": {
      "text/html": [
       "<p><strong><pre style='display: inline;'>q1b</pre></strong> passed! 💯</p>"
      ],
      "text/plain": [
       "q1b results: All test cases passed!"
      ]
     },
     "execution_count": 13,
     "metadata": {},
     "output_type": "execute_result"
    }
   ],
   "source": [
    "grader.check(\"q1b\")"
   ]
  },
  {
   "cell_type": "markdown",
   "metadata": {
    "deletable": false,
    "editable": false
   },
   "source": [
    "**c.** Now, calculate the **daily average number of minutes** of physical activity of each type (light, moderate, and vigorous) in the last two years for this individual.\n",
    "\n",
    "Store the daily average minutes of activity for light activity in a new variable `light_avg`. \\\n",
    "Store the daily average minutes of activity for moderate activity in a new variable `moderate_avg`. \\\n",
    "Store the daily average  minutes of activity for vigorous activity in a new variable `vigorous_avg`."
   ]
  },
  {
   "cell_type": "code",
   "execution_count": 14,
   "metadata": {
    "tags": [
     "otter_assign_solution_cell"
    ]
   },
   "outputs": [],
   "source": [
    "### Write your code below (in place of ...)\n",
    "light_avg = light.mean() # SOLUTION\n",
    "moderate_avg = moderate.mean() # SOLUTION\n",
    "vigorous_avg = vigorous.mean() # SOLUTION"
   ]
  },
  {
   "cell_type": "code",
   "execution_count": 15,
   "metadata": {
    "deletable": false,
    "editable": false
   },
   "outputs": [
    {
     "data": {
      "text/html": [
       "<p><strong><pre style='display: inline;'>q1c</pre></strong> passed! 🌟</p>"
      ],
      "text/plain": [
       "q1c results: All test cases passed!"
      ]
     },
     "execution_count": 15,
     "metadata": {},
     "output_type": "execute_result"
    }
   ],
   "source": [
    "grader.check(\"q1c\")"
   ]
  },
  {
   "cell_type": "markdown",
   "metadata": {
    "deletable": false,
    "editable": false
   },
   "source": [
    "**Question 2: Data Correction** \n",
    "\n",
    "It turns out that there were some errors in measurement! The total number of minutes measured on the following days : \\\n",
    "Day 46, \\\n",
    "Day 105, \\\n",
    "Day 341, and \\\n",
    "Day 620 \\\n",
    "were 4 minutes less than they should have measured. \n",
    "\n",
    "This applies to light, moderate, and vigorous activities. Thus, for each of these days, we need to add 4 minutes to the existing data.\n",
    "\n",
    "Remember, for each array `light`, `moderate`, and `vigorous`, the data in the first position is the data for Day 1, the data in the second position is data for Day 2, and so on and so forth.\n",
    "\n",
    "Let us break this task down into smaller steps.\n",
    "\n",
    "**a. Step 1:** Create an numpy array of the same size as that of `light`, `moderate`, and `vigorous`  with only `0`'s, and store this into a new variable named `corrections`."
   ]
  },
  {
   "cell_type": "code",
   "execution_count": 33,
   "metadata": {
    "tags": [
     "otter_assign_solution_cell"
    ]
   },
   "outputs": [],
   "source": [
    "### Write your code below (in place of ...)\n",
    "corrections = numpy.zeros(light.size) # SOLUTION"
   ]
  },
  {
   "cell_type": "code",
   "execution_count": 34,
   "metadata": {
    "deletable": false,
    "editable": false
   },
   "outputs": [
    {
     "data": {
      "text/html": [
       "<p><strong><pre style='display: inline;'>q2a</pre></strong> passed! 🎉</p>"
      ],
      "text/plain": [
       "q2a results: All test cases passed!"
      ]
     },
     "execution_count": 34,
     "metadata": {},
     "output_type": "execute_result"
    }
   ],
   "source": [
    "grader.check(\"q2a\")"
   ]
  },
  {
   "cell_type": "markdown",
   "metadata": {
    "deletable": false,
    "editable": false
   },
   "source": [
    "**b. Step 2:** In the numpy array `corrections`, change the value of the aforementioned positions to `4` instead of `0`.\n",
    "\n",
    "*Hint example:* To change the value of the first element of a numpy array named `numpy_array` to a new value, let's say, `1`, you would need to run the following line of code: \\\n",
    "`numpy_array[0] = 1`"
   ]
  },
  {
   "cell_type": "code",
   "execution_count": 18,
   "metadata": {
    "tags": [
     "otter_assign_solution_cell"
    ]
   },
   "outputs": [],
   "source": [
    "### Write your code below (in place of ...)\n",
    "# BEGIN SOLUTION\n",
    "corrections[45] = 4\n",
    "corrections[104] = 4\n",
    "corrections[340] = 4\n",
    "corrections[619] = 4\n",
    "# END SOLUTION"
   ]
  },
  {
   "cell_type": "code",
   "execution_count": 19,
   "metadata": {
    "deletable": false,
    "editable": false
   },
   "outputs": [
    {
     "data": {
      "text/html": [
       "<p><strong><pre style='display: inline;'>q2b</pre></strong> passed! ✨</p>"
      ],
      "text/plain": [
       "q2b results: All test cases passed!"
      ]
     },
     "execution_count": 19,
     "metadata": {},
     "output_type": "execute_result"
    }
   ],
   "source": [
    "grader.check(\"q2b\")"
   ]
  },
  {
   "cell_type": "markdown",
   "metadata": {
    "deletable": false,
    "editable": false
   },
   "source": [
    "**c. Step 3:** Great job so far! Now, in order to make the error correction, you just need to add `corrections` to each of the original arrays `light`, `moderate`, and `vigorous`, and save the output in a new array each.\n",
    "\n",
    "Store the updated data for light activity in a new variable `light_updated`. \\\n",
    "Store the updated data for light activity in a new variable `moderate_updated`. \\\n",
    "Store the updated data for light activity in a new variable `vigorous_updated`. \n",
    "\n",
    "**Note:** Do NOT alter the data in the original arrays!"
   ]
  },
  {
   "cell_type": "code",
   "execution_count": 20,
   "metadata": {
    "tags": [
     "otter_assign_solution_cell"
    ]
   },
   "outputs": [],
   "source": [
    "### Write your code below (in place of ...)\n",
    "light_updated = light + corrections # SOLUTION\n",
    "moderate_updated = moderate + corrections # SOLUTION\n",
    "vigorous_updated = vigorous + corrections # SOLUTION"
   ]
  },
  {
   "cell_type": "code",
   "execution_count": 21,
   "metadata": {
    "deletable": false,
    "editable": false
   },
   "outputs": [
    {
     "data": {
      "text/html": [
       "<p><strong><pre style='display: inline;'>q2c</pre></strong> passed! ✨</p>"
      ],
      "text/plain": [
       "q2c results: All test cases passed!"
      ]
     },
     "execution_count": 21,
     "metadata": {},
     "output_type": "execute_result"
    }
   ],
   "source": [
    "grader.check(\"q2c\")"
   ]
  },
  {
   "cell_type": "markdown",
   "metadata": {
    "deletable": false,
    "editable": false
   },
   "source": [
    "**Question 3:** Now, with the updated numpy arrays, answer these analytical questions about the data.\n",
    "\n",
    "**a.** In the last two years, for how many days did this individual perform light physical activity for more than an hour (60 minutes)?\n",
    "\n",
    "Break this question down into two steps:\n",
    "\n",
    " - **Step 1:** Compare the values of `light_updated` with the threshold (one hour, or 60 minutes). This would look like: `light_updated > 60`. Look at the output. You should observe a numpy array of `bool` values.\n",
    " - **Step 2:** Now, store this output in a new variable `light_greaterthananhour`.\n",
    " - **Step 3:** Add the True values in `light_greaterthananhour` and store them in `light_greaterthananhour_total`. \\\n",
    "   Did you know, that if you simply use the `sum()` function (as described at the beginning of this assignment) on a boolean numpy array, it will simply add all the True values in that array? Use this to count the number of True values in `light_greaterthananhour`!"
   ]
  },
  {
   "cell_type": "code",
   "execution_count": 22,
   "metadata": {
    "tags": [
     "otter_assign_solution_cell"
    ]
   },
   "outputs": [],
   "source": [
    "### Write your code below (in place of ...)\n",
    "light_greaterthananhour = light_updated > 60 # SOLUTION\n",
    "light_greaterthananhour_total = light_greaterthananhour.sum() # SOLUTION"
   ]
  },
  {
   "cell_type": "code",
   "execution_count": 23,
   "metadata": {
    "deletable": false,
    "editable": false
   },
   "outputs": [
    {
     "data": {
      "text/html": [
       "<p><strong><pre style='display: inline;'>q3a</pre></strong> passed! 🌟</p>"
      ],
      "text/plain": [
       "q3a results: All test cases passed!"
      ]
     },
     "execution_count": 23,
     "metadata": {},
     "output_type": "execute_result"
    }
   ],
   "source": [
    "grader.check(\"q3a\")"
   ]
  },
  {
   "cell_type": "markdown",
   "metadata": {
    "deletable": false,
    "editable": false
   },
   "source": [
    "**b.** Similarly, in the last two years, for how many days did this individual perform moderate physical activity for more than half an hour (30 minutes)?\n",
    "\n",
    "Break this question down into two steps just like before. The final answer should be stored in `moderate_morethanhalfhour_total`.\n",
    "\n",
    "*Note:* Use `moderate_updated`, and not `moderate`!"
   ]
  },
  {
   "cell_type": "code",
   "execution_count": 24,
   "metadata": {
    "tags": [
     "otter_assign_solution_cell"
    ]
   },
   "outputs": [],
   "source": [
    "### Write your code below (in place of ...)\n",
    "moderate_morethanhalfhour_total = (moderate_updated > 30).sum() # SOLUTION"
   ]
  },
  {
   "cell_type": "code",
   "execution_count": 25,
   "metadata": {
    "deletable": false,
    "editable": false
   },
   "outputs": [
    {
     "data": {
      "text/html": [
       "<p><strong><pre style='display: inline;'>q3b</pre></strong> passed! ✨</p>"
      ],
      "text/plain": [
       "q3b results: All test cases passed!"
      ]
     },
     "execution_count": 25,
     "metadata": {},
     "output_type": "execute_result"
    }
   ],
   "source": [
    "grader.check(\"q3b\")"
   ]
  },
  {
   "cell_type": "markdown",
   "metadata": {
    "deletable": false,
    "editable": false
   },
   "source": [
    "**c.** Similarly, in the last two years, for how many days did this individual perform vigorous physical activity for more than 10 minutes?\n",
    "\n",
    "Break this question down into two steps just like before. The final answer should be stored in `vigorous_morethan10mins_total`.\n",
    "\n",
    "*Note:* Use `vigorous_updated`, and not `vigorous`!"
   ]
  },
  {
   "cell_type": "code",
   "execution_count": 26,
   "metadata": {
    "tags": [
     "otter_assign_solution_cell"
    ]
   },
   "outputs": [],
   "source": [
    "### Write your code below (in place of ...)\n",
    "vigorous_morethan10mins_total = (vigorous_updated > 10).sum() # SOLUTION"
   ]
  },
  {
   "cell_type": "code",
   "execution_count": 27,
   "metadata": {
    "deletable": false,
    "editable": false
   },
   "outputs": [
    {
     "data": {
      "text/html": [
       "<p><strong><pre style='display: inline;'>q3c</pre></strong> passed! 🚀</p>"
      ],
      "text/plain": [
       "q3c results: All test cases passed!"
      ]
     },
     "execution_count": 27,
     "metadata": {},
     "output_type": "execute_result"
    }
   ],
   "source": [
    "grader.check(\"q3c\")"
   ]
  },
  {
   "cell_type": "markdown",
   "metadata": {
    "deletable": false,
    "editable": false
   },
   "source": [
    "**d.** Lastly, in the last two years, count the number of days on which this individual performed vigorous physical activity for longer amount of time than light activity. \n",
    "\n",
    "The final answer should be stored in a variable named `light_morethanvigorous_total`.\n",
    "\n",
    "**Hint:** You can compare two same sized numpy arrays `array1` and `array2` by simply executing the following code: `array1 > array2` or `array1 < array2`.\n",
    "\n",
    "*Note:* Use the updated arrays!"
   ]
  },
  {
   "cell_type": "code",
   "execution_count": 28,
   "metadata": {
    "tags": [
     "otter_assign_solution_cell"
    ]
   },
   "outputs": [],
   "source": [
    "### Write your code below (in place of ...)\n",
    "light_morethanvigorous_total = (vigorous_updated > light_updated).sum() # SOLUTION"
   ]
  },
  {
   "cell_type": "code",
   "execution_count": 29,
   "metadata": {
    "deletable": false,
    "editable": false
   },
   "outputs": [
    {
     "data": {
      "text/html": [
       "<p><strong><pre style='display: inline;'>q3d</pre></strong> passed! 🚀</p>"
      ],
      "text/plain": [
       "q3d results: All test cases passed!"
      ]
     },
     "execution_count": 29,
     "metadata": {},
     "output_type": "execute_result"
    }
   ],
   "source": [
    "grader.check(\"q3d\")"
   ]
  },
  {
   "cell_type": "markdown",
   "metadata": {
    "deletable": false,
    "editable": false
   },
   "source": [
    "## Submission\n",
    "\n",
    "Make sure you have run all cells in your notebook in order before running the cell below, so that all images/graphs appear in the output. The cell below will generate a zip file for you to submit. **Please save before exporting!**\n",
    "\n",
    "Assignment #3 for COMM187: Data Science in Communication Research. Once finished answering questions, first **SAVE** then download this .ipynb file. Submit the file as instructed on Canvas and Gradescope. **ONLY** submit the .ipynb file, not the zip file."
   ]
  },
  {
   "cell_type": "code",
   "execution_count": 30,
   "metadata": {
    "deletable": false,
    "editable": false
   },
   "outputs": [
    {
     "name": "stdout",
     "output_type": "stream",
     "text": [
      "Running your submission against local test cases...\n",
      "\n",
      "\n",
      "Your submission received the following results when run against available test cases:\n",
      "\n",
      "    q1a results: All test cases passed!\n",
      "\n",
      "    q1b results: All test cases passed!\n",
      "\n",
      "    q1c results: All test cases passed!\n",
      "\n",
      "    q2a results: All test cases passed!\n",
      "\n",
      "    q2b results: All test cases passed!\n",
      "\n",
      "    q2c results: All test cases passed!\n",
      "\n",
      "    q3a results: All test cases passed!\n",
      "\n",
      "    q3b results: All test cases passed!\n",
      "\n",
      "    q3c results: All test cases passed!\n",
      "\n",
      "    q3d results: All test cases passed!\n"
     ]
    },
    {
     "data": {
      "text/html": [
       "\n",
       "                    <p>\n",
       "                        Your submission has been exported. Click\n",
       "                        <a href=\"Assignment3_COMM187Spring2024_2024_04_19T00_06_57_030127.zip\" download=\"Assignment3_COMM187Spring2024_2024_04_19T00_06_57_030127.zip\" target=\"_blank\">here</a> to download\n",
       "                        the zip file.\n",
       "                    </p>\n",
       "                "
      ],
      "text/plain": [
       "<IPython.core.display.HTML object>"
      ]
     },
     "metadata": {},
     "output_type": "display_data"
    }
   ],
   "source": [
    "# Save your notebook first, then run this cell to export your submission.\n",
    "grader.export(pdf=False, run_tests=True)"
   ]
  },
  {
   "cell_type": "markdown",
   "metadata": {},
   "source": [
    " "
   ]
  }
 ],
 "metadata": {
  "kernelspec": {
   "display_name": "Python 3 (ipykernel)",
   "language": "python",
   "name": "python3"
  },
  "language_info": {
   "codemirror_mode": {
    "name": "ipython",
    "version": 3
   },
   "file_extension": ".py",
   "mimetype": "text/x-python",
   "name": "python",
   "nbconvert_exporter": "python",
   "pygments_lexer": "ipython3",
   "version": "3.11.5"
  },
  "otter": {
   "OK_FORMAT": true,
   "tests": {
    "q1a": {
     "name": "q1a",
     "points": 3,
     "suites": [
      {
       "cases": [
        {
         "code": ">>> light_length == 730\nTrue",
         "hidden": false,
         "locked": false
        },
        {
         "code": ">>> moderate_length == 730\nTrue",
         "hidden": false,
         "locked": false
        },
        {
         "code": ">>> vigorous_length == 730\nTrue",
         "hidden": false,
         "locked": false
        }
       ],
       "scored": true,
       "setup": "",
       "teardown": "",
       "type": "doctest"
      }
     ]
    },
    "q1b": {
     "name": "q1b",
     "points": 3,
     "suites": [
      {
       "cases": [
        {
         "code": ">>> light_total == light.sum()\nTrue",
         "hidden": false,
         "locked": false
        },
        {
         "code": ">>> moderate_total == moderate.sum()\nTrue",
         "hidden": false,
         "locked": false
        },
        {
         "code": ">>> vigorous_total == vigorous.sum()\nTrue",
         "hidden": false,
         "locked": false
        }
       ],
       "scored": true,
       "setup": "",
       "teardown": "",
       "type": "doctest"
      }
     ]
    },
    "q1c": {
     "name": "q1c",
     "points": 3,
     "suites": [
      {
       "cases": [
        {
         "code": ">>> light_avg == light.mean()\nTrue",
         "hidden": false,
         "locked": false
        },
        {
         "code": ">>> light_avg - light.mean() < 0.01\nTrue",
         "hidden": false,
         "locked": false
        },
        {
         "code": ">>> moderate_avg == moderate.mean()\nTrue",
         "hidden": false,
         "locked": false
        },
        {
         "code": ">>> moderate_avg - moderate.mean() < 0.01\nTrue",
         "hidden": false,
         "locked": false
        },
        {
         "code": ">>> vigorous_avg == vigorous.mean()\nTrue",
         "hidden": false,
         "locked": false
        },
        {
         "code": ">>> vigorous_avg - vigorous.mean() < 0.01\nTrue",
         "hidden": false,
         "locked": false
        }
       ],
       "scored": true,
       "setup": "",
       "teardown": "",
       "type": "doctest"
      }
     ]
    },
    "q2a": {
     "name": "q2a",
     "points": 1,
     "suites": [
      {
       "cases": [
        {
         "code": ">>> numpy.array_equal(corrections, numpy.zeros(light.size))\nTrue",
         "hidden": false,
         "locked": false
        }
       ],
       "scored": true,
       "setup": "",
       "teardown": "",
       "type": "doctest"
      }
     ]
    },
    "q2b": {
     "name": "q2b",
     "points": 2,
     "suites": [
      {
       "cases": [
        {
         "code": ">>> corrections[45] == 4\nTrue",
         "hidden": false,
         "locked": false
        },
        {
         "code": ">>> corrections[104] == 4\nTrue",
         "hidden": false,
         "locked": false
        },
        {
         "code": ">>> corrections[340] == 4\nTrue",
         "hidden": false,
         "locked": false
        },
        {
         "code": ">>> corrections[619] == 4\nTrue",
         "hidden": false,
         "locked": false
        },
        {
         "code": ">>> temp_array = numpy.zeros(light.size)\n>>> temp_array[45] = 4\n>>> temp_array[104] = 4\n>>> temp_array[340] = 4\n>>> temp_array[619] = 4\n>>> numpy.array_equal(corrections, temp_array)\nTrue",
         "hidden": false,
         "locked": false
        }
       ],
       "scored": true,
       "setup": "",
       "teardown": "",
       "type": "doctest"
      }
     ]
    },
    "q2c": {
     "name": "q2c",
     "points": 3,
     "suites": [
      {
       "cases": [
        {
         "code": ">>> temp_array = numpy.zeros(light.size)\n>>> temp_array[45] = 4\n>>> temp_array[104] = 4\n>>> temp_array[340] = 4\n>>> temp_array[619] = 4\n>>> numpy.array_equal(light_updated, light + temp_array)\nTrue",
         "hidden": false,
         "locked": false
        },
        {
         "code": ">>> temp_array = numpy.zeros(light.size)\n>>> temp_array[45] = 4\n>>> temp_array[104] = 4\n>>> temp_array[340] = 4\n>>> temp_array[619] = 4\n>>> numpy.array_equal(moderate_updated, moderate + temp_array)\nTrue",
         "hidden": false,
         "locked": false
        },
        {
         "code": ">>> temp_array = numpy.zeros(light.size)\n>>> temp_array[45] = 4\n>>> temp_array[104] = 4\n>>> temp_array[340] = 4\n>>> temp_array[619] = 4\n>>> numpy.array_equal(vigorous_updated, vigorous + temp_array)\nTrue",
         "hidden": false,
         "locked": false
        }
       ],
       "scored": true,
       "setup": "",
       "teardown": "",
       "type": "doctest"
      }
     ]
    },
    "q3a": {
     "name": "q3a",
     "points": 3,
     "suites": [
      {
       "cases": [
        {
         "code": ">>> numpy.array_equal(light_greaterthananhour, light_updated > 60)\nTrue",
         "hidden": false,
         "locked": false
        },
        {
         "code": ">>> light_greaterthananhour_total == (light_updated > 60).sum()\nTrue",
         "hidden": false,
         "locked": false
        }
       ],
       "scored": true,
       "setup": "",
       "teardown": "",
       "type": "doctest"
      }
     ]
    },
    "q3b": {
     "name": "q3b",
     "points": 3,
     "suites": [
      {
       "cases": [
        {
         "code": ">>> moderate_morethanhalfhour_total == (moderate_updated > 30).sum()\nTrue",
         "hidden": false,
         "locked": false
        }
       ],
       "scored": true,
       "setup": "",
       "teardown": "",
       "type": "doctest"
      }
     ]
    },
    "q3c": {
     "name": "q3c",
     "points": 3,
     "suites": [
      {
       "cases": [
        {
         "code": ">>> vigorous_morethan10mins_total == (vigorous_updated > 10).sum()\nTrue",
         "hidden": false,
         "locked": false
        }
       ],
       "scored": true,
       "setup": "",
       "teardown": "",
       "type": "doctest"
      }
     ]
    },
    "q3d": {
     "name": "q3d",
     "points": 3,
     "suites": [
      {
       "cases": [
        {
         "code": ">>> light_morethanvigorous_total == (vigorous_updated > light_updated).sum()\nTrue",
         "hidden": false,
         "locked": false
        }
       ],
       "scored": true,
       "setup": "",
       "teardown": "",
       "type": "doctest"
      }
     ]
    }
   }
  },
  "varInspector": {
   "cols": {
    "lenName": 16,
    "lenType": 16,
    "lenVar": 40
   },
   "kernels_config": {
    "python": {
     "delete_cmd_postfix": "",
     "delete_cmd_prefix": "del ",
     "library": "var_list.py",
     "varRefreshCmd": "print(var_dic_list())"
    },
    "r": {
     "delete_cmd_postfix": ") ",
     "delete_cmd_prefix": "rm(",
     "library": "var_list.r",
     "varRefreshCmd": "cat(var_dic_list()) "
    }
   },
   "types_to_exclude": [
    "module",
    "function",
    "builtin_function_or_method",
    "instance",
    "_Feature"
   ],
   "window_display": false
  }
 },
 "nbformat": 4,
 "nbformat_minor": 4
}
