{
 "cells": [
  {
   "cell_type": "code",
   "execution_count": null,
   "metadata": {
    "deletable": false,
    "editable": false
   },
   "outputs": [],
   "source": [
    "# Initialize Otter\n",
    "import otter\n",
    "grader = otter.Notebook(\"Assignment1_COMM187Spring2024.ipynb\")"
   ]
  },
  {
   "cell_type": "markdown",
   "metadata": {},
   "source": [
    "# Assignment #1\n",
    "## COMM187: Data Science in Communication Research, Spring 2024"
   ]
  },
  {
   "cell_type": "markdown",
   "metadata": {
    "deletable": false,
    "editable": false
   },
   "source": [
    "**Question 1:** A communication researcher is analyzing the average time spent by individuals on different social media platforms. They collected data on the time spent (in minutes) on six platforms: *Facebook*, *Instagram*, *Twitter/X*, *Tiktok*, *Snapchat*, and *YouTube*. The times spent on these platforms by a particular individual are stored in variables `facebook_time`, `instagram_time`, `twitterx_time`, `tiktok_time`, `snapchat_time`, and `youtube_time`, as shown below. \n",
    "\n",
    "Write a Python code that calculates the *average time spent on these platforms* by this individual, and assign it to a new variable `average_time`. Use the variables provided and make sure to include the correct number of platforms in your calculation."
   ]
  },
  {
   "cell_type": "code",
   "execution_count": null,
   "metadata": {
    "tags": [
     "otter_assign_solution_cell"
    ]
   },
   "outputs": [],
   "source": [
    "### Write your code below (in place of ...)\n",
    "facebook_time = 40\n",
    "instagram_time = 115\n",
    "twitterx_time = 15\n",
    "tiktok_time = 100\n",
    "snapchat_time = 20\n",
    "youtube_time = 35\n",
    "# BEGIN SOLUTION\n",
    "average_time = (facebook_time + instagram_time + twitterx_time + tiktok_time + snapchat_time + youtube_time)/6\n",
    "# END SOLUTION"
   ]
  },
  {
   "cell_type": "code",
   "execution_count": null,
   "metadata": {
    "deletable": false,
    "editable": false
   },
   "outputs": [],
   "source": [
    "grader.check(\"q1\")"
   ]
  },
  {
   "cell_type": "markdown",
   "metadata": {
    "deletable": false,
    "editable": false
   },
   "source": [
    "**Question 2:** A social media influencer wants to calculate the percentage increase in their followers on Instagram over the last month. They had `initial_followers` at the beginning of the month and `final_followers` at the end of the month. Write a Python code that calculates the percentage increase in their followers using these variables, and assigns this value to a new variable `percentage_increase`. \n",
    "\n",
    "***Tip:*** Subtract the initial number of followers from the final number before dividing by the initial number of followers, and then multiply by 100 to get the percentage."
   ]
  },
  {
   "cell_type": "code",
   "execution_count": null,
   "metadata": {
    "tags": [
     "otter_assign_solution_cell"
    ]
   },
   "outputs": [],
   "source": [
    "### Write your code below (in place of ...)\n",
    "initial_followers = 39024 \n",
    "final_followers = 46784\n",
    "# BEGIN SOLUTION\n",
    "percentage_increase = ((final_followers - initial_followers)/initial_followers)*100\n",
    "# END SOLUTION"
   ]
  },
  {
   "cell_type": "code",
   "execution_count": null,
   "metadata": {
    "deletable": false,
    "editable": false
   },
   "outputs": [],
   "source": [
    "grader.check(\"q2\")"
   ]
  },
  {
   "cell_type": "markdown",
   "metadata": {
    "deletable": false,
    "editable": false
   },
   "source": [
    "**Question 3:** \n",
    "\n",
    "**a)** A digital marketing researcher is studying the effectiveness of a social media ad campaign for a product. They want to calculate the \"purchase rate\", which is the percentage of people who made an online purchase after clicking on an ad. If `total_clicks` people clicked on the ad and `total_purchases` people made an online purchase, write a Python expression that calculates the purchase rate using these variables, and assigns this value to a new variable `purchase_rate`. \n",
    "\n",
    "***Tip:*** Divide the number of purchases by the number of clicks and then multiply by 100 to get the percentage."
   ]
  },
  {
   "cell_type": "code",
   "execution_count": null,
   "metadata": {
    "tags": [
     "otter_assign_solution_cell"
    ]
   },
   "outputs": [],
   "source": [
    "### Write your code below (in place of ...)\n",
    "total_clicks = 1239099\n",
    "total_purchases = 5912\n",
    "# BEGIN SOLUTION\n",
    "purchase_rate = (total_purchases/total_clicks)*100\n",
    "# END SOLUTION"
   ]
  },
  {
   "cell_type": "code",
   "execution_count": null,
   "metadata": {
    "deletable": false,
    "editable": false
   },
   "outputs": [],
   "source": [
    "grader.check(\"q3_1\")"
   ]
  },
  {
   "cell_type": "markdown",
   "metadata": {
    "deletable": false,
    "editable": false
   },
   "source": [
    "**b)** The digital marketing researcher now also wants to predict future purchases through this digital ad campaign. They first decide to predict the number of clicks in the future. According to their analysis, the number of clicks grow by 1.2 times every week.\n",
    "\n",
    "If this pace of growth keeps up, what will be the total number of clicks by the end of the next 4 weeks? Calculate the number of clicks in the next 4 weeks, and assign it to a new variable `total_clicks_future`.\n",
    "\n",
    "***Tip:*** In one week, the number of clicks will go from `total_clicks` to `total_clicks * 1.2`. Similarly, in two week, the number of clicks will go up to `total_clicks * 1.2 * 1.2`. Think about which operation you can use to calculate the total number of clicks in 4 weeks. \\\n",
    "***Another tip:*** Number of clicks can be counted as positive integers. They cannot be negative. They cannot have decimal points. If you get a number with decimal points, round them to the nearest integer."
   ]
  },
  {
   "cell_type": "code",
   "execution_count": null,
   "metadata": {
    "tags": [
     "otter_assign_solution_cell"
    ]
   },
   "outputs": [],
   "source": [
    "### Write your code below (in place of ...)\n",
    "# BEGIN SOLUTION\n",
    "total_clicks_future = round(total_clicks*(1.2**4))\n",
    "# END SOLUTION"
   ]
  },
  {
   "cell_type": "code",
   "execution_count": null,
   "metadata": {
    "deletable": false,
    "editable": false
   },
   "outputs": [],
   "source": [
    "grader.check(\"q3_2\")"
   ]
  },
  {
   "cell_type": "markdown",
   "metadata": {
    "deletable": false,
    "editable": false
   },
   "source": [
    "**c)** Now that the digital marketing researcher has calculated the predicted number of clicks in the next 4 weeks in `total_clicks_future`, they would like to predict the total number of purchases by the end of the next 4 weeks. \n",
    "\n",
    "Calculate the total number of predicted purchases by the end of 4 weeks, which is `total_clicks_future` times the `purchase_rate` calculate above, divided by 100, and assign this value to a new variable `predicted_purchases`.\n",
    "\n",
    "***Tip:*** Just like number of clicks, number of purchases are positive integers too. They cannot be negative. They cannot have decimal points. If you get a number with decimal points, round them to the nearest integer."
   ]
  },
  {
   "cell_type": "code",
   "execution_count": null,
   "metadata": {
    "tags": [
     "otter_assign_solution_cell"
    ]
   },
   "outputs": [],
   "source": [
    "### Write your code below (in place of ...)\n",
    "# BEGIN SOLUTION\n",
    "predicted_purchases = round((total_clicks_future*purchase_rate)/100)\n",
    "# END SOLUTION"
   ]
  },
  {
   "cell_type": "code",
   "execution_count": null,
   "metadata": {
    "deletable": false,
    "editable": false
   },
   "outputs": [],
   "source": [
    "grader.check(\"q3_3\")"
   ]
  },
  {
   "cell_type": "markdown",
   "metadata": {
    "deletable": false,
    "editable": false
   },
   "source": [
    "**d)** Finally, the digital marketing researcher would like to calculate the predicted increase in the number of purchases in 4 weeks.\n",
    "\n",
    "Calculate the predicted increase in purchases in 4 weeks by calculating the difference between `predicted_purchases` and `total_purchases`, and assigning it to a new variable `predicted_purchase_increase`."
   ]
  },
  {
   "cell_type": "code",
   "execution_count": null,
   "metadata": {
    "tags": [
     "otter_assign_solution_cell"
    ]
   },
   "outputs": [],
   "source": [
    "### Write your code below (in place of ...)\n",
    "# BEGIN SOLUTION\n",
    "predicted_purchase_increase = predicted_purchases - total_purchases\n",
    "# END SOLUTION"
   ]
  },
  {
   "cell_type": "code",
   "execution_count": null,
   "metadata": {
    "deletable": false,
    "editable": false
   },
   "outputs": [],
   "source": [
    "grader.check(\"q3_4\")"
   ]
  },
  {
   "cell_type": "markdown",
   "metadata": {
    "deletable": false,
    "editable": false
   },
   "source": [
    "## Submission\n",
    "\n",
    "Make sure you have run all cells in your notebook in order before running the cell below, so that all images/graphs appear in the output. The cell below will generate a zip file for you to submit. **Please save before exporting!**\n",
    "\n",
    "This is a demo assignment for COMM187: Data Science in Communication Research. Once finished answering questions, first **SAVE** then download this .ipynb file. Submit the file as instructed on Canvas and Gradescope."
   ]
  },
  {
   "cell_type": "code",
   "execution_count": null,
   "metadata": {
    "deletable": false,
    "editable": false
   },
   "outputs": [],
   "source": [
    "# Save your notebook first, then run this cell to export your submission.\n",
    "grader.export(pdf=False, run_tests=True)"
   ]
  },
  {
   "cell_type": "markdown",
   "metadata": {},
   "source": [
    " "
   ]
  }
 ],
 "metadata": {
  "kernelspec": {
   "display_name": "Python 3 (ipykernel)",
   "language": "python",
   "name": "python3"
  },
  "language_info": {
   "codemirror_mode": {
    "name": "ipython",
    "version": 3
   },
   "file_extension": ".py",
   "mimetype": "text/x-python",
   "name": "python",
   "nbconvert_exporter": "python",
   "pygments_lexer": "ipython3",
   "version": "3.11.5"
  },
  "otter": {
   "OK_FORMAT": true,
   "tests": {
    "q1": {
     "name": "q1",
     "points": 1,
     "suites": [
      {
       "cases": [
        {
         "code": ">>> average_time == (40 + 115 + 15 + 100 + 20 + 35) / 6\nTrue",
         "hidden": false,
         "locked": false
        }
       ],
       "scored": true,
       "setup": "",
       "teardown": "",
       "type": "doctest"
      }
     ]
    },
    "q2": {
     "name": "q2",
     "points": 2,
     "suites": [
      {
       "cases": [
        {
         "code": ">>> percentage_increase == (46784 - 39024) / 39024 * 100\nTrue",
         "hidden": false,
         "locked": false
        }
       ],
       "scored": true,
       "setup": "",
       "teardown": "",
       "type": "doctest"
      }
     ]
    },
    "q3_1": {
     "name": "q3_1",
     "points": 2,
     "suites": [
      {
       "cases": [
        {
         "code": ">>> purchase_rate == 5912 / 1239099 * 100\nTrue",
         "hidden": false,
         "locked": false
        }
       ],
       "scored": true,
       "setup": "",
       "teardown": "",
       "type": "doctest"
      }
     ]
    },
    "q3_2": {
     "name": "q3_2",
     "points": 2,
     "suites": [
      {
       "cases": [
        {
         "code": ">>> total_clicks_future == 2569396\nTrue",
         "hidden": false,
         "locked": false
        },
        {
         "code": ">>> total_clicks_future == 1239099 * 1.2 ** 4 if total_clicks_future != 2569396 else True\nTrue",
         "hidden": true,
         "locked": false
        }
       ],
       "scored": true,
       "setup": "",
       "teardown": "",
       "type": "doctest"
      }
     ]
    },
    "q3_3": {
     "name": "q3_3",
     "points": 2,
     "suites": [
      {
       "cases": [
        {
         "code": ">>> predicted_purchases == 12259\nTrue",
         "hidden": false,
         "locked": false
        },
        {
         "code": ">>> predicted_purchases == 2569396 * (5912 / 1239099 * 100) / 100 if predicted_purchases != 12259 else True\nTrue",
         "hidden": true,
         "locked": false
        }
       ],
       "scored": true,
       "setup": "",
       "teardown": "",
       "type": "doctest"
      }
     ]
    },
    "q3_4": {
     "name": "q3_4",
     "points": 1,
     "suites": [
      {
       "cases": [
        {
         "code": ">>> predicted_purchase_increase == 6347\nTrue",
         "hidden": false,
         "locked": false
        },
        {
         "code": ">>> predicted_purchases == 2569396 * (5912 / 1239099 * 100) / 100 if predicted_purchases != 12259 else True\nTrue",
         "hidden": true,
         "locked": false
        }
       ],
       "scored": true,
       "setup": "",
       "teardown": "",
       "type": "doctest"
      }
     ]
    }
   }
  },
  "varInspector": {
   "cols": {
    "lenName": 16,
    "lenType": 16,
    "lenVar": 40
   },
   "kernels_config": {
    "python": {
     "delete_cmd_postfix": "",
     "delete_cmd_prefix": "del ",
     "library": "var_list.py",
     "varRefreshCmd": "print(var_dic_list())"
    },
    "r": {
     "delete_cmd_postfix": ") ",
     "delete_cmd_prefix": "rm(",
     "library": "var_list.r",
     "varRefreshCmd": "cat(var_dic_list()) "
    }
   },
   "types_to_exclude": [
    "module",
    "function",
    "builtin_function_or_method",
    "instance",
    "_Feature"
   ],
   "window_display": false
  }
 },
 "nbformat": 4,
 "nbformat_minor": 4
}
