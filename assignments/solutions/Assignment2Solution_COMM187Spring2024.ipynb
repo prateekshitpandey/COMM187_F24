{
 "cells": [
  {
   "cell_type": "code",
   "execution_count": null,
   "metadata": {
    "deletable": false,
    "editable": false
   },
   "outputs": [],
   "source": [
    "# Initialize Otter\n",
    "import otter\n",
    "grader = otter.Notebook(\"Assignment2Solution_COMM187Spring2024.ipynb\")"
   ]
  },
  {
   "cell_type": "markdown",
   "metadata": {},
   "source": [
    "# Coding Assignment #2\n",
    "## COMM187: Data Science in Communication Research, Spring 2024"
   ]
  },
  {
   "cell_type": "markdown",
   "metadata": {},
   "source": [
    "**!!! Please make sure to run the first cell before running auto-grader !!!**"
   ]
  },
  {
   "cell_type": "markdown",
   "metadata": {
    "deletable": false,
    "editable": false
   },
   "source": [
    "**Question 1:** Let us practice some boolean operators. \n",
    "\n",
    "We have two boolean variables below, `bool_01` and `bool_02`. \n",
    "\n",
    "Perform the following operations and store the output in the new variables as instructed. Refer to this week's lab for help.\n",
    "\n",
    "| Variable Name | Operation |\n",
    "| :------------ | :-------- |\n",
    "| `bool_and`    | \"and\" operation |\n",
    "| `bool_or`    | \"or\" operation |\n",
    "| `bool_xor`    | \"exclusive or\" operation |"
   ]
  },
  {
   "cell_type": "code",
   "execution_count": 15,
   "metadata": {
    "tags": [
     "otter_assign_solution_cell"
    ]
   },
   "outputs": [],
   "source": [
    "### Write your code below (in place of ...)\n",
    "bool_01 = True\n",
    "bool_02 = False\n",
    "\n",
    "bool_and = bool_01 & bool_02 # SOLUTION\n",
    "bool_or = bool_01 | bool_02 # SOLUTION\n",
    "bool_xor = bool_01 ^ bool_02 # SOLUTION"
   ]
  },
  {
   "cell_type": "code",
   "execution_count": null,
   "metadata": {
    "deletable": false,
    "editable": false
   },
   "outputs": [],
   "source": [
    "grader.check(\"q1\")"
   ]
  },
  {
   "cell_type": "markdown",
   "metadata": {
    "deletable": false,
    "editable": false
   },
   "source": [
    "**Question 2:** You have just downloaded data from Twitter/X on three individuals, let's call them individual 1 , individual 2, and individual 3. For each of them, you have the number of tweets/posts they have made since Jan 1, 2024. These are stored in the variables `tweets_indv_01` for individual 1, `tweets_indv_02` for individual 2, and `tweets_indv_03` for individual 3. \n",
    "\n",
    "Your task: test whether each of them made more than 500 tweets. \n",
    "\n",
    "Make three new boolean variables, `ismorethan500_indv_01`  for individual 1, `ismorethan500_indv_02` for individual 2, and `ismorethan500_indv_03` for individual 3. For each of these variables, their value should be True if the number of tweet for that individual is greater than 500. If not, their value should be False.\n",
    "\n",
    "Hint: Pay attention to the data type of `tweets_indv_01`, `tweets_indv_02`, and `tweets_indv_03`. Do they need to be typecast into another data type first?"
   ]
  },
  {
   "cell_type": "code",
   "execution_count": 20,
   "metadata": {
    "tags": [
     "otter_assign_solution_cell"
    ]
   },
   "outputs": [],
   "source": [
    "### Write your code below (in place of ...)\n",
    "tweets_indv_01 = \"234\"\n",
    "tweets_indv_02 = \"500\"\n",
    "tweets_indv_03 = \"502\"\n",
    "\n",
    "ismorethan500_indv_01 = int(tweets_indv_01) > 500 # SOLUTION\n",
    "ismorethan500_indv_02 = int(tweets_indv_02) > 500 # SOLUTION\n",
    "ismorethan500_indv_03 = int(tweets_indv_03) > 500 # SOLUTION"
   ]
  },
  {
   "cell_type": "code",
   "execution_count": null,
   "metadata": {
    "deletable": false,
    "editable": false
   },
   "outputs": [],
   "source": [
    "grader.check(\"q2\")"
   ]
  },
  {
   "cell_type": "markdown",
   "metadata": {
    "deletable": false,
    "editable": false
   },
   "source": [
    "**Question 3:** \n",
    "\n",
    "**a.** A communication researcher is analyzing the time spent by one individual on *Instagram*. They collected data on the time spent (in minutes) on Instagram for 7 consecutive days. The times spent on each day platforms by this individual are stored in variables `ig_day_01`, `ig_day_02`, `ig_day_03`, `ig_day_04`, `ig_day_05`, `ig_day_06`, and `ig_day_07`, as shown below. \n",
    "\n",
    "Write a Python code that makes a **list** with the times spent on Instagram in sequence from day 1 to day 7. The list should be stored in a new variable `ig_list`."
   ]
  },
  {
   "cell_type": "code",
   "execution_count": 33,
   "metadata": {
    "tags": [
     "otter_assign_solution_cell"
    ]
   },
   "outputs": [],
   "source": [
    "### Write your code below (in place of ...)\n",
    "ig_day_01 = 120\n",
    "ig_day_02 = 110\n",
    "ig_day_03 = 15\n",
    "ig_day_04 = 130\n",
    "ig_day_05 = 135\n",
    "ig_day_06 = 100\n",
    "ig_day_07 = 120\n",
    "# BEGIN SOLUTION\n",
    "ig_list = [ig_day_01, ig_day_02, ig_day_03, ig_day_04, ig_day_05, ig_day_06, ig_day_07]\n",
    "# END SOLUTION"
   ]
  },
  {
   "cell_type": "code",
   "execution_count": null,
   "metadata": {
    "deletable": false,
    "editable": false
   },
   "outputs": [],
   "source": [
    "grader.check(\"q3a\")"
   ]
  },
  {
   "cell_type": "markdown",
   "metadata": {
    "deletable": false,
    "editable": false
   },
   "source": [
    "**b.** Immediately following the 7 consecutive days, the communication researcher continues to observe the time spent by the same individual on Instagram for three more consecutive days. On day 8, this individual spends 90 minutes on Instagram, on day 9 this individual spends 200 minutes on Instagram, and on day 10, they spend 145 minutes.\n",
    "\n",
    "Make a new list which just has these three data points in sequence, i.e., time spent on day 8 comes first, then day 9, then day 10. \n",
    "\n",
    "Store your output in a new list called `ig_list_later`."
   ]
  },
  {
   "cell_type": "code",
   "execution_count": 36,
   "metadata": {
    "tags": [
     "otter_assign_solution_cell"
    ]
   },
   "outputs": [],
   "source": [
    "### Write your code below (in place of ...)\n",
    "ig_list_later = [90, 200, 145] # SOLUTION"
   ]
  },
  {
   "cell_type": "code",
   "execution_count": null,
   "metadata": {
    "deletable": false,
    "editable": false
   },
   "outputs": [],
   "source": [
    "grader.check(\"q3b\")"
   ]
  },
  {
   "cell_type": "markdown",
   "metadata": {
    "deletable": false,
    "editable": false
   },
   "source": [
    "**c.** Make an updated list which combines the two lists you have just made, `ig_list` and `ig_list_later`, such that it contains the time spent by this individual on Instagram in sequence from day 1 to day 10.\n",
    "\n",
    "Store your output in a new list called `ig_list_updated`.\n",
    "\n",
    "**Tip:** You can add to lists to join them."
   ]
  },
  {
   "cell_type": "code",
   "execution_count": 39,
   "metadata": {
    "tags": [
     "otter_assign_solution_cell"
    ]
   },
   "outputs": [],
   "source": [
    "### Write your code below (in place of ...)\n",
    "ig_list_updated = ig_list + ig_list_later # SOLUTION"
   ]
  },
  {
   "cell_type": "code",
   "execution_count": null,
   "metadata": {
    "deletable": false,
    "editable": false
   },
   "outputs": [],
   "source": [
    "grader.check(\"q3c\")"
   ]
  },
  {
   "cell_type": "markdown",
   "metadata": {
    "deletable": false,
    "editable": false
   },
   "source": [
    "**d.** Now, this communication researcher wants to know on which of the 10 days this individual spent exactly 2 hours on Instagram. \n",
    "\n",
    "Make a new list, `ig_twohours`, which has 10 boolean values in sequence for each day, True if individual spent exactly 2 hours on that day, and False if not.\n",
    "\n",
    "For example, if the individual spent exactly 2 hours on days 3 and 4 only, the list would look like:\n",
    "`[False, False, True, True, False, False, False, False, False, False]`\n",
    "\n",
    "**Tip:** The measurements being collected by this communication researcher are in minutes, not hours. \\\n",
    "**Another tip:** If you convert `ig_list_updated` to a numpy array, you can use \"equals to\" operator with the entire array in one go! \n",
    "\n",
    "**Important:** Regardless of whether you use numpy array or lists, the final output should be a **list**. If you are using numpy arrays, make sure you convert the numpy array to a list (you can typecast using `list()`). "
   ]
  },
  {
   "cell_type": "code",
   "execution_count": 55,
   "metadata": {
    "tags": [
     "otter_assign_solution_cell"
    ]
   },
   "outputs": [],
   "source": [
    "### Write your code below (in place of ...)\n",
    "# BEGIN SOLUTION\n",
    "import numpy\n",
    "ig_twohours = list(numpy.array(ig_list_updated) == 120)\n",
    "# END SOLUTION"
   ]
  },
  {
   "cell_type": "code",
   "execution_count": null,
   "metadata": {
    "deletable": false,
    "editable": false
   },
   "outputs": [],
   "source": [
    "grader.check(\"q3d\")"
   ]
  },
  {
   "cell_type": "markdown",
   "metadata": {
    "deletable": false,
    "editable": false
   },
   "source": [
    "## Submission\n",
    "\n",
    "Make sure you have run all cells in your notebook in order before running the cell below, so that all images/graphs appear in the output. The cell below will generate a zip file for you to submit. **Please save before exporting!**\n",
    "\n",
    "Assignment #2 for COMM187: Data Science in Communication Research. Once finished answering questions, first **SAVE** then download this .ipynb file. Submit the file as instructed on Canvas and Gradescope. **ONLY** submit the .ipynb file, not the pdf."
   ]
  },
  {
   "cell_type": "code",
   "execution_count": null,
   "metadata": {
    "deletable": false,
    "editable": false
   },
   "outputs": [],
   "source": [
    "# Save your notebook first, then run this cell to export your submission.\n",
    "grader.export(pdf=False, run_tests=True)"
   ]
  },
  {
   "cell_type": "markdown",
   "metadata": {},
   "source": [
    " "
   ]
  }
 ],
 "metadata": {
  "kernelspec": {
   "display_name": "Python 3 (ipykernel)",
   "language": "python",
   "name": "python3"
  },
  "language_info": {
   "codemirror_mode": {
    "name": "ipython",
    "version": 3
   },
   "file_extension": ".py",
   "mimetype": "text/x-python",
   "name": "python",
   "nbconvert_exporter": "python",
   "pygments_lexer": "ipython3",
   "version": "3.11.5"
  },
  "otter": {
   "OK_FORMAT": true,
   "tests": {
    "q1": {
     "name": "q1",
     "points": 1,
     "suites": [
      {
       "cases": [
        {
         "code": ">>> bool_and == False\nTrue",
         "hidden": false,
         "locked": false
        },
        {
         "code": ">>> bool_or == True\nTrue",
         "hidden": false,
         "locked": false
        },
        {
         "code": ">>> bool_xor == True\nTrue",
         "hidden": false,
         "locked": false
        }
       ],
       "scored": true,
       "setup": "",
       "teardown": "",
       "type": "doctest"
      }
     ]
    },
    "q2": {
     "name": "q2",
     "points": 3,
     "suites": [
      {
       "cases": [
        {
         "code": ">>> ismorethan500_indv_01 == False\nTrue",
         "hidden": false,
         "locked": false
        },
        {
         "code": ">>> ismorethan500_indv_02 == False\nTrue",
         "hidden": false,
         "locked": false
        },
        {
         "code": ">>> ismorethan500_indv_01 == False\nTrue",
         "hidden": false,
         "locked": false
        }
       ],
       "scored": true,
       "setup": "",
       "teardown": "",
       "type": "doctest"
      }
     ]
    },
    "q3a": {
     "name": "q3a",
     "points": 4,
     "suites": [
      {
       "cases": [
        {
         "code": ">>> len(ig_list) == 7\nTrue",
         "hidden": false,
         "locked": false
        },
        {
         "code": ">>> ig_list == [120, 110, 15, 130, 135, 100, 120]\nTrue",
         "hidden": false,
         "locked": false
        }
       ],
       "scored": true,
       "setup": "",
       "teardown": "",
       "type": "doctest"
      }
     ]
    },
    "q3b": {
     "name": "q3b",
     "points": 4,
     "suites": [
      {
       "cases": [
        {
         "code": ">>> len(ig_list_later) == 3\nTrue",
         "hidden": false,
         "locked": false
        },
        {
         "code": ">>> ig_list_later == [90, 200, 145]\nTrue",
         "hidden": false,
         "locked": false
        }
       ],
       "scored": true,
       "setup": "",
       "teardown": "",
       "type": "doctest"
      }
     ]
    },
    "q3c": {
     "name": "q3c",
     "points": 2,
     "suites": [
      {
       "cases": [
        {
         "code": ">>> len(ig_list_updated) == 10\nTrue",
         "hidden": false,
         "locked": false
        },
        {
         "code": ">>> ig_list_updated == [120, 110, 15, 130, 135, 100, 120, 90, 200, 145]\nTrue",
         "hidden": false,
         "locked": false
        }
       ],
       "scored": true,
       "setup": "",
       "teardown": "",
       "type": "doctest"
      }
     ]
    },
    "q3d": {
     "name": "q3d",
     "points": 6,
     "suites": [
      {
       "cases": [
        {
         "code": ">>> len(ig_twohours) == 10\nTrue",
         "hidden": false,
         "locked": false
        },
        {
         "code": ">>> ig_twohours == [True, False, False, False, False, False, True, False, False, False]\nTrue",
         "hidden": false,
         "locked": false
        }
       ],
       "scored": true,
       "setup": "",
       "teardown": "",
       "type": "doctest"
      }
     ]
    }
   }
  },
  "varInspector": {
   "cols": {
    "lenName": 16,
    "lenType": 16,
    "lenVar": 40
   },
   "kernels_config": {
    "python": {
     "delete_cmd_postfix": "",
     "delete_cmd_prefix": "del ",
     "library": "var_list.py",
     "varRefreshCmd": "print(var_dic_list())"
    },
    "r": {
     "delete_cmd_postfix": ") ",
     "delete_cmd_prefix": "rm(",
     "library": "var_list.r",
     "varRefreshCmd": "cat(var_dic_list()) "
    }
   },
   "types_to_exclude": [
    "module",
    "function",
    "builtin_function_or_method",
    "instance",
    "_Feature"
   ],
   "window_display": false
  }
 },
 "nbformat": 4,
 "nbformat_minor": 4
}
