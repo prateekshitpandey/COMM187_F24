{
 "cells": [
  {
   "cell_type": "markdown",
   "metadata": {},
   "source": [
    "## COMM 187 (160DS): Data Science in Communication Research -- Spring 2024\n",
    "\n",
    "## Coding Lab #8: Introduction to Data Visualization with Python\n",
    "**Wednesday, May 22, 2024** \\\n",
    "*Hannah Overbye-Thompson*"
   ]
  },
  {
   "cell_type": "markdown",
   "metadata": {
    "jp-MarkdownHeadingCollapsed": true
   },
   "source": [
    "## Data Visualization Introduction\n",
    "One of the most important things we do with programming is visualizing data. \n",
    "Data visualization allows us to: \n",
    "- communicate what we have found with a larger audiance\n",
    "- inspect patterns and trends in our data \n",
    "- identify outliers in our data \n",
    "- compare variables \n",
    "\n",
    "In python we use the library  `matplotlib`. `matplotlib` in Python is a fundamental skill for anyone interested in data visualization.\n",
    "\n",
    "Matplotlib is an integral part of the scientific Python ecosystem, and it is used for visualization. It is an extension of NumPy. It provides a Matlab-like interface for plotting and visualization. It was originally developed by John D. Hunter as an open source alternative usable with Python (Pajankar, 2021). You can read more about mat plot lib here: https://matplotlib.org/\n",
    "\n",
    "You can think of creating a graphic in Python as being much like painting. You start with an empty canvas. Every time you use a graphics function, it adds new elements to your canvas (another apt anology might be transparencies that were used with projectors in the 90s). Later on, you can add more elements on top of your initial plot if you want.\n",
    "\n",
    "### Today's lesson plan: \n",
    "- Practice plotting with some sample data \n",
    "- Make your own plot of some real world password data"
   ]
  },
  {
   "cell_type": "markdown",
   "metadata": {},
   "source": [
    "## Let's Practice Visualizing Some Data! \n",
    "\n",
    "### Line Plot\n",
    "\n",
    "<b> Example: Coffee Consumption Over a Week </b>\n",
    "<b>Objective:</b> To plot the number of cups of coffee consumed each day over a week."
   ]
  },
  {
   "cell_type": "markdown",
   "metadata": {},
   "source": [
    "<b>Step 1:</b> import the `pyplot` module from `matplotlib` as `plt` and create some data"
   ]
  },
  {
   "cell_type": "code",
   "execution_count": null,
   "metadata": {},
   "outputs": [],
   "source": [
    "import numpy as np\n",
    "import pandas as pd\n",
    "import matplotlib.pyplot as plt"
   ]
  },
  {
   "cell_type": "code",
   "execution_count": null,
   "metadata": {},
   "outputs": [],
   "source": [
    "days = [\"Monday\", \"Tuesday\", \"Wednesday\", \"Thursday\", \"Friday\", \"Saturday\", \"Sunday\"]\n",
    "cups = [3, 4, 2, 3, 5, 6, 4]  # cups of coffee\n",
    "coffee_type = [\"Espresso\", \"Latte\", \"Americano\", \"Cappuccino\", \"Mocha\", \"Flat White\", \"Cold Brew\"]\n",
    "coffee_prices = [2.5, 3.5, 3.0, 4.0, 4.5, 4.0, 4.0]  # in dollars\n",
    "satisfaction_level = [4, 3, 5, 4, 5, 4, 3]  # satisfaction level out of 5"
   ]
  },
  {
   "cell_type": "code",
   "execution_count": null,
   "metadata": {},
   "outputs": [],
   "source": [
    "data = {\n",
    "    'Day': days,\n",
    "    'Cups': cups,\n",
    "    'Coffee Type': coffee_type,\n",
    "    'Price': coffee_prices,\n",
    "    'Satisfaction Level': satisfaction_level\n",
    "}\n",
    "\n",
    "df = pd.DataFrame(data)"
   ]
  },
  {
   "cell_type": "markdown",
   "metadata": {},
   "source": [
    "<b>Step 2:</b> Create a **Single Line Plot (or Line plot)**\n",
    "\n",
    "When there is only one visualization in a figure that uses the function plot(), then it is known as a single-line plot"
   ]
  },
  {
   "cell_type": "code",
   "execution_count": null,
   "metadata": {},
   "outputs": [],
   "source": [
    "plt.plot(df[\"Day\"], df[\"Cups\"])\n",
    "plt.show() # you need to run plt.show to actually see your plot"
   ]
  },
  {
   "cell_type": "markdown",
   "metadata": {},
   "source": [
    "<b>Step 3:</b> Customize your plot! \n",
    "`matplotlib` allows you to customize your plot to make it more readable. This is important as the purpose of a plot is to make is readable to others. "
   ]
  },
  {
   "cell_type": "code",
   "execution_count": null,
   "metadata": {},
   "outputs": [],
   "source": [
    "plt.plot(df[\"Day\"], df[\"Cups\"])\n",
    "plt.title(\"Coffee Consumption Over a Week\")\n",
    "plt.xlabel(\"Day of the Week\")\n",
    "plt.ylabel(\"Cups of Coffee\")\n",
    "plt.xticks(rotation=45) \n",
    "plt.show()"
   ]
  },
  {
   "cell_type": "markdown",
   "metadata": {},
   "source": [
    "A plot or figure typically includes a horizontal X axis and a vertical Y axis, a title, an X label, a Y label, and X and Y tick marks.\n",
    "\n",
    "These axes provide a framework for plotting data points. The X axis typically represents the independent variable, while the Y axis represents the dependent variable. They allow viewers to interpret the relationship between the variables. The title offers a brief description of what the plot is about, giving viewers immediate context. It summarizes the main point or focus of the data being presented, while the labels on the X and Y axes identify the variables being measured and the units of measurement. \n",
    "\n",
    "`matplotlib` allows you to make different types of plots beyond a line plot. Let's try making a scatter plot, a boxplot and a histogram."
   ]
  },
  {
   "cell_type": "markdown",
   "metadata": {},
   "source": [
    "**Question:** Create a single line plot using `Price` as your dependent variable and `Coffee Type` as your independent variable. Rotate the xticks 90 degrees. Interpret your results"
   ]
  },
  {
   "cell_type": "code",
   "execution_count": null,
   "metadata": {},
   "outputs": [],
   "source": [
    "### Write your code below (in place of ...)\n",
    "..."
   ]
  },
  {
   "cell_type": "markdown",
   "metadata": {},
   "source": [
    "### Scatter Plot\n",
    "You can also visualize your data using scatter plots. Typically, scatter plots are used to visualize a pair of variables. One variable is assigned to the x-axis, and the other to the y-axis, with each x-y pair represented by a point on the plot. The x and y arrays must be the same size. You can also customize the color of the points by using `color = `."
   ]
  },
  {
   "cell_type": "code",
   "execution_count": null,
   "metadata": {},
   "outputs": [],
   "source": [
    "plt.scatter(df[\"Day\"], df[\"Cups\"], color='brown')  # Use brown color for points, you can use whatever color you want\n",
    "plt.title(\"Coffee Consumption Scatter Plot\")\n",
    "plt.xlabel(\"Day of the Week\")\n",
    "plt.ylabel(\"Cups of Coffee\")\n",
    "plt.show()"
   ]
  },
  {
   "cell_type": "markdown",
   "metadata": {},
   "source": [
    "**Question:** Create a scatter plot `Price` as your dependent variable and `Satisfaction Level` as your independent variable. Make the points a color of your choosing."
   ]
  },
  {
   "cell_type": "code",
   "execution_count": null,
   "metadata": {},
   "outputs": [],
   "source": [
    "### Write your code below (in place of ...)\n",
    "..."
   ]
  },
  {
   "cell_type": "markdown",
   "metadata": {},
   "source": [
    "**Question:** Create a scatter plot with `Price` as your dependent variable and `Coffee Type` as your independent variable. Use this documentation to color the points according to `satisfaction level`: https://matplotlib.org/stable/api/_as_gen/matplotlib.pyplot.scatter.html "
   ]
  },
  {
   "cell_type": "code",
   "execution_count": null,
   "metadata": {},
   "outputs": [],
   "source": [
    "### Write your code below (in place of ...)\n",
    "..."
   ]
  },
  {
   "cell_type": "markdown",
   "metadata": {},
   "source": [
    "### Histograms\n",
    "\n",
    "A histogram is a graphical representation of the distribution of a dataset. It divides the data into intervals, or bins, and displays the frequency or count of data points within each bin. The height of each bar in the histogram represents the number of data points that fall into that bin, providing a visual way to understand the underlying distribution, spread, and central tendency of the data."
   ]
  },
  {
   "cell_type": "code",
   "execution_count": null,
   "metadata": {},
   "outputs": [],
   "source": [
    "plt.hist(df[\"Cups\"], color='pink')  # Define bins and use green color\n",
    "plt.title(\"Histogram of Coffee Consumption\")\n",
    "plt.xlabel(\"Cups of Coffee\")\n",
    "plt.ylabel(\"Frequency\")\n",
    "plt.show()"
   ]
  },
  {
   "cell_type": "markdown",
   "metadata": {},
   "source": [
    "**Question:** Create a histogram of `Price`. Make the bars a color of your choosing."
   ]
  },
  {
   "cell_type": "code",
   "execution_count": null,
   "metadata": {},
   "outputs": [],
   "source": [
    "### Write your code below (in place of ...)\n",
    "..."
   ]
  },
  {
   "cell_type": "markdown",
   "metadata": {},
   "source": [
    "## Plotting Real Data\n",
    "There are almost endless possiblities for the types of plots you can create with `matplotlib`. But what we really want to use plotting for is to get insights from real data. Today we will be using a dataset consisting of some commonly used passwords.\n",
    "\n",
    "<img src=\"./images/XKCD_passwords.png\" width=700px height=500px />"
   ]
  },
  {
   "cell_type": "markdown",
   "metadata": {},
   "source": [
    "Whenever you decide to use real data, the first step after reading in your data is to get some more information about it. Let's see what information we have from this password data..."
   ]
  },
  {
   "cell_type": "code",
   "execution_count": null,
   "metadata": {},
   "outputs": [],
   "source": [
    "pass_data = pd.read_csv(\"./data/passwords.csv\")\n",
    "print(pass_data.head())"
   ]
  },
  {
   "cell_type": "markdown",
   "metadata": {},
   "source": [
    "It looks like we have a lot of data about the strength of these passwords, the time to crack the password and the category of these passwords. "
   ]
  },
  {
   "cell_type": "markdown",
   "metadata": {},
   "source": [
    "<img src=\"./images/password_info.png\" width=700px height=400px />"
   ]
  },
  {
   "cell_type": "markdown",
   "metadata": {},
   "source": [
    "Once you have some information about your data, we need to come up with an interesting reserach question. In this case, I want to know what are the most common categories passwords fall into. \n",
    "\n",
    "To start to answer this question, let's start by counting the number of times each category appears. "
   ]
  },
  {
   "cell_type": "code",
   "execution_count": null,
   "metadata": {},
   "outputs": [],
   "source": [
    "category_counts = pass_data['category'].value_counts() # first let's get a count of the different categories\n",
    "print(category_counts)"
   ]
  },
  {
   "cell_type": "markdown",
   "metadata": {},
   "source": [
    "Next, I want to plot this data using a bar plot. When I did this, I got the following figure. \n",
    "\n",
    "<img src=\"./images/password_category_distribution1.png\" width=700px height=600px />"
   ]
  },
  {
   "cell_type": "markdown",
   "metadata": {},
   "source": [
    "### ✨  Coding challenge ✨\n",
    "\n",
    "Take the next few minutes and try to recreate the above plot. \n",
    "\n",
    "<b>Hint0:</b> Use this link to some useful documentation: https://matplotlib.org/stable/api/_as_gen/matplotlib.pyplot.bar.html\n",
    "\n",
    "<b>Hint1:</b> Remember when working with a series you can you .index and .values to get the index and the values of your data. "
   ]
  },
  {
   "cell_type": "code",
   "execution_count": null,
   "metadata": {},
   "outputs": [],
   "source": [
    "### Write your code below (in place of ...)\n",
    "..."
   ]
  },
  {
   "cell_type": "markdown",
   "metadata": {},
   "source": [
    "<b> References </b>\n",
    "\n",
    "Pajankar, A. (2021). Hands-On Matplotlib: Learn Plotting and Visualizations with Python 3 (1st ed.). Apress L. P. https://doi.org/10.1007/978-1-4842-7410-1. "
   ]
  }
 ],
 "metadata": {
  "kernelspec": {
   "display_name": "Python 3 (ipykernel)",
   "language": "python",
   "name": "python3"
  },
  "language_info": {
   "codemirror_mode": {
    "name": "ipython",
    "version": 3
   },
   "file_extension": ".py",
   "mimetype": "text/x-python",
   "name": "python",
   "nbconvert_exporter": "python",
   "pygments_lexer": "ipython3",
   "version": "3.11.5"
  }
 },
 "nbformat": 4,
 "nbformat_minor": 4
}
