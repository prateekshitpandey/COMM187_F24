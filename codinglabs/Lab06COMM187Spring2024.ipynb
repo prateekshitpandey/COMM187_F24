{
 "cells": [
  {
   "cell_type": "markdown",
   "id": "a025ea3e",
   "metadata": {},
   "source": [
    "## COMM 187 (160DS): Data Science in Communication Research -- Spring 2024\n",
    "\n",
    "## Coding Lab #6: Data Manipulation and Statistics with Pandas\n",
    "**Wednesday, May 8, 2024**"
   ]
  },
  {
   "cell_type": "markdown",
   "id": "3becfa73",
   "metadata": {},
   "source": [
    "Welcome to the Coding Lab #6 for COMM 187 (160DS): Data Science in Communication Research! \n",
    "\n",
    "In the last Coding Lab, we learnt about Python dictionaries, and pandas library, including pandas `Series` and `DataFrames`.\n",
    "\n",
    "Today's lesson plan:\n",
    " - Review of Coding Assignment #5\n",
    " - Loading CSV files using pandas\n",
    " - Sorting pandas DataFrames\n",
    " - Summary Statistics in Python -- Mean, Median, Standard Deviation, Covariance, Correlation\n",
    " - Grouping data using pandas `groupby`\n",
    "\n",
    "Today's lessons are based on the following online resources (feel free to try them out yourselves too!):\n",
    " - https://wesmckinney.com/book/pandas-basics"
   ]
  },
  {
   "cell_type": "markdown",
   "id": "b8701d62",
   "metadata": {},
   "source": [
    "### Loading CSV data into Python"
   ]
  },
  {
   "cell_type": "code",
   "execution_count": null,
   "id": "1a945675-96fd-4704-b36d-8f4b6410b1dd",
   "metadata": {},
   "outputs": [],
   "source": [
    "import pandas as pd\n",
    "import numpy as np"
   ]
  },
  {
   "cell_type": "markdown",
   "id": "6c52e6d1",
   "metadata": {},
   "source": [
    "A **CSV** (Comma Separated Values) file is simply a table, just like a spreadsheet, where each line is a row of values separated by commas.\n",
    "\n",
    "In order to import, or load, a csv file into your Python code, you will need to use the following function:\n",
    "\n",
    "```\n",
    "pd.read_csv(path_to_file)\n",
    "```\n",
    "\n",
    "Here, `path_to_file` should be replaced with the file path to the csv file.\n",
    "\n",
    "Go through this tutorial on file paths to learn more about them: https://www.codecademy.com/resources/docs/general/file-paths \n",
    "\n",
    "To load a csv file named \".csv\" which is in the \"data\" subfolder (or sub-directory) within the current folder (or directory), the file path should be \"./data/ .csv\".\n",
    "\n",
    "Let us try to load that file into our code:"
   ]
  },
  {
   "cell_type": "code",
   "execution_count": null,
   "id": "e84bab65-4aba-418c-81c0-4ece1a2a7f0e",
   "metadata": {},
   "outputs": [],
   "source": [
    "### Your code below this line\n",
    "df = pd.read_csv('./data/recent-grads.csv')"
   ]
  },
  {
   "cell_type": "markdown",
   "id": "f75fe4d0-8f46-4a80-8146-6de928ae1d99",
   "metadata": {},
   "source": [
    "This dataset is the data behind [this article](https://fivethirtyeight.com/features/the-economic-guide-to-picking-a-college-major/). This data shows the earnings of Americans with different college majors. \n",
    "\n",
    "You can access the repository for this dataset [here](https://github.com/fivethirtyeight/data/tree/master/college-majors).\n",
    "\n",
    "Now, print the dataset below to see what it looks like."
   ]
  },
  {
   "cell_type": "code",
   "execution_count": null,
   "id": "240e4544-5433-4274-aa59-0aa13039bd3e",
   "metadata": {},
   "outputs": [],
   "source": [
    "### Your code below this line"
   ]
  },
  {
   "cell_type": "markdown",
   "id": "871b8a80-a16b-42e8-8405-3b50144bfd5f",
   "metadata": {},
   "source": [
    "**Question:** Print the name of the columns of this DataFrame."
   ]
  },
  {
   "cell_type": "code",
   "execution_count": null,
   "id": "75cc82f8-0a6c-4eaa-96bf-7d568d4f6653",
   "metadata": {},
   "outputs": [],
   "source": [
    "### Your code below this line\n",
    "df.columns"
   ]
  },
  {
   "cell_type": "markdown",
   "id": "9c6fb1fc-1cb7-4fca-a3e4-7415e59ef12a",
   "metadata": {},
   "source": [
    "For your reference, here are the descriptions of the values in each of these columns:\n",
    "\n",
    "Column Name | Description\n",
    "---|---------\n",
    "`Rank` | Rank by median earnings\n",
    "`Major_code` | Major code, FO1DP in ACS PUMS\n",
    "`Major` | Major description\n",
    "`Major_category` | Category of major from Carnevale et al\n",
    "`Total` | Total number of people with major\n",
    "`Sample_size` | Sample size (unweighted) of full-time, year-round ONLY (used for earnings)\n",
    "`Men` | Male graduates\n",
    "`Women` | Female graduates\n",
    "`ShareWomen` | Women as share of total\n",
    "`Employed` | Number employed (ESR == 1 or 2)\n",
    "`Full_time` | Employed 35 hours or more\n",
    "`Part_time` | Employed less than 35 hours\n",
    "`Full_time_year_round` | Employed at least 50 weeks (WKW == 1) and at least 35 hours (WKHP >= 35)\n",
    "`Unemployed` | Number unemployed (ESR == 3)\n",
    "`Unemployment_rate` | Unemployed / (Unemployed + Employed)\n",
    "`Income` | Median earnings of full-time, year-round workers\n",
    "`P25th` | 25th percentile of earnings\n",
    "`P75th` | 75th percentile of earnings\n",
    "`College_jobs` | Number with job requiring a college degree\n",
    "`Non_college_jobs` | Number with job not requiring a college degree\n",
    "`Low_wage_jobs` | Number in low-wage service jobs"
   ]
  },
  {
   "cell_type": "markdown",
   "id": "4cc59ffd-ca59-42bc-85c4-f3fe92d297c2",
   "metadata": {},
   "source": [
    "Now, use the `.head()` function to just print the first 5 rows of the DataFrame."
   ]
  },
  {
   "cell_type": "code",
   "execution_count": null,
   "id": "4ab9452a-0aa5-464e-aaf2-123edd4fd4be",
   "metadata": {},
   "outputs": [],
   "source": [
    "df.head()"
   ]
  },
  {
   "cell_type": "markdown",
   "id": "b624acc9-6517-478f-8b92-992c93ee51d2",
   "metadata": {},
   "source": [
    "Now, similarly, use `.tail()` to print the last 5 rows of the DataFrame."
   ]
  },
  {
   "cell_type": "code",
   "execution_count": null,
   "id": "725a8c30-21c9-407a-b89e-9303a87d48a2",
   "metadata": {},
   "outputs": [],
   "source": [
    "df.tail()"
   ]
  },
  {
   "cell_type": "markdown",
   "id": "a6ecd188",
   "metadata": {},
   "source": [
    "#### Sorting pandas DataFrame"
   ]
  },
  {
   "cell_type": "markdown",
   "id": "6d3d9d6f",
   "metadata": {},
   "source": [
    "In pandas, you can sort the entire table based on the values in any column. We do it using `.sort_values()` function.\n",
    "\n",
    "Read [this documentation](https://pandas.pydata.org/docs/reference/api/pandas.DataFrame.sort_values.html) for `.sort_values()` function, and write a code below which would sort the pandas DataFrame `df` based on the median earnings, which is stored in the column \"Income\". Discuss with your table and learn from each other!"
   ]
  },
  {
   "cell_type": "code",
   "execution_count": null,
   "id": "0be60f76-6bf5-4a11-b426-c33d97afe8c5",
   "metadata": {
    "scrolled": true
   },
   "outputs": [],
   "source": [
    "### Your code below this line\n",
    "df.sort_values(by = \"Income\")"
   ]
  },
  {
   "cell_type": "markdown",
   "id": "24f49aa8-bd4f-4d12-ae8a-c6d177684833",
   "metadata": {},
   "source": [
    "**Practice:** Sort the DataFrame `df` in the DESCENING order of the values in the column \"ShareWomen\", which is the share of women among all the majors in that group."
   ]
  },
  {
   "cell_type": "code",
   "execution_count": null,
   "id": "64e0cc4c-febd-40ff-8945-15eb44611c3a",
   "metadata": {},
   "outputs": [],
   "source": [
    "### Your code below this line"
   ]
  },
  {
   "cell_type": "markdown",
   "id": "7e1bc8b2-bc3c-4c53-a6cb-ee7fb4761821",
   "metadata": {},
   "source": [
    "**Practice:** Sort the DataFrame `df` in the ASCENDING order of the values in the column \"Sample_size\", and select only the following columns: \"Major_code\", \"Major\", \"Sample_size\", and \"Income\"."
   ]
  },
  {
   "cell_type": "code",
   "execution_count": null,
   "id": "2f69e761-7c3d-40e3-bf23-96784c3670fc",
   "metadata": {},
   "outputs": [],
   "source": [
    "### Your code below this line"
   ]
  },
  {
   "cell_type": "markdown",
   "id": "a0d0db2b",
   "metadata": {},
   "source": [
    "### Summary Statistics in `pandas`"
   ]
  },
  {
   "cell_type": "markdown",
   "id": "bd97524a",
   "metadata": {},
   "source": [
    "Let us now calculate perform some basic statistical analysis!"
   ]
  },
  {
   "cell_type": "markdown",
   "id": "b380f8ad",
   "metadata": {},
   "source": [
    "**1. MEAN**\n",
    "\n",
    "Use the function `.mean()` for any column with numerical values. Let us try it on the columns \"Employed\""
   ]
  },
  {
   "cell_type": "code",
   "execution_count": null,
   "id": "063cea43-f585-4d34-8137-48c054ee28e4",
   "metadata": {},
   "outputs": [],
   "source": [
    "df[\"Employed\"].mean()"
   ]
  },
  {
   "cell_type": "markdown",
   "id": "75cce32a-a802-48fc-a8c5-cbec92318bb1",
   "metadata": {},
   "source": [
    "**Practice:** Calculate the mean of \"Median earnings of full-time, year-round workers\" in the dataset."
   ]
  },
  {
   "cell_type": "code",
   "execution_count": null,
   "id": "92b1b77d-8632-4f81-8e3a-ea261b4606c8",
   "metadata": {},
   "outputs": [],
   "source": [
    "### Your code below this line"
   ]
  },
  {
   "cell_type": "markdown",
   "id": "59addb76-9d93-468a-8db1-821f6fe53d2e",
   "metadata": {},
   "source": [
    "**2. MEDIAN**\n",
    "\n",
    "Use the function `.median()` for any column with numerical values. Let us try it on the columns \"Employed\""
   ]
  },
  {
   "cell_type": "code",
   "execution_count": null,
   "id": "1b0e49ab-ff6a-4e72-b11c-80e56eaa9b60",
   "metadata": {},
   "outputs": [],
   "source": [
    "df[\"Employed\"].median()"
   ]
  },
  {
   "cell_type": "markdown",
   "id": "cfc548fe-73b8-46b8-915a-9afc68d7b12a",
   "metadata": {},
   "source": [
    "**Practice:** Calculate the median of \"Median earnings of full-time, year-round workers\" in the dataset."
   ]
  },
  {
   "cell_type": "code",
   "execution_count": null,
   "id": "51e2de20-3246-4e60-8f30-2c0224bfc701",
   "metadata": {},
   "outputs": [],
   "source": [
    "### Your code below this line"
   ]
  },
  {
   "cell_type": "markdown",
   "id": "851ee0bb-0445-4ecc-b282-2252cce75d5e",
   "metadata": {},
   "source": [
    "**3. STANDARD DEVIATION**\n",
    "\n",
    "Use the function `.std()` for any column with numerical values. Let us try it on the columns \"Employed\""
   ]
  },
  {
   "cell_type": "code",
   "execution_count": null,
   "id": "34741178-d96b-4a6a-b629-5678d85c1a69",
   "metadata": {},
   "outputs": [],
   "source": [
    "df[\"Employed\"].std()"
   ]
  },
  {
   "cell_type": "markdown",
   "id": "756e47ac-1528-40b1-a49c-af493d7425f5",
   "metadata": {},
   "source": [
    "**Practice:** Calculate the standard deviation of \"Median earnings of full-time, year-round workers\" in the dataset."
   ]
  },
  {
   "cell_type": "code",
   "execution_count": null,
   "id": "43e9cb8f-acc8-4a9c-ad0e-5b1875634b89",
   "metadata": {},
   "outputs": [],
   "source": [
    "### Your code below this line"
   ]
  },
  {
   "cell_type": "markdown",
   "id": "78317791-08a7-490c-b1d4-6107b640c67a",
   "metadata": {},
   "source": [
    "***DOING MEAN, MEDIAN, STANDARD DEVIATION TOGETHER?***\n",
    "\n",
    "Use the function `.agg()` for any column with numerical values, and inside the `()` brackets, enter a lis of the statistical functions you would like to use on that columns. \n",
    "\n",
    " - for mean, just write `'mean'`\n",
    " - for median, just write `'median'`\n",
    " - for standard deviation, just write `'std'`\n",
    "\n",
    "Remember! In Python, `'` and `\"` are interchangeable.\n",
    "\n",
    "Let us try it on the columns \"Employed\""
   ]
  },
  {
   "cell_type": "code",
   "execution_count": null,
   "id": "cdee600a-b3a9-456d-8eb7-9891d0d61365",
   "metadata": {},
   "outputs": [],
   "source": [
    "df[\"Employed\"].agg('mean')"
   ]
  },
  {
   "cell_type": "code",
   "execution_count": null,
   "id": "65cff7e6-4c81-473d-84ad-6fa07ee6c75e",
   "metadata": {},
   "outputs": [],
   "source": [
    "df[\"Employed\"].agg(['mean'])"
   ]
  },
  {
   "cell_type": "code",
   "execution_count": null,
   "id": "2897a4da-8d12-45fe-b724-f7985cf2dfa3",
   "metadata": {},
   "outputs": [],
   "source": [
    "df[\"Employed\"].agg(['mean', 'median'])"
   ]
  },
  {
   "cell_type": "code",
   "execution_count": null,
   "id": "0585424c-9af7-4958-ad8e-e7ed5ffcbec9",
   "metadata": {},
   "outputs": [],
   "source": [
    "df[\"Employed\"].agg(['mean', 'median', 'std'])"
   ]
  },
  {
   "cell_type": "markdown",
   "id": "8d564c4d-8cdf-4270-b249-300448bd4724",
   "metadata": {},
   "source": [
    "**Practice:** Calculate the standard deviation of \"Median earnings of full-time, year-round workers\" in the dataset."
   ]
  },
  {
   "cell_type": "code",
   "execution_count": null,
   "id": "70eb3da6-2637-4f7c-90b3-9dc02c748afd",
   "metadata": {},
   "outputs": [],
   "source": [
    "### Your code below this line"
   ]
  },
  {
   "cell_type": "markdown",
   "id": "f6eaa04b-3766-4ab9-96dc-a6b3d72b463e",
   "metadata": {},
   "source": [
    "**4. COVARIANCE**\n",
    "\n",
    "Use the function `.cov( <column to calculate covariance with> )` for any two columns with numerical values. Let us try it on the columns \"Employed\" and \"ShareWomen\"."
   ]
  },
  {
   "cell_type": "code",
   "execution_count": null,
   "id": "0e8d4beb-44cb-4603-92fb-44b8fba9e736",
   "metadata": {},
   "outputs": [],
   "source": [
    "df[\"Employed\"].cov(df[\"ShareWomen\"])"
   ]
  },
  {
   "cell_type": "markdown",
   "id": "6d206fef-f68c-40cd-9fb0-373e3e12b509",
   "metadata": {},
   "source": [
    "**Practice:** Calculate the covariance between the column with the \"Median earnings of full-time, year-round workers\" and the column with \"Women as share of total\" in the dataset."
   ]
  },
  {
   "cell_type": "code",
   "execution_count": null,
   "id": "90534ab0-6ba7-4fde-a90a-fbf8243f4100",
   "metadata": {},
   "outputs": [],
   "source": [
    "### Your code below this line"
   ]
  },
  {
   "cell_type": "markdown",
   "id": "ec3d3b86-6bb0-4515-b074-4fb95c22fb78",
   "metadata": {},
   "source": [
    "**5. CORRELATION**\n",
    "\n",
    "Use the function `.corr( <column to calculate correlation with> )` for any two columns with numerical values. Let us try it on the columns \"Employed\" and \"ShareWomen\"."
   ]
  },
  {
   "cell_type": "code",
   "execution_count": null,
   "id": "34a77636-5fbb-4358-aaac-bd69b8d45637",
   "metadata": {},
   "outputs": [],
   "source": [
    "df[\"Employed\"].cov(df[\"ShareWomen\"])"
   ]
  },
  {
   "cell_type": "markdown",
   "id": "2e2ab2eb-5566-4a46-b7f2-1d59372c174d",
   "metadata": {},
   "source": [
    "**Practice:** Calculate the correlation between the column with the \"Median earnings of full-time, year-round workers\" and the column with \"Women as share of total\" in the dataset."
   ]
  },
  {
   "cell_type": "code",
   "execution_count": null,
   "id": "66f8b38e-9e59-4e34-bfb9-656783348152",
   "metadata": {},
   "outputs": [],
   "source": [
    "### Your code below this line"
   ]
  },
  {
   "cell_type": "markdown",
   "id": "78df429e-d269-4962-8421-003f410063af",
   "metadata": {},
   "source": [
    "**6. SUMMARY STATISTICS USING `.describe()`**\n",
    "\n",
    "Instead of calculating individual statistics for individual columns, we can also get a summary of mean, median, standard deviation, and some other statistics using the function `.describe()`. Let us try that out:"
   ]
  },
  {
   "cell_type": "code",
   "execution_count": null,
   "id": "d76480b4-041b-40f4-bd6b-33136535bdd1",
   "metadata": {},
   "outputs": [],
   "source": [
    "print(df.describe())"
   ]
  },
  {
   "cell_type": "markdown",
   "id": "0085826a-c56d-4efc-b2a8-de81774ee5d4",
   "metadata": {},
   "source": [
    "### Grouping data in `pandas` using `groupby`"
   ]
  },
  {
   "cell_type": "markdown",
   "id": "e5feefcf-7ed7-4cb6-a8e8-f4d034342061",
   "metadata": {},
   "source": [
    "Instead of calculating the aforementioned statistics for all of the data, if I want to calculate these statistics, let us say, for all the different majors. I would then have to subset the data by each major and calculate the summary statistics for each major. That is a very long process!\n",
    "\n",
    "Instead, we can \"group\" the data based on the values of a column (for e.g., the \"Major_category\" column) and perform the same statistic across all groups. We do this operation using `.groupby()` function. \n",
    "\n",
    "Learn more about how to use `.groupby()` here: https://www.geeksforgeeks.org/python-pandas-dataframe-groupby/ \n",
    "\n",
    "Using the tutorial linked here, discuss with your table how to solve the following questions:\n",
    "\n",
    "**Question 1.** Use `.groupby()` function to group the DataFrame based on the column “Major_category”. "
   ]
  },
  {
   "cell_type": "code",
   "execution_count": null,
   "id": "be81ef6e-ec98-4ce7-a792-2838c6a8a616",
   "metadata": {},
   "outputs": [],
   "source": [
    "### Your code below this line"
   ]
  },
  {
   "cell_type": "markdown",
   "id": "4adba91d-f915-4bae-a609-3c391cfa565e",
   "metadata": {},
   "source": [
    "**Question 2.** Use `.groupby()` function to group the DataFrame based on the column “Major_category”, and select only the \"Median\" column. "
   ]
  },
  {
   "cell_type": "code",
   "execution_count": null,
   "id": "5decdaff-d8be-4260-a5a7-d0218447fb74",
   "metadata": {},
   "outputs": [],
   "source": [
    "### Your code below this line"
   ]
  },
  {
   "cell_type": "markdown",
   "id": "f7cf703b-4612-465b-999f-2f6928d77006",
   "metadata": {},
   "source": [
    "**Question 3.** Use `.groupby()` function and `.mean()` together to print the mean income for each “Major_category” group. "
   ]
  },
  {
   "cell_type": "code",
   "execution_count": null,
   "id": "5c0e242c-18bd-44ee-9630-6c37a4b23a9e",
   "metadata": {},
   "outputs": [],
   "source": [
    "### Your code below this line"
   ]
  },
  {
   "cell_type": "markdown",
   "id": "b14bb08c-d87a-4e8e-bddd-4bd0edcfaa88",
   "metadata": {},
   "source": [
    "**Question 4.** Use `.groupby()` function, `.mean()` function, and `.sort_values()` together to print the mean income for each “Major_category” group sorted in descending order of the mean incomes. "
   ]
  },
  {
   "cell_type": "code",
   "execution_count": null,
   "id": "c302625e-47b4-429c-8ab9-5bf977967035",
   "metadata": {},
   "outputs": [],
   "source": [
    "### Your code below this line"
   ]
  },
  {
   "cell_type": "markdown",
   "id": "e842ed15-5a31-42d7-89a7-4e4a92450768",
   "metadata": {},
   "source": [
    "**Question 5.** Use `.groupby()` function, `.median()` function, and `.sort_values()` together to print the median income for each “Major_category” group sorted in descending order of the mean incomes. "
   ]
  },
  {
   "cell_type": "code",
   "execution_count": null,
   "id": "39cd8d10-e85f-4aaa-bf2a-01666bfd1cea",
   "metadata": {},
   "outputs": [],
   "source": [
    "### Your code below this line"
   ]
  },
  {
   "cell_type": "markdown",
   "id": "757e7286-38c6-4362-8cb1-09b16d1ba606",
   "metadata": {},
   "source": [
    "### Practice"
   ]
  },
  {
   "cell_type": "markdown",
   "id": "e869636b-083c-4480-b6bf-689c724343b7",
   "metadata": {},
   "source": [
    "Identify the top 3 major categories with the highest average unemployment rates and provide the standard deviation for the unemployment rate within those categories. Use `.groupby()`, `.mean()`, `.std()`, and `.sort_values()`."
   ]
  },
  {
   "cell_type": "code",
   "execution_count": null,
   "id": "ff1437ac-cad2-43ed-bc2e-c6b824b32b36",
   "metadata": {
    "scrolled": true
   },
   "outputs": [],
   "source": [
    "### Your code below this line"
   ]
  }
 ],
 "metadata": {
  "kernelspec": {
   "display_name": "Python 3 (ipykernel)",
   "language": "python",
   "name": "python3"
  },
  "language_info": {
   "codemirror_mode": {
    "name": "ipython",
    "version": 3
   },
   "file_extension": ".py",
   "mimetype": "text/x-python",
   "name": "python",
   "nbconvert_exporter": "python",
   "pygments_lexer": "ipython3",
   "version": "3.11.5"
  }
 },
 "nbformat": 4,
 "nbformat_minor": 5
}
