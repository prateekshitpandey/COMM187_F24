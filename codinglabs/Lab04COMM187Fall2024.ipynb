{
 "cells": [
  {
   "cell_type": "markdown",
   "id": "533ac834-ae77-4da2-b96b-de2be9ef1089",
   "metadata": {},
   "source": [
    "## COMM 187: Data Science in Communication Research -- Fall 2024\n",
    "\n",
    "## Coding Lab #4: \n",
    "**Wednesday, Oct 23, 2024**"
   ]
  },
  {
   "cell_type": "markdown",
   "id": "b9df9ed6-7a63-4f28-8bc0-d21206d528ad",
   "metadata": {},
   "source": [
    "Welcome to the Coding Lab #3 for COMM 187: Data Science in Communication Research! \n",
    "\n",
    "Two weeks ago, we learnt about types of variables, lists, libraries, and functions.\n",
    "\n",
    "Today's lesson plan:\n",
    " - Review of Coding Assignment #2 and #3\n",
    " - Conditionals in Python\n",
    " - Intro to Numpy\n",
    "   - Numpy arrays\n",
    "   - Operations using numpy arrays\n",
    "     - itemwise adding two `numpy` arrays\n",
    "     - array creation using `array`, `zeros` and `ones`\n",
    "\n",
    "Today's lessons are based on the following online resources (feel free to try them out yourselves too!):\n",
    " - https://wesmckinney.com/book/numpy-basics\n",
    " - https://wesmckinney.com/book/python-basics"
   ]
  },
  {
   "cell_type": "markdown",
   "id": "bfd0c6f8-c73c-4bef-a609-e5e1f9fc8327",
   "metadata": {},
   "source": [
    "### Conditionals in Python"
   ]
  },
  {
   "cell_type": "markdown",
   "id": "fe8df81e-192b-4665-91a6-d74a453afd81",
   "metadata": {},
   "source": [
    "Programming, fundamentally, is telling computers a set of tasks to do. When thinking about complex tasks, it is helpful to first think about how we would do them, in order to break them down into discrete tasks for the computer. \n",
    "\n",
    "Now, imagine you're deciding what to wear based on the weather. \n",
    "\n",
    "If it's sunny 🔆, you might choose shorts 🩳 \\\n",
    "If it's raining 💦, perhaps a raincoat 🧥, or you would choose to carry an umbrella ☔\n",
    "\n",
    "So, based on the *condition* of the weather, you will decide to either wear shorts, or wear a raincoat/carry an umbrella. \n",
    "\n",
    "This decision-making process is called **conditionals** in programming. \\\n",
    "In Python, we use `if`, `else`, and `elif` statements to execute different blocks of code based on various conditions. "
   ]
  },
  {
   "cell_type": "markdown",
   "id": "52eb16e6-d13a-4c0e-a580-b9f15fa0001a",
   "metadata": {},
   "source": [
    "**if, else, and elif**\n",
    "\n",
    "The `if` statement is one of the most well-known conditional statement types. It checks a condition that, if `True`, evaluates the code in the block that follows.\n",
    "\n",
    "```\n",
    "if <condition>:\n",
    "    <block of code>\n",
    "```\n",
    "\n",
    "Here, `<condition>` is an expression with a `bool` output. If the value of `<condition>` is `True`, then then block of code below is computed. If the value of `<condition>` is `False`, the block is not computer, it is *skipped*.\n",
    "\n",
    "For example, consider the following code:"
   ]
  },
  {
   "cell_type": "code",
   "execution_count": null,
   "id": "1fd0f160-4acd-460e-81ea-b20988deeee7",
   "metadata": {},
   "outputs": [],
   "source": [
    "x = -5\n",
    "if x < 0: \n",
    "    print(\"It's negative\")"
   ]
  },
  {
   "cell_type": "markdown",
   "id": "f33c3aca-1235-407c-9b60-3d647f3140e5",
   "metadata": {},
   "source": [
    "Notice, again, the syntax of writing an `if` statement. \n",
    "\n",
    "It starts with `if` followed by a space, and then the condition expression which can be `True` or `False`. In this case, that condition expression is `x < 0`. \n",
    "\n",
    "The condition is then followed by a colon `:`.\n",
    "\n",
    "After the colon `:`, in a new line is the code block that should run if the condition is True. \n",
    "\n",
    "**IMPORTANT:** Notice the gap at the beginning of the print statement. That is called an **indent**, and can be achieved by pressing the \"tab\" button on your keyboard. Every line that has an **indent** after the `if <condition>:` line is the \"block of code\" that will run if the condition is `True`.\n",
    "\n",
    "**NOTE:** You need to use an indent in the next line after using a conditional or loop statement. If you do not do so, your computations might be wrong or you might encounter errors."
   ]
  },
  {
   "cell_type": "markdown",
   "id": "dced5b3d-bbbf-4bed-9849-8f244a3657be",
   "metadata": {},
   "source": [
    "**Example:** Consider the previous example again, this time without indent. Execute the following cell and observe the output. Is it different from the output of the previous example? Do you get an error? What does the error say?"
   ]
  },
  {
   "cell_type": "code",
   "execution_count": null,
   "id": "27459448-cdb8-4afb-89d1-942b46f475a2",
   "metadata": {},
   "outputs": [],
   "source": [
    "x = -5\n",
    "if x < 0: \n",
    "print(\"It's negative\")"
   ]
  },
  {
   "cell_type": "markdown",
   "id": "a07f744c-4843-4494-86b0-78f53380d30c",
   "metadata": {},
   "source": [
    "**Example:** Consider the following two cells of code. Execute each cell and observe the output. Do they have the same output? If not, why?"
   ]
  },
  {
   "cell_type": "code",
   "execution_count": null,
   "id": "49bef13d-058c-4bb2-a1bc-c5292dd6e8b3",
   "metadata": {},
   "outputs": [],
   "source": [
    "x = 5\n",
    "y = 1\n",
    "z = 0\n",
    "if x < 0:\n",
    "    y = x\n",
    "    z = x + y\n",
    "print(z)"
   ]
  },
  {
   "cell_type": "code",
   "execution_count": null,
   "id": "d7937090-d7f4-4292-9b1f-037969b798b2",
   "metadata": {},
   "outputs": [],
   "source": [
    "x = 5\n",
    "y = 1\n",
    "z = 0\n",
    "if x < 0:\n",
    "    y = x\n",
    "z = x + y\n",
    "print(z)"
   ]
  },
  {
   "cell_type": "markdown",
   "id": "8d237a23-29df-439a-a79f-c87dabba3010",
   "metadata": {},
   "source": [
    "An `if` statement can be optionally followed by an `else` block if the conditions are `False`."
   ]
  },
  {
   "cell_type": "code",
   "execution_count": null,
   "id": "6899df35-ca49-44b9-8826-a70ea3e36aaa",
   "metadata": {},
   "outputs": [],
   "source": [
    "x = 5\n",
    "if x < 0:\n",
    "    print(\"It's negative\")\n",
    "else:\n",
    "    print(\"It's positive\")"
   ]
  },
  {
   "cell_type": "markdown",
   "id": "bd107e64-19a9-44d4-85ad-1482fd73e5e7",
   "metadata": {},
   "source": [
    "Notice the syntax for writing an else statement. \n",
    "\n",
    "Notice the colon `:` at the end of `else`. \n",
    "\n",
    "Note that there is no indent with the `else:` statement, but the statement(s) that follow must have an indent, just like with the `if` statement."
   ]
  },
  {
   "cell_type": "markdown",
   "id": "c1e62b02-fed2-48c4-b499-b182f4d58f74",
   "metadata": {},
   "source": [
    "The **elif** statement is simply a combination of `else` and `if` statement. \n",
    "\n",
    "Let us say I want to instruct the computer with the following steps about a variable `x`:\n",
    "\n",
    " - If x is less than 0, then print \"It's negative\"\n",
    " - Else, if x is less than 3, then print \"Less than 3\"\n",
    " - Else, if x is less than 10, then print \"Less than 10 but more than 3\"\n",
    "\n",
    "This is how I would write it in Python:"
   ]
  },
  {
   "cell_type": "code",
   "execution_count": null,
   "id": "5d847b3e-6b7a-4fbe-91f8-821189e7708d",
   "metadata": {},
   "outputs": [],
   "source": [
    "x = 2\n",
    "\n",
    "if x < 0:\n",
    "    print(\"It's negative\")\n",
    "elif x < 3:\n",
    "    print(\"Less than 3\")\n",
    "else:\n",
    "    print(\"Less than 10 but more than 3\")"
   ]
  },
  {
   "cell_type": "markdown",
   "id": "4e833076-b3ee-4da4-b532-ed866e826921",
   "metadata": {},
   "source": [
    "Change the values of `x` in the cell above and see how it changes its output"
   ]
  },
  {
   "cell_type": "markdown",
   "id": "ba9521bf-b6a0-48f3-a2ea-1b5e97690ca4",
   "metadata": {},
   "source": [
    "### Numpy"
   ]
  },
  {
   "cell_type": "markdown",
   "id": "ed9b86dd-35e3-4b5d-8f3e-00a4ea11a972",
   "metadata": {},
   "source": [
    "**NumPy** is short for \"Numerical Python,\" and it is one of the most important libraries for numerical computing in Python. Advanced libraries in Python (some of which we will learn about in this course) are built on top of NumPy! A very important library to learn and master to conduct Data Science research using Python."
   ]
  },
  {
   "cell_type": "code",
   "execution_count": null,
   "id": "f5a26f09-8290-4e80-a289-5ee8fde03223",
   "metadata": {},
   "outputs": [],
   "source": [
    "import numpy"
   ]
  },
  {
   "cell_type": "markdown",
   "id": "bb8644b1-2fb8-4381-a1b0-b6c2a5d9f880",
   "metadata": {},
   "source": [
    "After importing numpy, now in the cell below, write `numpy` and press \"Tab\" key on your keyboard. "
   ]
  },
  {
   "cell_type": "code",
   "execution_count": null,
   "id": "373cacbc-e623-44d6-bb9c-195106b22bb3",
   "metadata": {},
   "outputs": [],
   "source": [
    "### Your code below this line"
   ]
  },
  {
   "cell_type": "markdown",
   "id": "2d2e50b9-772f-42ef-b894-ecd77c01a180",
   "metadata": {},
   "source": [
    "It should look something like this:\n",
    "\n",
    "<img src=\"./images/Lab2TabOptionsNumpy.png\" alt=\"Tab Options\" width=\"300\"/>\n"
   ]
  },
  {
   "cell_type": "markdown",
   "id": "f3e461ff-9687-4f59-a474-016e4f0fb9c0",
   "metadata": {},
   "source": [
    "Scroll through these items, you will notice that a lot of these are labeled `f` on the right and `function` on the left. These are functions included in the `numpy` library. You can use these functions after importing numpy."
   ]
  },
  {
   "cell_type": "markdown",
   "id": "9fe88bad-a91a-4629-b471-1a504f29da1b",
   "metadata": {},
   "source": [
    "#### Numpy Arrays"
   ]
  },
  {
   "cell_type": "markdown",
   "id": "29f574be-467b-44ab-a4d4-70ff84551453",
   "metadata": {},
   "source": [
    "Thus far, we have learned about lists, which are sequences of values that can be stored in one variable, and can be indexed based on their position in the sequence.\n",
    "\n",
    "An **array** is a vector containing values typically belonging to the *same data type*. In the physical hardware, these values are allocated with contiguous memory locations, and thus indexing is faster than in lists. \n",
    "\n",
    "One key difference between lists and arrays is that typically the size of an array is fixed, whereas it is not fixed in lists. Thus, with arrays, insertion and deletion costs are high as compared to the list.\n",
    "\n",
    "Numpy has a function called **array** and a data type called **ndarray**. The function *array* converts lists to an array of type *ndarray*. These arrays are built specifically for numerical computations.\n",
    "\n",
    "***Note:*** To call the **array** function, you will have to use the following syntax: `numpy.array(<input list goes here>)`\n",
    "\n",
    "Let is try out an example:"
   ]
  },
  {
   "cell_type": "code",
   "execution_count": null,
   "id": "b00121fa-938c-4384-b742-ed234e3eebdb",
   "metadata": {},
   "outputs": [],
   "source": [
    "list1 = [1,2,3,4]\n",
    "list2 = [10,20,30,40]"
   ]
  },
  {
   "cell_type": "code",
   "execution_count": null,
   "id": "e36ec095-ab7a-478a-abeb-6b4193c01f4a",
   "metadata": {},
   "outputs": [],
   "source": [
    "numpy_list1 = numpy.array(list1)\n",
    "numpy_list2 = numpy.array(list2)"
   ]
  },
  {
   "cell_type": "markdown",
   "id": "990f374e-2ea4-49e9-8e4c-31510024018b",
   "metadata": {},
   "source": [
    "Now, we have two versions of the same pair of lists: we have `list1` and `list2`, and we have `numpy_list1` and `numpy_list2`. Print them out below to see any differences in how they appear."
   ]
  },
  {
   "cell_type": "code",
   "execution_count": null,
   "id": "92f7009e-2d6a-4cc1-9477-823096fde799",
   "metadata": {},
   "outputs": [],
   "source": [
    "### Your code below this line"
   ]
  },
  {
   "cell_type": "markdown",
   "id": "60bb1c3b-b3d8-4bc0-9dc2-33b791d6cccc",
   "metadata": {},
   "source": [
    "Now compute an addition (`+`) operation on the two lists, and then the two arrays. See what you get."
   ]
  },
  {
   "cell_type": "code",
   "execution_count": null,
   "id": "42e26bc4-d9bd-45cd-9ae6-cec105679823",
   "metadata": {},
   "outputs": [],
   "source": [
    "### Your code below this line "
   ]
  },
  {
   "cell_type": "markdown",
   "id": "eb86cc0f-330b-4307-9bf2-d3c67ff558eb",
   "metadata": {},
   "source": [
    "What were the differences? Now, try out the other operations discussed earlier in the lab, discussed [here](#operators)."
   ]
  },
  {
   "cell_type": "code",
   "execution_count": null,
   "id": "b54c50d1-9242-427d-923b-e854668e6906",
   "metadata": {},
   "outputs": [],
   "source": [
    "### Your code below this line"
   ]
  },
  {
   "cell_type": "markdown",
   "id": "f870d0b4-283e-40bf-89bc-174c7a0b83fc",
   "metadata": {},
   "source": [
    "What were the differences? Were you able to use all the operators with lists? What about with numpy arrays? In numpy arrays, are the operators operating item by item?\n",
    "\n",
    "Now, consider a third numpy array (run the next cell):"
   ]
  },
  {
   "cell_type": "code",
   "execution_count": null,
   "id": "dcb21c91-dc40-4b4f-a1f0-d9952cb73784",
   "metadata": {},
   "outputs": [],
   "source": [
    "numpy_list3 = numpy.array(list1 + list2)\n",
    "numpy_list3"
   ]
  },
  {
   "cell_type": "markdown",
   "id": "0f4a6863-7012-4b14-908f-843cbbc6da33",
   "metadata": {},
   "source": [
    "Now, try using the same operations but this time, between `numpy_list3` and either `numpy_list1` or `numpy_list2`"
   ]
  },
  {
   "cell_type": "code",
   "execution_count": null,
   "id": "9d9fee0c-0e53-4bf6-ba0b-02bd447940e5",
   "metadata": {},
   "outputs": [],
   "source": [
    "### Your code below this line"
   ]
  },
  {
   "cell_type": "markdown",
   "id": "c49ea84f-24d4-433e-a868-7caafdfe432c",
   "metadata": {},
   "source": [
    "What did you observe? What was the output? Why did you get that output?"
   ]
  },
  {
   "cell_type": "markdown",
   "id": "7e2e8b61-09df-4d6a-8c15-d8d857132d1e",
   "metadata": {},
   "source": [
    "#### Functions in `numpy` to create arrays"
   ]
  },
  {
   "cell_type": "markdown",
   "id": "30298d0f-58e7-40ab-8b6b-958211c4859c",
   "metadata": {},
   "source": [
    "Take a look at the following short list of standard array creation functions in `numpy`. \n",
    "\n",
    "Try out each of these functions for yourself. Make use of the Numpy documentation [here](https://numpy.org/doc/stable/reference/generated/numpy.array.html) to understand these functions better."
   ]
  },
  {
   "cell_type": "markdown",
   "id": "b224ca6c-c879-443c-aa39-d88c3e30df22",
   "metadata": {},
   "source": [
    "| Function              | Description                                                                                                                                                                            |\n",
    "|:-----------------------|:----------------------------------------------------------------------------------------------------------------------------------------------------------------------------------------|\n",
    "| `array`               | Convert input data (list, or  other sequence type) to an `ndarray` either by inferring a data type or  explicitly specifying a data type; copies the input data by default |\n",
    "| `asarray`             | Convert input to `ndarray`, but do not copy if the input is already an `ndarray`                                                                                                           |\n",
    "| `arange`              | Like the built-in range but returns an `ndarray` instead of a list                                                                                                                       |\n",
    "| `ones`, `ones_like`   | Produce an array of all 1s with the given shape and data type; `ones_like` takes another array and produces a ones array of the same shape and data type                                 |\n",
    "| `zeros`, `zeros_like` | Like ones and `ones_like` but producing arrays of 0s instead                                                                                                                             |\n",
    "| `empty`, `empty_like` | Create new arrays by allocating new memory, but do not populate with any values like ones and zeros                                                                                    |"
   ]
  },
  {
   "cell_type": "markdown",
   "id": "e836880d-e5ef-45bf-89f9-a63ae85f2d01",
   "metadata": {},
   "source": [
    "What is feeling difficult about using these functions? What is feeling easy? Discuss on Canvas, among your classmates, and bring your questions to office hours."
   ]
  },
  {
   "cell_type": "markdown",
   "id": "0f1c05ff-f379-41c1-aa50-778620f4d98f",
   "metadata": {},
   "source": [
    "## Practice"
   ]
  },
  {
   "cell_type": "markdown",
   "id": "7492e77d-5e01-45cf-9989-5fec64355474",
   "metadata": {},
   "source": [
    "**Question 1a.** Make two new lists, `quiz1` and `quiz2`.\n",
    "Assume that these lists have values of scores of 10 students in each of them. Each quiz is out of 100 points, so randomly assign points to each students for quiz1 and quiz2. \n",
    "\n",
    "For instance, the quiz1 could look like:\n",
    "`quiz1 = [45,67,90,99,100,34,89,70,25,0,100]`"
   ]
  },
  {
   "cell_type": "code",
   "execution_count": null,
   "id": "9b9adb4f-b07a-4f00-afde-40c9eb32a8ae",
   "metadata": {},
   "outputs": [],
   "source": [
    "### Your code below this line"
   ]
  },
  {
   "cell_type": "markdown",
   "id": "4347f50f-47cc-453b-b0bc-aa98f4e50e2d",
   "metadata": {},
   "source": [
    "**Question 1b.** Now, convert these lists to numpy arrays. Make new variable names for them!"
   ]
  },
  {
   "cell_type": "code",
   "execution_count": null,
   "id": "a26f6721-3990-4cd0-8074-c081e8eed9d8",
   "metadata": {},
   "outputs": [],
   "source": [
    "### Your code below this line"
   ]
  },
  {
   "cell_type": "markdown",
   "id": "9bd58515-459d-4748-8f06-fce4a9913291",
   "metadata": {},
   "source": [
    "**Question 1c:** Using these two numpy arrays, make a third new numpy array which has the total sum of quiz scores for each student. \\\n",
    "*Tip:* you can simply add the two numpy arrays and store it in a new numpy array!"
   ]
  },
  {
   "cell_type": "code",
   "execution_count": null,
   "id": "e28e03ba-9fdd-458a-b2ba-402119c4b70e",
   "metadata": {},
   "outputs": [],
   "source": [
    "### Your code below this line"
   ]
  },
  {
   "cell_type": "markdown",
   "id": "2ff2ac66-d20f-4dad-847d-517f2970092b",
   "metadata": {},
   "source": [
    "**Question 1d:** Calculate the total percentage score for each student. Remember, each score is out of 100."
   ]
  },
  {
   "cell_type": "code",
   "execution_count": null,
   "id": "624457c1-5bc8-462a-a8c5-fca80d801be0",
   "metadata": {},
   "outputs": [],
   "source": [
    "### Your code below this line"
   ]
  }
 ],
 "metadata": {
  "kernelspec": {
   "display_name": "Python 3 (ipykernel)",
   "language": "python",
   "name": "python3"
  },
  "language_info": {
   "codemirror_mode": {
    "name": "ipython",
    "version": 3
   },
   "file_extension": ".py",
   "mimetype": "text/x-python",
   "name": "python",
   "nbconvert_exporter": "python",
   "pygments_lexer": "ipython3",
   "version": "3.11.10"
  }
 },
 "nbformat": 4,
 "nbformat_minor": 5
}
