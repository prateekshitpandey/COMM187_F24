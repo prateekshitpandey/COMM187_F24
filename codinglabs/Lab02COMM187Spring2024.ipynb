{
 "cells": [
  {
   "cell_type": "markdown",
   "id": "533ac834-ae77-4da2-b96b-de2be9ef1089",
   "metadata": {},
   "source": [
    "## COMM 187 (160DS): Data Science in Communication Research -- Spring 2024\n",
    "\n",
    "## Coding Lab #2: Python Basics\n",
    "**Wednesday, April 10, 2024**"
   ]
  },
  {
   "cell_type": "markdown",
   "id": "b9df9ed6-7a63-4f28-8bc0-d21206d528ad",
   "metadata": {},
   "source": [
    "Welcome to the Coding Lab #2 for COMM 187 (160DS): Data Science in Communication Research! \n",
    "\n",
    "Last week, we learnt about what is Python, expressions in Python, names and variables, functions and call expressions.\n",
    "\n",
    "Today's lesson plan:\n",
    " - Review of Coding Assignment #1\n",
    " - Python Basics\n",
    "   - Types of variables\n",
    "   - Lists\n",
    "   - Functions review and Libraries\n",
    "   - Numpy arrays\n",
    "\n",
    "Today's lessons are based on the following online resources (feel free to try them out yourselves too!):\n",
    " - https://inferentialthinking.com/chapters/04/Data_Types.html\n",
    " - https://wesmckinney.com/book/python-basics"
   ]
  },
  {
   "cell_type": "markdown",
   "id": "e44686ae-7d2b-4d00-9540-7e34da361850",
   "metadata": {},
   "source": [
    "### Common mistake from Homework #1"
   ]
  },
  {
   "cell_type": "code",
   "execution_count": null,
   "id": "64f1b6e6-5f93-46e7-af5e-9ec8bfb4a1ad",
   "metadata": {},
   "outputs": [],
   "source": [
    "some_variable = 19034.576"
   ]
  },
  {
   "cell_type": "markdown",
   "id": "dc9501d4-a463-4ea5-bebd-1aaa27ab6def",
   "metadata": {},
   "source": [
    "What is the difference between A and B?\n",
    "\n",
    "**A**"
   ]
  },
  {
   "cell_type": "code",
   "execution_count": null,
   "id": "5ca12232-3a4d-4e88-bf4f-58ea81c53f41",
   "metadata": {},
   "outputs": [],
   "source": [
    "round(some_variable)"
   ]
  },
  {
   "cell_type": "markdown",
   "id": "80f70248-983a-43ff-a2bf-82ef44b5d76a",
   "metadata": {},
   "source": [
    "**B**"
   ]
  },
  {
   "cell_type": "code",
   "execution_count": null,
   "id": "f4810c0f-a8e1-4c61-8afc-afb5763504b9",
   "metadata": {},
   "outputs": [],
   "source": [
    "some_variable = round(some_variable)"
   ]
  },
  {
   "cell_type": "markdown",
   "id": "ba9521bf-b6a0-48f3-a2ea-1b5e97690ca4",
   "metadata": {},
   "source": [
    "## Python Basics"
   ]
  },
  {
   "cell_type": "markdown",
   "id": "7431c452-b654-44d1-9199-9f593070b2aa",
   "metadata": {},
   "source": [
    "### Data types"
   ]
  },
  {
   "cell_type": "markdown",
   "id": "c3c15756-2152-41b6-a994-0411bfc266c9",
   "metadata": {},
   "source": [
    "Python has a small set of built-in types for handling numerical data, strings, and Boolean (True or False) values. These \"single value\" types are sometimes called *scalar* types."
   ]
  },
  {
   "cell_type": "markdown",
   "id": "d1a4df94-740e-4006-8096-c631bd84fd27",
   "metadata": {},
   "source": [
    "#### Numerical Types `int` and `float`"
   ]
  },
  {
   "cell_type": "markdown",
   "id": "aa29e0cc-9783-48ef-9aa0-430e9e36a951",
   "metadata": {},
   "source": [
    "Python (like most other programming languages) distinguishes between two different types of numerical data:\n",
    "\n",
    " - Integers are called `int` values in the Python language. They can only represent integers (negative, zero, or positive) that don’t have a fractional component (i.e., no decimal points).\n",
    " - Real numbers are called `float` values (or floating point values) in the Python language. They can represent whole or fractional numbers but have some limitations.\n",
    "\n",
    "The type of a number is evident from the way it is displayed: `int` values have no decimal point and `float` values always have a decimal point."
   ]
  },
  {
   "cell_type": "code",
   "execution_count": null,
   "id": "09b7b932-15a2-43a1-8e0a-d89aa145cb0f",
   "metadata": {},
   "outputs": [],
   "source": [
    "int_var = 3\n",
    "float_var = 3.0"
   ]
  },
  {
   "cell_type": "markdown",
   "id": "84b61a44-1a8c-4b07-9d88-27af1d488cb8",
   "metadata": {},
   "source": [
    "#### String Type `str`"
   ]
  },
  {
   "cell_type": "markdown",
   "id": "16eda96a-c2e3-4261-a2be-77f2bd007545",
   "metadata": {},
   "source": [
    "Text in Python is called a **string** type, or `str`, which basically means that it is a string or sequence of characters."
   ]
  },
  {
   "cell_type": "code",
   "execution_count": null,
   "id": "14cfe4d4-b861-4245-ae6a-1aa80da13294",
   "metadata": {},
   "outputs": [],
   "source": [
    "str_var = \"hello!\""
   ]
  },
  {
   "cell_type": "markdown",
   "id": "09dcd1cf-3c39-4667-8333-ff9a5ae9293b",
   "metadata": {},
   "source": [
    "**Question:** What is the difference between the following two variables?"
   ]
  },
  {
   "cell_type": "code",
   "execution_count": null,
   "id": "2b781f3f-62d7-447e-8139-8c19f7eb5868",
   "metadata": {},
   "outputs": [],
   "source": [
    "var1 = \"234\"\n",
    "var2 = 234"
   ]
  },
  {
   "cell_type": "markdown",
   "id": "6bc6b6d6-d760-4a6a-a88b-11ee6bfecb63",
   "metadata": {},
   "source": [
    "#### Boolean Type `bool`"
   ]
  },
  {
   "cell_type": "markdown",
   "id": "989c186e-e876-4fab-8801-72e9aa4159f9",
   "metadata": {},
   "source": [
    "Boolean values are either `True` (1) or `False` (0). The ones and zeroes of computers that everyone keeps talking about!"
   ]
  },
  {
   "cell_type": "code",
   "execution_count": null,
   "id": "7c398ad3-52ea-488c-92b2-cfd33ad1668e",
   "metadata": {},
   "outputs": [],
   "source": [
    "bool_var = False"
   ]
  },
  {
   "cell_type": "markdown",
   "id": "c1e26091-26e0-4f70-9578-6081c01397e0",
   "metadata": {},
   "source": [
    "#### Type and Type Casting"
   ]
  },
  {
   "cell_type": "markdown",
   "id": "365014f0-aaac-40e5-811c-9bbd519196fb",
   "metadata": {},
   "source": [
    "The `type` function can be used to determine the data type of a given variable."
   ]
  },
  {
   "cell_type": "code",
   "execution_count": null,
   "id": "8108b2d5-b3d6-4e4d-bb19-9aa023cadac5",
   "metadata": {},
   "outputs": [],
   "source": [
    "type(int_var)"
   ]
  },
  {
   "cell_type": "code",
   "execution_count": null,
   "id": "129038aa-860c-429d-b591-55177c1e7ef6",
   "metadata": {},
   "outputs": [],
   "source": [
    "type(float_var)"
   ]
  },
  {
   "cell_type": "code",
   "execution_count": null,
   "id": "88b748a2-7e68-44b9-9f6e-7db140a146da",
   "metadata": {},
   "outputs": [],
   "source": [
    "type(str_var)"
   ]
  },
  {
   "cell_type": "code",
   "execution_count": null,
   "id": "c915bb94-b455-45f2-b6f1-a5308a50ebe7",
   "metadata": {},
   "outputs": [],
   "source": [
    "type(bool_var)"
   ]
  },
  {
   "cell_type": "markdown",
   "id": "89b14fa9-8380-446d-8be4-1529135883ae",
   "metadata": {},
   "source": [
    "The `str`, `bool`, `int`, and `float` types are also *functions* that can be used to *cast*, or convert values to those types.\n",
    "\n",
    "For example, let us start with a variable s with a string value."
   ]
  },
  {
   "cell_type": "code",
   "execution_count": null,
   "id": "ec3e0b09-fec3-487a-929f-3f9696d883dc",
   "metadata": {},
   "outputs": [],
   "source": [
    "s = \"3.14159\""
   ]
  },
  {
   "cell_type": "code",
   "execution_count": null,
   "id": "ed0f9d9f-7893-47c7-b4b2-0898846dbc3a",
   "metadata": {},
   "outputs": [],
   "source": [
    "type(s)"
   ]
  },
  {
   "cell_type": "markdown",
   "id": "cff1f99f-d981-4f2d-a60f-809437387ce7",
   "metadata": {},
   "source": [
    "What happens when we type cast it as float, in order words, convert it to float?"
   ]
  },
  {
   "cell_type": "code",
   "execution_count": null,
   "id": "f77a20a2-e912-4a4f-a09a-acb4aa5c8c7f",
   "metadata": {},
   "outputs": [],
   "source": [
    "fval = float(s)"
   ]
  },
  {
   "cell_type": "code",
   "execution_count": null,
   "id": "9c3d8e86-a13b-40e1-ab83-25c921b46021",
   "metadata": {},
   "outputs": [],
   "source": [
    "type(fval)"
   ]
  },
  {
   "cell_type": "markdown",
   "id": "cfcd218e-5564-4406-b948-4980ef0f5dd6",
   "metadata": {},
   "source": [
    "What happens if we convert fval into integer."
   ]
  },
  {
   "cell_type": "code",
   "execution_count": null,
   "id": "47ed8439-96f9-46d6-9d34-e3eab229110d",
   "metadata": {},
   "outputs": [],
   "source": [
    "int(fval)"
   ]
  },
  {
   "cell_type": "markdown",
   "id": "de566f87-1cce-410d-aa43-59e99731fd07",
   "metadata": {},
   "source": [
    "What happens if we convert fval to boolean?"
   ]
  },
  {
   "cell_type": "code",
   "execution_count": null,
   "id": "1b486519-c8f8-448c-9486-2203909e5444",
   "metadata": {},
   "outputs": [],
   "source": [
    "bool(fval)"
   ]
  },
  {
   "cell_type": "markdown",
   "id": "60e1bffc-64ad-46c4-ad15-b18239d340d3",
   "metadata": {},
   "source": [
    "**Question:** What kind of `int` or `float` value will convert to `False` when typecast to `bool`?"
   ]
  },
  {
   "cell_type": "code",
   "execution_count": null,
   "id": "7e0331a9-fbcf-4f13-b8b4-ea729968ba8f",
   "metadata": {},
   "outputs": [],
   "source": [
    "### Your answer below this line"
   ]
  },
  {
   "cell_type": "markdown",
   "id": "dc6436fd-607c-449c-90c4-38c8d0c5aa05",
   "metadata": {},
   "source": [
    "#### More operators\n",
    "<a id='operators'></a>"
   ]
  },
  {
   "cell_type": "markdown",
   "id": "9a258f29-8f6f-4b4f-b95c-975177b7d727",
   "metadata": {},
   "source": [
    "Adding to the list of expressions and operators last week, here is a longer list of operators with details on the type of input and type of output for each. \\\n",
    "Make new cells below the table and try out each type of expression."
   ]
  },
  {
   "cell_type": "markdown",
   "id": "ed9c770b-e05b-48be-9f0a-53adae21f41c",
   "metadata": {},
   "source": [
    "| Expression Type                       | Operator     | Input Type                    | Output Type                   | Example                                                       | Value                                    |\n",
    "|:--------------------------------------|:-------------|:------------------------------|:------------------------------|:--------------------------------------------------------------|:-----------------------------------------|\n",
    "| Addition                              | `+`          | `int`<br>`float`<br>`str`         | `int`<br>`float`<br>`str`         | `2 + 3`<br>`2.12 + 3.23`<br>`\"hello \" + \"world!\"`                 | `5`<br>`5.35`<br>`\"hello world!\"`            |\n",
    "| Subtraction                           | `-`          | `int`<br>`float`                | `int`<br>`float`                | `2-3`<br>`2.12 - 3.23`                                          | `-1`<br>`-1.11`                            |\n",
    "| Multiplication                        | `*`          | `int`<br>`float`                | `int`  `float`                | `2*3`<br>`2.12*3.23`                                            | `6`<br>`6.8476`                            |\n",
    "| Division                              | `/`          | `int`<br>`float`                | `float`                       | `7/3`<br>`7.1/3.1`                                              | `2.333333333333335`<br>`2.290322580645161` |\n",
    "| Floor division                        | `//`         | `int`<br>`float`                | `int`<br>`float`                | `7//3`<br>`7.1//3.1`                                            | `2`  `2.0`                               |\n",
    "| Remainder                             | `%`          | `int`<br>`float`                | `int`<br>`float`                | `7%3`<br>`7.1%3.1`                                              | `1`  `0.8999999999999995`                |\n",
    "| Exponential                           | `**`         | `int`<br>`float`                | `int`<br>`float`                | `2**3`<br>`2.1**3.1`                                            | `8`  `9.97423999265871`                  |\n",
    "| And                                   | `&` or `and` | `bool`                        | `bool`                        | `True & False`<br>`True and False`                              | `False`                                  |\n",
    "| Or                                    | `\\|` or `or` | `bool`                        | `bool`                        | `True \\| False`<br>`True or False`                              | `True`                                   |\n",
    "| Exclusive Or                          | `^`          | `bool`                        | `bool`                        | `True ^ False`<br>`True ^ True`                                 | `True`<br>`False`                          |\n",
    "| Equals                                | `==`         | `int`<br>`float`<br>`str`<br>`bool` | `int`<br>`float`<br>`str`<br>`bool` | `2 == 3`<br>`2.1 == 2.1`<br>`\"hello\" == \"hello\"`<br>`True == False` | `False`<br>`True`<br>`True`<br>`False`         |\n",
    "| Not equals                            | `!=`         | `int`<br>`float`<br>`str`<br>`bool` | `int`<br>`float`<br>`str`<br>`bool` | `2 != 3`<br>`2.1 != 2.1`<br>`\"hello\" != \"hello\"`<br>`True != False` | `True`<br>`False`<br>`False`<br>`True`         |\n",
    "| Less than/<br>Less than or equal to       | `<` or `<=`  | `int`<br>`float`                | `int`<br>`float`                | `2 < 3`<br>`3 < 3`<br>`3 <= 3`<br>`7.1 <= 3.1`                      | `True`<br>`False`<br>`True`<br>`False`         |\n",
    "| Greater than/<br>Greater than or equal to  | `>` or `>=`  | `int`<br>`float`                | `int`<br>`float`                | `2 < 3`<br>`3 > 3`<br>`3 >= 3`<br>`7.1 >= 3.1`                      | `True`<br>`False`<br>`True`<br>`True`         |"
   ]
  },
  {
   "cell_type": "code",
   "execution_count": null,
   "id": "649f851d-68ad-42d0-805a-a3a5e1e074c0",
   "metadata": {},
   "outputs": [],
   "source": [
    "### Your code below this line"
   ]
  },
  {
   "cell_type": "markdown",
   "id": "8bf6a776-f831-4641-9435-cc41ace067e0",
   "metadata": {},
   "source": [
    "### Sequences and Lists"
   ]
  },
  {
   "cell_type": "markdown",
   "id": "71adcc5d-8618-486e-a0d3-90a6d8b6c23d",
   "metadata": {},
   "source": [
    "Let us say that you wanted to store more than one value in one variable. How can you do that?\n",
    "\n",
    "We can make a **list** using the following expression: `[value1, value2, value3, ...]` \\\n",
    "where `value1`, `value2`, and so on are values that you want to store in a sequence in the list.\n",
    "\n",
    "Let us look at some examples."
   ]
  },
  {
   "cell_type": "code",
   "execution_count": null,
   "id": "8298d44f-a5ab-4cb5-a4b3-63d162b9a304",
   "metadata": {},
   "outputs": [],
   "source": [
    "a = [1,2,3,4,5]\n",
    "a"
   ]
  },
  {
   "cell_type": "code",
   "execution_count": null,
   "id": "d059d7c5-46b2-48fa-ad5c-c5fe05c86cbf",
   "metadata": {},
   "outputs": [],
   "source": [
    "b = [-1, -1, -1, -1, -1]\n",
    "b"
   ]
  },
  {
   "cell_type": "markdown",
   "id": "75cf5f49-71cb-4628-9e3e-3505fd40e754",
   "metadata": {},
   "source": [
    "**Question:** Can you make a list with varying data types? Try it out!"
   ]
  },
  {
   "cell_type": "code",
   "execution_count": null,
   "id": "61913b94-417f-435e-90fc-32a2b9a298e8",
   "metadata": {},
   "outputs": [],
   "source": [
    "## Your code below this line"
   ]
  },
  {
   "cell_type": "markdown",
   "id": "9f6c1796-5673-46c8-8eb6-974b88652fe8",
   "metadata": {},
   "source": [
    "**Question:** What happens when you add (`+`) the two lists?"
   ]
  },
  {
   "cell_type": "code",
   "execution_count": null,
   "id": "dbe8759d-64e4-4e7b-b47e-b3880d1dd952",
   "metadata": {},
   "outputs": [],
   "source": [
    "## Your code below this line"
   ]
  },
  {
   "cell_type": "markdown",
   "id": "3e078d36-9e7d-4f73-8bb8-2447e84b42b2",
   "metadata": {},
   "source": [
    "#### Indexing lists"
   ]
  },
  {
   "cell_type": "markdown",
   "id": "ba31ec02-d300-4164-9b76-1f8f1b82d425",
   "metadata": {},
   "source": [
    "How do you find an element that is in the list? Elements in the list are present in a sequence, and are **indexed** based on that sequence. \n",
    "\n",
    "For instance, let us take the following list:"
   ]
  },
  {
   "cell_type": "code",
   "execution_count": null,
   "id": "7e545e12-112f-43b2-b7a0-c21d30ef5966",
   "metadata": {},
   "outputs": [],
   "source": [
    "testlist = [23, 43, 9, 0, 89, 76, 1, 5]"
   ]
  },
  {
   "cell_type": "markdown",
   "id": "76e1ecb3-d4e1-49a7-aa01-85fdab1984f2",
   "metadata": {},
   "source": [
    "Here, we have a sequence of eight integer numbers stored in variable `testlist`. Each number from `23` till `5` has a position in this sequence. The position starts from `0`, `1`, ... and goes until `n-1`, where `n` is the length of the list, which in this case is `8-1 = 7`, as shown below. These positions are called **index**, or indices (plural)."
   ]
  },
  {
   "cell_type": "markdown",
   "id": "80c5537c-eb89-4d12-9279-aba226950f7b",
   "metadata": {},
   "source": [
    "<img src=\"./images/Lab2ListIndexing.png\" alt=\"Tab Options\" width=\"600\"/>"
   ]
  },
  {
   "cell_type": "markdown",
   "id": "b3c958ae-3597-44dd-baeb-949b79106d91",
   "metadata": {},
   "source": [
    "If you want to retrieve any one of these values, you can use the following syntax: `<list name>[<index>]`\n",
    "\n",
    "In this case, `<list name>` is `testlist`. In the figure above, the numbers below the list, in red, are the *indices*.\n",
    "\n",
    "In the following cell, retrieve the value 4th position from the beginning in this list:"
   ]
  },
  {
   "cell_type": "code",
   "execution_count": null,
   "id": "98f4c5cd-60f1-4446-9946-7b1fbd79b95e",
   "metadata": {},
   "outputs": [],
   "source": [
    "# Your code below this line"
   ]
  },
  {
   "cell_type": "markdown",
   "id": "04cd8c23-c825-48f2-b5bc-3d00d26b4709",
   "metadata": {},
   "source": [
    "### Functions and Libraries"
   ]
  },
  {
   "cell_type": "markdown",
   "id": "03145c50-bb51-4ad5-ab08-b8ddff205fe9",
   "metadata": {},
   "source": [
    "Last week we discussed complex operations in Python which are called **functions** which are invoked by **call expressions**. \\\n",
    "For instance, in `print(\"Hello World!\")`, the word `print` is the *call expression* for the function `print()` \\\n",
    "As illustrated in the Hello World example, the name of the function appears first, followed by expressions inside parentheses `()`.\n",
    "\n",
    "A collection of functions is called a **library**. \n",
    "\n",
    "Think of library as a toolbox, and functions as tools. Different toolboxes are meant for different types of jobs, and contains tools specific to those jobs. Similarly, different libraries are designed for different types of tasks (like mathematical computing, image computing, scientific operations, etc.) and contains functions functions which are specific to those tasks."
   ]
  },
  {
   "cell_type": "markdown",
   "id": "d68cc06b-417c-479f-803f-b45ebf2c757a",
   "metadata": {},
   "source": [
    "How do you use a library in your Python code?\n",
    "\n",
    "We first **import** a library into our code using the `import` command. \\\n",
    "Then, we use functions inside the library using the following syntax: `<library name>.<function name>()`. \n",
    "\n",
    "Let us try it out with the example of *numpy* library, which is used for complex numerical computations."
   ]
  },
  {
   "cell_type": "markdown",
   "id": "fd4a355c-3d92-4e2a-8e2f-4ac7c44bb5b3",
   "metadata": {},
   "source": [
    "#### Numpy"
   ]
  },
  {
   "cell_type": "code",
   "execution_count": null,
   "id": "f5a26f09-8290-4e80-a289-5ee8fde03223",
   "metadata": {},
   "outputs": [],
   "source": [
    "import numpy"
   ]
  },
  {
   "cell_type": "markdown",
   "id": "bb8644b1-2fb8-4381-a1b0-b6c2a5d9f880",
   "metadata": {},
   "source": [
    "After importing numpy, now in the cell below, write `numpy` and press \"Tab\" key on your keyboard. "
   ]
  },
  {
   "cell_type": "code",
   "execution_count": null,
   "id": "373cacbc-e623-44d6-bb9c-195106b22bb3",
   "metadata": {},
   "outputs": [],
   "source": [
    "### Your code below this line"
   ]
  },
  {
   "cell_type": "markdown",
   "id": "2d2e50b9-772f-42ef-b894-ecd77c01a180",
   "metadata": {},
   "source": [
    "It should look something like this:\n",
    "\n",
    "<img src=\"./images/Lab2TabOptionsNumpy.png\" alt=\"Tab Options\" width=\"300\"/>\n"
   ]
  },
  {
   "cell_type": "markdown",
   "id": "f3e461ff-9687-4f59-a474-016e4f0fb9c0",
   "metadata": {},
   "source": [
    "Scroll through these items, you will notice that a lot of these are labeled `f` on the right and `function` on the left. These are functions included in the `numpy` library. You can use these functions after importing numpy."
   ]
  },
  {
   "cell_type": "markdown",
   "id": "9fe88bad-a91a-4629-b471-1a504f29da1b",
   "metadata": {},
   "source": [
    "#### Numpy Arrays"
   ]
  },
  {
   "cell_type": "markdown",
   "id": "29f574be-467b-44ab-a4d4-70ff84551453",
   "metadata": {},
   "source": [
    "We just learnt about lists, which are sequences of several values and can be stored in one variable, and can be indexed based on their position in the sequence.\n",
    "\n",
    "An **array** is a vector containing values typically belonging to the *same data type*. In the hardware, these values are allocated with contiguous memory locations, and thus indexing is faster than in lists. \n",
    "\n",
    "One key difference between lists and arrays is that typically the size of an array is fixed, whereas it is not fixed in lists. Thus, with arrays, insertion and deletion costs are high as compared to the list.\n",
    "\n",
    "Numpy has a function called **array** and a data type called **ndarray**. The function *array* converts lists to an array of type *ndarray*. These arrays are built specifically for numerical computations.\n",
    "\n",
    "***Note:*** To call the **array** function, you will have to use the following syntax: `numpy.array(<input list goes here>)`\n",
    "\n",
    "Let is try out an example:"
   ]
  },
  {
   "cell_type": "code",
   "execution_count": null,
   "id": "b00121fa-938c-4384-b742-ed234e3eebdb",
   "metadata": {},
   "outputs": [],
   "source": [
    "list1 = [1,2,3,4]\n",
    "list2 = [10,20,30,40]"
   ]
  },
  {
   "cell_type": "code",
   "execution_count": null,
   "id": "e36ec095-ab7a-478a-abeb-6b4193c01f4a",
   "metadata": {},
   "outputs": [],
   "source": [
    "numpy_list1 = numpy.array(list1)\n",
    "numpy_list2 = numpy.array(list2)"
   ]
  },
  {
   "cell_type": "markdown",
   "id": "990f374e-2ea4-49e9-8e4c-31510024018b",
   "metadata": {},
   "source": [
    "Now, we have two versions of the same pair of lists: we have `list1` and `list2`, and we have `numpy_list1` and `numpy_list2`. Print them out below to see any differences in how they appear."
   ]
  },
  {
   "cell_type": "code",
   "execution_count": null,
   "id": "92f7009e-2d6a-4cc1-9477-823096fde799",
   "metadata": {},
   "outputs": [],
   "source": [
    "### Your code below this line"
   ]
  },
  {
   "cell_type": "markdown",
   "id": "60bb1c3b-b3d8-4bc0-9dc2-33b791d6cccc",
   "metadata": {},
   "source": [
    "Now compute an addition (`+`) operation on the two lists, and then the two arrays. See what you get."
   ]
  },
  {
   "cell_type": "code",
   "execution_count": null,
   "id": "42e26bc4-d9bd-45cd-9ae6-cec105679823",
   "metadata": {},
   "outputs": [],
   "source": [
    "### Your code below this line "
   ]
  },
  {
   "cell_type": "markdown",
   "id": "eb86cc0f-330b-4307-9bf2-d3c67ff558eb",
   "metadata": {},
   "source": [
    "What were the differences? Now, try out the other operations discussed earlier in the lab, discussed [here](#operators)."
   ]
  },
  {
   "cell_type": "code",
   "execution_count": null,
   "id": "b54c50d1-9242-427d-923b-e854668e6906",
   "metadata": {},
   "outputs": [],
   "source": [
    "### Your code below this line"
   ]
  },
  {
   "cell_type": "markdown",
   "id": "f870d0b4-283e-40bf-89bc-174c7a0b83fc",
   "metadata": {},
   "source": [
    "What were the differences? Were you able to use all the operators with lists? What about with numpy arrays? In numpy arrays, are the operators operating item by item?\n",
    "\n",
    "Now, consider a third numpy array (run the next cell):"
   ]
  },
  {
   "cell_type": "code",
   "execution_count": null,
   "id": "dcb21c91-dc40-4b4f-a1f0-d9952cb73784",
   "metadata": {},
   "outputs": [],
   "source": [
    "numpy_list3 = numpy.array(list1 + list2)\n",
    "numpy_list3"
   ]
  },
  {
   "cell_type": "markdown",
   "id": "0f4a6863-7012-4b14-908f-843cbbc6da33",
   "metadata": {},
   "source": [
    "Now, try using the same operations but this time, between `numpy_list3` and either `numpy_list1` or `numpy_list2`"
   ]
  },
  {
   "cell_type": "code",
   "execution_count": null,
   "id": "9d9fee0c-0e53-4bf6-ba0b-02bd447940e5",
   "metadata": {},
   "outputs": [],
   "source": [
    "### Your code below this line"
   ]
  },
  {
   "cell_type": "markdown",
   "id": "c49ea84f-24d4-433e-a868-7caafdfe432c",
   "metadata": {},
   "source": [
    "What did you observe? What was the output? Why did you get that output?"
   ]
  },
  {
   "cell_type": "markdown",
   "id": "7e2e8b61-09df-4d6a-8c15-d8d857132d1e",
   "metadata": {},
   "source": [
    "#### Functions in `numpy` to create arrays"
   ]
  },
  {
   "cell_type": "markdown",
   "id": "30298d0f-58e7-40ab-8b6b-958211c4859c",
   "metadata": {},
   "source": [
    "Take a look at the following short list of standard array creation functions in `numpy`. \n",
    "\n",
    "Try out each of these functions for yourself. Make use of the Numpy documentation [here](https://numpy.org/doc/stable/reference/generated/numpy.array.html) to understand these functions better."
   ]
  },
  {
   "cell_type": "markdown",
   "id": "b224ca6c-c879-443c-aa39-d88c3e30df22",
   "metadata": {},
   "source": [
    "| Function              | Description                                                                                                                                                                            |\n",
    "|:-----------------------|:----------------------------------------------------------------------------------------------------------------------------------------------------------------------------------------|\n",
    "| `array`               | Convert input data (list, or  other sequence type) to an `ndarray` either by inferring a data type or  explicitly specifying a data type; copies the input data by default |\n",
    "| `asarray`             | Convert input to `ndarray`, but do not copy if the input is already an `ndarray`                                                                                                           |\n",
    "| `arange`              | Like the built-in range but returns an `ndarray` instead of a list                                                                                                                       |\n",
    "| `ones`, `ones_like`   | Produce an array of all 1s with the given shape and data type; `ones_like` takes another array and produces a ones array of the same shape and data type                                 |\n",
    "| `zeros`, `zeros_like` | Like ones and `ones_like` but producing arrays of 0s instead                                                                                                                             |\n",
    "| `empty`, `empty_like` | Create new arrays by allocating new memory, but do not populate with any values like ones and zeros                                                                                    |"
   ]
  },
  {
   "cell_type": "markdown",
   "id": "e836880d-e5ef-45bf-89f9-a63ae85f2d01",
   "metadata": {},
   "source": [
    "What is feeling difficult about using these functions? What is feeling easy? Discuss on Canvas, among your classmates, and bring your questions to office hours."
   ]
  },
  {
   "cell_type": "markdown",
   "id": "0f1c05ff-f379-41c1-aa50-778620f4d98f",
   "metadata": {},
   "source": [
    "## Practice"
   ]
  },
  {
   "cell_type": "markdown",
   "id": "7492e77d-5e01-45cf-9989-5fec64355474",
   "metadata": {},
   "source": [
    "**Question 1a.** Make two new lists, `quiz1` and `quiz2`.\n",
    "Assume that these lists have values of scores of 10 students in each of them. Each quiz is out of 100 points, so randomly assign points to each students for quiz1 and quiz2. \n",
    "\n",
    "For instance, the quiz1 could look like:\n",
    "`quiz1 = [45,67,90,99,100,34,89,70,25,0,100]`"
   ]
  },
  {
   "cell_type": "code",
   "execution_count": null,
   "id": "9b9adb4f-b07a-4f00-afde-40c9eb32a8ae",
   "metadata": {},
   "outputs": [],
   "source": [
    "### Your code below this line"
   ]
  },
  {
   "cell_type": "markdown",
   "id": "4347f50f-47cc-453b-b0bc-aa98f4e50e2d",
   "metadata": {},
   "source": [
    "**Question 1b.** Now, convert these lists to numpy arrays. Make new variable names for them!"
   ]
  },
  {
   "cell_type": "code",
   "execution_count": null,
   "id": "a26f6721-3990-4cd0-8074-c081e8eed9d8",
   "metadata": {},
   "outputs": [],
   "source": [
    "### Your code below this line"
   ]
  },
  {
   "cell_type": "markdown",
   "id": "9bd58515-459d-4748-8f06-fce4a9913291",
   "metadata": {},
   "source": [
    "**Question 1c:** Using these two numpy arrays, make a third new numpy array which has the total sum of quiz scores for each student. \\\n",
    "*Tip:* you can simply add the two numpy arrays and store it in a new numpy array!"
   ]
  },
  {
   "cell_type": "code",
   "execution_count": null,
   "id": "e28e03ba-9fdd-458a-b2ba-402119c4b70e",
   "metadata": {},
   "outputs": [],
   "source": [
    "### Your code below this line"
   ]
  },
  {
   "cell_type": "markdown",
   "id": "2ff2ac66-d20f-4dad-847d-517f2970092b",
   "metadata": {},
   "source": [
    "**Question 1d:** Calculate the total percentage score for each student. Remember, each score is out of 100."
   ]
  },
  {
   "cell_type": "code",
   "execution_count": null,
   "id": "624457c1-5bc8-462a-a8c5-fca80d801be0",
   "metadata": {},
   "outputs": [],
   "source": [
    "### Your code below this line"
   ]
  }
 ],
 "metadata": {
  "kernelspec": {
   "display_name": "Python 3 (ipykernel)",
   "language": "python",
   "name": "python3"
  },
  "language_info": {
   "codemirror_mode": {
    "name": "ipython",
    "version": 3
   },
   "file_extension": ".py",
   "mimetype": "text/x-python",
   "name": "python",
   "nbconvert_exporter": "python",
   "pygments_lexer": "ipython3",
   "version": "3.11.5"
  }
 },
 "nbformat": 4,
 "nbformat_minor": 5
}
