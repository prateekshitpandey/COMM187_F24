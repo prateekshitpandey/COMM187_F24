{
 "cells": [
  {
   "cell_type": "markdown",
   "id": "533ac834-ae77-4da2-b96b-de2be9ef1089",
   "metadata": {},
   "source": [
    "# COMM 187 (160DS): Data Science in Communication Research -- Fall 2024\n",
    "\n",
    "## Coding Lab #1: Introduction to Python and Jupyterhub\n",
    "**Wednesday, Oct 2, 2024**"
   ]
  },
  {
   "cell_type": "markdown",
   "id": "f923a686-e95b-42f7-ab43-ebdf1e795cbe",
   "metadata": {},
   "source": [
    "Welcome to the first Coding Lab for COMM 187 (160DS): Data Science in Communication Research! \n",
    "\n",
    "Today's lesson plan:\n",
    " - Familiarize yourself with this coding platform -- Jupyterhub\n",
    " - Learn a few basic commands in Python\n",
    " - Submit a test assignment using Gradescope\n",
    "\n",
    "Today's lessons are based on the following online resources (feel free to try them out yourselves too!):\n",
    " - https://inferentialthinking.com/chapters/03/programming-in-python.html\n",
    " - https://wesmckinney.com/book/python-basics"
   ]
  },
  {
   "cell_type": "markdown",
   "id": "76e07e17-e5ad-4acd-9579-a5bb0e7d8d95",
   "metadata": {},
   "source": [
    "**IMPORTANT**\n",
    "\n",
    "You have access to [DataCamp](https://www.datacamp.com/), which has a large suite of coding tutorials and learning resources. As we learn coding skills in Python throughout the quarter, I will be assinging certain chapters from courses on this website for you to do along with your assignments. The chapters are assigned with the intention to aid your programming skill development, and get you more practice.\n",
    "\n",
    "TO JOIN, CLICK THIS LINK: https://www.datacamp.com/groups/shared_links/a9415f75e12d679e4a8901b97b83a8639df686551e09ec677106403509fae32e \n",
    "\n",
    "Please let me know if you are having any difficulty."
   ]
  },
  {
   "cell_type": "markdown",
   "id": "3e1177d8-b4a3-4f1e-a668-4c7d94593fc3",
   "metadata": {},
   "source": [
    "Hold on, wait a second. \n",
    "\n",
    "So we have CANVAS for the course, \\\n",
    "but also a GITHUB, \\\n",
    "and we are coding in PYTHON, \\\n",
    "and we doing that on JUPYTERHUB, \\\n",
    "and also there is GRADESCOPE??? \n",
    "\n",
    "TOO MANY THINGS!!! \\\n",
    "If you are feeling overwhelmed, take a deep breath -- we are going to go step by step and understand why we have all of these systems."
   ]
  },
  {
   "cell_type": "markdown",
   "id": "b849c6c3-d210-4263-a4d3-0cbe141197d8",
   "metadata": {},
   "source": [
    "## What is Python?"
   ]
  },
  {
   "cell_type": "markdown",
   "id": "46205588-2a5e-4271-8eb4-b5161be0c034",
   "metadata": {},
   "source": [
    "To conduct data analysis on digital data on computers, we need an interface with the computers. We need a way to instruct the computer to carry out a set of analytical tasks. Put differently, we need a *language* to *program* our instructions for the computer -- a programming language. Python is one such programming language, which gained popularity for how easy it is to use for a variety of applications like software development and data analytics. "
   ]
  },
  {
   "cell_type": "markdown",
   "id": "1c14ee18-f815-46ae-a058-c6f3fadf048c",
   "metadata": {},
   "source": [
    "More formally, Python is an **interpreted**, **object-oriented**, and **high-level language**. \n",
    "\n",
    "What does that mean? Let's look at each term:\n",
    "\n",
    "**Interpreted:** Some programming languages are compiled, and some are interpreted. The difference is not too complicated, and you can read more about it [here](https://kb.iu.edu/d/agsz), but we won't get into that. Put simply, interpreted languages are simple, human-readable, and are executed one statement at a time. \n",
    "\n",
    "**Object-oriented:** It means that everything in Python is an \"object\". In object-oriented programming, data and its related functions are combined into cohesive units called “objects.” If that doesn't sound intuitively helpful or easy to understand right now, don't worry, it will make sense as you start coding more. if you are curious, you can read about it [here](https://medium.com/@Adekola_Olawale/beginners-guide-to-object-oriented-programming-a94601ea2fbd#0ff9).\n",
    "\n",
    "**High-level:** As compard to \"low-level\" languages like assembly language which are directly interpretable by the computer processors, and are not readable by humans. High-level languages are easy for humans to understand and read."
   ]
  },
  {
   "cell_type": "markdown",
   "id": "4b2aff0b-3759-4beb-9e0f-7b493bb9de7c",
   "metadata": {},
   "source": [
    "## What is Jupyterhub?"
   ]
  },
  {
   "cell_type": "markdown",
   "id": "de2ba821-51cc-4b68-87b8-e6d8b26a4711",
   "metadata": {},
   "source": [
    "To write and execute Python code, you need a platform or software which helps you do that. **Jupyter** is one such interactive platform for Python programming. Jupyter's name is a reference to the three core programming languages supported by Jupyter, which are **Ju**lia, **Pyt**hon and **R**! On Jupyter, you can write code and execute its output right underneath it. More importantly, Jupyter can be hosted on a server, which means that the code runs on the server and not your computer. This is helpful for us, because we do not need to install anything on our computers, and we can simply write and execute Python code using Jupyter.\n",
    "\n",
    "What you are currently viewing this on is the Jupyter**Lab** environment. Here, you can have multiple tabs open, with different types of coding environments, along with a side bar (on the left side of the screen) which displays a file system. "
   ]
  },
  {
   "cell_type": "markdown",
   "id": "8dc3e15f-3682-4208-903f-c82670f36b07",
   "metadata": {},
   "source": [
    "### Jupyter Notebooks\n",
    "\n",
    "The Jupyter Notebook is at the heart of what Jupyter offers as a platform -- it is an interactive document for code, text, data visualizations, and other output. This document you are reading right now is a notebook too! \n",
    "\n",
    "Jupyter Notebooks are organized into cells. You might have noticed that the text in this notebook thus far has been organized into \"chunks\", which are indicated by a blue ribbon on the left margin. These \"chunks\" are called cells, and can be of three types:\n",
    "\n",
    "1. **Raw:** This is raw, unformatted text.\n",
    "2. **Markdown:** This is a piece of text formatted using Markdown, which is a markup language used to add formatting to text. HTML is another markup language!\n",
    "4. **Code:** As the name says, this is a piece of code which can be executed!"
   ]
  },
  {
   "cell_type": "markdown",
   "id": "d1e23c75-ba2b-4b94-b914-124dcb399426",
   "metadata": {},
   "source": [
    "Look at the top ribbon, you might see the following icons:\n",
    "\n",
    "![ribbon](./images/JupyterlabRibbon.png)"
   ]
  },
  {
   "cell_type": "markdown",
   "id": "5a37c193-aade-440a-afca-803415a5dc6f",
   "metadata": {},
   "source": [
    "You can use the `+` sign to add a new cell to this notebook."
   ]
  },
  {
   "cell_type": "markdown",
   "id": "c7908050-712e-4a47-a708-4d608cf378c6",
   "metadata": {},
   "source": [
    "Now, if you click on \"Markdown\", you will see three options emerge: Code, Markdown, and Raw.\n",
    "\n",
    "![CellOptions](./images/JupyterlabCellOptions.png)\n",
    "\n",
    "Try out these different cell types, and see what it looks like to type in cells of different types. \\\n",
    "Do the colors and formatting of the texts change in different cell types?"
   ]
  },
  {
   "cell_type": "markdown",
   "id": "d1a96b8a-550d-4211-a97c-b706a786bf50",
   "metadata": {},
   "source": [
    "## Let us write some code!"
   ]
  },
  {
   "cell_type": "markdown",
   "id": "3ffaf083-5b3e-401d-aae4-e92f4cb9cbce",
   "metadata": {},
   "source": [
    "As custom goes, the first line of code for beginner* programmers has to be a \"Hello World!\" print statement. \\\n",
    "A declaration to the world (but really, just your computer) that you are now a programmer. \n",
    "\n",
    "Now, run the next cell. You can do this by clicking the play button in the top ribbon.\n",
    "\n",
    "*If you are not a beginner programmer -- what was *your* first line of code?"
   ]
  },
  {
   "cell_type": "code",
   "execution_count": 3,
   "id": "90d54b35-7f14-419b-ad9d-ab183b3ded02",
   "metadata": {},
   "outputs": [
    {
     "name": "stdout",
     "output_type": "stream",
     "text": [
      "Hello World!\n"
     ]
    }
   ],
   "source": [
    "print(\"Hello World!\")"
   ]
  },
  {
   "cell_type": "markdown",
   "id": "ac7def75-1f60-4fca-8da1-045836abf812",
   "metadata": {},
   "source": [
    "CONGRATULATIONS! You are now a programmer. Feel that righteousness build inside you."
   ]
  },
  {
   "cell_type": "markdown",
   "id": "7fe48002-619d-497a-977f-c8623796a69e",
   "metadata": {},
   "source": [
    "**TIP:** You can execute a cell by using the following shortcut: Ctrl + Enter (on Windows), Command + Enter (on Mac)"
   ]
  },
  {
   "cell_type": "markdown",
   "id": "7f183535-2c8b-4d91-af76-aa43bec64eca",
   "metadata": {},
   "source": [
    "Now, follow these steps: \n",
    "\n",
    "1. Use the `+` button in the top ribbon to make a new cell below\n",
    "2. Write the following in it: `1+1`\n",
    "3. Execute the cell (either use the play button on the top ribbon or the shortcut!)"
   ]
  },
  {
   "cell_type": "code",
   "execution_count": 7,
   "id": "a1126b3b-fb5c-44bd-b60e-ff4c2ae564eb",
   "metadata": {},
   "outputs": [],
   "source": [
    "## Write your code below this line"
   ]
  },
  {
   "cell_type": "markdown",
   "id": "9ae8b2ac-1416-4a95-9495-233f7686ce45",
   "metadata": {},
   "source": [
    "Neat! So what you just did was write a pretty basic *mathematical expression* in Python. We will now discuss expressions in Python, along with other basics."
   ]
  },
  {
   "cell_type": "markdown",
   "id": "ba9521bf-b6a0-48f3-a2ea-1b5e97690ca4",
   "metadata": {},
   "source": [
    "## Python Basics"
   ]
  },
  {
   "cell_type": "markdown",
   "id": "7431c452-b654-44d1-9199-9f593070b2aa",
   "metadata": {},
   "source": [
    "### Expressions"
   ]
  },
  {
   "cell_type": "markdown",
   "id": "c3c15756-2152-41b6-a994-0411bfc266c9",
   "metadata": {},
   "source": [
    "Programs in Python are made up of **expressions**. Think of expressions as the grammar of Python programming language.\n",
    "\n",
    "*Expressions* describe how the computer combines pieces of data. \\\n",
    "There are two main components of an expression:\n",
    "\n",
    "1. *Operators*: A symbol or character that is unique to a type of expression.\n",
    "2. *Evaluation*: The value of computing the expression.\n",
    "\n",
    "For example, in the example above, we wrote `1+1`, which is an _addition expression_. \\\n",
    "The addition expression consists of the addition *operator* which is the symbol: `+` \\\n",
    "The expression is evaluated as 2, the result of computing the addition 1 + 1."
   ]
  },
  {
   "cell_type": "markdown",
   "id": "a814542c-a59c-4400-b6ab-ff3ffa956a94",
   "metadata": {},
   "source": [
    "Below are some basic types of expressions in Python. Make new cells below the table and try out each type of expression."
   ]
  },
  {
   "cell_type": "markdown",
   "id": "212bb3a4-b641-4ca5-9885-365c980d3163",
   "metadata": {},
   "source": [
    "| Expression Type   | Operator | Example | Value   |\n",
    "| :---------------- | :------  | :------ | :------ |\n",
    "| Addition          |  `+`     | `2+3`   | `5`     |\n",
    "| Subtraction       |  `-`     | `2-3`   | `-1`    |\n",
    "| Multiplication    |  `*`     | `2*3`   | `6`     |\n",
    "| Division          |  `/`     | `7/3`   | `2.667` |\n",
    "| Remainder         |  `%`     | `7%3`   | `1`     |\n",
    "| Exponential       |  `**`    | `2**0.5`  | `1.41421` |"
   ]
  },
  {
   "cell_type": "code",
   "execution_count": 8,
   "id": "f6826d47-f6b2-48cd-9c2e-99a6e13493ad",
   "metadata": {},
   "outputs": [],
   "source": [
    "## Write your code below this line"
   ]
  },
  {
   "cell_type": "markdown",
   "id": "af010e16-ad6e-4035-9b77-581ce0c8cf62",
   "metadata": {},
   "source": [
    "**Question:** What happens when you divide by zero?"
   ]
  },
  {
   "cell_type": "markdown",
   "id": "0d855036-b771-40fc-bc54-86e2ae6b533a",
   "metadata": {},
   "source": [
    "### Names and Variables"
   ]
  },
  {
   "cell_type": "markdown",
   "id": "1ab1df02-d9bc-4514-9334-b958a20b6a15",
   "metadata": {},
   "source": [
    "Expressions can be assigned to **names** using a `=`, which is an *assignment* operator. \\\n",
    "Once a name has a value assigned to it, the value will be substituted for that name in future expressions.\n",
    "\n",
    "For example, in the following cell, `a` has been assigned value `11` and `b` has been assigned value `4`. \\\n",
    "In the following expression, `a + b`, the values of `a` and `b` are substituted to evaluate the expression."
   ]
  },
  {
   "cell_type": "code",
   "execution_count": 9,
   "id": "97199b07-31c0-4244-86b1-a9c2fffc618b",
   "metadata": {},
   "outputs": [
    {
     "data": {
      "text/plain": [
       "15"
      ]
     },
     "execution_count": 9,
     "metadata": {},
     "output_type": "execute_result"
    }
   ],
   "source": [
    "a = 11\n",
    "b = 4\n",
    "a + b"
   ]
  },
  {
   "cell_type": "markdown",
   "id": "8e0459d8-303a-41bf-ba8c-70af0a0f85d8",
   "metadata": {},
   "source": [
    "The values assigned to names can be changed. In other words, the value assigned to names can *vary*, which is why, these are also referred to as **variables**.\n",
    "\n",
    "For example, let us change the value of `a` to 22"
   ]
  },
  {
   "cell_type": "code",
   "execution_count": 10,
   "id": "db2a4bbe-b3db-4c5d-918d-638a2c9573c6",
   "metadata": {},
   "outputs": [],
   "source": [
    "a = 22"
   ]
  },
  {
   "cell_type": "markdown",
   "id": "e19515c6-a3cd-4065-b8ff-d9dc1c3b29ef",
   "metadata": {},
   "source": [
    "Now, let us compute the same expression as above, `a + b`"
   ]
  },
  {
   "cell_type": "code",
   "execution_count": 11,
   "id": "d1ca270d-0861-4a86-8007-410c7cf04635",
   "metadata": {},
   "outputs": [
    {
     "data": {
      "text/plain": [
       "26"
      ]
     },
     "execution_count": 11,
     "metadata": {},
     "output_type": "execute_result"
    }
   ],
   "source": [
    "a + b"
   ]
  },
  {
   "cell_type": "markdown",
   "id": "e92e0a45-cc34-4035-859d-cf942ca40e3b",
   "metadata": {},
   "source": [
    "After changing the value of the variable `a`, the value of the expression `a + b` changed accordinly."
   ]
  },
  {
   "cell_type": "markdown",
   "id": "04cd8c23-c825-48f2-b5bc-3d00d26b4709",
   "metadata": {},
   "source": [
    "### Functions and Call Expressions"
   ]
  },
  {
   "cell_type": "markdown",
   "id": "03145c50-bb51-4ad5-ab08-b8ddff205fe9",
   "metadata": {},
   "source": [
    "Instead of *operators* in expressions, which can be described with symbols, some operations are much more complex. These complex operations can have names, instead of symbols, and are called **functions**. Functions are invoked by **call expressions**.\n",
    "\n",
    "For instance, in `print(\"Hello World!\")`, the word `print` is the *call expression* for the function `print()`\n",
    "\n",
    "As illustrated in the Hello World example, the name of the function appears first, followed by expressions inside parentheses `()`. "
   ]
  },
  {
   "cell_type": "markdown",
   "id": "d68cc06b-417c-479f-803f-b45ebf2c757a",
   "metadata": {},
   "source": [
    "Let us look at some examples of mathematical functions in Python:"
   ]
  },
  {
   "cell_type": "markdown",
   "id": "be875ca3-ae2b-4db6-8daa-17e66a0fe7ff",
   "metadata": {},
   "source": [
    "#### Absolute function"
   ]
  },
  {
   "cell_type": "markdown",
   "id": "a785c4f7-1e6a-416b-853f-c999be84d773",
   "metadata": {},
   "source": [
    "Calculates the absolute mathematical value of the expression. \\\n",
    "Call: `abs()`"
   ]
  },
  {
   "cell_type": "code",
   "execution_count": 16,
   "id": "f83665b5-820a-4a22-b07a-32f4c4008ea9",
   "metadata": {},
   "outputs": [
    {
     "data": {
      "text/plain": [
       "4.5"
      ]
     },
     "execution_count": 16,
     "metadata": {},
     "output_type": "execute_result"
    }
   ],
   "source": [
    "c = 7.7 - 3.2\n",
    "c"
   ]
  },
  {
   "cell_type": "code",
   "execution_count": 17,
   "id": "1630139a-d7fd-4d28-a575-cb68c4e250a8",
   "metadata": {},
   "outputs": [
    {
     "data": {
      "text/plain": [
       "4.5"
      ]
     },
     "execution_count": 17,
     "metadata": {},
     "output_type": "execute_result"
    }
   ],
   "source": [
    "abs(c)"
   ]
  },
  {
   "cell_type": "markdown",
   "id": "2605335e-59da-4718-a7fd-14e3f5b725e7",
   "metadata": {},
   "source": [
    "#### Rounding function"
   ]
  },
  {
   "cell_type": "markdown",
   "id": "c48272b8-c9aa-4df6-9c06-e23a94c46117",
   "metadata": {},
   "source": [
    "Rounds rational numbers (numbers with decimal points) to their closest whole number. \\\n",
    "Call: `round()`"
   ]
  },
  {
   "cell_type": "code",
   "execution_count": 18,
   "id": "251c666b-9291-4f6c-b3f6-b082271d591b",
   "metadata": {},
   "outputs": [
    {
     "data": {
      "text/plain": [
       "4"
      ]
     },
     "execution_count": 18,
     "metadata": {},
     "output_type": "execute_result"
    }
   ],
   "source": [
    "round(c)"
   ]
  },
  {
   "cell_type": "markdown",
   "id": "95b88d59-c764-41a9-9344-ce724462ad31",
   "metadata": {},
   "source": [
    "#### Maxima and Minima functions"
   ]
  },
  {
   "cell_type": "markdown",
   "id": "ddba5d0a-4f49-4cff-9338-e2219e1651d2",
   "metadata": {},
   "source": [
    "`max()` calculate the maximum value among a list of values \\\n",
    "`min()` calculate the maximum value among a list of values"
   ]
  },
  {
   "cell_type": "code",
   "execution_count": 20,
   "id": "03045585-a343-4470-9928-6acba4bf2541",
   "metadata": {},
   "outputs": [
    {
     "data": {
      "text/plain": [
       "22"
      ]
     },
     "execution_count": 20,
     "metadata": {},
     "output_type": "execute_result"
    }
   ],
   "source": [
    "max(a, b, c)"
   ]
  },
  {
   "cell_type": "code",
   "execution_count": 21,
   "id": "6658161b-85f4-4cf8-b2a0-1386a2370d14",
   "metadata": {},
   "outputs": [
    {
     "data": {
      "text/plain": [
       "4"
      ]
     },
     "execution_count": 21,
     "metadata": {},
     "output_type": "execute_result"
    }
   ],
   "source": [
    "min(a, b, c)"
   ]
  },
  {
   "cell_type": "markdown",
   "id": "0f1c05ff-f379-41c1-aa50-778620f4d98f",
   "metadata": {},
   "source": [
    "## Practice"
   ]
  },
  {
   "cell_type": "markdown",
   "id": "7492e77d-5e01-45cf-9989-5fec64355474",
   "metadata": {},
   "source": [
    "**Question 1a.** Make two new variables, `var1` and `var2`.\n",
    "Assign the value of `4*9` to `var1` and `-8**7` to `var2`.\n",
    "\n",
    "Make a third variable, `var3`, and assign it the **absolute value** of `var1` divided by `var2`."
   ]
  },
  {
   "cell_type": "code",
   "execution_count": 35,
   "id": "9b9adb4f-b07a-4f00-afde-40c9eb32a8ae",
   "metadata": {},
   "outputs": [],
   "source": [
    "### Write your code below this line"
   ]
  },
  {
   "cell_type": "markdown",
   "id": "4347f50f-47cc-453b-b0bc-aa98f4e50e2d",
   "metadata": {},
   "source": [
    "**Question 1b.** Now make a fourth variable, `var4`, and assign it the **rounded value of the absolute value** of `var1` divided by `var2`"
   ]
  },
  {
   "cell_type": "code",
   "execution_count": 35,
   "id": "a26f6721-3990-4cd0-8074-c081e8eed9d8",
   "metadata": {},
   "outputs": [],
   "source": [
    "### Write your code below this line"
   ]
  },
  {
   "cell_type": "markdown",
   "id": "9bd58515-459d-4748-8f06-fce4a9913291",
   "metadata": {},
   "source": [
    "**Challenge:** Can you write the expression for `var4` without creating `var3`?"
   ]
  },
  {
   "cell_type": "code",
   "execution_count": 35,
   "id": "e28e03ba-9fdd-458a-b2ba-402119c4b70e",
   "metadata": {},
   "outputs": [],
   "source": [
    "### Write your code below this line"
   ]
  }
 ],
 "metadata": {
  "kernelspec": {
   "display_name": "Python 3 (ipykernel)",
   "language": "python",
   "name": "python3"
  },
  "language_info": {
   "codemirror_mode": {
    "name": "ipython",
    "version": 3
   },
   "file_extension": ".py",
   "mimetype": "text/x-python",
   "name": "python",
   "nbconvert_exporter": "python",
   "pygments_lexer": "ipython3",
   "version": "3.11.10"
  }
 },
 "nbformat": 4,
 "nbformat_minor": 5
}
