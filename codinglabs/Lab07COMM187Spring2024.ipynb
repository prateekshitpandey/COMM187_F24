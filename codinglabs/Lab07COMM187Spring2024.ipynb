{
 "cells": [
  {
   "cell_type": "markdown",
   "id": "a025ea3e",
   "metadata": {},
   "source": [
    "## COMM 187 (160DS): Data Science in Communication Research -- Spring 2024\n",
    "\n",
    "## Coding Lab #7: Statistical Analysis in Python\n",
    "**Wednesday, May 15, 2024**"
   ]
  },
  {
   "cell_type": "markdown",
   "id": "3becfa73",
   "metadata": {},
   "source": [
    "Welcome to the Coding Lab #6 for COMM 187 (160DS): Data Science in Communication Research! \n",
    "\n",
    "In the last Coding Lab, we learnt about Python dictionaries, and pandas library, including pandas `Series` and `DataFrames`.\n",
    "\n",
    "Today's lesson plan:\n",
    " - Introduction to `scipy`\n",
    " - Comparitive Statistics: t-test, Z-test, ANOVA, and Chi-Squared test\n",
    " - Association between variables: Covariance and Correlation\n",
    " - Linear Regression"
   ]
  },
  {
   "cell_type": "markdown",
   "id": "b8701d62",
   "metadata": {},
   "source": [
    "### Introduction to `scipy`"
   ]
  },
  {
   "cell_type": "code",
   "execution_count": null,
   "id": "1a945675-96fd-4704-b36d-8f4b6410b1dd",
   "metadata": {},
   "outputs": [],
   "source": [
    "import pandas as pd\n",
    "import numpy as np"
   ]
  },
  {
   "cell_type": "markdown",
   "id": "d9fed262-7b2e-4abd-8bd2-da8133231b1c",
   "metadata": {},
   "source": [
    "We will now use a new library, called `scipy`, which is a powerful scientific computation library in Python. \n",
    "\n",
    "In Python, we have learned how to `import` a library, and how to `import` a library `as` a nickname/alias. Now, we will try importing a specific subset of functions from a library. We do this by using the format:\n",
    "```\n",
    "from <library> import <name of sub-library>\n",
    "```\n",
    "\n",
    "Here, we only need to sub-library `stats` from `scipy`, so we will run the following code:"
   ]
  },
  {
   "cell_type": "code",
   "execution_count": null,
   "id": "a71ae906-baa5-45ff-a2a7-214ceec86a9b",
   "metadata": {},
   "outputs": [],
   "source": [
    "from scipy import stats"
   ]
  },
  {
   "cell_type": "markdown",
   "id": "ddaff2b7-bbcd-469e-a236-6fec545f9deb",
   "metadata": {},
   "source": [
    "Let us start with a familiar dataset: the redlining dataset from Assignment #6. \n",
    "\n",
    "To review: Redlining is the discriminatory practice of denying services (like mortgages) to residents of certain areas based on racial or ethnic composition, leading to economic and social disparities.\n",
    "\n",
    "The dataset is stored as a csv file in the sub-folder \"data\" by the name \"metro-grades.csv\". \\\n",
    "You can read more about the dataset on its [github repository page](https://github.com/fivethirtyeight/data/tree/master/redlining). "
   ]
  },
  {
   "cell_type": "code",
   "execution_count": null,
   "id": "c86e33c8-9ff1-46e9-bd71-fddf67894d35",
   "metadata": {},
   "outputs": [],
   "source": [
    "df = pd.read_csv('./data/metro-grades.csv')"
   ]
  },
  {
   "cell_type": "markdown",
   "id": "6c52e6d1",
   "metadata": {},
   "source": [
    "I have copied relevant information about the dataset below:\n",
    "\n",
    "This csv file contains 2020 population total estimates by race/ethnicity for combined zones of each redlining grade (from Home Owners' Loan Corporation \\[HOLC\\] maps originally drawn in 1935-40, downloaded from the [Mapping Inequality project](https://dsl.richmond.edu/panorama/redlining/#loc=5/37.8/-97.9&maps=0)) within micro- and metropolitan areas. Also included are population estimates in the surrounding area of each metropolitan area's HOLC map (computed by adding a 10 percent buffer radius to the minimum bounding circle of all zones in that metro area) and [location quotients](https://belonging.berkeley.edu/technical-appendix#footnote34_cnxakh3) (LQs) for each racial/ethnic group and HOLC grade. LQs are small-area measures of segregation that specifically compare one racial/ethnic group’s proportion in a granular geography to their proportion in a larger surrounding geography. An LQ above 1 for a given racial group indicates overrepresentation in that HOLC zone relative to the broader surrounding area, and values below 1 indicate underrepresentation. Only micro- and metropolitan areas with both A- (“best”) and D-rated (“hazardous”) zones in their redlining map are included — 138 of a total 143 metropolitan areas in the data from Mapping Inequality.\n",
    "\n",
    "Header | Definition\n",
    "--- | ---\n",
    "`metro_area` | Official U.S. Census name of micro- or metropolitan area — defined as [\"Core-Based Statistical Areas\"](https://www.census.gov/topics/housing/housing-patterns/about/core-based-statistical-areas.html). The first city and state listed are used as the display name for each micro/metropolitan area in the story (for example, \"Chicago-Naperville-Elgin, IL-IN-WI\" is referred to as \"Chicago, IL\").\n",
    "`holc_grade` | Grade assigned by the Home Owners' Loan Corporation (HOLC). `A`: \"best\" (green). `B`: \"Still Desirable\" (blue). `C`: \"Definitely Declining\" (yellow). `D`: \"Hazardous\" (red).\n",
    "`white_pop` | Estimate of non-Hispanic white population within HOLC zones with a given `holc_grade` in a given `metro_area`. Rounded to the nearest integer.\n",
    "`black_pop` | Estimate of non-Hispanic Black population within HOLC zones with a given `holc_grade` in a given `metro_area`. Rounded to the nearest integer.\n",
    "`hisp_pop` | Estimate of Hispanic/Latino population within HOLC zones with a given `holc_grade` in a given `metro_area`. Rounded to the nearest integer.\n",
    "`asian_pop` | Estimate of non-Hispanic Asian population within HOLC zones with a given `holc_grade` in a given `metro_area`. Rounded to the nearest integer.\n",
    "`other_pop` | Estimate of population in any other racial/ethnic groups within HOLC zones with a given `holc_grade` in a given `metro_area`. Rounded to the nearest integer.\n",
    "`total_pop` | Estimate of total population (across all racial/ethnic groups) within HOLC zones with a given `holc_grade` in a given `metro_area`. Rounded to the nearest integer.\n",
    "`pct_white` | Estimate of the percentage of total population within HOLC zones with a given `holc_grade` in a given `metro_area` that are non-Hispanic white. Represented between 0-100. Rounded to the nearest two decimal places.\n",
    "`pct_black` | Estimate of the percentage of total population within HOLC zones with a given `holc_grade` in a given `metro_area` that are non-Hispanic Black. Represented between 0-100. Rounded to the nearest two decimal places.\n",
    "`pct_hisp` | Estimate of the percentage of total population within HOLC zones with a given `holc_grade` in a given `metro_area` that are Hispanic/Latino. Represented between 0-100. Rounded to the nearest two decimal places.\n",
    "`pct_asian` | Estimate of the percentage of total population within HOLC zones with a given `holc_grade` in a given `metro_area` that are non-Hispanic Asian. Represented between 0-100. Rounded to the nearest two decimal places.\n",
    "`pct_other` | Estimate of the percentage of total population within HOLC zones with a given `holc_grade` in a given `metro_area` in any other racial/ethnic group. Represented between 0-100. Rounded to the nearest two decimal places.\n",
    "`lq_white` | Non-Hispanic white location quotient for a given `holc_grade` and `metro_area`.\n",
    "`lq_black` | Non-Hispanic Black location quotient for a given `holc_grade` and `metro_area`.\n",
    "`lq_hisp` | Hispanic/Latino location quotient for a given `holc_grade` and `metro_area`.\n",
    "`lq_asian` | Non-Hispanic Asian location quotient for a given `holc_grade` and `metro_area`.\n",
    "`lq_other` | All other racial/ethnic groups' location quotient for a given `holc_grade` and `metro_area`.\n",
    "`surr_area_white_pop` | Estimate of non-Hispanic white population within surrounding area of a given `metro_area`'s HOLC zones. Rounded to nearest integer. Repeated for each `holc_grade` for a given `metro_area`.\n",
    "`surr_area_black_pop` | Estimate of non-Hispanic Black population within surrounding area of a given `metro_area`'s HOLC zones. Rounded to nearest integer. Repeated for each `holc_grade` for a given `metro_area`.\n",
    "`surr_area_hisp_pop` | Estimate of Hispanic/Latino population within surrounding area of a given `metro_area`'s HOLC zones. Rounded to nearest integer. Repeated for each `holc_grade` for a given `metro_area`.\n",
    "`surr_area_asian_pop` | Estimate of non-Hispanic Asian population within surrounding area of a given `metro_area`'s HOLC zones. Rounded to nearest integer. Repeated for each `holc_grade` for a given `metro_area`.\n",
    "`surr_area_other_pop` | Estimate of population in any other racial/ethnic groups within surrounding area of a given `metro_area`'s HOLC zones. Rounded to nearest integer. Repeated for each `holc_grade` for a given `metro_area`.\n",
    "`surr_area_total_pop` | Estimate of total population (across all racial/ethnic groups) within surrounding area of a given `metro_area`'s HOLC zones. Rounded to nearest integer. Repeated for each `holc_grade` for a given `metro_area`.\n",
    "`surr_area_pct_white` | Estimate of the percentage of total population within surrounding area of a given `metro_area`'s HOLC zones that are non-Hispanic white. Represented between 0-100. Rounded to the nearest two decimal places. Repeated for each `holc_grade` for a given `metro_area`.\n",
    "`surr_area_pct_black` | Estimate of the percentage of total population within surrounding area of a given `metro_area`'s HOLC zones that are non-Hispanic Black. Represented between 0-100. Rounded to the nearest two decimal places. Repeated for each `holc_grade` for a given `metro_area`.\n",
    "`surr_area_pct_hisp` | Estimate of the percentage of total population within surrounding area of a given `metro_area`'s HOLC zones that are Hispanic/Latino. Represented between 0-100. Rounded to the nearest two decimal places. Repeated for each `holc_grade` for a given `metro_area`.\n",
    "`surr_area_pct_asian` | Estimate of the percentage of total population within surrounding area of a given `metro_area`'s HOLC zones that are non-Hispanic Asian. Represented between 0-100. Rounded to the nearest two decimal places. Repeated for each `holc_grade` for a given `metro_area`.\n",
    "`surr_area_pct_other` | Estimate of the percentage of total population within surrounding area of a given `metro_area`'s HOLC zones in any other racial/ethnic group. Represented between 0-100. Rounded to the nearest two decimal places. Repeated for each `holc_grade` for a given `metro_area`."
   ]
  },
  {
   "cell_type": "markdown",
   "id": "414bbd62-7daa-4c19-932e-615dd4ccfc15",
   "metadata": {},
   "source": [
    "---"
   ]
  },
  {
   "cell_type": "markdown",
   "id": "089bcc91-c92c-4c44-8231-6a67fc9404b1",
   "metadata": {},
   "source": [
    "## Comparative Statistics"
   ]
  },
  {
   "cell_type": "markdown",
   "id": "9b81f055-27a2-43df-b36b-432ceb9d3b82",
   "metadata": {},
   "source": [
    "### T-Test"
   ]
  },
  {
   "cell_type": "markdown",
   "id": "e06faf92-38ab-4a4d-824b-a5923bcc40b1",
   "metadata": {},
   "source": [
    "With your group, go through the [SciPy Documentation for T-Test](https://docs.scipy.org/doc/scipy/reference/generated/scipy.stats.ttest_ind.html) and solve the following practice question:\n",
    "\n",
    "**Question:** Compare the mean White population between areas graded 'A' and 'D'. \\\n",
    "Run a t-test, and interpret the results."
   ]
  },
  {
   "cell_type": "code",
   "execution_count": null,
   "id": "b1f52b98-cb1f-417c-b878-04cf3ed8c740",
   "metadata": {},
   "outputs": [],
   "source": [
    "# Extract data for grades 'A' and 'D'\n",
    "grade_A_White = df[df['holc_grade'] == 'A']['white_pop']\n",
    "grade_D_White = df[df['holc_grade'] == 'D']['white_pop']\n",
    "\n",
    "# Perform t-test using stats.ttest_ind\n",
    "..."
   ]
  },
  {
   "cell_type": "markdown",
   "id": "d314ae53-1687-4c26-97d5-52b1abe76464",
   "metadata": {},
   "source": [
    "**Question:** Compare the mean Asian population between areas graded 'A' and 'B'. \\\n",
    "Run a t-test, and interpret the results."
   ]
  },
  {
   "cell_type": "code",
   "execution_count": null,
   "id": "27770033-d4b4-4996-b445-989dfa0a6466",
   "metadata": {},
   "outputs": [],
   "source": [
    "# Extract data for grades 'A' and 'D'\n",
    "grade_A_Asian = df[df['holc_grade'] == 'A']['asian_pop']\n",
    "grade_B_Asian = df[df['holc_grade'] == 'B']['asian_pop']\n",
    "\n",
    "# Perform t-test using stats.ttest_ind\n",
    "..."
   ]
  },
  {
   "cell_type": "markdown",
   "id": "5754ba38-c1bf-4c8d-a097-0a9e0f6b60d6",
   "metadata": {},
   "source": [
    "### Z-Test"
   ]
  },
  {
   "cell_type": "markdown",
   "id": "5b72b8b6-e232-47be-9c2f-5c89b562cded",
   "metadata": {},
   "source": [
    "Z-test is used to compare *sample mean* with *popupation mean*.\n",
    "\n",
    "The formula for Z-test statistic is:\n",
    "\n",
    "$$ Z = {(\\bar{x} - \\mu) \\over (\\sigma / \\sqrt{n})} $$\n",
    "\n",
    "where $\\bar{x}$ = sample mean \\\n",
    "$\\mu$ = population mean \\\n",
    "$\\sigma$ = standard deviation of population \\\n",
    "$\\sqrt{n}$ = square root of sample size, $n$\n",
    "\n",
    "**Question:** Compare the mean Black population in grade A (sample mean) with the overall Black population across all grades (population mean)."
   ]
  },
  {
   "cell_type": "code",
   "execution_count": null,
   "id": "2de6a2b6-68ea-4222-b7f7-5ab54e3bf7e3",
   "metadata": {},
   "outputs": [],
   "source": [
    "# Extract data for grades 'A' and 'D'\n",
    "grade_A_Black = ...\n",
    "all_pop_Black = ...\n",
    "\n",
    "# Calculate Z-statistic using the formula outlined above"
   ]
  },
  {
   "cell_type": "markdown",
   "id": "344c59c7-4cd0-4b6a-b8c2-6d327117753f",
   "metadata": {},
   "source": [
    "How do we get the p-value for this? \n",
    "\n",
    "We input the absolute value of Z statistic to the function `stats.norm.cdf( <Z statistic> )`"
   ]
  },
  {
   "cell_type": "code",
   "execution_count": null,
   "id": "a3a27cf5-97fe-49c0-89ec-d6f929462a99",
   "metadata": {},
   "outputs": [],
   "source": [
    "# Calcualte p-value using stats.norm.cdf"
   ]
  },
  {
   "cell_type": "markdown",
   "id": "838839c7-1e3a-4131-bac2-b5ca30c90168",
   "metadata": {},
   "source": [
    "### ANOVA"
   ]
  },
  {
   "cell_type": "markdown",
   "id": "f27ca3f1-d596-432a-8390-8fb747980ab9",
   "metadata": {},
   "source": [
    "With your group, go through the [SciPy Documentation for one-way ANOVA](https://docs.scipy.org/doc/scipy/reference/generated/scipy.stats.f_oneway.html) and solve the following practice question:\n",
    "\n",
    "**Question:** Test if there are any significant differences in the total population among different grades ('A', 'B', 'C', 'D')."
   ]
  },
  {
   "cell_type": "code",
   "execution_count": null,
   "id": "71d07a39-4289-4e1b-a487-8b525e3ff742",
   "metadata": {},
   "outputs": [],
   "source": [
    "# Extract data for each grade\n",
    "...\n",
    "\n",
    "# Perform ANOVA using stats.f_oneway\n",
    "..."
   ]
  },
  {
   "cell_type": "markdown",
   "id": "99db121a-ce09-4a26-84de-d944c454b904",
   "metadata": {},
   "source": [
    "**Question:** Test if there are any significant differences in the total population among different grades ('B', 'C', 'D')."
   ]
  },
  {
   "cell_type": "code",
   "execution_count": null,
   "id": "a223fbbd-1996-49d3-bae1-98f629516453",
   "metadata": {},
   "outputs": [],
   "source": [
    "# Perform ANOVA using stats.f_oneway\n",
    "..."
   ]
  },
  {
   "cell_type": "markdown",
   "id": "88928813-5f59-430b-89b7-598fa8ef08b4",
   "metadata": {},
   "source": [
    "### Chi-Squared Test"
   ]
  },
  {
   "cell_type": "markdown",
   "id": "bbecbcb0-f4c4-4046-853a-af23e2ff1b74",
   "metadata": {},
   "source": [
    "Chi-squared test is used to compare the frequency of occurance of values in a categorical variable with the expected values. \n",
    "\n",
    "With your group, go through the [SciPy Documentation for Chi-Squared Test](https://docs.scipy.org/doc/scipy/reference/generated/scipy.stats.chisquare.html) and solve the following practice question:\n",
    "\n",
    "**Question:** Subset the data to include only the `pct_black` and `holc_grade columns`.\\\n",
    "Filter the data to include only rows where `pct_black` is greater than or equal to 50%.\\\n",
    "Use the `stats.chisquare` function to test the observed frequencies of holc_grade in this subset of the data against the expected frequencies (which, by default, is equal distribution across categories). Interpret the results."
   ]
  },
  {
   "cell_type": "code",
   "execution_count": null,
   "id": "872d04ec-8b8f-4dc6-be04-3c631fa096a1",
   "metadata": {},
   "outputs": [],
   "source": [
    "# Step 1: Subset the data to include only the pct_black and holc_grade columns\n",
    "...\n",
    "\n",
    "# Step 2: Filter the data to include only rows where pct_black is greater than or equal to 50%\n",
    "...\n",
    "\n",
    "# Step 3: Get observed frequencies of holc_grade\n",
    "...\n",
    "\n",
    "# Expected frequencies assuming no association (equal distribution across categories)\n",
    "...\n",
    "\n",
    "# Perform Chi-Squared test using scipy.stats.chisquare\n",
    "..."
   ]
  },
  {
   "cell_type": "markdown",
   "id": "d6b139f0-1b13-49d0-a447-e7006ad3879e",
   "metadata": {},
   "source": [
    "## Association between variables"
   ]
  },
  {
   "cell_type": "markdown",
   "id": "67f2f689-3207-4817-9adc-1500bc3a116d",
   "metadata": {},
   "source": [
    "### Covariance"
   ]
  },
  {
   "cell_type": "markdown",
   "id": "b9276ca2-5b03-4a8a-809e-116edd8b9bb3",
   "metadata": {},
   "source": [
    "For this, we do not need to rely on SciPy. Numpy provides a lovely covariance calculation function, called `cov`.\n",
    "\n",
    "With your group, go through the [Numpy Documentation for Covariance](https://numpy.org/doc/stable/reference/generated/numpy.cov.html) and solve the following practice question:\n",
    "\n",
    "**Question:** Calculate the covariance between the percentage of Hispanic population in an area and the percentage of White population in the surrounding area."
   ]
  },
  {
   "cell_type": "code",
   "execution_count": null,
   "id": "2f481e0b-d635-4910-940d-de1f2494ea0d",
   "metadata": {},
   "outputs": [],
   "source": [
    "# Perform covariance using np.cov\n",
    "..."
   ]
  },
  {
   "cell_type": "markdown",
   "id": "b8894082-bdf0-4eb2-ace8-f7fa6aca47b7",
   "metadata": {},
   "source": [
    "Are you getting a single number or a matrix (2 dimensional array)? If so, it is because you have computed a covariance MATRIX, which looks like this: \n",
    "\n",
    "![](./images/Lab7_cov.jpg)"
   ]
  },
  {
   "cell_type": "markdown",
   "id": "b13e6998-3293-436f-80e7-024fad7102d8",
   "metadata": {},
   "source": [
    "Based on this information, how do we use indexing on the covariance matrix to find our desired covariance value? \\\n",
    "Discuss with your group and try below:"
   ]
  },
  {
   "cell_type": "code",
   "execution_count": null,
   "id": "7f098a65-828d-4b4a-a629-040acb285c9d",
   "metadata": {},
   "outputs": [],
   "source": [
    "# Index the covariance between the two variables from the covariance matrix using [row index, column index]\n",
    "..."
   ]
  },
  {
   "cell_type": "markdown",
   "id": "150dc834-a7fb-4cfb-9d40-cc4ecc5e2141",
   "metadata": {},
   "source": [
    "### Correlation"
   ]
  },
  {
   "cell_type": "markdown",
   "id": "95e9136c-7240-4317-8e84-c44982c9fa51",
   "metadata": {},
   "source": [
    "With your group, go through the [SciPy Documentation for Pearson's R correlation](https://docs.scipy.org/doc/scipy/reference/generated/scipy.stats.pearsonr.html) and solve the following practice question:\n",
    "\n",
    "**Question:** Calculate the correlation between the percentage of Hispanic population and the percentage of White population in the surrounding area."
   ]
  },
  {
   "cell_type": "code",
   "execution_count": null,
   "id": "721755ae-bcbb-4b91-8c8f-ea7c25cdb5c8",
   "metadata": {},
   "outputs": [],
   "source": [
    "# Perform correlation using stats.pearson\n",
    "..."
   ]
  },
  {
   "cell_type": "markdown",
   "id": "b87d7456-30f5-4531-82c7-402f5739d650",
   "metadata": {},
   "source": [
    "**Question:** Calculate the correlation between the percentage of White population and the percentage of Hispanic population in the surrounding area."
   ]
  },
  {
   "cell_type": "code",
   "execution_count": null,
   "id": "ba215cfb-9a84-4cb3-b6a2-d5b043ed8f9e",
   "metadata": {},
   "outputs": [],
   "source": [
    "# Perform correlation using stats.pearson\n",
    "..."
   ]
  },
  {
   "cell_type": "markdown",
   "id": "b178e560-5e42-4c3a-8f9a-68cd4ed24523",
   "metadata": {},
   "source": [
    "### Linear Regression"
   ]
  },
  {
   "cell_type": "markdown",
   "id": "e6d94edc-4337-427e-a235-6792b7f7d6c1",
   "metadata": {},
   "source": [
    "With your group, go through the [SciPy Documentation for Linear Regression](https://docs.scipy.org/doc/scipy/reference/generated/scipy.stats.linregress.html) and solve the following practice question:\n",
    "\n",
    "**Question:**  Perform a linear regression to predict the percentage of White population in the surrounding area based on the percentage of Hispanic population."
   ]
  },
  {
   "cell_type": "code",
   "execution_count": null,
   "id": "84416892-1e0c-45c0-99d3-f59e4682ead0",
   "metadata": {},
   "outputs": [],
   "source": [
    "# Perform linear regression using stats.linregress\n",
    "..."
   ]
  },
  {
   "cell_type": "markdown",
   "id": "12a85cfc-196f-4223-8314-5889ecd48b1f",
   "metadata": {},
   "source": [
    "Discuss with your group: \n",
    " - What is the slope?\n",
    " - What is the intercept (or constant value \"c\" in regression)?\n",
    " - What is the p-value?\n",
    " - For a significance level of 0.05, is this linear regression statistically significant? "
   ]
  },
  {
   "cell_type": "markdown",
   "id": "dda5adfe-3f6e-4fe0-b4ed-16e6da28b994",
   "metadata": {},
   "source": [
    "**Question:** Perform a linear regression to predict the percentage of Hispanic population in the surrounding area based on the percentage of Asian population."
   ]
  },
  {
   "cell_type": "code",
   "execution_count": null,
   "id": "062d01db-426d-4606-98fd-f4b1fb620fce",
   "metadata": {},
   "outputs": [],
   "source": [
    "# Perform linear regression using stats.linregress\n",
    "..."
   ]
  }
 ],
 "metadata": {
  "kernelspec": {
   "display_name": "Python 3 (ipykernel)",
   "language": "python",
   "name": "python3"
  },
  "language_info": {
   "codemirror_mode": {
    "name": "ipython",
    "version": 3
   },
   "file_extension": ".py",
   "mimetype": "text/x-python",
   "name": "python",
   "nbconvert_exporter": "python",
   "pygments_lexer": "ipython3",
   "version": "3.11.5"
  }
 },
 "nbformat": 4,
 "nbformat_minor": 5
}
