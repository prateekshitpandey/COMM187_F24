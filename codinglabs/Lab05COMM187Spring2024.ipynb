{
 "cells": [
  {
   "cell_type": "markdown",
   "id": "a025ea3e",
   "metadata": {},
   "source": [
    "## COMM 187 (160DS): Data Science in Communication Research -- Spring 2024\n",
    "\n",
    "## Coding Lab #5: Basics of Pandas\n",
    "**Wednesday, May 1, 2024**"
   ]
  },
  {
   "cell_type": "markdown",
   "id": "3becfa73",
   "metadata": {},
   "source": [
    "Welcome to the Coding Lab #4 for COMM 187 (160DS): Data Science in Communication Research! \n",
    "\n",
    "In the last Coding Lab, we learnt about ranges, indexing and slicing, conditional statements (`if` `else`) and `for` loops.\n",
    "\n",
    "Today's lesson plan:\n",
    " - Review of `for` loops\n",
    " - Python Dictionaries `dict`\n",
    " - Basics of `pandas` library\n",
    "\n",
    "Today's lessons are based on the following online resources (feel free to try them out yourselves too!):\n",
    " - https://wesmckinney.com/book/pandas-basics"
   ]
  },
  {
   "cell_type": "markdown",
   "id": "34de79de-a198-49a2-b602-47edcc369870",
   "metadata": {},
   "source": [
    "## IMPORTANT ANNOUNCEMENT: DATACAMP ACCESS"
   ]
  },
  {
   "cell_type": "markdown",
   "id": "aed8ea27-92b7-4660-aa8f-6c8df9552cd4",
   "metadata": {},
   "source": [
    "Great news! We now have access to [DataCamp](https://www.datacamp.com/), which has a large suite of coding tutorials. As we move on to more intermediate coding skills in Python, I will be assinging certain chapters from courses on this website for you to do along with your assignments.\n",
    "\n",
    "TO JOIN, CLICK THIS LINK: https://www.datacamp.com/groups/shared_links/0d032623fe95677c03dd5d41331db87feeb0738725bb7ae390f6d9ee17f2bed8  \n",
    "\n",
    "Please let me know if you are having any difficulty.\n",
    "\n",
    "For Assignment #5, you will be required to finish the assigned chapter on DataCamp first, and then do the assignment questions. Since the assigned chapter will take 1-2 hours for you to finish, the assignment will be shorter, but based on the skills you will have learnt in the chapter."
   ]
  },
  {
   "cell_type": "markdown",
   "id": "4c5941cd-afd2-4cb4-a845-49155949bbe2",
   "metadata": {},
   "source": [
    "### `for` loop review"
   ]
  },
  {
   "cell_type": "markdown",
   "id": "a5496dc0-9330-496f-b88f-76c4551e4e28",
   "metadata": {},
   "source": [
    "A `for` loop is used for **iterating** over a sequence (that is either a list, a tuple, a dictionary, a set, or a string).\n",
    "\n",
    "*What does it mean to \"iterate\" over a sequence?* \\\n",
    "It means going through *each* element in the sequence *one by one*, in order, and performing some action with each element. \\\n",
    "For example, think of it as reading a book *page by page*: you start at the beginning and move sequentially to the end, doing something with each page before moving on to the next one.\n",
    "\n",
    "In a `for` loop, we are running a block of code *FOR* each value in a list of values.\n",
    "\n",
    "Let us say we have the following two variables:\n",
    "\n",
    "Typical syntax for a `for` loop in Python:\n",
    "```\n",
    "for value in <collection>:\n",
    "    <do something with value>\n",
    "```\n",
    "\n",
    "Here, the `<collection>` can be a list, numpy.array, or a range!\\\n",
    "In this `for` loop, the variable `value` takes on the value of each element in collection, in sequence, and then the block of code does something with that value.\n",
    "\n",
    "\n",
    "For example:\\\n",
    "If I wanted to print out each day of the week, I could either do it this way:"
   ]
  },
  {
   "cell_type": "code",
   "execution_count": null,
   "id": "8148acc5-3ee5-440f-be1a-1e5922ecb55c",
   "metadata": {},
   "outputs": [],
   "source": [
    "print(\"Monday\")\n",
    "print(\"Tuesday\")\n",
    "print(\"Wednesday\")\n",
    "print(\"Thursday\")\n",
    "print(\"Friday\")\n",
    "print(\"Saturday\")\n",
    "print(\"Sunday\")"
   ]
  },
  {
   "cell_type": "markdown",
   "id": "1ecc5e79-4e68-47b8-8384-f20f181689e1",
   "metadata": {},
   "source": [
    "**OR** I could simplify things are write a `for` loop.\n",
    "\n",
    "Step 1: I will make a list that will iterate over."
   ]
  },
  {
   "cell_type": "code",
   "execution_count": null,
   "id": "a1ffa6f8-12f7-4308-ac37-2f8969a1b3f3",
   "metadata": {},
   "outputs": [],
   "source": [
    "days_in_week = [\"Monday\", \"Tuesday\", \"Wednesday\", \"Thursday\", \"Friday\", \"Saturday\", \"Sunday\"]"
   ]
  },
  {
   "cell_type": "markdown",
   "id": "8de03adb-a8e5-4ff6-9d0f-082d0e25f08d",
   "metadata": {},
   "source": [
    "Step 2: I will write a `for` loop to iterate over it. For this, we will need a variable to *iterate* over the list `days_in_week`. We will call it `i`."
   ]
  },
  {
   "cell_type": "code",
   "execution_count": null,
   "id": "d8ccbd78-1d59-404a-8f9a-d1373daf9186",
   "metadata": {},
   "outputs": [],
   "source": [
    "for i in days_in_week:\n",
    "    print(i)"
   ]
  },
  {
   "cell_type": "markdown",
   "id": "bd0e878c-4e4e-4bcb-9efd-10525599e3bf",
   "metadata": {},
   "source": [
    "### Dictionaries in Python `dict`"
   ]
  },
  {
   "cell_type": "markdown",
   "id": "77f7a3cd-5cae-43c0-a825-22c94f636f48",
   "metadata": {},
   "source": [
    "Going beyond lists and arrays, we will now discuss dictionaries in Python. \\\n",
    "Dictionaries are used to store data values in `key`:`value` pairs.\n",
    "\n",
    "These are just like a real-life dictionary. The `key`s are like the words, and the `value`s are like the meanings of the words."
   ]
  },
  {
   "cell_type": "code",
   "execution_count": null,
   "id": "f6db03c0-d7bd-43a2-adfa-cee72d74e086",
   "metadata": {},
   "outputs": [],
   "source": [
    "thisdict =\t{\"school\": \"UCSB\", \"department\": \"COMM\", \"class\": 187}\n",
    "\n",
    "print(thisdict)"
   ]
  },
  {
   "cell_type": "markdown",
   "id": "67e0f3f6-7f50-4f5c-9680-ce91d0a95f66",
   "metadata": {},
   "source": [
    "The keys here are `\"school\"`, `\"department\"`, and `\"COMM\"`."
   ]
  },
  {
   "cell_type": "code",
   "execution_count": null,
   "id": "676da857-328b-4ad4-849b-a3c58ba7bd49",
   "metadata": {},
   "outputs": [],
   "source": [
    "thisdict.keys()"
   ]
  },
  {
   "cell_type": "markdown",
   "id": "a344d710-0b48-4726-8933-49cad123c06a",
   "metadata": {},
   "source": [
    "The values here are `\"UCSB\"`, `\"COMM\"`, and `187`."
   ]
  },
  {
   "cell_type": "code",
   "execution_count": null,
   "id": "07d04e01-9a12-42ca-9445-db52ed4ea6d6",
   "metadata": {},
   "outputs": [],
   "source": [
    "thisdict.values()"
   ]
  },
  {
   "cell_type": "markdown",
   "id": "2f3e69fe-44be-4937-b232-4b7e3ea7285f",
   "metadata": {},
   "source": [
    "Let's practice!\n",
    "\n",
    "**Question:** Create a dictionary called student_grades that stores the names of three students as keys and their respective grades (out of 100) as values. After creating the dictionary, print the dictionary to verify the contents."
   ]
  },
  {
   "cell_type": "code",
   "execution_count": null,
   "id": "06c6870b-ec80-40a9-9b91-972308df46e2",
   "metadata": {},
   "outputs": [],
   "source": [
    "### Your code below this line"
   ]
  },
  {
   "cell_type": "markdown",
   "id": "b8701d62",
   "metadata": {},
   "source": [
    "### Introduction to pandas"
   ]
  },
  {
   "cell_type": "markdown",
   "id": "6c52e6d1",
   "metadata": {},
   "source": [
    "Pandas is a fast, powerful, and flexible open-source **data analysis and manipulation tool** built on top of the Python programming language. Mainly it is built using NumPy and Matplotlib, two very important Python libraries. \n",
    "\n",
    "We will start by exploring its basic features."
   ]
  },
  {
   "cell_type": "markdown",
   "id": "a6ecd188",
   "metadata": {},
   "source": [
    "#### Importing pandas"
   ]
  },
  {
   "cell_type": "markdown",
   "id": "6d3d9d6f",
   "metadata": {},
   "source": [
    "To use pandas, you need to import it first. "
   ]
  },
  {
   "cell_type": "code",
   "execution_count": null,
   "id": "0be60f76-6bf5-4a11-b426-c33d97afe8c5",
   "metadata": {},
   "outputs": [],
   "source": [
    "import pandas"
   ]
  },
  {
   "cell_type": "markdown",
   "id": "9d4d626f-60e4-4358-91be-101a781c0238",
   "metadata": {},
   "source": [
    "**IMPORTANT:** You can give your library a nickname, or an alias, when you import them. This can be done using the `as` operator. For example, if I want to import pandas, but want to give it an alias `pd`, I will do it as follows:"
   ]
  },
  {
   "cell_type": "code",
   "execution_count": null,
   "id": "e56fb99f-4151-4fea-b437-90a759e7d297",
   "metadata": {},
   "outputs": [],
   "source": [
    "import pandas as pd"
   ]
  },
  {
   "cell_type": "markdown",
   "id": "12830257-f9c2-4dbc-bb35-c3a8ddf35688",
   "metadata": {},
   "source": [
    "This can be done with any library. \n",
    "\n",
    "***Practice:*** Import numpy with alias `np`."
   ]
  },
  {
   "cell_type": "code",
   "execution_count": null,
   "id": "b59383d1-7f28-430d-848e-d7def662a26a",
   "metadata": {},
   "outputs": [],
   "source": [
    "### Your code below this line"
   ]
  },
  {
   "cell_type": "markdown",
   "id": "a0d0db2b",
   "metadata": {},
   "source": [
    "### Data Structures in `pandas`"
   ]
  },
  {
   "cell_type": "markdown",
   "id": "bd97524a",
   "metadata": {},
   "source": [
    "Pandas has two primary data structures: **Series** and **DataFrame**. Let's explore each."
   ]
  },
  {
   "cell_type": "markdown",
   "id": "b380f8ad",
   "metadata": {},
   "source": [
    "A Series is a one-dimensional array-like object. It is very similar to, and actually built on top of, numpy arrays!"
   ]
  },
  {
   "cell_type": "code",
   "execution_count": null,
   "id": "063cea43-f585-4d34-8137-48c054ee28e4",
   "metadata": {},
   "outputs": [],
   "source": [
    "## Example of a pandas Series\n",
    "import pandas as pd\n",
    "s = pd.Series([1, 2, 3, 4, 5])\n",
    "print(s)"
   ]
  },
  {
   "cell_type": "markdown",
   "id": "60795431-d198-4913-b6d9-dfa4ddc494d8",
   "metadata": {},
   "source": [
    "A pandas series contains to key elements: \\\n",
    "the *array*, and \\\n",
    "the *index*."
   ]
  },
  {
   "cell_type": "code",
   "execution_count": null,
   "id": "7e0f0695-bc48-4258-881a-ff6a4175e314",
   "metadata": {},
   "outputs": [],
   "source": [
    "s.array"
   ]
  },
  {
   "cell_type": "code",
   "execution_count": null,
   "id": "2f2af54d-afbf-4dc0-97a6-0db3475fce2e",
   "metadata": {},
   "outputs": [],
   "source": [
    "s.index"
   ]
  },
  {
   "cell_type": "markdown",
   "id": "43d39ee4-39f5-4c9d-a9ad-9e8192f1ef45",
   "metadata": {},
   "source": [
    "Now, use indexing on this series. Print the value at index 2:"
   ]
  },
  {
   "cell_type": "code",
   "execution_count": null,
   "id": "48b4529e-2299-4a69-8e62-cc23e18578f0",
   "metadata": {},
   "outputs": [],
   "source": [
    "### Your code below this line"
   ]
  },
  {
   "cell_type": "markdown",
   "id": "ec51cb43-b5ca-4aa7-90d4-46fca00dc547",
   "metadata": {},
   "source": [
    "Great!\n",
    "\n",
    "We learnt with lists and numpy arrays that index starts with 0, and ends with N-1, for a list/array of length N. As you just saw, pandas series follows the same logic!\n",
    "\n",
    "Except.\n",
    "\n",
    "You can make the index to be whatever you want. With pandas series, your index can be any label you want to use for every item in your series, even text!\n",
    "\n",
    "Let us play with an example."
   ]
  },
  {
   "cell_type": "code",
   "execution_count": null,
   "id": "c832c8c1-027c-45a9-a183-c6c8ab5d683c",
   "metadata": {},
   "outputs": [],
   "source": [
    "s2 = pd.Series([1, 2, 3, 4, 5], index=[\"a\", \"b\", \"c\", \"d\", \"e\"])"
   ]
  },
  {
   "cell_type": "code",
   "execution_count": null,
   "id": "5f3496a6-f188-4b35-89cf-ce7da34e9819",
   "metadata": {},
   "outputs": [],
   "source": [
    "s.array"
   ]
  },
  {
   "cell_type": "code",
   "execution_count": null,
   "id": "db356371-da0e-4882-a0f7-9355da94b781",
   "metadata": {},
   "outputs": [],
   "source": [
    "s.index"
   ]
  },
  {
   "cell_type": "markdown",
   "id": "712a95fb-e698-48d1-8e26-bd308e7826dd",
   "metadata": {},
   "source": [
    "Now, print the value of series `s2` at index `\"c\"` \\\n",
    "Hint: Use indexing as you normally do, just replace the index number with this new index!"
   ]
  },
  {
   "cell_type": "code",
   "execution_count": null,
   "id": "91069e19-9144-40c7-a4f7-b95ddb2612c3",
   "metadata": {},
   "outputs": [],
   "source": [
    "### Your code below this line"
   ]
  },
  {
   "cell_type": "markdown",
   "id": "8a496774",
   "metadata": {},
   "source": [
    "#### DataFrame"
   ]
  },
  {
   "cell_type": "markdown",
   "id": "5bc2cac8",
   "metadata": {},
   "source": [
    "A DataFrame is a two-dimensional data structure, like a table of data."
   ]
  },
  {
   "cell_type": "code",
   "execution_count": null,
   "id": "9d03d71b-2aac-4712-a3fc-d60b2dba9db0",
   "metadata": {},
   "outputs": [],
   "source": [
    "# Example of a pandas DataFrame\n",
    "df = pd.DataFrame({'A': [1, 2, 3], 'B': [4, 5, 6]})\n",
    "print(df)"
   ]
  },
  {
   "cell_type": "markdown",
   "id": "bf212f9c-39a7-4873-810c-d9818c34d2eb",
   "metadata": {},
   "source": [
    "Here, instead of just ONE series, we have TWO series, `A` and `B`. Basically, a DataFrame comprises of multiple series!\\\n",
    "\n",
    "The index (or label) for `A` and `B` are the same!"
   ]
  },
  {
   "cell_type": "markdown",
   "id": "bce3f031-925f-4ee3-8d6e-5a82799e23c6",
   "metadata": {},
   "source": [
    "**Thinking in terms of columns and rows**\n",
    "\n",
    "Think of DataFrames as a table of data with columns and rows. \\\n",
    "Each column is a pandas series.\\\n",
    "Each row is the index or label.\n",
    "\n",
    "\n",
    "The syntax to make a pandas data frame is \n",
    "\n",
    "```\n",
    "pd.DataFrame( { 'column1': [col1_value1, col1_value2, ...], 'column2': [col2_value1, col2_value2, ...]} )\n",
    "```"
   ]
  },
  {
   "cell_type": "markdown",
   "id": "d7784225-8048-47db-817e-1edb02c0d45d",
   "metadata": {},
   "source": [
    "Let us practice!"
   ]
  },
  {
   "cell_type": "markdown",
   "id": "d2e9716c-b479-4851-a6ae-c1c87545dc27",
   "metadata": {},
   "source": [
    "**Question:** You have the two lists provided below: `Grade1` and `Grade2`. Make a pandas DataFrame which looks like this:"
   ]
  },
  {
   "cell_type": "markdown",
   "id": "cf73be47-e009-4f4a-998d-7db0b58c483a",
   "metadata": {},
   "source": [
    "![](./images/Lab5_Grade1Grade2.png)"
   ]
  },
  {
   "cell_type": "code",
   "execution_count": null,
   "id": "88e7caf0-a6b6-4507-9ac8-2d2323ef0996",
   "metadata": {},
   "outputs": [],
   "source": [
    "Grade1 = [95, 91, 89]\n",
    "Grade2 = [72, 99, 92]\n",
    "### Your code below this line"
   ]
  },
  {
   "cell_type": "markdown",
   "id": "420a7885",
   "metadata": {},
   "source": [
    "### Subsetting Data in `pandas`"
   ]
  },
  {
   "cell_type": "markdown",
   "id": "006f2240",
   "metadata": {},
   "source": [
    "You can select specific rows and columns using pandas, using the following syntax:"
   ]
  },
  {
   "cell_type": "code",
   "execution_count": null,
   "id": "1abcb9e0-f587-41cd-8570-a9d6535dc662",
   "metadata": {},
   "outputs": [],
   "source": [
    "df = pd.DataFrame({'A': [1, 2, 3], 'B': [4, 5, 6]})\n",
    "print(df)"
   ]
  },
  {
   "cell_type": "code",
   "execution_count": null,
   "id": "d455bcff-28bd-4343-bf70-38e8f99347a6",
   "metadata": {},
   "outputs": [],
   "source": [
    "# Selecting a single column\n",
    "df['A']"
   ]
  },
  {
   "cell_type": "code",
   "execution_count": null,
   "id": "2608ae92-ff53-4192-b777-449e9e5e2f04",
   "metadata": {},
   "outputs": [],
   "source": [
    "# Selecting multiple columns\n",
    "df[['A', 'B']]"
   ]
  },
  {
   "cell_type": "markdown",
   "id": "265ccbee-efd6-42a5-88d4-3f47259a267f",
   "metadata": {},
   "source": [
    "You can select **rows** using the index value for the row, and the function `.iloc()`"
   ]
  },
  {
   "cell_type": "code",
   "execution_count": null,
   "id": "e2d3a7a4-e170-4e15-99f0-a2eb5871c46f",
   "metadata": {},
   "outputs": [],
   "source": [
    "# Selecting rows using index\n",
    "# Select first row\n",
    "df.iloc[0]"
   ]
  },
  {
   "cell_type": "code",
   "execution_count": null,
   "id": "feb3b552-a12d-47cb-9577-d28fc16b95b9",
   "metadata": {},
   "outputs": [],
   "source": [
    "# Selecting rows AND columns using index and column name\n",
    "# Select first row and column 'A'\n",
    "df.loc[0, 'A']"
   ]
  }
 ],
 "metadata": {
  "kernelspec": {
   "display_name": "Python 3 (ipykernel)",
   "language": "python",
   "name": "python3"
  },
  "language_info": {
   "codemirror_mode": {
    "name": "ipython",
    "version": 3
   },
   "file_extension": ".py",
   "mimetype": "text/x-python",
   "name": "python",
   "nbconvert_exporter": "python",
   "pygments_lexer": "ipython3",
   "version": "3.11.5"
  }
 },
 "nbformat": 4,
 "nbformat_minor": 5
}
