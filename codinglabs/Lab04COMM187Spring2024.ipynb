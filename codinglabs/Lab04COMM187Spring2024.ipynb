{
 "cells": [
  {
   "cell_type": "markdown",
   "id": "533ac834-ae77-4da2-b96b-de2be9ef1089",
   "metadata": {},
   "source": [
    "## COMM 187 (160DS): Data Science in Communication Research -- Spring 2024\n",
    "\n",
    "## Coding Lab #4: Python Basics\n",
    "**Wednesday, April 24, 2024**"
   ]
  },
  {
   "cell_type": "markdown",
   "id": "b9df9ed6-7a63-4f28-8bc0-d21206d528ad",
   "metadata": {},
   "source": [
    "Welcome to the Coding Lab #4 for COMM 187 (160DS): Data Science in Communication Research! \n",
    "\n",
    "(This is technically the third coding lab, but we are in week four, so we are calling it Coding Lab #4)\n",
    "\n",
    "In the last Coding Lab, we learnt about some more Python basics, including types of variables, functions and libraries, lists, and numpy arrays.\n",
    "\n",
    "Today's lesson plan:\n",
    " - How to find help in Python\n",
    " - Review of lists and arrays\n",
    " - Conditionals and Loops in Python\n",
    " - Operations using numpy arrays\n",
    "   - sum, prod, all, any, count_nonzero\n",
    "   - round, exp, sort\n",
    "   - char.lower, char.upper, char.strip, char.isalpha, char.isnumeric\n",
    "   - char.count, char.find, char.rfind, char.startswith\n",
    "\n",
    "Today's lessons are based on the following online resources (feel free to try them out yourselves too!):\n",
    " - https://wesmckinney.com/book/numpy-basics \n",
    " - https://inferentialthinking.com/chapters/05/1/Arrays.html"
   ]
  },
  {
   "cell_type": "markdown",
   "id": "ba9521bf-b6a0-48f3-a2ea-1b5e97690ca4",
   "metadata": {},
   "source": [
    "### How to find help in Python"
   ]
  },
  {
   "cell_type": "markdown",
   "id": "09aa4f96-06ea-4aba-9708-bbad8b26837b",
   "metadata": {},
   "source": [
    "Two main ways to look for help in Python.\n",
    "\n",
    "1. Type `?` followed without space by the function or term you need help with. For instance, you needed help with the function `abs`, you would type `?abs`.\n",
    "2. The obvious one -- search on the internet! Searching for solutions on Google (and now ChatGPT!) and using those solutions successfully for your own code is also a skill. Practice this skill with challenging assignment questions. "
   ]
  },
  {
   "cell_type": "markdown",
   "id": "7431c452-b654-44d1-9199-9f593070b2aa",
   "metadata": {},
   "source": [
    "### Review of lists and arrays"
   ]
  },
  {
   "cell_type": "markdown",
   "id": "71adcc5d-8618-486e-a0d3-90a6d8b6c23d",
   "metadata": {},
   "source": [
    "Let us say that you wanted to store more than one value in one variable. How can you do that?\n",
    "\n",
    "We can make a **list** using the following expression: `[value1, value2, value3, ...]` \\\n",
    "where `value1`, `value2`, and so on are values that you want to store in a sequence in the list.\n",
    "\n",
    "Let us look at some examples."
   ]
  },
  {
   "cell_type": "code",
   "execution_count": null,
   "id": "8298d44f-a5ab-4cb5-a4b3-63d162b9a304",
   "metadata": {},
   "outputs": [],
   "source": [
    "a = [1,2,3,4,5]\n",
    "a"
   ]
  },
  {
   "cell_type": "markdown",
   "id": "a49cf57d-b2ff-48f5-a812-4d4059bb78f5",
   "metadata": {},
   "source": [
    "**New topic: RANGES!**\n",
    "\n",
    "You can also make a **range**, or an ordered sequence of subsequent integers using lists. \n",
    "\n",
    "The syntax for making a range is: `range(<start>, <stop>, <step>)`\n",
    "\n",
    " - *start* is the *starting integer* for the range.\n",
    " - *stop* is the *ending integer + 1* for the range; \\\n",
    "   NOTE that the *stop* needs to be one more than the integer you would like to stop at.\n",
    " - *step* is the difference, or *step increment* between every consecutive integer. The default value is `1`.\n",
    "\n",
    "For instance, if you want to make a sequence of 1,2,3,4,5, ..., 20, you can simply write:"
   ]
  },
  {
   "cell_type": "code",
   "execution_count": null,
   "id": "dd8afe4f-ee99-4ac1-99a7-d9bb46661c5f",
   "metadata": {},
   "outputs": [],
   "source": [
    "range(1, 21)"
   ]
  },
  {
   "cell_type": "markdown",
   "id": "e81e5abb-bc15-46ca-a1e3-fe34fccee783",
   "metadata": {},
   "source": [
    "Notice that the `<step>` value was not specified, so the default value of `1` was used for `<step>`.\n",
    "\n",
    "What does the output look like? Does it look like a list? If not, that is because range is a data type, just like `int`, `float`, `str`, `list` etc. \n",
    "\n",
    "To convert it to a list, typecast it to a list:"
   ]
  },
  {
   "cell_type": "code",
   "execution_count": null,
   "id": "d03443ba-443a-475a-a319-3e582e665eda",
   "metadata": {},
   "outputs": [],
   "source": [
    "list(range(1, 21))"
   ]
  },
  {
   "cell_type": "markdown",
   "id": "2a03d701-90c4-4dcd-8fa2-fcc1ac10c5bd",
   "metadata": {},
   "source": [
    "**Question:** Make a list of all the integers starting from 35 and ending in 72. "
   ]
  },
  {
   "cell_type": "code",
   "execution_count": null,
   "id": "d68b4a73-d50d-4a58-92f1-542ef51201e3",
   "metadata": {},
   "outputs": [],
   "source": [
    "### Your code below this line"
   ]
  },
  {
   "cell_type": "markdown",
   "id": "02baf496-85d8-47b7-8660-064283e6f5cd",
   "metadata": {},
   "source": [
    "**Question:** Make a list of integers starting from -56 and ending in 85, with step increments of 3. "
   ]
  },
  {
   "cell_type": "code",
   "execution_count": null,
   "id": "24aee94a-4409-478b-9378-1b7310045886",
   "metadata": {},
   "outputs": [],
   "source": [
    "### Your code below this line"
   ]
  },
  {
   "cell_type": "markdown",
   "id": "41b11a89-d2c0-4856-b9ff-9593bbdf36b7",
   "metadata": {},
   "source": [
    "#### Numpy Arrays"
   ]
  },
  {
   "cell_type": "markdown",
   "id": "242a1536-d8f6-4806-a713-45ab1d9bb312",
   "metadata": {},
   "source": [
    "An **array** is a vector containing values typically belonging to the *same data type*.\n",
    "\n",
    "Numpy has a function called **array** and a data type called **ndarray**. The function *array* converts lists to an array of type *ndarray*. These arrays are built specifically for numerical computations.\n",
    "\n",
    "To call the **array** function, you will \n",
    "1. have to import the numpy library by executing `import numpy`, and then\n",
    "2. have to use the following syntax: `numpy.array(<input list goes here>)`\n",
    "\n",
    "For example:"
   ]
  },
  {
   "cell_type": "code",
   "execution_count": null,
   "id": "90985415-1426-4329-a6ee-25b36419a35d",
   "metadata": {},
   "outputs": [],
   "source": [
    "import numpy"
   ]
  },
  {
   "cell_type": "code",
   "execution_count": null,
   "id": "ea784f8c-9678-4077-b7fd-e580dbb17a20",
   "metadata": {},
   "outputs": [],
   "source": [
    "list1 = [1,2,3,4]\n",
    "numpy_list1 = numpy.array(list1)\n",
    "numpy_list1"
   ]
  },
  {
   "cell_type": "markdown",
   "id": "3041f560-4bbe-4448-bba6-c0c64e392025",
   "metadata": {},
   "source": [
    "Ranges can also be typecast into `numpy` arrays. For instance, to convert `range(1,100,2)` into `numpy` array, we just need to write:"
   ]
  },
  {
   "cell_type": "code",
   "execution_count": null,
   "id": "a3479b97-1e49-410a-b614-647d076c1769",
   "metadata": {},
   "outputs": [],
   "source": [
    "numpy.array(range(1,100,2))"
   ]
  },
  {
   "cell_type": "markdown",
   "id": "4cadcf1d-53d4-4b9d-abaa-a8723d1b210b",
   "metadata": {},
   "source": [
    "#### Indexing"
   ]
  },
  {
   "cell_type": "markdown",
   "id": "e262ebd6-95e4-4805-ab3b-16a9096c1943",
   "metadata": {},
   "source": [
    "To find a value in this list or an array, you can find it using its *index*. In order of sequence from the first item in the list, the index starts from 0, 1, ..., n-1 where n is the length of the list. The item at the index can be retrieved using the following syntax: \\\n",
    "`<list name>[<index>]`\n",
    "\n",
    "For instance, the 4th item in the list can be accessed as `a[3]`"
   ]
  },
  {
   "cell_type": "code",
   "execution_count": null,
   "id": "e7ad7e01-1443-44fa-89fb-5e85334ee128",
   "metadata": {
    "scrolled": true
   },
   "outputs": [],
   "source": [
    "a[3]"
   ]
  },
  {
   "cell_type": "markdown",
   "id": "15dfe43a-14b2-4f99-8fd8-9adfc42cbcdd",
   "metadata": {},
   "source": [
    "**Question:** Access the 3rd item in `numpy_list1`"
   ]
  },
  {
   "cell_type": "code",
   "execution_count": null,
   "id": "ed762eaf-9fa4-42a8-83aa-cb708c9930d7",
   "metadata": {
    "scrolled": true
   },
   "outputs": [],
   "source": [
    "numpy_list1[2]"
   ]
  },
  {
   "cell_type": "markdown",
   "id": "43975556-5a5d-4af3-95aa-3f72cfe0052e",
   "metadata": {},
   "source": [
    "#### Negative indexing!"
   ]
  },
  {
   "cell_type": "markdown",
   "id": "28957ca0-5d8a-49b6-86f3-3baad7d0319d",
   "metadata": {},
   "source": [
    "**Question**: What if you want to index the last item in a list or an array?\n",
    "\n",
    "You can index using negative numbers! \n",
    "\n",
    "`-1` indexes the last item, `-2` indexes the second to last item, and so on and so forth.\n",
    "\n",
    "Try it out!"
   ]
  },
  {
   "cell_type": "code",
   "execution_count": null,
   "id": "d34a2609-6d84-4cd3-9a66-f03d2d7fac1e",
   "metadata": {},
   "outputs": [],
   "source": [
    "list1[-1]"
   ]
  },
  {
   "cell_type": "markdown",
   "id": "273688ad-d5a4-49ac-9738-3a73443f7cf4",
   "metadata": {},
   "source": [
    "**Question:** Access the second to last item in `numpy_list1`"
   ]
  },
  {
   "cell_type": "code",
   "execution_count": null,
   "id": "3032cd48-e382-4ce5-add6-c8228c1ba925",
   "metadata": {},
   "outputs": [],
   "source": [
    "numpy_list1[-2]"
   ]
  },
  {
   "cell_type": "markdown",
   "id": "3305a7bf-4b98-487f-af46-a34436cbc72a",
   "metadata": {},
   "source": [
    "#### String indexing"
   ]
  },
  {
   "cell_type": "markdown",
   "id": "d278b824-8090-46e4-9cf1-6fcc8af3f1ba",
   "metadata": {},
   "source": [
    "**Question**: What if you want to index a character in a ***string***?\n",
    "\n",
    "You can index it just like with lists! The first character in a string is at index 0, the second character at index 1, so on and so forth.\n",
    "\n",
    "The syntax is `<string name>[<index>]`\n",
    "\n",
    "Try it out!"
   ]
  },
  {
   "cell_type": "code",
   "execution_count": null,
   "id": "42f01451-f56b-4eed-8866-f83d2b944fed",
   "metadata": {},
   "outputs": [],
   "source": [
    "str_var = \"Communication\"\n",
    "str_var"
   ]
  },
  {
   "cell_type": "code",
   "execution_count": null,
   "id": "53de45fa-360c-4b85-8af2-222f925643c9",
   "metadata": {},
   "outputs": [],
   "source": [
    "str_var[5]"
   ]
  },
  {
   "cell_type": "markdown",
   "id": "020cfe80-69d4-4963-98fe-49387c34e2df",
   "metadata": {},
   "source": [
    "#### Range indexing"
   ]
  },
  {
   "cell_type": "markdown",
   "id": "fa773053-cf34-44fc-bda7-dc9fae1e1737",
   "metadata": {},
   "source": [
    "**Question**: What if you want to index a range of indices from a list or array?\n",
    "\n",
    "Instead of indexing with just an integer, you can index with the following syntax: \n",
    "```\n",
    "<list or array name>[<start index> : <stop index>]\n",
    "```\n",
    "\n",
    "Just like with the `range` function, here `[<start index> : <stop index>]` includes everything from the value at index `start` to one index befoer `stop`.\n",
    "\n",
    "Try it out!"
   ]
  },
  {
   "cell_type": "code",
   "execution_count": null,
   "id": "32cad428-a984-4e48-8994-b3afa1c911a7",
   "metadata": {},
   "outputs": [],
   "source": [
    "list1[0:3]"
   ]
  },
  {
   "cell_type": "markdown",
   "id": "61ec8d3a-b30e-49e5-b401-ee90690dd4f7",
   "metadata": {},
   "source": [
    "**Question:** Make a new numpy array `numpy_array2` which has all the integers from 1 to 1000, with increment of 12. Then, list the values in the list from position 3 to position 15. \n",
    "\n",
    "NOTE: Position 1 is index 0. "
   ]
  },
  {
   "cell_type": "code",
   "execution_count": null,
   "id": "4e6c2db6-2536-4967-ac27-3ad963b8bbf2",
   "metadata": {},
   "outputs": [],
   "source": [
    "numpy_array2 = numpy.array(range(1,1001, 12))\n",
    "numpy_array2[2:15]"
   ]
  },
  {
   "cell_type": "markdown",
   "id": "6f71b452-0674-43b0-ab01-a1435f9ded55",
   "metadata": {},
   "source": [
    "### Conditionals and Loops in Python"
   ]
  },
  {
   "cell_type": "markdown",
   "id": "e12c4283-d57e-4f24-8421-b92a5b66267a",
   "metadata": {},
   "source": [
    "#### Conditionals"
   ]
  },
  {
   "cell_type": "markdown",
   "id": "ec0a9e4a-4854-4e9c-804e-0cbfce8ed152",
   "metadata": {},
   "source": [
    "Programming, fundamentally, is telling computers a set of tasks to do. When thinking about complex tasks, it is helpful to first think about how we would do them, in order to break them down into discrete tasks for the computer. \n",
    "\n",
    "Now, imagine you're deciding what to wear based on the weather. If it's sunny, you might choose shorts; if it's raining, perhaps a raincoat, or you would choose to carry an umbrella. So, based on the *condition* of the weather, you will decide to either wear shorts, or wear a raincoat/carry an umbrella. This decision-making process is something call **conditionals** in programming. In Python, we use `if`, `else`, and `elif` statements to execute different blocks of code based on various conditions. "
   ]
  },
  {
   "cell_type": "markdown",
   "id": "132de7e7-187c-450d-8cd2-f3102ab5f19d",
   "metadata": {},
   "source": [
    "**if, else, and elif**\n",
    "\n",
    "The `if` statement is one of the most well-known conditional statement types. It checks a condition that, if `True`, evaluates the code in the block that follows.\n",
    "\n",
    "```\n",
    "if <condition>:\n",
    "    <block of code>\n",
    "```\n",
    "\n",
    "Here, `<condition>` is an expression with a `bool` output. If the value of `<condition>` is `True`, then then block of code below is computed. If the value of `<condition>` is `False`, the block is not computer, it is *skipped*.\n",
    "\n",
    "For example, consider the following code:"
   ]
  },
  {
   "cell_type": "code",
   "execution_count": null,
   "id": "f0f53e22-e7b5-4374-b576-5edd7371b8de",
   "metadata": {},
   "outputs": [],
   "source": [
    "x = -5\n",
    "if x < 0: \n",
    "    print(\"It's negative\")"
   ]
  },
  {
   "cell_type": "markdown",
   "id": "b87be71c-d3e8-448d-aecb-30ce98ab3b49",
   "metadata": {},
   "source": [
    "Notice, again, the syntax of writing an `if` statement. \n",
    "\n",
    "It starts with `if` followed by a space, and then the condition expression which can be `True` or `False`. In this case, that condition expression is `x < 0`. \n",
    "\n",
    "The condition is then followed by a colon `:`.\n",
    "\n",
    "After the colon `:`, in a new line is the code block that should run if the condition is True. \n",
    "\n",
    "**IMPORTANT:** Notice the gap at the beginning of the print statement. That is called an **indent**, and can be achieved by pressing the \"tab\" button on your keyboard. Every line that has an **indent** after the `if <condition>:` line is the \"block of code\" that will run if the condition is `True`.\n",
    "\n",
    "**NOTE:** You need to use an indent in the next line after using a conditional or loop statement. If you do not do so, your computations might be wrong or you might encounter errors."
   ]
  },
  {
   "cell_type": "markdown",
   "id": "3640d486-2ee1-4bb4-bdae-6a110b918c78",
   "metadata": {},
   "source": [
    "**Question:** Consider the following two cells of code. Execute each cell and observe the output. Do they have the same output? If not, why?"
   ]
  },
  {
   "cell_type": "code",
   "execution_count": null,
   "id": "45ed8ad6-ed78-4297-bc58-96959cea4ddb",
   "metadata": {},
   "outputs": [],
   "source": [
    "x = 5\n",
    "y = 1\n",
    "z = 0\n",
    "if x < 0:\n",
    "    y = x\n",
    "    z = x + y\n",
    "print(z)"
   ]
  },
  {
   "cell_type": "code",
   "execution_count": null,
   "id": "38e47571-4bad-4771-a4ae-89ff74d1e7f8",
   "metadata": {},
   "outputs": [],
   "source": [
    "x = -5\n",
    "y = 1\n",
    "z = 0\n",
    "if x < 0:\n",
    "    y = x\n",
    "z = x + y\n",
    "print(z)"
   ]
  },
  {
   "cell_type": "markdown",
   "id": "d4f88aa8-1f88-4a93-b870-510ef9672f66",
   "metadata": {},
   "source": [
    "An `if` statement can be optionally followed by an `else` block if the conditions are `False`."
   ]
  },
  {
   "cell_type": "code",
   "execution_count": null,
   "id": "5fe2b33f-8997-4ebb-b5ad-4b6ad39ea8dc",
   "metadata": {},
   "outputs": [],
   "source": [
    "x = 5\n",
    "if x < 0:\n",
    "    print(\"It's negative\")\n",
    "else:\n",
    "    print(\"It's positive\")"
   ]
  },
  {
   "cell_type": "markdown",
   "id": "1cce7cfd-1bce-4e62-aae3-012584f69e7b",
   "metadata": {},
   "source": [
    "Notice the syntax for writing an else statement. \n",
    "\n",
    "Notice the colon `:` at the end of `else`. \n",
    "\n",
    "Note that there is no indent with the `else:` statement, but the statement(s) that follow must have an indent, just like with the `if` statement."
   ]
  },
  {
   "cell_type": "markdown",
   "id": "7e95f41e-a404-4d4a-8897-5ad5059752f7",
   "metadata": {},
   "source": [
    "#### Loops"
   ]
  },
  {
   "cell_type": "markdown",
   "id": "b3914f15-5855-40a4-9e3e-879e763288c6",
   "metadata": {},
   "source": [
    "Let us say you needed to check if a condition is true over and over, many times. \n",
    "\n",
    "Let us take the rainy day example again. Instead of checking for rain once on a specific day, let us say you need to check every day for a week. So, every day, you check if it is raining. If yes, then you pick an umbrell or raincoat. If not, shorts it is. So basically, I am running an `if` statement **FOR** each day in the week.\n",
    "\n",
    "That is a `for` loop. Instead of running a block of code *IF* a condition is true, we are running a block of code *FOR* each value in a list of values.\n",
    "\n",
    "Typical syntax for a `for` loop in Python:\n",
    "```\n",
    "for <value> in <collection>:\n",
    "    <do something with value>\n",
    "```\n",
    "\n",
    "Here, the `<collection>` can be a list, numpy.array, or a range!\n",
    "\n",
    "Let us first try with a list."
   ]
  },
  {
   "cell_type": "code",
   "execution_count": null,
   "id": "a945da79-7db5-46ca-90c3-0d3cd8561de1",
   "metadata": {},
   "outputs": [],
   "source": [
    "list2 = [10,12,14,16]\n",
    "for i in list2:\n",
    "    print(\"The value of i is:\", i)"
   ]
  },
  {
   "cell_type": "markdown",
   "id": "c1af5377-d80e-40bb-a1f2-41ff6ba60fcd",
   "metadata": {},
   "source": [
    "Let us try the same with range."
   ]
  },
  {
   "cell_type": "code",
   "execution_count": null,
   "id": "091ba321-e3e0-484e-bcd7-ce1eb53d9fd3",
   "metadata": {},
   "outputs": [],
   "source": [
    "for i in range(10,17,2):\n",
    "    print(\"The value of i is:\", i)"
   ]
  },
  {
   "cell_type": "markdown",
   "id": "7e2e8b61-09df-4d6a-8c15-d8d857132d1e",
   "metadata": {},
   "source": [
    "### Operations using `numpy`"
   ]
  },
  {
   "cell_type": "markdown",
   "id": "724725d4-9609-4498-8d77-0053018e8fd4",
   "metadata": {},
   "source": [
    "#### Basic mathematical and statistical functions on arrays in `numpy`"
   ]
  },
  {
   "cell_type": "markdown",
   "id": "30298d0f-58e7-40ab-8b6b-958211c4859c",
   "metadata": {},
   "source": [
    "A set of mathematical functions that compute statistics about an entire numpy arrays or about the data along an axis are accessible as methods of the array class. You can use aggregations (sometimes called reductions) like sum, mean, and std (standard deviation) can be called using this syntax:\n",
    "```\n",
    "numpy.<function name>()\n",
    "```\n",
    "\n",
    "Try out each of these functions for yourself. Make use of the Numpy documentation [here](https://numpy.org/doc/stable/reference/generated/numpy.array.html) to understand these functions better."
   ]
  },
  {
   "cell_type": "markdown",
   "id": "b224ca6c-c879-443c-aa39-d88c3e30df22",
   "metadata": {},
   "source": [
    "| Function              | Description                                                                                                                                                                            |\n",
    "|:-----------------------|:----------------------------------------------------------------------------------------------------------------------------------------------------------------------------------------|\n",
    "| `sum`                  | Sum of all the elements in the array |\n",
    "| `mean`                 | Arithmetic mean |\n",
    "| `std`, `var`           | Standard deviation and variance, respectively|\n",
    "| `min`, `max`           | Minimum and maximum |\n",
    "| `prod`                 | Multiply all elements together |\n",
    "| `cumsum`               | Cumulative sum of elements starting from 0 |\n",
    "| `cumprod`              | Cumulative product of elements starting from 1 |\n",
    "| `all`              | Test whether *all* elements are true values (non-zero numbers are true) |\n",
    "| `any`              | Test whether *any* elements are true values (non-zero numbers are true) |\n",
    "| `count_nonzero`              | Count the number of non-zero elements |"
   ]
  },
  {
   "cell_type": "markdown",
   "id": "e836880d-e5ef-45bf-89f9-a63ae85f2d01",
   "metadata": {},
   "source": [
    "What is feeling difficult about using these functions? What is feeling easy? Discuss on Canvas, among your classmates, and bring your questions to office hours."
   ]
  },
  {
   "cell_type": "code",
   "execution_count": null,
   "id": "ec18bdca-e28a-49e7-8c04-3eeeedbfe5a7",
   "metadata": {},
   "outputs": [],
   "source": [
    "numpy_list3 = numpy.random.standard_normal(20)+5 # a list of 500 values with the standard normal distribution + 5"
   ]
  },
  {
   "cell_type": "code",
   "execution_count": null,
   "id": "192db6d1-30b9-4343-8655-35d048b62f58",
   "metadata": {},
   "outputs": [],
   "source": [
    "### Try out the functions mentioned above here"
   ]
  },
  {
   "cell_type": "markdown",
   "id": "c2ac3b62-593a-418f-99d3-4f07db8ece50",
   "metadata": {},
   "source": [
    "#### Mathematical functions which take an array and output an array in `numpy`"
   ]
  },
  {
   "cell_type": "markdown",
   "id": "f2bcf219-2c33-440b-bf78-b7c57095e633",
   "metadata": {},
   "source": [
    "The following set of mathematical functions take an input array and create a new output array based on the specific mathematical functions.\n",
    "\n",
    "Try out each of these functions for yourself. Make use of the Numpy documentation [here](https://numpy.org/doc/stable/reference/generated/numpy.array.html) to understand these functions better."
   ]
  },
  {
   "cell_type": "markdown",
   "id": "2ed6edb5-bffa-4f5d-a783-cc0cdb17239e",
   "metadata": {},
   "source": [
    "| Function              | Description                                                                                                                                                                            |\n",
    "|:-----------------------|:----------------------------------------------------------------------------------------------------------------------------------------------------------------------------------------|\n",
    "| `diff`                  | Difference between adjacent elements |\n",
    "| `round`                 | Round each number to the nearest integer (whole number) |\n",
    "| `cumprod`           | A cumulative product: for each element, multiply all elements so far |\n",
    "| `cumsum`           | A cumulative sum: for each element, add all elements so far |\n",
    "| `exp`                 | Exponentiate each element |\n",
    "| `cumsum`               | Cumulative sum of elements starting from 0 |\n",
    "| `log`              | Take the natural logarithm of each element |\n",
    "| `sqrt`              | Take the square root of each element |\n",
    "| `sort`                 | Sorts the array in increasing order in-place |"
   ]
  },
  {
   "cell_type": "code",
   "execution_count": null,
   "id": "9ca9d324-50b2-42b8-83b6-c4993737ed24",
   "metadata": {},
   "outputs": [],
   "source": [
    "### Try out the functions mentioned above here"
   ]
  },
  {
   "cell_type": "markdown",
   "id": "ee9d965e-56a4-49f1-bd8a-b0c8f74d6b83",
   "metadata": {},
   "source": [
    "#### Functions for arrays of strings `numpy`"
   ]
  },
  {
   "cell_type": "markdown",
   "id": "76765c19-9fb3-4ce0-a0de-ebbcc9481414",
   "metadata": {},
   "source": [
    "The following set of `numpy` functions take an input array of `str` values and returns a new output array based on the specific functions.\n",
    "\n",
    "Try out each of these functions for yourself. Make use of the Numpy documentation [here](https://numpy.org/doc/stable/reference/generated/numpy.array.html) to understand these functions better."
   ]
  },
  {
   "cell_type": "markdown",
   "id": "261d8ae8-e7c8-4287-a48b-0a64e974fe90",
   "metadata": {},
   "source": [
    "| Function              | Description                                                                                                                                                                            |\n",
    "|:-----------------------|:----------------------------------------------------------------------------------------------------------------------------------------------------------------------------------------|\n",
    "| `char.lower`                  | Lowercase each element |\n",
    "| `char.upper`                 | Uppercase each element |\n",
    "| `char.strip`           | Remove spaces at the beginning or end of each element |\n",
    "| `char.isalpha`           | Whether each element is only letters (no numbers or symbols) |\n",
    "| `char.isnumeric`                 | Whether each element is only numeric (no letters) |"
   ]
  },
  {
   "cell_type": "code",
   "execution_count": null,
   "id": "8785ca15-2a67-4d11-a9e6-fcdd6a637c80",
   "metadata": {},
   "outputs": [],
   "source": [
    "numpy_list4 = sample_strings = numpy.array([\n",
    "    \"Hello World\", \n",
    "    \"Python3.8\", \n",
    "    \"Data Science 101\", \n",
    "    \"   padded   \", \n",
    "    \"UPPERCASE\", \n",
    "    \"lowercase\", \n",
    "    \"12345\", \n",
    "    \"alpha123\",\n",
    "    \"New-York\", \n",
    "    \"multiple words example\",\n",
    "    \"One More Test\", \n",
    "    \"with symbols !@#\", \n",
    "    \"spaces in front \", \n",
    "    \"noSpaces\",\n",
    "    \"CapItalized\",\n",
    "    \"alllower\",\n",
    "    \"ALLUPPER\",\n",
    "    \"123 numbers\",\n",
    "    \"EndsWithSpace \",\n",
    "    \"startswithCaps\",\n",
    "    \"MiXeD CaSe StRiNg\"\n",
    "])"
   ]
  },
  {
   "cell_type": "code",
   "execution_count": null,
   "id": "9cb8cfe2-2f24-4f61-9e2c-2067ccb70569",
   "metadata": {},
   "outputs": [],
   "source": [
    "### Try out the functions mentioned above here"
   ]
  },
  {
   "cell_type": "markdown",
   "id": "acdc0d23-a4c3-4009-b2aa-326fe2ec4536",
   "metadata": {},
   "source": [
    "#### Functions to SEARCH in array of strings `numpy`"
   ]
  },
  {
   "cell_type": "markdown",
   "id": "53b8f7f9-1bd4-4325-a737-b33fbac32e32",
   "metadata": {},
   "source": [
    "The following set of `numpy` functions take an input array of `str` values and returns a new output array based on the specific functions.\n",
    "\n",
    "Try out each of these functions for yourself. Make use of the Numpy documentation [here](https://numpy.org/doc/stable/reference/generated/numpy.array.html) to understand these functions better."
   ]
  },
  {
   "cell_type": "markdown",
   "id": "26393923-cb33-4c74-8d3f-edb9b71c3964",
   "metadata": {},
   "source": [
    "| Function              | Description                                                                                                                                                                            |\n",
    "|:-----------------------|:----------------------------------------------------------------------------------------------------------------------------------------------------------------------------------------|\n",
    "| `char.count`                  | Count the number of times a search string appears among the elements of an array|\n",
    "| `char.find`                 | The position within each element that a search string is found first |\n",
    "| `char.rfind`           | The position within each element that a search string is found last |\n",
    "| `char.startswith`           | Whether each element starts with the search string |"
   ]
  },
  {
   "cell_type": "code",
   "execution_count": null,
   "id": "2b4d8bc9-3d68-4faa-8aa0-7bc387f26165",
   "metadata": {},
   "outputs": [],
   "source": [
    "### Try out the functions mentioned above here"
   ]
  },
  {
   "cell_type": "code",
   "execution_count": null,
   "id": "fbd773ab-7637-43d6-9386-43cf67bc1b95",
   "metadata": {},
   "outputs": [],
   "source": []
  }
 ],
 "metadata": {
  "kernelspec": {
   "display_name": "Python 3 (ipykernel)",
   "language": "python",
   "name": "python3"
  },
  "language_info": {
   "codemirror_mode": {
    "name": "ipython",
    "version": 3
   },
   "file_extension": ".py",
   "mimetype": "text/x-python",
   "name": "python",
   "nbconvert_exporter": "python",
   "pygments_lexer": "ipython3",
   "version": "3.11.5"
  }
 },
 "nbformat": 4,
 "nbformat_minor": 5
}
