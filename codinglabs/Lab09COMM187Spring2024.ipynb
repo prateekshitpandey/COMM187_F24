{
 "cells": [
  {
   "cell_type": "markdown",
   "metadata": {},
   "source": [
    "## COMM 187 (160DS): Data Science in Communication Research -- Spring 2024\n",
    "\n",
    "## Coding Lab #9: Advanced Data Visualization with Python\n",
    "**Wednesday, May 29, 2024** "
   ]
  },
  {
   "cell_type": "markdown",
   "metadata": {
    "jp-MarkdownHeadingCollapsed": true
   },
   "source": [
    "Welcome to the Coding Lab #9 for COMM 187 (160DS): Data Science in Communication Research! \n",
    "\n",
    "In the last Coding Lab, we learnt about visualizing data through line plots, scatter plots, and histograms.\n",
    "\n",
    "Today's lesson plan:\n",
    " - Bar plots\n",
    " - Stacked bar plots\n",
    " - Box plots"
   ]
  },
  {
   "cell_type": "markdown",
   "metadata": {},
   "source": [
    "### Dataset\n",
    "\n",
    "Let us work with our familiar and trusty `metro-grades.csv` dataset again. For reference, here is what each column in the dataset means: \n",
    "\n",
    "\n",
    "Header | Definition\n",
    "--- | ---\n",
    "`metro_area` | Official U.S. Census name of micro- or metropolitan area — defined as [\"Core-Based Statistical Areas\"](https://www.census.gov/topics/housing/housing-patterns/about/core-based-statistical-areas.html). The first city and state listed are used as the display name for each micro/metropolitan area in the story (for example, \"Chicago-Naperville-Elgin, IL-IN-WI\" is referred to as \"Chicago, IL\").\n",
    "`holc_grade` | Grade assigned by the Home Owners' Loan Corporation (HOLC). `A`: \"best\" (green). `B`: \"Still Desirable\" (blue). `C`: \"Definitely Declining\" (yellow). `D`: \"Hazardous\" (red).\n",
    "`white_pop` | Estimate of non-Hispanic white population within HOLC zones with a given `holc_grade` in a given `metro_area`. Rounded to the nearest integer.\n",
    "`black_pop` | Estimate of non-Hispanic Black population within HOLC zones with a given `holc_grade` in a given `metro_area`. Rounded to the nearest integer.\n",
    "`hisp_pop` | Estimate of Hispanic/Latino population within HOLC zones with a given `holc_grade` in a given `metro_area`. Rounded to the nearest integer.\n",
    "`asian_pop` | Estimate of non-Hispanic Asian population within HOLC zones with a given `holc_grade` in a given `metro_area`. Rounded to the nearest integer.\n",
    "`other_pop` | Estimate of population in any other racial/ethnic groups within HOLC zones with a given `holc_grade` in a given `metro_area`. Rounded to the nearest integer.\n",
    "`total_pop` | Estimate of total population (across all racial/ethnic groups) within HOLC zones with a given `holc_grade` in a given `metro_area`. Rounded to the nearest integer.\n",
    "`pct_white` | Estimate of the percentage of total population within HOLC zones with a given `holc_grade` in a given `metro_area` that are non-Hispanic white. Represented between 0-100. Rounded to the nearest two decimal places.\n",
    "`pct_black` | Estimate of the percentage of total population within HOLC zones with a given `holc_grade` in a given `metro_area` that are non-Hispanic Black. Represented between 0-100. Rounded to the nearest two decimal places.\n",
    "`pct_hisp` | Estimate of the percentage of total population within HOLC zones with a given `holc_grade` in a given `metro_area` that are Hispanic/Latino. Represented between 0-100. Rounded to the nearest two decimal places.\n",
    "`pct_asian` | Estimate of the percentage of total population within HOLC zones with a given `holc_grade` in a given `metro_area` that are non-Hispanic Asian. Represented between 0-100. Rounded to the nearest two decimal places.\n",
    "`pct_other` | Estimate of the percentage of total population within HOLC zones with a given `holc_grade` in a given `metro_area` in any other racial/ethnic group. Represented between 0-100. Rounded to the nearest two decimal places.\n",
    "`lq_white` | Non-Hispanic white location quotient for a given `holc_grade` and `metro_area`.\n",
    "`lq_black` | Non-Hispanic Black location quotient for a given `holc_grade` and `metro_area`.\n",
    "`lq_hisp` | Hispanic/Latino location quotient for a given `holc_grade` and `metro_area`.\n",
    "`lq_asian` | Non-Hispanic Asian location quotient for a given `holc_grade` and `metro_area`.\n",
    "`lq_other` | All other racial/ethnic groups' location quotient for a given `holc_grade` and `metro_area`.\n",
    "`surr_area_white_pop` | Estimate of non-Hispanic white population within surrounding area of a given `metro_area`'s HOLC zones. Rounded to nearest integer. Repeated for each `holc_grade` for a given `metro_area`.\n",
    "`surr_area_black_pop` | Estimate of non-Hispanic Black population within surrounding area of a given `metro_area`'s HOLC zones. Rounded to nearest integer. Repeated for each `holc_grade` for a given `metro_area`.\n",
    "`surr_area_hisp_pop` | Estimate of Hispanic/Latino population within surrounding area of a given `metro_area`'s HOLC zones. Rounded to nearest integer. Repeated for each `holc_grade` for a given `metro_area`.\n",
    "`surr_area_asian_pop` | Estimate of non-Hispanic Asian population within surrounding area of a given `metro_area`'s HOLC zones. Rounded to nearest integer. Repeated for each `holc_grade` for a given `metro_area`.\n",
    "`surr_area_other_pop` | Estimate of population in any other racial/ethnic groups within surrounding area of a given `metro_area`'s HOLC zones. Rounded to nearest integer. Repeated for each `holc_grade` for a given `metro_area`.\n",
    "`surr_area_total_pop` | Estimate of total population (across all racial/ethnic groups) within surrounding area of a given `metro_area`'s HOLC zones. Rounded to nearest integer. Repeated for each `holc_grade` for a given `metro_area`.\n",
    "`surr_area_pct_white` | Estimate of the percentage of total population within surrounding area of a given `metro_area`'s HOLC zones that are non-Hispanic white. Represented between 0-100. Rounded to the nearest two decimal places. Repeated for each `holc_grade` for a given `metro_area`.\n",
    "`surr_area_pct_black` | Estimate of the percentage of total population within surrounding area of a given `metro_area`'s HOLC zones that are non-Hispanic Black. Represented between 0-100. Rounded to the nearest two decimal places. Repeated for each `holc_grade` for a given `metro_area`.\n",
    "`surr_area_pct_hisp` | Estimate of the percentage of total population within surrounding area of a given `metro_area`'s HOLC zones that are Hispanic/Latino. Represented between 0-100. Rounded to the nearest two decimal places. Repeated for each `holc_grade` for a given `metro_area`.\n",
    "`surr_area_pct_asian` | Estimate of the percentage of total population within surrounding area of a given `metro_area`'s HOLC zones that are non-Hispanic Asian. Represented between 0-100. Rounded to the nearest two decimal places. Repeated for each `holc_grade` for a given `metro_area`.\n",
    "`surr_area_pct_other` | Estimate of the percentage of total population within surrounding area of a given `metro_area`'s HOLC zones in any other racial/ethnic group. Represented between 0-100. Rounded to the nearest two decimal places. Repeated for each `holc_grade` for a given `metro_area`."
   ]
  },
  {
   "cell_type": "code",
   "execution_count": null,
   "metadata": {},
   "outputs": [],
   "source": [
    "import pandas as pd\n",
    "import numpy as np\n",
    "import matplotlib.pyplot as plt\n",
    "\n",
    "df = pd.read_csv('./data/metro-grades.csv')"
   ]
  },
  {
   "cell_type": "markdown",
   "metadata": {},
   "source": [
    "---"
   ]
  },
  {
   "cell_type": "markdown",
   "metadata": {},
   "source": [
    "### Bar plot\n",
    "\n",
    "Since we have already practiced histograms, bar plots should be easy to understand. Let us try it out. \n",
    "\n",
    "Let us plot the bar plot of total White population by HOLC Grade using `plt.bar`. Read more about this function using its [documentation](https://matplotlib.org/stable/api/_as_gen/matplotlib.pyplot.bar.html)."
   ]
  },
  {
   "cell_type": "code",
   "execution_count": null,
   "metadata": {},
   "outputs": [],
   "source": [
    "# First step, calculate the sum of white population by HOLC Grade\n",
    "holc_grade_white_pop = df.groupby('holc_grade')['white_pop'].sum()"
   ]
  },
  {
   "cell_type": "code",
   "execution_count": null,
   "metadata": {},
   "outputs": [],
   "source": [
    "# Second step, make the bar plot using plt.bar\n",
    "plt.bar(holc_grade_white_pop.index, holc_grade_white_pop.values)\n",
    "\n",
    "# Add title and axes labels\n",
    "plt.title('Total White Population by HOLC Grade')\n",
    "plt.xlabel('HOLC Grade')\n",
    "plt.ylabel('Total White Population')\n",
    "\n",
    "# Display the plot using plt.show()\n",
    "plt.show()"
   ]
  },
  {
   "cell_type": "markdown",
   "metadata": {},
   "source": [
    "**Question:** Create a bar plot showing the total Asian population by HOLC grade."
   ]
  },
  {
   "cell_type": "code",
   "execution_count": null,
   "metadata": {},
   "outputs": [],
   "source": [
    "### Write your code below (in place of ...)\n",
    "..."
   ]
  },
  {
   "cell_type": "markdown",
   "metadata": {},
   "source": [
    "**Question:** Create a bar plot showing the White, Black, Hispanic, Asian, and Other populations in Salt Lake City, UT."
   ]
  },
  {
   "cell_type": "code",
   "execution_count": null,
   "metadata": {},
   "outputs": [],
   "source": [
    "### Write your code below (in place of ...)\n",
    "..."
   ]
  },
  {
   "cell_type": "markdown",
   "metadata": {},
   "source": [
    "### Stacked-bar plot\n",
    "\n",
    "Stacked bar plots are a type of bar plot where multiple data series are stacked on top of each other in a single bar. Each bar represents a categorical variable, and the segments within the bar represent different sub-categories that contribute to the total value of the bar. Stacked bar plots are used to show the *composition* of different categories and how they contribute to the total. They provide a visual representation of the distribution and proportion of each sub-category within the main category.\n",
    "\n",
    "Let us plot a stacked bar plot similar to the one shown in the article about redlining:\n",
    "![](./images/lab08_538_redlining_stacked.png)"
   ]
  },
  {
   "cell_type": "code",
   "execution_count": null,
   "metadata": {},
   "outputs": [],
   "source": [
    "# First, we segment the data that belongs to Cleveland\n",
    "cleveland_df = df[df['metro_area'] == 'Cleveland-Elyria, OH']\n",
    "cleveland_df"
   ]
  },
  {
   "cell_type": "code",
   "execution_count": null,
   "metadata": {},
   "outputs": [],
   "source": [
    "# Second, we initiate a plt.subplots as shown in the DataCamp assigned chapter from last week\n",
    "fig, ax = plt.subplots()\n",
    "\n",
    "# Create bars for percentage of white population with the color \"orange\"\n",
    "ax.bar(cleveland_df['holc_grade'], cleveland_df['pct_white'], color = \"orange\")"
   ]
  },
  {
   "cell_type": "code",
   "execution_count": null,
   "metadata": {},
   "outputs": [],
   "source": [
    "# Next, add bars on TOP of the these bars for the percentage of Black population in green.\n",
    "# For this, we add a \"bottom\" parameter to the bar functions.\n",
    "# The \"bottom\" parameter basically changes what is the bottom of the bars that being plotted.\n",
    "# Since we are plotting on TOP of the % white population, the bottom of each bar for the % Black \n",
    "# population will be the value of the White population.\n",
    "\n",
    "fig, ax = plt.subplots()\n",
    "\n",
    "ax.bar(cleveland_df['holc_grade'], cleveland_df['pct_white'], color = \"orange\")\n",
    "\n",
    "ax.bar(cleveland_df['holc_grade'], cleveland_df['pct_black'], bottom = cleveland_df['pct_white'], color = \"green\")\n",
    "\n",
    "plt.show()"
   ]
  },
  {
   "cell_type": "code",
   "execution_count": null,
   "metadata": {},
   "outputs": [],
   "source": [
    "# Next, we add bars on top of the previous plot for % Latino population in purple.\n",
    "# This time, the bottom will be the value of % White population + % Black population.\n",
    "\n",
    "fig, ax = plt.subplots()\n",
    "\n",
    "ax.bar(cleveland_df['holc_grade'], cleveland_df['pct_white'], color = \"orange\")\n",
    "\n",
    "ax.bar(cleveland_df['holc_grade'], cleveland_df['pct_black'], bottom = cleveland_df['pct_white'], color = \"green\")\n",
    "\n",
    "ax.bar(cleveland_df['holc_grade'], cleveland_df['pct_hisp'], \n",
    "       bottom = cleveland_df['pct_white']+cleveland_df['pct_black'], color = \"purple\")\n",
    "\n",
    "plt.show()"
   ]
  },
  {
   "cell_type": "code",
   "execution_count": null,
   "metadata": {},
   "outputs": [],
   "source": [
    "# Next, we add bars on top of the previous plot for Asian population in red.\n",
    "# This time, the bottom will be the value of White pop + Black pop + Latino pop.\n",
    "\n",
    "fig, ax = plt.subplots()\n",
    "\n",
    "ax.bar(cleveland_df['holc_grade'], cleveland_df['pct_white'], color = \"orange\")\n",
    "\n",
    "ax.bar(cleveland_df['holc_grade'], cleveland_df['pct_black'], bottom = cleveland_df['pct_white'], color = \"green\")\n",
    "\n",
    "ax.bar(cleveland_df['holc_grade'], cleveland_df['pct_hisp'], \n",
    "       bottom = cleveland_df['pct_white']+cleveland_df['pct_black'], color = \"purple\")\n",
    "\n",
    "ax.bar(cleveland_df['holc_grade'], cleveland_df['pct_asian'], \n",
    "       bottom = cleveland_df['pct_white']+cleveland_df['pct_black']+cleveland_df['pct_hisp'], color = \"red\")\n",
    "\n",
    "plt.show()"
   ]
  },
  {
   "cell_type": "code",
   "execution_count": null,
   "metadata": {},
   "outputs": [],
   "source": [
    "# Finally, on top of everything, we add bars for Other populations in Sky Blue color.\n",
    "\n",
    "fig, ax = plt.subplots()\n",
    "\n",
    "ax.bar(cleveland_df['holc_grade'], cleveland_df['pct_white'], color = \"orange\")\n",
    "\n",
    "ax.bar(cleveland_df['holc_grade'], cleveland_df['pct_black'], bottom = cleveland_df['pct_white'], color = \"green\")\n",
    "\n",
    "ax.bar(cleveland_df['holc_grade'], cleveland_df['pct_hisp'], \n",
    "       bottom = cleveland_df['pct_white']+cleveland_df['pct_black'], color = \"purple\")\n",
    "\n",
    "ax.bar(cleveland_df['holc_grade'], cleveland_df['pct_asian'], \n",
    "       bottom = cleveland_df['pct_white']+cleveland_df['pct_black']+cleveland_df['pct_hisp'], color = \"red\")\n",
    "\n",
    "ax.bar(cleveland_df['holc_grade'], cleveland_df['pct_other'], \n",
    "       bottom = cleveland_df['pct_white']+cleveland_df['pct_black']+cleveland_df['pct_hisp']+cleveland_df['pct_asian'], \n",
    "       color = \"skyblue\")\n",
    "\n",
    "plt.show()"
   ]
  },
  {
   "cell_type": "markdown",
   "metadata": {},
   "source": [
    "You can do all of this, or use the following function in `pandas` library:"
   ]
  },
  {
   "cell_type": "code",
   "execution_count": null,
   "metadata": {},
   "outputs": [],
   "source": [
    "cleveland_df_subset = cleveland_df[['holc_grade', 'pct_white', 'pct_black', 'pct_hisp', 'pct_asian', 'pct_other']]\n",
    "cleveland_df_subset.plot(x = 'holc_grade', kind='bar', stacked=True)"
   ]
  },
  {
   "cell_type": "code",
   "execution_count": null,
   "metadata": {},
   "outputs": [],
   "source": [
    "# If you want horizontally stacked bars, you can use barh instead of bar\n",
    "cleveland_df_subset.plot(x = 'holc_grade', kind='barh', stacked=True)"
   ]
  },
  {
   "cell_type": "markdown",
   "metadata": {},
   "source": [
    "**Question:** Create a stacked bar plot showing the racial composition of the population in the surrounding areas of El Paso, TX."
   ]
  },
  {
   "cell_type": "code",
   "execution_count": null,
   "metadata": {},
   "outputs": [],
   "source": [
    "### Write your code below (in place of ...)\n",
    "..."
   ]
  },
  {
   "cell_type": "markdown",
   "metadata": {},
   "source": [
    "### Box plots\n",
    "\n",
    "Box plots, or box-and-whisker plots, visually summarize the distribution of a dataset. They display the median, quartiles, and potential outliers. \n",
    "\n",
    "![](./images/lab08_boxplot.png)\n",
    "\n",
    "The box represents the interquartile range (IQR), with the lower and upper edges at the first (Q1) and third quartiles (Q3). The line inside the box marks the median (Q2). Whiskers extend from the box to the smallest and largest values within 1.5 * IQR from Q1 and Q3. Points outside this range are considered outliers. Box plots highlight central tendency, variability, and outliers effectively.\n",
    "\n",
    "**IMPORTANT:** Box plots are a great way to visualize statistical comparison between two or more variables!\n",
    "\n",
    "Let us make a boxplot figure for the percentage of White and Black population across all regions, using the function `boxplot`. Read the documentation [here](https://matplotlib.org/stable/api/_as_gen/matplotlib.pyplot.boxplot.html)."
   ]
  },
  {
   "cell_type": "code",
   "execution_count": null,
   "metadata": {},
   "outputs": [],
   "source": [
    "fig, ax = plt.subplots()\n",
    "ax.boxplot([df['pct_white'], df['pct_black']])\n",
    "\n",
    "# Add x-axis tick labels:\n",
    "ax.set_xticklabels([\"White\", \"Black\"])\n",
    "\n",
    "# Add a y-axis label\n",
    "ax.set_ylabel(\"% Population\")\n",
    "\n",
    "plt.show()"
   ]
  },
  {
   "cell_type": "markdown",
   "metadata": {},
   "source": [
    "**Question:** Let us make a boxplot figure for the percentage of White, Black, Hispanic, Asian, and Other population among on the HOLC Grade C regions."
   ]
  },
  {
   "cell_type": "code",
   "execution_count": null,
   "metadata": {},
   "outputs": [],
   "source": [
    "### Write your code below (in place of ...)\n",
    "..."
   ]
  }
 ],
 "metadata": {
  "kernelspec": {
   "display_name": "Python 3 (ipykernel)",
   "language": "python",
   "name": "python3"
  },
  "language_info": {
   "codemirror_mode": {
    "name": "ipython",
    "version": 3
   },
   "file_extension": ".py",
   "mimetype": "text/x-python",
   "name": "python",
   "nbconvert_exporter": "python",
   "pygments_lexer": "ipython3",
   "version": "3.11.5"
  }
 },
 "nbformat": 4,
 "nbformat_minor": 4
}
